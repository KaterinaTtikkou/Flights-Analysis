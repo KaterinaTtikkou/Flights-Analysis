{
 "cells": [
  {
   "cell_type": "code",
   "execution_count": 8,
   "id": "ece486a1-e1a8-4b2e-b3f8-3bdadb8f1852",
   "metadata": {
    "tags": []
   },
   "outputs": [],
   "source": [
    "import os\n",
    "import pandas as pd\n",
    "from zipfile import ZipFile\n",
    "import requests\n",
    "from io import BytesIO\n",
    "\n",
    "class FlightDataProcessor:\n",
    "    def __init__(self, gitlab_url):\n",
    "        # Download the zip file from the GitLab URL\n",
    "        response = requests.get(gitlab_url)\n",
    "    \n",
    "        zip_file = ZipFile(BytesIO(response.content))\n",
    "\n",
    "        # Set the destination folder for the extracted data\n",
    "        destination_folder = os.path.join('group_03', 'downloads1')\n",
    "\n",
    "        # Ensure the destination folder exists\n",
    "        os.makedirs(destination_folder, exist_ok=True)\n",
    "\n",
    "        # Extract the datasets from the zip folder\n",
    "        zip_file.extractall(destination_folder)\n",
    "\n",
    "        # Read the datasets into pandas dataframes\n",
    "        self.airlines_df = pd.read_csv(os.path.join(destination_folder, 'airlines.csv'))\n",
    "        self.airplanes_df = pd.read_csv(os.path.join(destination_folder, 'airplanes.csv'))\n",
    "        self.airports_df = pd.read_csv(os.path.join(destination_folder, 'airports.csv'))\n",
    "        self.routes_df = pd.read_csv(os.path.join(destination_folder, 'routes.csv'))\n",
    "\n",
    "# GitLab URL for the raw flight_data.zip file\n",
    "gitlab_url = 'https://gitlab.com/adpro9641208/group_03/-/raw/main/flight_data.zip'\n",
    "\n",
    "# Create an instance of FlightDataProcessor with the GitLab URL\n",
    "flight_processor = FlightDataProcessor(gitlab_url)\n",
    "\n",
    "# Access the dataframes\n",
    "airlines = flight_processor.airlines_df\n",
    "airplanes = flight_processor.airplanes_df\n",
    "airports = flight_processor.airports_df\n",
    "routes = flight_processor.routes_df\n"
   ]
  }
 ],
 "metadata": {
  "kernelspec": {
   "display_name": "Python 3 (ipykernel)",
   "language": "python",
   "name": "python3"
  },
  "language_info": {
   "codemirror_mode": {
    "name": "ipython",
    "version": 3
   },
   "file_extension": ".py",
   "mimetype": "text/x-python",
   "name": "python",
   "nbconvert_exporter": "python",
   "pygments_lexer": "ipython3",
   "version": "3.11.4"
  }
 },
 "nbformat": 4,
 "nbformat_minor": 5
}
