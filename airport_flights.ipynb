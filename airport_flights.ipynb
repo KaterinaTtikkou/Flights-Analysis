{
 "cells": [
  {
   "cell_type": "code",
   "execution_count": 10,
   "id": "24e316a6-68f5-4a78-9eea-d1fd12d95830",
   "metadata": {
    "tags": []
   },
   "outputs": [
    {
     "name": "stdout",
     "output_type": "stream",
     "text": [
      "Collecting geopandasNote: you may need to restart the kernel to use updated packages.\n"
     ]
    },
    {
     "name": "stderr",
     "output_type": "stream",
     "text": [
      "  WARNING: The script pyproj.exe is installed in 'C:\\Users\\Katerina Ttikkou\\anaconda3\\envs\\adpro\\Scripts' which is not on PATH.\n",
      "  Consider adding this directory to PATH or, if you prefer to suppress this warning, use --no-warn-script-location.\n",
      "  WARNING: The script fio.exe is installed in 'C:\\Users\\Katerina Ttikkou\\anaconda3\\envs\\adpro\\Scripts' which is not on PATH.\n",
      "  Consider adding this directory to PATH or, if you prefer to suppress this warning, use --no-warn-script-location.\n"
     ]
    },
    {
     "name": "stdout",
     "output_type": "stream",
     "text": [
      "\n",
      "  Downloading geopandas-0.14.3-py3-none-any.whl.metadata (1.5 kB)\n",
      "Collecting fiona>=1.8.21 (from geopandas)\n",
      "  Downloading fiona-1.9.5-cp311-cp311-win_amd64.whl.metadata (51 kB)\n",
      "     ---------------------------------------- 0.0/51.1 kB ? eta -:--:--\n",
      "     -------- ------------------------------- 10.2/51.1 kB ? eta -:--:--\n",
      "     -------- ------------------------------- 10.2/51.1 kB ? eta -:--:--\n",
      "     ---------------------- --------------- 30.7/51.1 kB 262.6 kB/s eta 0:00:01\n",
      "     -------------------------------------- 51.1/51.1 kB 327.0 kB/s eta 0:00:00\n",
      "Requirement already satisfied: packaging in c:\\users\\katerina ttikkou\\anaconda3\\envs\\adpro\\lib\\site-packages (from geopandas) (23.1)\n",
      "Requirement already satisfied: pandas>=1.4.0 in c:\\users\\katerina ttikkou\\anaconda3\\envs\\adpro\\lib\\site-packages (from geopandas) (2.1.4)\n",
      "Collecting pyproj>=3.3.0 (from geopandas)\n",
      "  Downloading pyproj-3.6.1-cp311-cp311-win_amd64.whl.metadata (31 kB)\n",
      "Collecting shapely>=1.8.0 (from geopandas)\n",
      "  Downloading shapely-2.0.3-cp311-cp311-win_amd64.whl.metadata (7.2 kB)\n",
      "Requirement already satisfied: attrs>=19.2.0 in c:\\users\\katerina ttikkou\\anaconda3\\envs\\adpro\\lib\\site-packages (from fiona>=1.8.21->geopandas) (23.1.0)\n",
      "Requirement already satisfied: certifi in c:\\users\\katerina ttikkou\\anaconda3\\envs\\adpro\\lib\\site-packages (from fiona>=1.8.21->geopandas) (2023.11.17)\n",
      "Requirement already satisfied: click~=8.0 in c:\\users\\katerina ttikkou\\anaconda3\\envs\\adpro\\lib\\site-packages (from fiona>=1.8.21->geopandas) (8.1.7)\n",
      "Collecting click-plugins>=1.0 (from fiona>=1.8.21->geopandas)\n",
      "  Downloading click_plugins-1.1.1-py2.py3-none-any.whl.metadata (6.4 kB)\n",
      "Collecting cligj>=0.5 (from fiona>=1.8.21->geopandas)\n",
      "  Downloading cligj-0.7.2-py3-none-any.whl.metadata (5.0 kB)\n",
      "Requirement already satisfied: six in c:\\users\\katerina ttikkou\\anaconda3\\envs\\adpro\\lib\\site-packages (from fiona>=1.8.21->geopandas) (1.16.0)\n",
      "Requirement already satisfied: setuptools in c:\\users\\katerina ttikkou\\anaconda3\\envs\\adpro\\lib\\site-packages (from fiona>=1.8.21->geopandas) (68.2.2)\n",
      "Requirement already satisfied: numpy<2,>=1.23.2 in c:\\users\\katerina ttikkou\\anaconda3\\envs\\adpro\\lib\\site-packages (from pandas>=1.4.0->geopandas) (1.26.3)\n",
      "Requirement already satisfied: python-dateutil>=2.8.2 in c:\\users\\katerina ttikkou\\anaconda3\\envs\\adpro\\lib\\site-packages (from pandas>=1.4.0->geopandas) (2.8.2)\n",
      "Requirement already satisfied: pytz>=2020.1 in c:\\users\\katerina ttikkou\\anaconda3\\envs\\adpro\\lib\\site-packages (from pandas>=1.4.0->geopandas) (2023.3.post1)\n",
      "Requirement already satisfied: tzdata>=2022.1 in c:\\users\\katerina ttikkou\\anaconda3\\envs\\adpro\\lib\\site-packages (from pandas>=1.4.0->geopandas) (2023.3)\n",
      "Requirement already satisfied: colorama in c:\\users\\katerina ttikkou\\anaconda3\\envs\\adpro\\lib\\site-packages (from click~=8.0->fiona>=1.8.21->geopandas) (0.4.6)\n",
      "Downloading geopandas-0.14.3-py3-none-any.whl (1.1 MB)\n",
      "   ---------------------------------------- 0.0/1.1 MB ? eta -:--:--\n",
      "   ---------------------------- ----------- 0.8/1.1 MB 25.1 MB/s eta 0:00:01\n",
      "   ---------------------------------------- 1.1/1.1 MB 17.7 MB/s eta 0:00:00\n",
      "Downloading fiona-1.9.5-cp311-cp311-win_amd64.whl (22.9 MB)\n",
      "   ---------------------------------------- 0.0/22.9 MB ? eta -:--:--\n",
      "   -- ------------------------------------- 1.3/22.9 MB 27.2 MB/s eta 0:00:01\n",
      "   ---- ----------------------------------- 2.4/22.9 MB 30.5 MB/s eta 0:00:01\n",
      "   ------ --------------------------------- 3.7/22.9 MB 29.7 MB/s eta 0:00:01\n",
      "   -------- ------------------------------- 5.1/22.9 MB 29.4 MB/s eta 0:00:01\n",
      "   ---------- ----------------------------- 6.2/22.9 MB 28.3 MB/s eta 0:00:01\n",
      "   ------------ --------------------------- 7.3/22.9 MB 29.1 MB/s eta 0:00:01\n",
      "   -------------- ------------------------- 8.5/22.9 MB 28.7 MB/s eta 0:00:01\n",
      "   ---------------- ----------------------- 9.4/22.9 MB 28.6 MB/s eta 0:00:01\n",
      "   ------------------ --------------------- 10.5/22.9 MB 27.3 MB/s eta 0:00:01\n",
      "   -------------------- ------------------- 11.6/22.9 MB 27.3 MB/s eta 0:00:01\n",
      "   ---------------------- ----------------- 12.7/22.9 MB 27.3 MB/s eta 0:00:01\n",
      "   ------------------------ --------------- 13.8/22.9 MB 27.3 MB/s eta 0:00:01\n",
      "   ------------------------- -------------- 14.7/22.9 MB 26.2 MB/s eta 0:00:01\n",
      "   --------------------------- ------------ 15.7/22.9 MB 25.1 MB/s eta 0:00:01\n",
      "   ----------------------------- ---------- 16.7/22.9 MB 24.3 MB/s eta 0:00:01\n",
      "   ------------------------------ --------- 17.6/22.9 MB 24.2 MB/s eta 0:00:01\n",
      "   -------------------------------- ------- 18.6/22.9 MB 24.2 MB/s eta 0:00:01\n",
      "   -------------------------------- ------- 18.9/22.9 MB 22.6 MB/s eta 0:00:01\n",
      "   ---------------------------------- ----- 19.5/22.9 MB 21.8 MB/s eta 0:00:01\n",
      "   ----------------------------------- ---- 20.4/22.9 MB 21.1 MB/s eta 0:00:01\n",
      "   ------------------------------------- -- 21.6/22.9 MB 21.8 MB/s eta 0:00:01\n",
      "   ---------------------------------------  22.9/22.9 MB 21.9 MB/s eta 0:00:01\n",
      "   ---------------------------------------  22.9/22.9 MB 21.9 MB/s eta 0:00:01\n",
      "   ---------------------------------------- 22.9/22.9 MB 19.9 MB/s eta 0:00:00\n",
      "Downloading pyproj-3.6.1-cp311-cp311-win_amd64.whl (6.1 MB)\n",
      "   ---------------------------------------- 0.0/6.1 MB ? eta -:--:--\n",
      "   ---------- ----------------------------- 1.5/6.1 MB 47.7 MB/s eta 0:00:01\n",
      "   ------------- -------------------------- 2.1/6.1 MB 33.0 MB/s eta 0:00:01\n",
      "   ------------- -------------------------- 2.1/6.1 MB 33.0 MB/s eta 0:00:01\n",
      "   ------------- -------------------------- 2.1/6.1 MB 33.0 MB/s eta 0:00:01\n",
      "   ------------- -------------------------- 2.1/6.1 MB 33.0 MB/s eta 0:00:01\n",
      "   ------------- -------------------------- 2.1/6.1 MB 33.0 MB/s eta 0:00:01\n",
      "   ------------- -------------------------- 2.1/6.1 MB 33.0 MB/s eta 0:00:01\n",
      "   ------------- -------------------------- 2.1/6.1 MB 33.0 MB/s eta 0:00:01\n",
      "   ------------- -------------------------- 2.1/6.1 MB 33.0 MB/s eta 0:00:01\n",
      "   ------------------- -------------------- 2.9/6.1 MB 6.9 MB/s eta 0:00:01\n",
      "   -------------------------- ------------- 4.1/6.1 MB 8.7 MB/s eta 0:00:01\n",
      "   -------------------------------- ------- 5.0/6.1 MB 9.9 MB/s eta 0:00:01\n",
      "   ---------------------------------------  6.1/6.1 MB 11.1 MB/s eta 0:00:01\n",
      "   ---------------------------------------- 6.1/6.1 MB 10.8 MB/s eta 0:00:00\n",
      "Downloading shapely-2.0.3-cp311-cp311-win_amd64.whl (1.4 MB)\n",
      "   ---------------------------------------- 0.0/1.4 MB ? eta -:--:--\n",
      "   ------------------------------------ --- 1.3/1.4 MB 41.6 MB/s eta 0:00:01\n",
      "   ---------------------------------------- 1.4/1.4 MB 23.1 MB/s eta 0:00:00\n",
      "Downloading click_plugins-1.1.1-py2.py3-none-any.whl (7.5 kB)\n",
      "Downloading cligj-0.7.2-py3-none-any.whl (7.1 kB)\n",
      "Installing collected packages: shapely, pyproj, cligj, click-plugins, fiona, geopandas\n",
      "Successfully installed click-plugins-1.1.1 cligj-0.7.2 fiona-1.9.5 geopandas-0.14.3 pyproj-3.6.1 shapely-2.0.3\n"
     ]
    }
   ],
   "source": [
    "pip install geopandas"
   ]
  },
  {
   "cell_type": "code",
   "execution_count": 54,
   "id": "10ea48f1-4cdb-4551-a375-471284b21797",
   "metadata": {
    "tags": []
   },
   "outputs": [
    {
     "name": "stdout",
     "output_type": "stream",
     "text": [
      "Collecting plotly\n",
      "  Downloading plotly-5.19.0-py3-none-any.whl.metadata (7.0 kB)\n",
      "Collecting tenacity>=6.2.0 (from plotly)\n",
      "  Using cached tenacity-8.2.3-py3-none-any.whl.metadata (1.0 kB)\n",
      "Requirement already satisfied: packaging in c:\\users\\katerina ttikkou\\anaconda3\\envs\\adpro\\lib\\site-packages (from plotly) (23.1)\n",
      "Downloading plotly-5.19.0-py3-none-any.whl (15.7 MB)\n",
      "   ---------------------------------------- 0.0/15.7 MB ? eta -:--:--\n",
      "   ---------------------------------------- 0.0/15.7 MB ? eta -:--:--\n",
      "   ---------------------------------------- 0.0/15.7 MB ? eta -:--:--\n",
      "   ---------------------------------------- 0.0/15.7 MB ? eta -:--:--\n",
      "   ---------------------------------------- 0.0/15.7 MB 330.3 kB/s eta 0:00:48\n",
      "   ---------------------------------------- 0.2/15.7 MB 1.2 MB/s eta 0:00:14\n",
      "   -- ------------------------------------- 0.9/15.7 MB 4.5 MB/s eta 0:00:04\n",
      "   ---- ----------------------------------- 1.7/15.7 MB 7.0 MB/s eta 0:00:02\n",
      "   ----- ---------------------------------- 2.2/15.7 MB 8.2 MB/s eta 0:00:02\n",
      "   ------- -------------------------------- 2.8/15.7 MB 8.9 MB/s eta 0:00:02\n",
      "   -------- ------------------------------- 3.4/15.7 MB 9.5 MB/s eta 0:00:02\n",
      "   --------- ------------------------------ 3.7/15.7 MB 9.5 MB/s eta 0:00:02\n",
      "   ----------- ---------------------------- 4.5/15.7 MB 10.2 MB/s eta 0:00:02\n",
      "   ------------ --------------------------- 5.0/15.7 MB 10.3 MB/s eta 0:00:02\n",
      "   -------------- ------------------------- 5.6/15.7 MB 10.5 MB/s eta 0:00:01\n",
      "   --------------- ------------------------ 6.2/15.7 MB 10.7 MB/s eta 0:00:01\n",
      "   ----------------- ---------------------- 6.8/15.7 MB 11.2 MB/s eta 0:00:01\n",
      "   ------------------- -------------------- 7.5/15.7 MB 11.4 MB/s eta 0:00:01\n",
      "   -------------------- ------------------- 8.2/15.7 MB 11.9 MB/s eta 0:00:01\n",
      "   ---------------------- ----------------- 8.9/15.7 MB 12.1 MB/s eta 0:00:01\n",
      "   ------------------------ --------------- 9.7/15.7 MB 12.5 MB/s eta 0:00:01\n",
      "   -------------------------- ------------- 10.3/15.7 MB 14.6 MB/s eta 0:00:01\n",
      "   --------------------------- ------------ 11.0/15.7 MB 14.9 MB/s eta 0:00:01\n",
      "   ----------------------------- ---------- 11.6/15.7 MB 14.9 MB/s eta 0:00:01\n",
      "   ------------------------------- -------- 12.4/15.7 MB 14.9 MB/s eta 0:00:01\n",
      "   ---------------------------------- ----- 13.6/15.7 MB 15.2 MB/s eta 0:00:01\n",
      "   ------------------------------------- -- 14.8/15.7 MB 16.4 MB/s eta 0:00:01\n",
      "   ---------------------------------------  15.4/15.7 MB 16.4 MB/s eta 0:00:01\n",
      "   ---------------------------------------- 15.7/15.7 MB 15.6 MB/s eta 0:00:00\n",
      "Using cached tenacity-8.2.3-py3-none-any.whl (24 kB)\n",
      "Installing collected packages: tenacity, plotly\n",
      "Successfully installed plotly-5.19.0 tenacity-8.2.3\n",
      "Note: you may need to restart the kernel to use updated packages.\n"
     ]
    }
   ],
   "source": [
    "pip install plotly"
   ]
  },
  {
   "cell_type": "code",
   "execution_count": 56,
   "id": "0fc509a4-7089-4dcb-b4ab-21197ec04db2",
   "metadata": {
    "tags": []
   },
   "outputs": [
    {
     "name": "stdout",
     "output_type": "stream",
     "text": [
      "Collecting scikit-learn\n",
      "  Downloading scikit_learn-1.4.1.post1-cp311-cp311-win_amd64.whl.metadata (11 kB)\n",
      "Requirement already satisfied: numpy<2.0,>=1.19.5 in c:\\users\\katerina ttikkou\\anaconda3\\envs\\adpro\\lib\\site-packages (from scikit-learn) (1.26.3)\n",
      "Collecting scipy>=1.6.0 (from scikit-learn)\n",
      "  Downloading scipy-1.12.0-cp311-cp311-win_amd64.whl.metadata (60 kB)\n",
      "     ---------------------------------------- 0.0/60.4 kB ? eta -:--:--\n",
      "     ---------------------------------------- 0.0/60.4 kB ? eta -:--:--\n",
      "     ------ --------------------------------- 10.2/60.4 kB ? eta -:--:--\n",
      "     ------------------------- ------------ 41.0/60.4 kB 495.5 kB/s eta 0:00:01\n",
      "     -------------------------------------- 60.4/60.4 kB 643.6 kB/s eta 0:00:00\n",
      "Collecting joblib>=1.2.0 (from scikit-learn)\n",
      "  Downloading joblib-1.3.2-py3-none-any.whl.metadata (5.4 kB)\n",
      "Collecting threadpoolctl>=2.0.0 (from scikit-learn)\n",
      "  Downloading threadpoolctl-3.3.0-py3-none-any.whl.metadata (13 kB)\n",
      "Downloading scikit_learn-1.4.1.post1-cp311-cp311-win_amd64.whl (10.6 MB)\n",
      "   ---------------------------------------- 0.0/10.6 MB ? eta -:--:--\n",
      "   -- ------------------------------------- 0.6/10.6 MB 18.2 MB/s eta 0:00:01\n",
      "   ------ --------------------------------- 1.8/10.6 MB 22.8 MB/s eta 0:00:01\n",
      "   ----------- ---------------------------- 3.1/10.6 MB 24.7 MB/s eta 0:00:01\n",
      "   --------------- ------------------------ 4.2/10.6 MB 24.3 MB/s eta 0:00:01\n",
      "   ------------------- -------------------- 5.3/10.6 MB 26.0 MB/s eta 0:00:01\n",
      "   ------------------------ --------------- 6.6/10.6 MB 26.3 MB/s eta 0:00:01\n",
      "   ----------------------------- ---------- 7.8/10.6 MB 26.1 MB/s eta 0:00:01\n",
      "   --------------------------------- ------ 8.9/10.6 MB 26.9 MB/s eta 0:00:01\n",
      "   ------------------------------------- -- 10.0/10.6 MB 26.6 MB/s eta 0:00:01\n",
      "   ---------------------------------------  10.6/10.6 MB 27.3 MB/s eta 0:00:01\n",
      "   ---------------------------------------- 10.6/10.6 MB 26.2 MB/s eta 0:00:00\n",
      "Downloading joblib-1.3.2-py3-none-any.whl (302 kB)\n",
      "   ---------------------------------------- 0.0/302.2 kB ? eta -:--:--\n",
      "   --------------------------------------- 302.2/302.2 kB 18.2 MB/s eta 0:00:00\n",
      "Downloading scipy-1.12.0-cp311-cp311-win_amd64.whl (46.2 MB)\n",
      "   ---------------------------------------- 0.0/46.2 MB ? eta -:--:--\n",
      "   - -------------------------------------- 1.3/46.2 MB 42.3 MB/s eta 0:00:02\n",
      "   - -------------------------------------- 1.9/46.2 MB 24.7 MB/s eta 0:00:02\n",
      "   -- ------------------------------------- 2.7/46.2 MB 24.6 MB/s eta 0:00:02\n",
      "   -- ------------------------------------- 3.4/46.2 MB 21.7 MB/s eta 0:00:02\n",
      "   --- ------------------------------------ 4.1/46.2 MB 19.9 MB/s eta 0:00:03\n",
      "   ---- ----------------------------------- 4.7/46.2 MB 20.1 MB/s eta 0:00:03\n",
      "   ---- ----------------------------------- 5.4/46.2 MB 19.0 MB/s eta 0:00:03\n",
      "   ----- ---------------------------------- 6.1/46.2 MB 19.5 MB/s eta 0:00:03\n",
      "   ------ --------------------------------- 6.9/46.2 MB 18.5 MB/s eta 0:00:03\n",
      "   ------ --------------------------------- 7.7/46.2 MB 18.9 MB/s eta 0:00:03\n",
      "   ------ --------------------------------- 7.8/46.2 MB 18.4 MB/s eta 0:00:03\n",
      "   ------- -------------------------------- 8.8/46.2 MB 18.2 MB/s eta 0:00:03\n",
      "   -------- ------------------------------- 9.7/46.2 MB 18.3 MB/s eta 0:00:02\n",
      "   --------- ------------------------------ 10.5/46.2 MB 18.2 MB/s eta 0:00:02\n",
      "   --------- ------------------------------ 11.4/46.2 MB 17.7 MB/s eta 0:00:02\n",
      "   ---------- ----------------------------- 12.2/46.2 MB 17.7 MB/s eta 0:00:02\n",
      "   ----------- ---------------------------- 13.0/46.2 MB 17.2 MB/s eta 0:00:02\n",
      "   ----------- ---------------------------- 13.8/46.2 MB 17.7 MB/s eta 0:00:02\n",
      "   ------------ --------------------------- 14.5/46.2 MB 17.7 MB/s eta 0:00:02\n",
      "   ------------- -------------------------- 15.4/46.2 MB 18.2 MB/s eta 0:00:02\n",
      "   ------------- -------------------------- 16.1/46.2 MB 18.7 MB/s eta 0:00:02\n",
      "   -------------- ------------------------- 16.7/46.2 MB 17.7 MB/s eta 0:00:02\n",
      "   --------------- ------------------------ 17.4/46.2 MB 17.7 MB/s eta 0:00:02\n",
      "   --------------- ------------------------ 18.0/46.2 MB 19.3 MB/s eta 0:00:02\n",
      "   ---------------- ----------------------- 18.6/46.2 MB 18.2 MB/s eta 0:00:02\n",
      "   ---------------- ----------------------- 19.1/46.2 MB 17.2 MB/s eta 0:00:02\n",
      "   ----------------- ---------------------- 20.3/46.2 MB 18.2 MB/s eta 0:00:02\n",
      "   ------------------ --------------------- 21.7/46.2 MB 19.3 MB/s eta 0:00:02\n",
      "   ------------------- -------------------- 23.0/46.2 MB 19.8 MB/s eta 0:00:02\n",
      "   --------------------- ------------------ 24.4/46.2 MB 21.1 MB/s eta 0:00:02\n",
      "   ---------------------- ----------------- 25.6/46.2 MB 21.8 MB/s eta 0:00:01\n",
      "   ----------------------- ---------------- 26.7/46.2 MB 23.4 MB/s eta 0:00:01\n",
      "   ------------------------ --------------- 27.8/46.2 MB 24.2 MB/s eta 0:00:01\n",
      "   ------------------------- -------------- 29.0/46.2 MB 28.4 MB/s eta 0:00:01\n",
      "   -------------------------- ------------- 30.2/46.2 MB 27.3 MB/s eta 0:00:01\n",
      "   -------------------------- ------------- 31.1/46.2 MB 27.3 MB/s eta 0:00:01\n",
      "   ---------------------------- ----------- 32.4/46.2 MB 28.4 MB/s eta 0:00:01\n",
      "   ----------------------------- ---------- 33.5/46.2 MB 28.5 MB/s eta 0:00:01\n",
      "   ----------------------------- ---------- 34.5/46.2 MB 27.3 MB/s eta 0:00:01\n",
      "   ------------------------------ --------- 35.8/46.2 MB 28.5 MB/s eta 0:00:01\n",
      "   ------------------------------- -------- 36.9/46.2 MB 26.2 MB/s eta 0:00:01\n",
      "   -------------------------------- ------- 38.0/46.2 MB 27.3 MB/s eta 0:00:01\n",
      "   --------------------------------- ------ 39.1/46.2 MB 27.3 MB/s eta 0:00:01\n",
      "   ---------------------------------- ----- 40.2/46.2 MB 28.5 MB/s eta 0:00:01\n",
      "   ----------------------------------- ---- 41.4/46.2 MB 28.4 MB/s eta 0:00:01\n",
      "   ------------------------------------ --- 42.4/46.2 MB 27.3 MB/s eta 0:00:01\n",
      "   ------------------------------------- -- 43.6/46.2 MB 27.3 MB/s eta 0:00:01\n",
      "   -------------------------------------- - 44.8/46.2 MB 27.3 MB/s eta 0:00:01\n",
      "   ---------------------------------------  46.0/46.2 MB 27.3 MB/s eta 0:00:01\n",
      "   ---------------------------------------  46.2/46.2 MB 27.3 MB/s eta 0:00:01\n",
      "   ---------------------------------------  46.2/46.2 MB 27.3 MB/s eta 0:00:01\n",
      "   ---------------------------------------- 46.2/46.2 MB 21.1 MB/s eta 0:00:00\n",
      "Downloading threadpoolctl-3.3.0-py3-none-any.whl (17 kB)\n",
      "Installing collected packages: threadpoolctl, scipy, joblib, scikit-learn\n",
      "Successfully installed joblib-1.3.2 scikit-learn-1.4.1.post1 scipy-1.12.0 threadpoolctl-3.3.0\n",
      "Note: you may need to restart the kernel to use updated packages.\n"
     ]
    }
   ],
   "source": [
    "pip install scikit-learn"
   ]
  },
  {
   "cell_type": "code",
   "execution_count": 68,
   "id": "5c6bfb2a-2c68-4f58-9893-82bdf09d33b8",
   "metadata": {
    "tags": []
   },
   "outputs": [],
   "source": [
    "import pandas as pd\n",
    "import plotly.offline as pyo\n",
    "import plotly.graph_objs as go\n",
    "from sklearn.linear_model import LinearRegression\n",
    "import matplotlib.pyplot as plt\n",
    "import geopandas as gpd\n",
    "from shapely.geometry import Point, LineString\n",
    "import warnings"
   ]
  },
  {
   "cell_type": "code",
   "execution_count": 58,
   "id": "77761f9e-f4da-47c3-927c-b38994f7b0ec",
   "metadata": {
    "tags": []
   },
   "outputs": [
    {
     "name": "stdout",
     "output_type": "stream",
     "text": [
      "      index  Airport ID                                         Name  \\\n",
      "0         0           1                               Goroka Airport   \n",
      "1         1           2                               Madang Airport   \n",
      "2         2           3                 Mount Hagen Kagamuga Airport   \n",
      "3         3           4                               Nadzab Airport   \n",
      "4         4           5  Port Moresby Jacksons International Airport   \n",
      "...     ...         ...                                          ...   \n",
      "7693   7693       14106                          Rogachyovo Air Base   \n",
      "7694   7694       14107                        Ulan-Ude East Airport   \n",
      "7695   7695       14108                         Krechevitsy Air Base   \n",
      "7696   7696       14109                  Desierto de Atacama Airport   \n",
      "7697   7697       14110                           Melitopol Air Base   \n",
      "\n",
      "              City           Country IATA  ICAO   Latitude   Longitude  \\\n",
      "0           Goroka  Papua New Guinea  GKA  AYGA  -6.081690  145.391998   \n",
      "1           Madang  Papua New Guinea  MAG  AYMD  -5.207080  145.789001   \n",
      "2      Mount Hagen  Papua New Guinea  HGU  AYMH  -5.826790  144.296005   \n",
      "3           Nadzab  Papua New Guinea  LAE  AYNZ  -6.569803  146.725977   \n",
      "4     Port Moresby  Papua New Guinea  POM  AYPY  -9.443380  147.220001   \n",
      "...            ...               ...  ...   ...        ...         ...   \n",
      "7693        Belaya            Russia   \\N  ULDA  71.616699   52.478298   \n",
      "7694      Ulan Ude            Russia   \\N  XIUW  51.849998  107.737999   \n",
      "7695      Novgorod            Russia   \\N  ULLK  58.625000   31.385000   \n",
      "7696       Copiapo             Chile  CPO  SCAT -27.261200  -70.779198   \n",
      "7697     Melitopol           Ukraine   \\N  UKDM  46.880001   35.305000   \n",
      "\n",
      "      Altitude Timezone DST Tz database time zone     Type       Source  \n",
      "0         5282       10   U  Pacific/Port_Moresby  airport  OurAirports  \n",
      "1           20       10   U  Pacific/Port_Moresby  airport  OurAirports  \n",
      "2         5388       10   U  Pacific/Port_Moresby  airport  OurAirports  \n",
      "3          239       10   U  Pacific/Port_Moresby  airport  OurAirports  \n",
      "4          146       10   U  Pacific/Port_Moresby  airport  OurAirports  \n",
      "...        ...      ...  ..                   ...      ...          ...  \n",
      "7693       272       \\N  \\N                    \\N  airport  OurAirports  \n",
      "7694      1670       \\N  \\N                    \\N  airport  OurAirports  \n",
      "7695        85       \\N  \\N                    \\N  airport  OurAirports  \n",
      "7696       670       \\N  \\N                    \\N  airport  OurAirports  \n",
      "7697         0       \\N  \\N                    \\N  airport  OurAirports  \n",
      "\n",
      "[7698 rows x 15 columns]\n",
      "       index Airline Airline ID Source airport Source airport ID  \\\n",
      "0          0      2B        410            AER              2965   \n",
      "1          1      2B        410            ASF              2966   \n",
      "2          2      2B        410            ASF              2966   \n",
      "3          3      2B        410            CEK              2968   \n",
      "4          4      2B        410            CEK              2968   \n",
      "...      ...     ...        ...            ...               ...   \n",
      "67658  67658      ZL       4178            WYA              6334   \n",
      "67659  67659      ZM      19016            DME              4029   \n",
      "67660  67660      ZM      19016            FRU              2912   \n",
      "67661  67661      ZM      19016            FRU              2912   \n",
      "67662  67662      ZM      19016            OSS              2913   \n",
      "\n",
      "      Destination airport Destination airport ID Codeshare  Stops Equipment  \n",
      "0                     KZN                   2990       NaN      0       CR2  \n",
      "1                     KZN                   2990       NaN      0       CR2  \n",
      "2                     MRV                   2962       NaN      0       CR2  \n",
      "3                     KZN                   2990       NaN      0       CR2  \n",
      "4                     OVB                   4078       NaN      0       CR2  \n",
      "...                   ...                    ...       ...    ...       ...  \n",
      "67658                 ADL                   3341       NaN      0       SF3  \n",
      "67659                 FRU                   2912       NaN      0       734  \n",
      "67660                 DME                   4029       NaN      0       734  \n",
      "67661                 OSS                   2913       NaN      0       734  \n",
      "67662                 FRU                   2912       NaN      0       734  \n",
      "\n",
      "[67663 rows x 10 columns]\n"
     ]
    }
   ],
   "source": [
    "airport = pd.read_csv('flight_data/airports.csv')\n",
    "routes = pd.read_csv('flight_data/routes.csv')\n",
    "print(airports)\n",
    "print(routes)"
   ]
  },
  {
   "cell_type": "code",
   "execution_count": 59,
   "id": "935a9be6-ab33-4fbf-92f1-39eeb88b8e74",
   "metadata": {
    "tags": []
   },
   "outputs": [
    {
     "data": {
      "text/plain": [
       "Index(['index', 'Airport ID', 'Name', 'City', 'Country', 'IATA', 'ICAO',\n",
       "       'Latitude', 'Longitude', 'Altitude', 'Timezone', 'DST',\n",
       "       'Tz database time zone', 'Type', 'Source'],\n",
       "      dtype='object')"
      ]
     },
     "execution_count": 59,
     "metadata": {},
     "output_type": "execute_result"
    }
   ],
   "source": [
    "airport.columns"
   ]
  },
  {
   "cell_type": "code",
   "execution_count": 60,
   "id": "aa6fe8bf-5cf2-4144-8a54-1ac4ebcfa03a",
   "metadata": {
    "tags": []
   },
   "outputs": [
    {
     "data": {
      "text/plain": [
       "Index(['index', 'Airline', 'Airline ID', 'Source airport', 'Source airport ID',\n",
       "       'Destination airport', 'Destination airport ID', 'Codeshare', 'Stops',\n",
       "       'Equipment'],\n",
       "      dtype='object')"
      ]
     },
     "execution_count": 60,
     "metadata": {},
     "output_type": "execute_result"
    }
   ],
   "source": [
    "routes.columns"
   ]
  },
  {
   "cell_type": "code",
   "execution_count": 80,
   "id": "521ec512-6b95-497d-a6b0-7c3782b0e9c7",
   "metadata": {
    "tags": []
   },
   "outputs": [
    {
     "data": {
      "application/vnd.plotly.v1+json": {
       "config": {
        "linkText": "Export to plot.ly",
        "plotlyServerURL": "https://plot.ly",
        "showLink": false
       },
       "data": [
        {
         "lat": [
          40.63980103,
          29.99340057373047
         ],
         "line": {
          "color": "red",
          "width": 0.5
         },
         "locationmode": "ISO-3",
         "lon": [
          -73.77890015,
          -90.25800323486328
         ],
         "mode": "lines",
         "name": "MSY",
         "opacity": 0.8,
         "type": "scattergeo"
        },
        {
         "lat": [
          40.63980103,
          30.194499969482425
         ],
         "line": {
          "color": "red",
          "width": 0.5
         },
         "locationmode": "ISO-3",
         "lon": [
          -73.77890015,
          -97.6698989868164
         ],
         "mode": "lines",
         "name": "AUS",
         "opacity": 0.8,
         "type": "scattergeo"
        },
        {
         "lat": [
          40.63980103,
          36.1245002746582
         ],
         "line": {
          "color": "red",
          "width": 0.5
         },
         "locationmode": "ISO-3",
         "lon": [
          -73.77890015,
          -86.6781997680664
         ],
         "mode": "lines",
         "name": "BNA",
         "opacity": 0.8,
         "type": "scattergeo"
        },
        {
         "lat": [
          40.63980103,
          42.36429977
         ],
         "line": {
          "color": "red",
          "width": 0.5
         },
         "locationmode": "ISO-3",
         "lon": [
          -73.77890015,
          -71.00520325
         ],
         "mode": "lines",
         "name": "BOS",
         "opacity": 0.8,
         "type": "scattergeo"
        },
        {
         "lat": [
          40.63980103,
          39.1754
         ],
         "line": {
          "color": "red",
          "width": 0.5
         },
         "locationmode": "ISO-3",
         "lon": [
          -73.77890015,
          -76.668297
         ],
         "mode": "lines",
         "name": "BWI",
         "opacity": 0.8,
         "type": "scattergeo"
        },
        {
         "lat": [
          40.63980103,
          41.4117012024
         ],
         "line": {
          "color": "red",
          "width": 0.5
         },
         "locationmode": "ISO-3",
         "lon": [
          -73.77890015,
          -81.8498001099
         ],
         "mode": "lines",
         "name": "CLE",
         "opacity": 0.8,
         "type": "scattergeo"
        },
        {
         "lat": [
          40.63980103,
          35.2140007019043
         ],
         "line": {
          "color": "red",
          "width": 0.5
         },
         "locationmode": "ISO-3",
         "lon": [
          -73.77890015,
          -80.94309997558594
         ],
         "mode": "lines",
         "name": "CLT",
         "opacity": 0.8,
         "type": "scattergeo"
        },
        {
         "lat": [
          40.63980103,
          39.998001
         ],
         "line": {
          "color": "red",
          "width": 0.5
         },
         "locationmode": "ISO-3",
         "lon": [
          -73.77890015,
          -82.891899
         ],
         "mode": "lines",
         "name": "CMH",
         "opacity": 0.8,
         "type": "scattergeo"
        },
        {
         "lat": [
          40.63980103,
          39.0488014221
         ],
         "line": {
          "color": "red",
          "width": 0.5
         },
         "locationmode": "ISO-3",
         "lon": [
          -73.77890015,
          -84.6678009033
         ],
         "mode": "lines",
         "name": "CVG",
         "opacity": 0.8,
         "type": "scattergeo"
        },
        {
         "lat": [
          40.63980103,
          38.8521
         ],
         "line": {
          "color": "red",
          "width": 0.5
         },
         "locationmode": "ISO-3",
         "lon": [
          -73.77890015,
          -77.037697
         ],
         "mode": "lines",
         "name": "DCA",
         "opacity": 0.8,
         "type": "scattergeo"
        },
        {
         "lat": [
          40.63980103,
          32.896801
         ],
         "line": {
          "color": "red",
          "width": 0.5
         },
         "locationmode": "ISO-3",
         "lon": [
          -73.77890015,
          -97.038002
         ],
         "mode": "lines",
         "name": "DFW",
         "opacity": 0.8,
         "type": "scattergeo"
        },
        {
         "lat": [
          40.63980103,
          39.7173
         ],
         "line": {
          "color": "red",
          "width": 0.5
         },
         "locationmode": "ISO-3",
         "lon": [
          -73.77890015,
          -86.294403
         ],
         "mode": "lines",
         "name": "IND",
         "opacity": 0.8,
         "type": "scattergeo"
        },
        {
         "lat": [
          40.63980103,
          36.08010101
         ],
         "line": {
          "color": "red",
          "width": 0.5
         },
         "locationmode": "ISO-3",
         "lon": [
          -73.77890015,
          -115.1520004
         ],
         "mode": "lines",
         "name": "LAS",
         "opacity": 0.8,
         "type": "scattergeo"
        },
        {
         "lat": [
          40.63980103,
          33.94250107
         ],
         "line": {
          "color": "red",
          "width": 0.5
         },
         "locationmode": "ISO-3",
         "lon": [
          -73.77890015,
          -118.4079971
         ],
         "mode": "lines",
         "name": "LAX",
         "opacity": 0.8,
         "type": "scattergeo"
        },
        {
         "lat": [
          40.63980103,
          28.429399490356445
         ],
         "line": {
          "color": "red",
          "width": 0.5
         },
         "locationmode": "ISO-3",
         "lon": [
          -73.77890015,
          -81.30899810791016
         ],
         "mode": "lines",
         "name": "MCO",
         "opacity": 0.8,
         "type": "scattergeo"
        },
        {
         "lat": [
          40.63980103,
          25.79319953918457
         ],
         "line": {
          "color": "red",
          "width": 0.5
         },
         "locationmode": "ISO-3",
         "lon": [
          -73.77890015,
          -80.29060363769531
         ],
         "mode": "lines",
         "name": "MIA",
         "opacity": 0.8,
         "type": "scattergeo"
        },
        {
         "lat": [
          40.63980103,
          41.9786
         ],
         "line": {
          "color": "red",
          "width": 0.5
         },
         "locationmode": "ISO-3",
         "lon": [
          -73.77890015,
          -87.9048
         ],
         "mode": "lines",
         "name": "ORD",
         "opacity": 0.8,
         "type": "scattergeo"
        },
        {
         "lat": [
          40.63980103,
          36.89459991455078
         ],
         "line": {
          "color": "red",
          "width": 0.5
         },
         "locationmode": "ISO-3",
         "lon": [
          -73.77890015,
          -76.20120239257812
         ],
         "mode": "lines",
         "name": "ORF",
         "opacity": 0.8,
         "type": "scattergeo"
        },
        {
         "lat": [
          40.63980103,
          33.43429946899414
         ],
         "line": {
          "color": "red",
          "width": 0.5
         },
         "locationmode": "ISO-3",
         "lon": [
          -73.77890015,
          -112.01200103759766
         ],
         "mode": "lines",
         "name": "PHX",
         "opacity": 0.8,
         "type": "scattergeo"
        },
        {
         "lat": [
          40.63980103,
          40.49150085
         ],
         "line": {
          "color": "red",
          "width": 0.5
         },
         "locationmode": "ISO-3",
         "lon": [
          -73.77890015,
          -80.23290253
         ],
         "mode": "lines",
         "name": "PIT",
         "opacity": 0.8,
         "type": "scattergeo"
        },
        {
         "lat": [
          40.63980103,
          35.87760162353516
         ],
         "line": {
          "color": "red",
          "width": 0.5
         },
         "locationmode": "ISO-3",
         "lon": [
          -73.77890015,
          -78.7874984741211
         ],
         "mode": "lines",
         "name": "RDU",
         "opacity": 0.8,
         "type": "scattergeo"
        },
        {
         "lat": [
          40.63980103,
          32.7336006165
         ],
         "line": {
          "color": "red",
          "width": 0.5
         },
         "locationmode": "ISO-3",
         "lon": [
          -73.77890015,
          -117.190002441
         ],
         "mode": "lines",
         "name": "SAN",
         "opacity": 0.8,
         "type": "scattergeo"
        },
        {
         "lat": [
          40.63980103,
          47.449001
         ],
         "line": {
          "color": "red",
          "width": 0.5
         },
         "locationmode": "ISO-3",
         "lon": [
          -73.77890015,
          -122.308998
         ],
         "mode": "lines",
         "name": "SEA",
         "opacity": 0.8,
         "type": "scattergeo"
        },
        {
         "lat": [
          40.63980103,
          37.61899948120117
         ],
         "line": {
          "color": "red",
          "width": 0.5
         },
         "locationmode": "ISO-3",
         "lon": [
          -73.77890015,
          -122.375
         ],
         "mode": "lines",
         "name": "SFO",
         "opacity": 0.8,
         "type": "scattergeo"
        },
        {
         "lat": [
          40.63980103,
          27.975500106811523
         ],
         "line": {
          "color": "red",
          "width": 0.5
         },
         "locationmode": "ISO-3",
         "lon": [
          -73.77890015,
          -82.533203125
         ],
         "mode": "lines",
         "name": "TPA",
         "opacity": 0.8,
         "type": "scattergeo"
        },
        {
         "lat": [
          40.63980103,
          33.6367
         ],
         "line": {
          "color": "red",
          "width": 0.5
         },
         "locationmode": "ISO-3",
         "lon": [
          -73.77890015,
          -84.428101
         ],
         "mode": "lines",
         "name": "ATL",
         "opacity": 0.8,
         "type": "scattergeo"
        },
        {
         "lat": [
          40.63980103,
          29.99340057373047
         ],
         "line": {
          "color": "red",
          "width": 0.5
         },
         "locationmode": "ISO-3",
         "lon": [
          -73.77890015,
          -90.25800323486328
         ],
         "mode": "lines",
         "name": "MSY",
         "opacity": 0.8,
         "type": "scattergeo"
        },
        {
         "lat": [
          40.63980103,
          33.6367
         ],
         "line": {
          "color": "red",
          "width": 0.5
         },
         "locationmode": "ISO-3",
         "lon": [
          -73.77890015,
          -84.428101
         ],
         "mode": "lines",
         "name": "ATL",
         "opacity": 0.8,
         "type": "scattergeo"
        },
        {
         "lat": [
          40.63980103,
          33.94250107
         ],
         "line": {
          "color": "red",
          "width": 0.5
         },
         "locationmode": "ISO-3",
         "lon": [
          -73.77890015,
          -118.4079971
         ],
         "mode": "lines",
         "name": "LAX",
         "opacity": 0.8,
         "type": "scattergeo"
        },
        {
         "lat": [
          40.63980103,
          32.7336006165
         ],
         "line": {
          "color": "red",
          "width": 0.5
         },
         "locationmode": "ISO-3",
         "lon": [
          -73.77890015,
          -117.190002441
         ],
         "mode": "lines",
         "name": "SAN",
         "opacity": 0.8,
         "type": "scattergeo"
        },
        {
         "lat": [
          40.63980103,
          47.449001
         ],
         "line": {
          "color": "red",
          "width": 0.5
         },
         "locationmode": "ISO-3",
         "lon": [
          -73.77890015,
          -122.308998
         ],
         "mode": "lines",
         "name": "SEA",
         "opacity": 0.8,
         "type": "scattergeo"
        },
        {
         "lat": [
          40.63980103,
          37.61899948120117
         ],
         "line": {
          "color": "red",
          "width": 0.5
         },
         "locationmode": "ISO-3",
         "lon": [
          -73.77890015,
          -122.375
         ],
         "mode": "lines",
         "name": "SFO",
         "opacity": 0.8,
         "type": "scattergeo"
        },
        {
         "lat": [
          40.63980103,
          33.6367
         ],
         "line": {
          "color": "red",
          "width": 0.5
         },
         "locationmode": "ISO-3",
         "lon": [
          -73.77890015,
          -84.428101
         ],
         "mode": "lines",
         "name": "ATL",
         "opacity": 0.8,
         "type": "scattergeo"
        },
        {
         "lat": [
          40.63980103,
          29.99340057373047
         ],
         "line": {
          "color": "red",
          "width": 0.5
         },
         "locationmode": "ISO-3",
         "lon": [
          -73.77890015,
          -90.25800323486328
         ],
         "mode": "lines",
         "name": "MSY",
         "opacity": 0.8,
         "type": "scattergeo"
        },
        {
         "lat": [
          40.63980103,
          35.040199
         ],
         "line": {
          "color": "red",
          "width": 0.5
         },
         "locationmode": "ISO-3",
         "lon": [
          -73.77890015,
          -106.609001
         ],
         "mode": "lines",
         "name": "ABQ",
         "opacity": 0.8,
         "type": "scattergeo"
        },
        {
         "lat": [
          40.63980103,
          30.194499969482425
         ],
         "line": {
          "color": "red",
          "width": 0.5
         },
         "locationmode": "ISO-3",
         "lon": [
          -73.77890015,
          -97.6698989868164
         ],
         "mode": "lines",
         "name": "AUS",
         "opacity": 0.8,
         "type": "scattergeo"
        },
        {
         "lat": [
          40.63980103,
          42.36429977
         ],
         "line": {
          "color": "red",
          "width": 0.5
         },
         "locationmode": "ISO-3",
         "lon": [
          -73.77890015,
          -71.00520325
         ],
         "mode": "lines",
         "name": "BOS",
         "opacity": 0.8,
         "type": "scattergeo"
        },
        {
         "lat": [
          40.63980103,
          44.4719009399
         ],
         "line": {
          "color": "red",
          "width": 0.5
         },
         "locationmode": "ISO-3",
         "lon": [
          -73.77890015,
          -73.15329742429998
         ],
         "mode": "lines",
         "name": "BTV",
         "opacity": 0.8,
         "type": "scattergeo"
        },
        {
         "lat": [
          40.63980103,
          42.94049835
         ],
         "line": {
          "color": "red",
          "width": 0.5
         },
         "locationmode": "ISO-3",
         "lon": [
          -73.77890015,
          -78.73220062
         ],
         "mode": "lines",
         "name": "BUF",
         "opacity": 0.8,
         "type": "scattergeo"
        },
        {
         "lat": [
          40.63980103,
          34.200698852539055
         ],
         "line": {
          "color": "red",
          "width": 0.5
         },
         "locationmode": "ISO-3",
         "lon": [
          -73.77890015,
          -118.35900115966795
         ],
         "mode": "lines",
         "name": "BUR",
         "opacity": 0.8,
         "type": "scattergeo"
        },
        {
         "lat": [
          40.63980103,
          32.89860153
         ],
         "line": {
          "color": "red",
          "width": 0.5
         },
         "locationmode": "ISO-3",
         "lon": [
          -73.77890015,
          -80.04049683
         ],
         "mode": "lines",
         "name": "CHS",
         "opacity": 0.8,
         "type": "scattergeo"
        },
        {
         "lat": [
          40.63980103,
          35.2140007019043
         ],
         "line": {
          "color": "red",
          "width": 0.5
         },
         "locationmode": "ISO-3",
         "lon": [
          -73.77890015,
          -80.94309997558594
         ],
         "mode": "lines",
         "name": "CLT",
         "opacity": 0.8,
         "type": "scattergeo"
        },
        {
         "lat": [
          40.63980103,
          39.861698150635
         ],
         "line": {
          "color": "red",
          "width": 0.5
         },
         "locationmode": "ISO-3",
         "lon": [
          -73.77890015,
          -104.672996521
         ],
         "mode": "lines",
         "name": "DEN",
         "opacity": 0.8,
         "type": "scattergeo"
        },
        {
         "lat": [
          40.63980103,
          26.072599
         ],
         "line": {
          "color": "red",
          "width": 0.5
         },
         "locationmode": "ISO-3",
         "lon": [
          -73.77890015,
          -80.152702
         ],
         "mode": "lines",
         "name": "FLL",
         "opacity": 0.8,
         "type": "scattergeo"
        },
        {
         "lat": [
          40.63980103,
          29.64539909
         ],
         "line": {
          "color": "red",
          "width": 0.5
         },
         "locationmode": "ISO-3",
         "lon": [
          -73.77890015,
          -95.27890015
         ],
         "mode": "lines",
         "name": "HOU",
         "opacity": 0.8,
         "type": "scattergeo"
        },
        {
         "lat": [
          40.63980103,
          38.94449997
         ],
         "line": {
          "color": "red",
          "width": 0.5
         },
         "locationmode": "ISO-3",
         "lon": [
          -73.77890015,
          -77.45580292
         ],
         "mode": "lines",
         "name": "IAD",
         "opacity": 0.8,
         "type": "scattergeo"
        },
        {
         "lat": [
          40.63980103,
          30.49410057067871
         ],
         "line": {
          "color": "red",
          "width": 0.5
         },
         "locationmode": "ISO-3",
         "lon": [
          -73.77890015,
          -81.68789672851562
         ],
         "mode": "lines",
         "name": "JAX",
         "opacity": 0.8,
         "type": "scattergeo"
        },
        {
         "lat": [
          40.63980103,
          36.08010101
         ],
         "line": {
          "color": "red",
          "width": 0.5
         },
         "locationmode": "ISO-3",
         "lon": [
          -73.77890015,
          -115.1520004
         ],
         "mode": "lines",
         "name": "LAS",
         "opacity": 0.8,
         "type": "scattergeo"
        },
        {
         "lat": [
          40.63980103,
          33.94250107
         ],
         "line": {
          "color": "red",
          "width": 0.5
         },
         "locationmode": "ISO-3",
         "lon": [
          -73.77890015,
          -118.4079971
         ],
         "mode": "lines",
         "name": "LAX",
         "opacity": 0.8,
         "type": "scattergeo"
        },
        {
         "lat": [
          40.63980103,
          33.81769943
         ],
         "line": {
          "color": "red",
          "width": 0.5
         },
         "locationmode": "ISO-3",
         "lon": [
          -73.77890015,
          -118.1520004
         ],
         "mode": "lines",
         "name": "LGB",
         "opacity": 0.8,
         "type": "scattergeo"
        },
        {
         "lat": [
          40.63980103,
          28.429399490356445
         ],
         "line": {
          "color": "red",
          "width": 0.5
         },
         "locationmode": "ISO-3",
         "lon": [
          -73.77890015,
          -81.30899810791016
         ],
         "mode": "lines",
         "name": "MCO",
         "opacity": 0.8,
         "type": "scattergeo"
        },
        {
         "lat": [
          40.63980103,
          29.99340057373047
         ],
         "line": {
          "color": "red",
          "width": 0.5
         },
         "locationmode": "ISO-3",
         "lon": [
          -73.77890015,
          -90.25800323486328
         ],
         "mode": "lines",
         "name": "MSY",
         "opacity": 0.8,
         "type": "scattergeo"
        },
        {
         "lat": [
          40.63980103,
          37.721298
         ],
         "line": {
          "color": "red",
          "width": 0.5
         },
         "locationmode": "ISO-3",
         "lon": [
          -73.77890015,
          -122.221001
         ],
         "mode": "lines",
         "name": "OAK",
         "opacity": 0.8,
         "type": "scattergeo"
        },
        {
         "lat": [
          40.63980103,
          41.9786
         ],
         "line": {
          "color": "red",
          "width": 0.5
         },
         "locationmode": "ISO-3",
         "lon": [
          -73.77890015,
          -87.9048
         ],
         "mode": "lines",
         "name": "ORD",
         "opacity": 0.8,
         "type": "scattergeo"
        },
        {
         "lat": [
          40.63980103,
          26.68320083618164
         ],
         "line": {
          "color": "red",
          "width": 0.5
         },
         "locationmode": "ISO-3",
         "lon": [
          -73.77890015,
          -80.09559631347656
         ],
         "mode": "lines",
         "name": "PBI",
         "opacity": 0.8,
         "type": "scattergeo"
        },
        {
         "lat": [
          40.63980103,
          45.58869934
         ],
         "line": {
          "color": "red",
          "width": 0.5
         },
         "locationmode": "ISO-3",
         "lon": [
          -73.77890015,
          -122.5979996
         ],
         "mode": "lines",
         "name": "PDX",
         "opacity": 0.8,
         "type": "scattergeo"
        },
        {
         "lat": [
          40.63980103,
          33.43429946899414
         ],
         "line": {
          "color": "red",
          "width": 0.5
         },
         "locationmode": "ISO-3",
         "lon": [
          -73.77890015,
          -112.01200103759766
         ],
         "mode": "lines",
         "name": "PHX",
         "opacity": 0.8,
         "type": "scattergeo"
        },
        {
         "lat": [
          40.63980103,
          43.64619827
         ],
         "line": {
          "color": "red",
          "width": 0.5
         },
         "locationmode": "ISO-3",
         "lon": [
          -73.77890015,
          -70.30930328
         ],
         "mode": "lines",
         "name": "PWM",
         "opacity": 0.8,
         "type": "scattergeo"
        },
        {
         "lat": [
          40.63980103,
          35.87760162353516
         ],
         "line": {
          "color": "red",
          "width": 0.5
         },
         "locationmode": "ISO-3",
         "lon": [
          -73.77890015,
          -78.7874984741211
         ],
         "mode": "lines",
         "name": "RDU",
         "opacity": 0.8,
         "type": "scattergeo"
        },
        {
         "lat": [
          40.63980103,
          43.118900299072266
         ],
         "line": {
          "color": "red",
          "width": 0.5
         },
         "locationmode": "ISO-3",
         "lon": [
          -73.77890015,
          -77.67240142822266
         ],
         "mode": "lines",
         "name": "ROC",
         "opacity": 0.8,
         "type": "scattergeo"
        },
        {
         "lat": [
          40.63980103,
          26.53619956970215
         ],
         "line": {
          "color": "red",
          "width": 0.5
         },
         "locationmode": "ISO-3",
         "lon": [
          -73.77890015,
          -81.75520324707031
         ],
         "mode": "lines",
         "name": "RSW",
         "opacity": 0.8,
         "type": "scattergeo"
        },
        {
         "lat": [
          40.63980103,
          32.7336006165
         ],
         "line": {
          "color": "red",
          "width": 0.5
         },
         "locationmode": "ISO-3",
         "lon": [
          -73.77890015,
          -117.190002441
         ],
         "mode": "lines",
         "name": "SAN",
         "opacity": 0.8,
         "type": "scattergeo"
        },
        {
         "lat": [
          40.63980103,
          32.12760162
         ],
         "line": {
          "color": "red",
          "width": 0.5
         },
         "locationmode": "ISO-3",
         "lon": [
          -73.77890015,
          -81.20210266
         ],
         "mode": "lines",
         "name": "SAV",
         "opacity": 0.8,
         "type": "scattergeo"
        },
        {
         "lat": [
          40.63980103,
          47.449001
         ],
         "line": {
          "color": "red",
          "width": 0.5
         },
         "locationmode": "ISO-3",
         "lon": [
          -73.77890015,
          -122.308998
         ],
         "mode": "lines",
         "name": "SEA",
         "opacity": 0.8,
         "type": "scattergeo"
        },
        {
         "lat": [
          40.63980103,
          37.61899948120117
         ],
         "line": {
          "color": "red",
          "width": 0.5
         },
         "locationmode": "ISO-3",
         "lon": [
          -73.77890015,
          -122.375
         ],
         "mode": "lines",
         "name": "SFO",
         "opacity": 0.8,
         "type": "scattergeo"
        },
        {
         "lat": [
          40.63980103,
          37.362598
         ],
         "line": {
          "color": "red",
          "width": 0.5
         },
         "locationmode": "ISO-3",
         "lon": [
          -73.77890015,
          -121.929001
         ],
         "mode": "lines",
         "name": "SJC",
         "opacity": 0.8,
         "type": "scattergeo"
        },
        {
         "lat": [
          40.63980103,
          40.78839874267578
         ],
         "line": {
          "color": "red",
          "width": 0.5
         },
         "locationmode": "ISO-3",
         "lon": [
          -73.77890015,
          -111.97799682617188
         ],
         "mode": "lines",
         "name": "SLC",
         "opacity": 0.8,
         "type": "scattergeo"
        },
        {
         "lat": [
          40.63980103,
          38.69540023803711
         ],
         "line": {
          "color": "red",
          "width": 0.5
         },
         "locationmode": "ISO-3",
         "lon": [
          -73.77890015,
          -121.59100341796876
         ],
         "mode": "lines",
         "name": "SMF",
         "opacity": 0.8,
         "type": "scattergeo"
        },
        {
         "lat": [
          40.63980103,
          27.39539909362793
         ],
         "line": {
          "color": "red",
          "width": 0.5
         },
         "locationmode": "ISO-3",
         "lon": [
          -73.77890015,
          -82.55439758300781
         ],
         "mode": "lines",
         "name": "SRQ",
         "opacity": 0.8,
         "type": "scattergeo"
        },
        {
         "lat": [
          40.63980103,
          43.11119842529297
         ],
         "line": {
          "color": "red",
          "width": 0.5
         },
         "locationmode": "ISO-3",
         "lon": [
          -73.77890015,
          -76.1063003540039
         ],
         "mode": "lines",
         "name": "SYR",
         "opacity": 0.8,
         "type": "scattergeo"
        },
        {
         "lat": [
          40.63980103,
          27.975500106811523
         ],
         "line": {
          "color": "red",
          "width": 0.5
         },
         "locationmode": "ISO-3",
         "lon": [
          -73.77890015,
          -82.533203125
         ],
         "mode": "lines",
         "name": "TPA",
         "opacity": 0.8,
         "type": "scattergeo"
        },
        {
         "lat": [
          40.63980103,
          33.6367
         ],
         "line": {
          "color": "red",
          "width": 0.5
         },
         "locationmode": "ISO-3",
         "lon": [
          -73.77890015,
          -84.428101
         ],
         "mode": "lines",
         "name": "ATL",
         "opacity": 0.8,
         "type": "scattergeo"
        },
        {
         "lat": [
          40.63980103,
          30.194499969482425
         ],
         "line": {
          "color": "red",
          "width": 0.5
         },
         "locationmode": "ISO-3",
         "lon": [
          -73.77890015,
          -97.6698989868164
         ],
         "mode": "lines",
         "name": "AUS",
         "opacity": 0.8,
         "type": "scattergeo"
        },
        {
         "lat": [
          40.63980103,
          36.1245002746582
         ],
         "line": {
          "color": "red",
          "width": 0.5
         },
         "locationmode": "ISO-3",
         "lon": [
          -73.77890015,
          -86.6781997680664
         ],
         "mode": "lines",
         "name": "BNA",
         "opacity": 0.8,
         "type": "scattergeo"
        },
        {
         "lat": [
          40.63980103,
          42.36429977
         ],
         "line": {
          "color": "red",
          "width": 0.5
         },
         "locationmode": "ISO-3",
         "lon": [
          -73.77890015,
          -71.00520325
         ],
         "mode": "lines",
         "name": "BOS",
         "opacity": 0.8,
         "type": "scattergeo"
        },
        {
         "lat": [
          40.63980103,
          42.94049835
         ],
         "line": {
          "color": "red",
          "width": 0.5
         },
         "locationmode": "ISO-3",
         "lon": [
          -73.77890015,
          -78.73220062
         ],
         "mode": "lines",
         "name": "BUF",
         "opacity": 0.8,
         "type": "scattergeo"
        },
        {
         "lat": [
          40.63980103,
          39.1754
         ],
         "line": {
          "color": "red",
          "width": 0.5
         },
         "locationmode": "ISO-3",
         "lon": [
          -73.77890015,
          -76.668297
         ],
         "mode": "lines",
         "name": "BWI",
         "opacity": 0.8,
         "type": "scattergeo"
        },
        {
         "lat": [
          40.63980103,
          32.89860153
         ],
         "line": {
          "color": "red",
          "width": 0.5
         },
         "locationmode": "ISO-3",
         "lon": [
          -73.77890015,
          -80.04049683
         ],
         "mode": "lines",
         "name": "CHS",
         "opacity": 0.8,
         "type": "scattergeo"
        },
        {
         "lat": [
          40.63980103,
          41.4117012024
         ],
         "line": {
          "color": "red",
          "width": 0.5
         },
         "locationmode": "ISO-3",
         "lon": [
          -73.77890015,
          -81.8498001099
         ],
         "mode": "lines",
         "name": "CLE",
         "opacity": 0.8,
         "type": "scattergeo"
        },
        {
         "lat": [
          40.63980103,
          35.2140007019043
         ],
         "line": {
          "color": "red",
          "width": 0.5
         },
         "locationmode": "ISO-3",
         "lon": [
          -73.77890015,
          -80.94309997558594
         ],
         "mode": "lines",
         "name": "CLT",
         "opacity": 0.8,
         "type": "scattergeo"
        },
        {
         "lat": [
          40.63980103,
          39.998001
         ],
         "line": {
          "color": "red",
          "width": 0.5
         },
         "locationmode": "ISO-3",
         "lon": [
          -73.77890015,
          -82.891899
         ],
         "mode": "lines",
         "name": "CMH",
         "opacity": 0.8,
         "type": "scattergeo"
        },
        {
         "lat": [
          40.63980103,
          39.0488014221
         ],
         "line": {
          "color": "red",
          "width": 0.5
         },
         "locationmode": "ISO-3",
         "lon": [
          -73.77890015,
          -84.6678009033
         ],
         "mode": "lines",
         "name": "CVG",
         "opacity": 0.8,
         "type": "scattergeo"
        },
        {
         "lat": [
          40.63980103,
          38.8521
         ],
         "line": {
          "color": "red",
          "width": 0.5
         },
         "locationmode": "ISO-3",
         "lon": [
          -73.77890015,
          -77.037697
         ],
         "mode": "lines",
         "name": "DCA",
         "opacity": 0.8,
         "type": "scattergeo"
        },
        {
         "lat": [
          40.63980103,
          39.861698150635
         ],
         "line": {
          "color": "red",
          "width": 0.5
         },
         "locationmode": "ISO-3",
         "lon": [
          -73.77890015,
          -104.672996521
         ],
         "mode": "lines",
         "name": "DEN",
         "opacity": 0.8,
         "type": "scattergeo"
        },
        {
         "lat": [
          40.63980103,
          32.896801
         ],
         "line": {
          "color": "red",
          "width": 0.5
         },
         "locationmode": "ISO-3",
         "lon": [
          -73.77890015,
          -97.038002
         ],
         "mode": "lines",
         "name": "DFW",
         "opacity": 0.8,
         "type": "scattergeo"
        },
        {
         "lat": [
          40.63980103,
          42.212398529052734
         ],
         "line": {
          "color": "red",
          "width": 0.5
         },
         "locationmode": "ISO-3",
         "lon": [
          -73.77890015,
          -83.35340118408203
         ],
         "mode": "lines",
         "name": "DTW",
         "opacity": 0.8,
         "type": "scattergeo"
        },
        {
         "lat": [
          40.63980103,
          26.072599
         ],
         "line": {
          "color": "red",
          "width": 0.5
         },
         "locationmode": "ISO-3",
         "lon": [
          -73.77890015,
          -80.152702
         ],
         "mode": "lines",
         "name": "FLL",
         "opacity": 0.8,
         "type": "scattergeo"
        },
        {
         "lat": [
          40.63980103,
          38.94449997
         ],
         "line": {
          "color": "red",
          "width": 0.5
         },
         "locationmode": "ISO-3",
         "lon": [
          -73.77890015,
          -77.45580292
         ],
         "mode": "lines",
         "name": "IAD",
         "opacity": 0.8,
         "type": "scattergeo"
        },
        {
         "lat": [
          40.63980103,
          39.7173
         ],
         "line": {
          "color": "red",
          "width": 0.5
         },
         "locationmode": "ISO-3",
         "lon": [
          -73.77890015,
          -86.294403
         ],
         "mode": "lines",
         "name": "IND",
         "opacity": 0.8,
         "type": "scattergeo"
        },
        {
         "lat": [
          40.63980103,
          30.49410057067871
         ],
         "line": {
          "color": "red",
          "width": 0.5
         },
         "locationmode": "ISO-3",
         "lon": [
          -73.77890015,
          -81.68789672851562
         ],
         "mode": "lines",
         "name": "JAX",
         "opacity": 0.8,
         "type": "scattergeo"
        },
        {
         "lat": [
          40.63980103,
          36.08010101
         ],
         "line": {
          "color": "red",
          "width": 0.5
         },
         "locationmode": "ISO-3",
         "lon": [
          -73.77890015,
          -115.1520004
         ],
         "mode": "lines",
         "name": "LAS",
         "opacity": 0.8,
         "type": "scattergeo"
        },
        {
         "lat": [
          40.63980103,
          33.94250107
         ],
         "line": {
          "color": "red",
          "width": 0.5
         },
         "locationmode": "ISO-3",
         "lon": [
          -73.77890015,
          -118.4079971
         ],
         "mode": "lines",
         "name": "LAX",
         "opacity": 0.8,
         "type": "scattergeo"
        },
        {
         "lat": [
          40.63980103,
          28.429399490356445
         ],
         "line": {
          "color": "red",
          "width": 0.5
         },
         "locationmode": "ISO-3",
         "lon": [
          -73.77890015,
          -81.30899810791016
         ],
         "mode": "lines",
         "name": "MCO",
         "opacity": 0.8,
         "type": "scattergeo"
        },
        {
         "lat": [
          40.63980103,
          25.79319953918457
         ],
         "line": {
          "color": "red",
          "width": 0.5
         },
         "locationmode": "ISO-3",
         "lon": [
          -73.77890015,
          -80.29060363769531
         ],
         "mode": "lines",
         "name": "MIA",
         "opacity": 0.8,
         "type": "scattergeo"
        },
        {
         "lat": [
          40.63980103,
          44.882
         ],
         "line": {
          "color": "red",
          "width": 0.5
         },
         "locationmode": "ISO-3",
         "lon": [
          -73.77890015,
          -93.221802
         ],
         "mode": "lines",
         "name": "MSP",
         "opacity": 0.8,
         "type": "scattergeo"
        },
        {
         "lat": [
          40.63980103,
          29.99340057373047
         ],
         "line": {
          "color": "red",
          "width": 0.5
         },
         "locationmode": "ISO-3",
         "lon": [
          -73.77890015,
          -90.25800323486328
         ],
         "mode": "lines",
         "name": "MSY",
         "opacity": 0.8,
         "type": "scattergeo"
        },
        {
         "lat": [
          40.63980103,
          41.9786
         ],
         "line": {
          "color": "red",
          "width": 0.5
         },
         "locationmode": "ISO-3",
         "lon": [
          -73.77890015,
          -87.9048
         ],
         "mode": "lines",
         "name": "ORD",
         "opacity": 0.8,
         "type": "scattergeo"
        },
        {
         "lat": [
          40.63980103,
          36.89459991455078
         ],
         "line": {
          "color": "red",
          "width": 0.5
         },
         "locationmode": "ISO-3",
         "lon": [
          -73.77890015,
          -76.20120239257812
         ],
         "mode": "lines",
         "name": "ORF",
         "opacity": 0.8,
         "type": "scattergeo"
        },
        {
         "lat": [
          40.63980103,
          45.58869934
         ],
         "line": {
          "color": "red",
          "width": 0.5
         },
         "locationmode": "ISO-3",
         "lon": [
          -73.77890015,
          -122.5979996
         ],
         "mode": "lines",
         "name": "PDX",
         "opacity": 0.8,
         "type": "scattergeo"
        },
        {
         "lat": [
          40.63980103,
          39.87189865112305
         ],
         "line": {
          "color": "red",
          "width": 0.5
         },
         "locationmode": "ISO-3",
         "lon": [
          -73.77890015,
          -75.24109649658203
         ],
         "mode": "lines",
         "name": "PHL",
         "opacity": 0.8,
         "type": "scattergeo"
        },
        {
         "lat": [
          40.63980103,
          33.43429946899414
         ],
         "line": {
          "color": "red",
          "width": 0.5
         },
         "locationmode": "ISO-3",
         "lon": [
          -73.77890015,
          -112.01200103759766
         ],
         "mode": "lines",
         "name": "PHX",
         "opacity": 0.8,
         "type": "scattergeo"
        },
        {
         "lat": [
          40.63980103,
          40.49150085
         ],
         "line": {
          "color": "red",
          "width": 0.5
         },
         "locationmode": "ISO-3",
         "lon": [
          -73.77890015,
          -80.23290253
         ],
         "mode": "lines",
         "name": "PIT",
         "opacity": 0.8,
         "type": "scattergeo"
        },
        {
         "lat": [
          40.63980103,
          35.87760162353516
         ],
         "line": {
          "color": "red",
          "width": 0.5
         },
         "locationmode": "ISO-3",
         "lon": [
          -73.77890015,
          -78.7874984741211
         ],
         "mode": "lines",
         "name": "RDU",
         "opacity": 0.8,
         "type": "scattergeo"
        },
        {
         "lat": [
          40.63980103,
          37.50519943237305
         ],
         "line": {
          "color": "red",
          "width": 0.5
         },
         "locationmode": "ISO-3",
         "lon": [
          -73.77890015,
          -77.3197021484375
         ],
         "mode": "lines",
         "name": "RIC",
         "opacity": 0.8,
         "type": "scattergeo"
        },
        {
         "lat": [
          40.63980103,
          43.118900299072266
         ],
         "line": {
          "color": "red",
          "width": 0.5
         },
         "locationmode": "ISO-3",
         "lon": [
          -73.77890015,
          -77.67240142822266
         ],
         "mode": "lines",
         "name": "ROC",
         "opacity": 0.8,
         "type": "scattergeo"
        },
        {
         "lat": [
          40.63980103,
          32.7336006165
         ],
         "line": {
          "color": "red",
          "width": 0.5
         },
         "locationmode": "ISO-3",
         "lon": [
          -73.77890015,
          -117.190002441
         ],
         "mode": "lines",
         "name": "SAN",
         "opacity": 0.8,
         "type": "scattergeo"
        },
        {
         "lat": [
          40.63980103,
          29.533700942993164
         ],
         "line": {
          "color": "red",
          "width": 0.5
         },
         "locationmode": "ISO-3",
         "lon": [
          -73.77890015,
          -98.46980285644533
         ],
         "mode": "lines",
         "name": "SAT",
         "opacity": 0.8,
         "type": "scattergeo"
        },
        {
         "lat": [
          40.63980103,
          32.12760162
         ],
         "line": {
          "color": "red",
          "width": 0.5
         },
         "locationmode": "ISO-3",
         "lon": [
          -73.77890015,
          -81.20210266
         ],
         "mode": "lines",
         "name": "SAV",
         "opacity": 0.8,
         "type": "scattergeo"
        },
        {
         "lat": [
          40.63980103,
          38.1744
         ],
         "line": {
          "color": "red",
          "width": 0.5
         },
         "locationmode": "ISO-3",
         "lon": [
          -73.77890015,
          -85.736
         ],
         "mode": "lines",
         "name": "SDF",
         "opacity": 0.8,
         "type": "scattergeo"
        },
        {
         "lat": [
          40.63980103,
          47.449001
         ],
         "line": {
          "color": "red",
          "width": 0.5
         },
         "locationmode": "ISO-3",
         "lon": [
          -73.77890015,
          -122.308998
         ],
         "mode": "lines",
         "name": "SEA",
         "opacity": 0.8,
         "type": "scattergeo"
        },
        {
         "lat": [
          40.63980103,
          37.61899948120117
         ],
         "line": {
          "color": "red",
          "width": 0.5
         },
         "locationmode": "ISO-3",
         "lon": [
          -73.77890015,
          -122.375
         ],
         "mode": "lines",
         "name": "SFO",
         "opacity": 0.8,
         "type": "scattergeo"
        },
        {
         "lat": [
          40.63980103,
          40.78839874267578
         ],
         "line": {
          "color": "red",
          "width": 0.5
         },
         "locationmode": "ISO-3",
         "lon": [
          -73.77890015,
          -111.97799682617188
         ],
         "mode": "lines",
         "name": "SLC",
         "opacity": 0.8,
         "type": "scattergeo"
        },
        {
         "lat": [
          40.63980103,
          38.748697
         ],
         "line": {
          "color": "red",
          "width": 0.5
         },
         "locationmode": "ISO-3",
         "lon": [
          -73.77890015,
          -90.370003
         ],
         "mode": "lines",
         "name": "STL",
         "opacity": 0.8,
         "type": "scattergeo"
        },
        {
         "lat": [
          40.63980103,
          43.11119842529297
         ],
         "line": {
          "color": "red",
          "width": 0.5
         },
         "locationmode": "ISO-3",
         "lon": [
          -73.77890015,
          -76.1063003540039
         ],
         "mode": "lines",
         "name": "SYR",
         "opacity": 0.8,
         "type": "scattergeo"
        },
        {
         "lat": [
          40.63980103,
          27.975500106811523
         ],
         "line": {
          "color": "red",
          "width": 0.5
         },
         "locationmode": "ISO-3",
         "lon": [
          -73.77890015,
          -82.533203125
         ],
         "mode": "lines",
         "name": "TPA",
         "opacity": 0.8,
         "type": "scattergeo"
        },
        {
         "lat": [
          40.63980103,
          36.08010101
         ],
         "line": {
          "color": "red",
          "width": 0.5
         },
         "locationmode": "ISO-3",
         "lon": [
          -73.77890015,
          -115.1520004
         ],
         "mode": "lines",
         "name": "LAS",
         "opacity": 0.8,
         "type": "scattergeo"
        },
        {
         "lat": [
          40.63980103,
          29.99340057373047
         ],
         "line": {
          "color": "red",
          "width": 0.5
         },
         "locationmode": "ISO-3",
         "lon": [
          -73.77890015,
          -90.25800323486328
         ],
         "mode": "lines",
         "name": "MSY",
         "opacity": 0.8,
         "type": "scattergeo"
        },
        {
         "lat": [
          40.63980103,
          21.32062
         ],
         "line": {
          "color": "red",
          "width": 0.5
         },
         "locationmode": "ISO-3",
         "lon": [
          -73.77890015,
          -157.924228
         ],
         "mode": "lines",
         "name": "HNL",
         "opacity": 0.8,
         "type": "scattergeo"
        },
        {
         "lat": [
          40.63980103,
          36.08010101
         ],
         "line": {
          "color": "red",
          "width": 0.5
         },
         "locationmode": "ISO-3",
         "lon": [
          -73.77890015,
          -115.1520004
         ],
         "mode": "lines",
         "name": "LAS",
         "opacity": 0.8,
         "type": "scattergeo"
        },
        {
         "lat": [
          40.63980103,
          29.99340057373047
         ],
         "line": {
          "color": "red",
          "width": 0.5
         },
         "locationmode": "ISO-3",
         "lon": [
          -73.77890015,
          -90.25800323486328
         ],
         "mode": "lines",
         "name": "MSY",
         "opacity": 0.8,
         "type": "scattergeo"
        },
        {
         "lat": [
          40.63980103,
          33.6367
         ],
         "line": {
          "color": "red",
          "width": 0.5
         },
         "locationmode": "ISO-3",
         "lon": [
          -73.77890015,
          -84.428101
         ],
         "mode": "lines",
         "name": "ATL",
         "opacity": 0.8,
         "type": "scattergeo"
        },
        {
         "lat": [
          40.63980103,
          29.99340057373047
         ],
         "line": {
          "color": "red",
          "width": 0.5
         },
         "locationmode": "ISO-3",
         "lon": [
          -73.77890015,
          -90.25800323486328
         ],
         "mode": "lines",
         "name": "MSY",
         "opacity": 0.8,
         "type": "scattergeo"
        },
        {
         "lat": [
          40.63980103,
          29.99340057373047
         ],
         "line": {
          "color": "red",
          "width": 0.5
         },
         "locationmode": "ISO-3",
         "lon": [
          -73.77890015,
          -90.25800323486328
         ],
         "mode": "lines",
         "name": "MSY",
         "opacity": 0.8,
         "type": "scattergeo"
        },
        {
         "lat": [
          40.63980103,
          33.94250107
         ],
         "line": {
          "color": "red",
          "width": 0.5
         },
         "locationmode": "ISO-3",
         "lon": [
          -73.77890015,
          -118.4079971
         ],
         "mode": "lines",
         "name": "LAX",
         "opacity": 0.8,
         "type": "scattergeo"
        },
        {
         "lat": [
          40.63980103,
          36.08010101
         ],
         "line": {
          "color": "red",
          "width": 0.5
         },
         "locationmode": "ISO-3",
         "lon": [
          -73.77890015,
          -115.1520004
         ],
         "mode": "lines",
         "name": "LAS",
         "opacity": 0.8,
         "type": "scattergeo"
        },
        {
         "lat": [
          40.63980103,
          29.99340057373047
         ],
         "line": {
          "color": "red",
          "width": 0.5
         },
         "locationmode": "ISO-3",
         "lon": [
          -73.77890015,
          -90.25800323486328
         ],
         "mode": "lines",
         "name": "MSY",
         "opacity": 0.8,
         "type": "scattergeo"
        },
        {
         "lat": [
          40.63980103,
          41.9786
         ],
         "line": {
          "color": "red",
          "width": 0.5
         },
         "locationmode": "ISO-3",
         "lon": [
          -73.77890015,
          -87.9048
         ],
         "mode": "lines",
         "name": "ORD",
         "opacity": 0.8,
         "type": "scattergeo"
        },
        {
         "lat": [
          40.63980103,
          32.7336006165
         ],
         "line": {
          "color": "red",
          "width": 0.5
         },
         "locationmode": "ISO-3",
         "lon": [
          -73.77890015,
          -117.190002441
         ],
         "mode": "lines",
         "name": "SAN",
         "opacity": 0.8,
         "type": "scattergeo"
        },
        {
         "lat": [
          40.63980103,
          33.6367
         ],
         "line": {
          "color": "red",
          "width": 0.5
         },
         "locationmode": "ISO-3",
         "lon": [
          -73.77890015,
          -84.428101
         ],
         "mode": "lines",
         "name": "ATL",
         "opacity": 0.8,
         "type": "scattergeo"
        },
        {
         "lat": [
          40.63980103,
          44.882
         ],
         "line": {
          "color": "red",
          "width": 0.5
         },
         "locationmode": "ISO-3",
         "lon": [
          -73.77890015,
          -93.221802
         ],
         "mode": "lines",
         "name": "MSP",
         "opacity": 0.8,
         "type": "scattergeo"
        },
        {
         "lat": [
          40.63980103,
          38.94449997
         ],
         "line": {
          "color": "red",
          "width": 0.5
         },
         "locationmode": "ISO-3",
         "lon": [
          -73.77890015,
          -77.45580292
         ],
         "mode": "lines",
         "name": "IAD",
         "opacity": 0.8,
         "type": "scattergeo"
        },
        {
         "lat": [
          40.63980103,
          33.94250107
         ],
         "line": {
          "color": "red",
          "width": 0.5
         },
         "locationmode": "ISO-3",
         "lon": [
          -73.77890015,
          -118.4079971
         ],
         "mode": "lines",
         "name": "LAX",
         "opacity": 0.8,
         "type": "scattergeo"
        },
        {
         "lat": [
          40.63980103,
          37.61899948120117
         ],
         "line": {
          "color": "red",
          "width": 0.5
         },
         "locationmode": "ISO-3",
         "lon": [
          -73.77890015,
          -122.375
         ],
         "mode": "lines",
         "name": "SFO",
         "opacity": 0.8,
         "type": "scattergeo"
        },
        {
         "lat": [
          40.63980103,
          30.194499969482425
         ],
         "line": {
          "color": "red",
          "width": 0.5
         },
         "locationmode": "ISO-3",
         "lon": [
          -73.77890015,
          -97.6698989868164
         ],
         "mode": "lines",
         "name": "AUS",
         "opacity": 0.8,
         "type": "scattergeo"
        },
        {
         "lat": [
          40.63980103,
          36.1245002746582
         ],
         "line": {
          "color": "red",
          "width": 0.5
         },
         "locationmode": "ISO-3",
         "lon": [
          -73.77890015,
          -86.6781997680664
         ],
         "mode": "lines",
         "name": "BNA",
         "opacity": 0.8,
         "type": "scattergeo"
        },
        {
         "lat": [
          40.63980103,
          42.36429977
         ],
         "line": {
          "color": "red",
          "width": 0.5
         },
         "locationmode": "ISO-3",
         "lon": [
          -73.77890015,
          -71.00520325
         ],
         "mode": "lines",
         "name": "BOS",
         "opacity": 0.8,
         "type": "scattergeo"
        },
        {
         "lat": [
          40.63980103,
          39.1754
         ],
         "line": {
          "color": "red",
          "width": 0.5
         },
         "locationmode": "ISO-3",
         "lon": [
          -73.77890015,
          -76.668297
         ],
         "mode": "lines",
         "name": "BWI",
         "opacity": 0.8,
         "type": "scattergeo"
        },
        {
         "lat": [
          40.63980103,
          41.4117012024
         ],
         "line": {
          "color": "red",
          "width": 0.5
         },
         "locationmode": "ISO-3",
         "lon": [
          -73.77890015,
          -81.8498001099
         ],
         "mode": "lines",
         "name": "CLE",
         "opacity": 0.8,
         "type": "scattergeo"
        },
        {
         "lat": [
          40.63980103,
          35.2140007019043
         ],
         "line": {
          "color": "red",
          "width": 0.5
         },
         "locationmode": "ISO-3",
         "lon": [
          -73.77890015,
          -80.94309997558594
         ],
         "mode": "lines",
         "name": "CLT",
         "opacity": 0.8,
         "type": "scattergeo"
        },
        {
         "lat": [
          40.63980103,
          39.998001
         ],
         "line": {
          "color": "red",
          "width": 0.5
         },
         "locationmode": "ISO-3",
         "lon": [
          -73.77890015,
          -82.891899
         ],
         "mode": "lines",
         "name": "CMH",
         "opacity": 0.8,
         "type": "scattergeo"
        },
        {
         "lat": [
          40.63980103,
          39.0488014221
         ],
         "line": {
          "color": "red",
          "width": 0.5
         },
         "locationmode": "ISO-3",
         "lon": [
          -73.77890015,
          -84.6678009033
         ],
         "mode": "lines",
         "name": "CVG",
         "opacity": 0.8,
         "type": "scattergeo"
        },
        {
         "lat": [
          40.63980103,
          38.8521
         ],
         "line": {
          "color": "red",
          "width": 0.5
         },
         "locationmode": "ISO-3",
         "lon": [
          -73.77890015,
          -77.037697
         ],
         "mode": "lines",
         "name": "DCA",
         "opacity": 0.8,
         "type": "scattergeo"
        },
        {
         "lat": [
          40.63980103,
          32.896801
         ],
         "line": {
          "color": "red",
          "width": 0.5
         },
         "locationmode": "ISO-3",
         "lon": [
          -73.77890015,
          -97.038002
         ],
         "mode": "lines",
         "name": "DFW",
         "opacity": 0.8,
         "type": "scattergeo"
        },
        {
         "lat": [
          40.63980103,
          39.7173
         ],
         "line": {
          "color": "red",
          "width": 0.5
         },
         "locationmode": "ISO-3",
         "lon": [
          -73.77890015,
          -86.294403
         ],
         "mode": "lines",
         "name": "IND",
         "opacity": 0.8,
         "type": "scattergeo"
        },
        {
         "lat": [
          40.63980103,
          36.08010101
         ],
         "line": {
          "color": "red",
          "width": 0.5
         },
         "locationmode": "ISO-3",
         "lon": [
          -73.77890015,
          -115.1520004
         ],
         "mode": "lines",
         "name": "LAS",
         "opacity": 0.8,
         "type": "scattergeo"
        },
        {
         "lat": [
          40.63980103,
          33.94250107
         ],
         "line": {
          "color": "red",
          "width": 0.5
         },
         "locationmode": "ISO-3",
         "lon": [
          -73.77890015,
          -118.4079971
         ],
         "mode": "lines",
         "name": "LAX",
         "opacity": 0.8,
         "type": "scattergeo"
        },
        {
         "lat": [
          40.63980103,
          28.429399490356445
         ],
         "line": {
          "color": "red",
          "width": 0.5
         },
         "locationmode": "ISO-3",
         "lon": [
          -73.77890015,
          -81.30899810791016
         ],
         "mode": "lines",
         "name": "MCO",
         "opacity": 0.8,
         "type": "scattergeo"
        },
        {
         "lat": [
          40.63980103,
          25.79319953918457
         ],
         "line": {
          "color": "red",
          "width": 0.5
         },
         "locationmode": "ISO-3",
         "lon": [
          -73.77890015,
          -80.29060363769531
         ],
         "mode": "lines",
         "name": "MIA",
         "opacity": 0.8,
         "type": "scattergeo"
        },
        {
         "lat": [
          40.63980103,
          41.9786
         ],
         "line": {
          "color": "red",
          "width": 0.5
         },
         "locationmode": "ISO-3",
         "lon": [
          -73.77890015,
          -87.9048
         ],
         "mode": "lines",
         "name": "ORD",
         "opacity": 0.8,
         "type": "scattergeo"
        },
        {
         "lat": [
          40.63980103,
          36.89459991455078
         ],
         "line": {
          "color": "red",
          "width": 0.5
         },
         "locationmode": "ISO-3",
         "lon": [
          -73.77890015,
          -76.20120239257812
         ],
         "mode": "lines",
         "name": "ORF",
         "opacity": 0.8,
         "type": "scattergeo"
        },
        {
         "lat": [
          40.63980103,
          33.43429946899414
         ],
         "line": {
          "color": "red",
          "width": 0.5
         },
         "locationmode": "ISO-3",
         "lon": [
          -73.77890015,
          -112.01200103759766
         ],
         "mode": "lines",
         "name": "PHX",
         "opacity": 0.8,
         "type": "scattergeo"
        },
        {
         "lat": [
          40.63980103,
          40.49150085
         ],
         "line": {
          "color": "red",
          "width": 0.5
         },
         "locationmode": "ISO-3",
         "lon": [
          -73.77890015,
          -80.23290253
         ],
         "mode": "lines",
         "name": "PIT",
         "opacity": 0.8,
         "type": "scattergeo"
        },
        {
         "lat": [
          40.63980103,
          35.87760162353516
         ],
         "line": {
          "color": "red",
          "width": 0.5
         },
         "locationmode": "ISO-3",
         "lon": [
          -73.77890015,
          -78.7874984741211
         ],
         "mode": "lines",
         "name": "RDU",
         "opacity": 0.8,
         "type": "scattergeo"
        },
        {
         "lat": [
          40.63980103,
          32.7336006165
         ],
         "line": {
          "color": "red",
          "width": 0.5
         },
         "locationmode": "ISO-3",
         "lon": [
          -73.77890015,
          -117.190002441
         ],
         "mode": "lines",
         "name": "SAN",
         "opacity": 0.8,
         "type": "scattergeo"
        },
        {
         "lat": [
          40.63980103,
          47.449001
         ],
         "line": {
          "color": "red",
          "width": 0.5
         },
         "locationmode": "ISO-3",
         "lon": [
          -73.77890015,
          -122.308998
         ],
         "mode": "lines",
         "name": "SEA",
         "opacity": 0.8,
         "type": "scattergeo"
        },
        {
         "lat": [
          40.63980103,
          37.61899948120117
         ],
         "line": {
          "color": "red",
          "width": 0.5
         },
         "locationmode": "ISO-3",
         "lon": [
          -73.77890015,
          -122.375
         ],
         "mode": "lines",
         "name": "SFO",
         "opacity": 0.8,
         "type": "scattergeo"
        },
        {
         "lat": [
          40.63980103,
          27.975500106811523
         ],
         "line": {
          "color": "red",
          "width": 0.5
         },
         "locationmode": "ISO-3",
         "lon": [
          -73.77890015,
          -82.533203125
         ],
         "mode": "lines",
         "name": "TPA",
         "opacity": 0.8,
         "type": "scattergeo"
        },
        {
         "lat": [
          40.63980103,
          33.6367
         ],
         "line": {
          "color": "red",
          "width": 0.5
         },
         "locationmode": "ISO-3",
         "lon": [
          -73.77890015,
          -84.428101
         ],
         "mode": "lines",
         "name": "ATL",
         "opacity": 0.8,
         "type": "scattergeo"
        },
        {
         "lat": [
          40.63980103,
          29.99340057373047
         ],
         "line": {
          "color": "red",
          "width": 0.5
         },
         "locationmode": "ISO-3",
         "lon": [
          -73.77890015,
          -90.25800323486328
         ],
         "mode": "lines",
         "name": "MSY",
         "opacity": 0.8,
         "type": "scattergeo"
        },
        {
         "lat": [
          40.63980103,
          36.08010101
         ],
         "line": {
          "color": "red",
          "width": 0.5
         },
         "locationmode": "ISO-3",
         "lon": [
          -73.77890015,
          -115.1520004
         ],
         "mode": "lines",
         "name": "LAS",
         "opacity": 0.8,
         "type": "scattergeo"
        },
        {
         "lat": [
          40.63980103,
          33.94250107
         ],
         "line": {
          "color": "red",
          "width": 0.5
         },
         "locationmode": "ISO-3",
         "lon": [
          -73.77890015,
          -118.4079971
         ],
         "mode": "lines",
         "name": "LAX",
         "opacity": 0.8,
         "type": "scattergeo"
        },
        {
         "lat": [
          40.63980103,
          37.61899948120117
         ],
         "line": {
          "color": "red",
          "width": 0.5
         },
         "locationmode": "ISO-3",
         "lon": [
          -73.77890015,
          -122.375
         ],
         "mode": "lines",
         "name": "SFO",
         "opacity": 0.8,
         "type": "scattergeo"
        },
        {
         "lat": [
          40.63980103
         ],
         "locationmode": "ISO-3",
         "lon": [
          -73.77890015
         ],
         "marker": {
          "color": "blue",
          "size": 10
         },
         "mode": "markers",
         "name": "JFK Airport",
         "text": "JFK Airport",
         "type": "scattergeo"
        }
       ],
       "layout": {
        "autosize": true,
        "geo": {
         "center": {
          "lat": 34.004352703487214,
          "lon": -103.5119010948162
         },
         "coastlinecolor": "rgb(255, 255, 255)",
         "countrycolor": "rgb(255, 255, 255)",
         "landcolor": "rgb(229, 229, 229)",
         "projection": {
          "rotation": {
           "lon": -103.5119010948162
          },
          "scale": 3.0983710482913382,
          "type": "natural earth"
         },
         "scope": "world",
         "showland": true
        },
        "showlegend": true,
        "template": {
         "data": {
          "bar": [
           {
            "error_x": {
             "color": "#2a3f5f"
            },
            "error_y": {
             "color": "#2a3f5f"
            },
            "marker": {
             "line": {
              "color": "#E5ECF6",
              "width": 0.5
             },
             "pattern": {
              "fillmode": "overlay",
              "size": 10,
              "solidity": 0.2
             }
            },
            "type": "bar"
           }
          ],
          "barpolar": [
           {
            "marker": {
             "line": {
              "color": "#E5ECF6",
              "width": 0.5
             },
             "pattern": {
              "fillmode": "overlay",
              "size": 10,
              "solidity": 0.2
             }
            },
            "type": "barpolar"
           }
          ],
          "carpet": [
           {
            "aaxis": {
             "endlinecolor": "#2a3f5f",
             "gridcolor": "white",
             "linecolor": "white",
             "minorgridcolor": "white",
             "startlinecolor": "#2a3f5f"
            },
            "baxis": {
             "endlinecolor": "#2a3f5f",
             "gridcolor": "white",
             "linecolor": "white",
             "minorgridcolor": "white",
             "startlinecolor": "#2a3f5f"
            },
            "type": "carpet"
           }
          ],
          "choropleth": [
           {
            "colorbar": {
             "outlinewidth": 0,
             "ticks": ""
            },
            "type": "choropleth"
           }
          ],
          "contour": [
           {
            "colorbar": {
             "outlinewidth": 0,
             "ticks": ""
            },
            "colorscale": [
             [
              0,
              "#0d0887"
             ],
             [
              0.1111111111111111,
              "#46039f"
             ],
             [
              0.2222222222222222,
              "#7201a8"
             ],
             [
              0.3333333333333333,
              "#9c179e"
             ],
             [
              0.4444444444444444,
              "#bd3786"
             ],
             [
              0.5555555555555556,
              "#d8576b"
             ],
             [
              0.6666666666666666,
              "#ed7953"
             ],
             [
              0.7777777777777778,
              "#fb9f3a"
             ],
             [
              0.8888888888888888,
              "#fdca26"
             ],
             [
              1,
              "#f0f921"
             ]
            ],
            "type": "contour"
           }
          ],
          "contourcarpet": [
           {
            "colorbar": {
             "outlinewidth": 0,
             "ticks": ""
            },
            "type": "contourcarpet"
           }
          ],
          "heatmap": [
           {
            "colorbar": {
             "outlinewidth": 0,
             "ticks": ""
            },
            "colorscale": [
             [
              0,
              "#0d0887"
             ],
             [
              0.1111111111111111,
              "#46039f"
             ],
             [
              0.2222222222222222,
              "#7201a8"
             ],
             [
              0.3333333333333333,
              "#9c179e"
             ],
             [
              0.4444444444444444,
              "#bd3786"
             ],
             [
              0.5555555555555556,
              "#d8576b"
             ],
             [
              0.6666666666666666,
              "#ed7953"
             ],
             [
              0.7777777777777778,
              "#fb9f3a"
             ],
             [
              0.8888888888888888,
              "#fdca26"
             ],
             [
              1,
              "#f0f921"
             ]
            ],
            "type": "heatmap"
           }
          ],
          "heatmapgl": [
           {
            "colorbar": {
             "outlinewidth": 0,
             "ticks": ""
            },
            "colorscale": [
             [
              0,
              "#0d0887"
             ],
             [
              0.1111111111111111,
              "#46039f"
             ],
             [
              0.2222222222222222,
              "#7201a8"
             ],
             [
              0.3333333333333333,
              "#9c179e"
             ],
             [
              0.4444444444444444,
              "#bd3786"
             ],
             [
              0.5555555555555556,
              "#d8576b"
             ],
             [
              0.6666666666666666,
              "#ed7953"
             ],
             [
              0.7777777777777778,
              "#fb9f3a"
             ],
             [
              0.8888888888888888,
              "#fdca26"
             ],
             [
              1,
              "#f0f921"
             ]
            ],
            "type": "heatmapgl"
           }
          ],
          "histogram": [
           {
            "marker": {
             "pattern": {
              "fillmode": "overlay",
              "size": 10,
              "solidity": 0.2
             }
            },
            "type": "histogram"
           }
          ],
          "histogram2d": [
           {
            "colorbar": {
             "outlinewidth": 0,
             "ticks": ""
            },
            "colorscale": [
             [
              0,
              "#0d0887"
             ],
             [
              0.1111111111111111,
              "#46039f"
             ],
             [
              0.2222222222222222,
              "#7201a8"
             ],
             [
              0.3333333333333333,
              "#9c179e"
             ],
             [
              0.4444444444444444,
              "#bd3786"
             ],
             [
              0.5555555555555556,
              "#d8576b"
             ],
             [
              0.6666666666666666,
              "#ed7953"
             ],
             [
              0.7777777777777778,
              "#fb9f3a"
             ],
             [
              0.8888888888888888,
              "#fdca26"
             ],
             [
              1,
              "#f0f921"
             ]
            ],
            "type": "histogram2d"
           }
          ],
          "histogram2dcontour": [
           {
            "colorbar": {
             "outlinewidth": 0,
             "ticks": ""
            },
            "colorscale": [
             [
              0,
              "#0d0887"
             ],
             [
              0.1111111111111111,
              "#46039f"
             ],
             [
              0.2222222222222222,
              "#7201a8"
             ],
             [
              0.3333333333333333,
              "#9c179e"
             ],
             [
              0.4444444444444444,
              "#bd3786"
             ],
             [
              0.5555555555555556,
              "#d8576b"
             ],
             [
              0.6666666666666666,
              "#ed7953"
             ],
             [
              0.7777777777777778,
              "#fb9f3a"
             ],
             [
              0.8888888888888888,
              "#fdca26"
             ],
             [
              1,
              "#f0f921"
             ]
            ],
            "type": "histogram2dcontour"
           }
          ],
          "mesh3d": [
           {
            "colorbar": {
             "outlinewidth": 0,
             "ticks": ""
            },
            "type": "mesh3d"
           }
          ],
          "parcoords": [
           {
            "line": {
             "colorbar": {
              "outlinewidth": 0,
              "ticks": ""
             }
            },
            "type": "parcoords"
           }
          ],
          "pie": [
           {
            "automargin": true,
            "type": "pie"
           }
          ],
          "scatter": [
           {
            "fillpattern": {
             "fillmode": "overlay",
             "size": 10,
             "solidity": 0.2
            },
            "type": "scatter"
           }
          ],
          "scatter3d": [
           {
            "line": {
             "colorbar": {
              "outlinewidth": 0,
              "ticks": ""
             }
            },
            "marker": {
             "colorbar": {
              "outlinewidth": 0,
              "ticks": ""
             }
            },
            "type": "scatter3d"
           }
          ],
          "scattercarpet": [
           {
            "marker": {
             "colorbar": {
              "outlinewidth": 0,
              "ticks": ""
             }
            },
            "type": "scattercarpet"
           }
          ],
          "scattergeo": [
           {
            "marker": {
             "colorbar": {
              "outlinewidth": 0,
              "ticks": ""
             }
            },
            "type": "scattergeo"
           }
          ],
          "scattergl": [
           {
            "marker": {
             "colorbar": {
              "outlinewidth": 0,
              "ticks": ""
             }
            },
            "type": "scattergl"
           }
          ],
          "scattermapbox": [
           {
            "marker": {
             "colorbar": {
              "outlinewidth": 0,
              "ticks": ""
             }
            },
            "type": "scattermapbox"
           }
          ],
          "scatterpolar": [
           {
            "marker": {
             "colorbar": {
              "outlinewidth": 0,
              "ticks": ""
             }
            },
            "type": "scatterpolar"
           }
          ],
          "scatterpolargl": [
           {
            "marker": {
             "colorbar": {
              "outlinewidth": 0,
              "ticks": ""
             }
            },
            "type": "scatterpolargl"
           }
          ],
          "scatterternary": [
           {
            "marker": {
             "colorbar": {
              "outlinewidth": 0,
              "ticks": ""
             }
            },
            "type": "scatterternary"
           }
          ],
          "surface": [
           {
            "colorbar": {
             "outlinewidth": 0,
             "ticks": ""
            },
            "colorscale": [
             [
              0,
              "#0d0887"
             ],
             [
              0.1111111111111111,
              "#46039f"
             ],
             [
              0.2222222222222222,
              "#7201a8"
             ],
             [
              0.3333333333333333,
              "#9c179e"
             ],
             [
              0.4444444444444444,
              "#bd3786"
             ],
             [
              0.5555555555555556,
              "#d8576b"
             ],
             [
              0.6666666666666666,
              "#ed7953"
             ],
             [
              0.7777777777777778,
              "#fb9f3a"
             ],
             [
              0.8888888888888888,
              "#fdca26"
             ],
             [
              1,
              "#f0f921"
             ]
            ],
            "type": "surface"
           }
          ],
          "table": [
           {
            "cells": {
             "fill": {
              "color": "#EBF0F8"
             },
             "line": {
              "color": "white"
             }
            },
            "header": {
             "fill": {
              "color": "#C8D4E3"
             },
             "line": {
              "color": "white"
             }
            },
            "type": "table"
           }
          ]
         },
         "layout": {
          "annotationdefaults": {
           "arrowcolor": "#2a3f5f",
           "arrowhead": 0,
           "arrowwidth": 1
          },
          "autotypenumbers": "strict",
          "coloraxis": {
           "colorbar": {
            "outlinewidth": 0,
            "ticks": ""
           }
          },
          "colorscale": {
           "diverging": [
            [
             0,
             "#8e0152"
            ],
            [
             0.1,
             "#c51b7d"
            ],
            [
             0.2,
             "#de77ae"
            ],
            [
             0.3,
             "#f1b6da"
            ],
            [
             0.4,
             "#fde0ef"
            ],
            [
             0.5,
             "#f7f7f7"
            ],
            [
             0.6,
             "#e6f5d0"
            ],
            [
             0.7,
             "#b8e186"
            ],
            [
             0.8,
             "#7fbc41"
            ],
            [
             0.9,
             "#4d9221"
            ],
            [
             1,
             "#276419"
            ]
           ],
           "sequential": [
            [
             0,
             "#0d0887"
            ],
            [
             0.1111111111111111,
             "#46039f"
            ],
            [
             0.2222222222222222,
             "#7201a8"
            ],
            [
             0.3333333333333333,
             "#9c179e"
            ],
            [
             0.4444444444444444,
             "#bd3786"
            ],
            [
             0.5555555555555556,
             "#d8576b"
            ],
            [
             0.6666666666666666,
             "#ed7953"
            ],
            [
             0.7777777777777778,
             "#fb9f3a"
            ],
            [
             0.8888888888888888,
             "#fdca26"
            ],
            [
             1,
             "#f0f921"
            ]
           ],
           "sequentialminus": [
            [
             0,
             "#0d0887"
            ],
            [
             0.1111111111111111,
             "#46039f"
            ],
            [
             0.2222222222222222,
             "#7201a8"
            ],
            [
             0.3333333333333333,
             "#9c179e"
            ],
            [
             0.4444444444444444,
             "#bd3786"
            ],
            [
             0.5555555555555556,
             "#d8576b"
            ],
            [
             0.6666666666666666,
             "#ed7953"
            ],
            [
             0.7777777777777778,
             "#fb9f3a"
            ],
            [
             0.8888888888888888,
             "#fdca26"
            ],
            [
             1,
             "#f0f921"
            ]
           ]
          },
          "colorway": [
           "#636efa",
           "#EF553B",
           "#00cc96",
           "#ab63fa",
           "#FFA15A",
           "#19d3f3",
           "#FF6692",
           "#B6E880",
           "#FF97FF",
           "#FECB52"
          ],
          "font": {
           "color": "#2a3f5f"
          },
          "geo": {
           "bgcolor": "white",
           "lakecolor": "white",
           "landcolor": "#E5ECF6",
           "showlakes": true,
           "showland": true,
           "subunitcolor": "white"
          },
          "hoverlabel": {
           "align": "left"
          },
          "hovermode": "closest",
          "mapbox": {
           "style": "light"
          },
          "paper_bgcolor": "white",
          "plot_bgcolor": "#E5ECF6",
          "polar": {
           "angularaxis": {
            "gridcolor": "white",
            "linecolor": "white",
            "ticks": ""
           },
           "bgcolor": "#E5ECF6",
           "radialaxis": {
            "gridcolor": "white",
            "linecolor": "white",
            "ticks": ""
           }
          },
          "scene": {
           "xaxis": {
            "backgroundcolor": "#E5ECF6",
            "gridcolor": "white",
            "gridwidth": 2,
            "linecolor": "white",
            "showbackground": true,
            "ticks": "",
            "zerolinecolor": "white"
           },
           "yaxis": {
            "backgroundcolor": "#E5ECF6",
            "gridcolor": "white",
            "gridwidth": 2,
            "linecolor": "white",
            "showbackground": true,
            "ticks": "",
            "zerolinecolor": "white"
           },
           "zaxis": {
            "backgroundcolor": "#E5ECF6",
            "gridcolor": "white",
            "gridwidth": 2,
            "linecolor": "white",
            "showbackground": true,
            "ticks": "",
            "zerolinecolor": "white"
           }
          },
          "shapedefaults": {
           "line": {
            "color": "#2a3f5f"
           }
          },
          "ternary": {
           "aaxis": {
            "gridcolor": "white",
            "linecolor": "white",
            "ticks": ""
           },
           "baxis": {
            "gridcolor": "white",
            "linecolor": "white",
            "ticks": ""
           },
           "bgcolor": "#E5ECF6",
           "caxis": {
            "gridcolor": "white",
            "linecolor": "white",
            "ticks": ""
           }
          },
          "title": {
           "x": 0.05
          },
          "xaxis": {
           "automargin": true,
           "gridcolor": "white",
           "linecolor": "white",
           "ticks": "",
           "title": {
            "standoff": 15
           },
           "zerolinecolor": "white",
           "zerolinewidth": 2
          },
          "yaxis": {
           "automargin": true,
           "gridcolor": "white",
           "linecolor": "white",
           "ticks": "",
           "title": {
            "standoff": 15
           },
           "zerolinecolor": "white",
           "zerolinewidth": 2
          }
         }
        },
        "title": {
         "text": "Internal flights from JFK Airport"
        }
       }
      },
      "image/png": "[encoded data removed]",
      "text/html": [
       "<div>                            <div id=\"ef64346c-bb68-4887-9c31-2c85ff9c04dd\" class=\"plotly-graph-div\" style=\"height:525px; width:100%;\"></div>            <script type=\"text/javascript\">                require([\"plotly\"], function(Plotly) {                    window.PLOTLYENV=window.PLOTLYENV || {};                                    if (document.getElementById(\"ef64346c-bb68-4887-9c31-2c85ff9c04dd\")) {                    Plotly.newPlot(                        \"ef64346c-bb68-4887-9c31-2c85ff9c04dd\",                        [{\"lat\":[40.63980103,29.99340057373047],\"line\":{\"color\":\"red\",\"width\":0.5},\"locationmode\":\"ISO-3\",\"lon\":[-73.77890015,-90.25800323486328],\"mode\":\"lines\",\"name\":\"MSY\",\"opacity\":0.8,\"type\":\"scattergeo\"},{\"lat\":[40.63980103,30.194499969482425],\"line\":{\"color\":\"red\",\"width\":0.5},\"locationmode\":\"ISO-3\",\"lon\":[-73.77890015,-97.6698989868164],\"mode\":\"lines\",\"name\":\"AUS\",\"opacity\":0.8,\"type\":\"scattergeo\"},{\"lat\":[40.63980103,36.1245002746582],\"line\":{\"color\":\"red\",\"width\":0.5},\"locationmode\":\"ISO-3\",\"lon\":[-73.77890015,-86.6781997680664],\"mode\":\"lines\",\"name\":\"BNA\",\"opacity\":0.8,\"type\":\"scattergeo\"},{\"lat\":[40.63980103,42.36429977],\"line\":{\"color\":\"red\",\"width\":0.5},\"locationmode\":\"ISO-3\",\"lon\":[-73.77890015,-71.00520325],\"mode\":\"lines\",\"name\":\"BOS\",\"opacity\":0.8,\"type\":\"scattergeo\"},{\"lat\":[40.63980103,39.1754],\"line\":{\"color\":\"red\",\"width\":0.5},\"locationmode\":\"ISO-3\",\"lon\":[-73.77890015,-76.668297],\"mode\":\"lines\",\"name\":\"BWI\",\"opacity\":0.8,\"type\":\"scattergeo\"},{\"lat\":[40.63980103,41.4117012024],\"line\":{\"color\":\"red\",\"width\":0.5},\"locationmode\":\"ISO-3\",\"lon\":[-73.77890015,-81.8498001099],\"mode\":\"lines\",\"name\":\"CLE\",\"opacity\":0.8,\"type\":\"scattergeo\"},{\"lat\":[40.63980103,35.2140007019043],\"line\":{\"color\":\"red\",\"width\":0.5},\"locationmode\":\"ISO-3\",\"lon\":[-73.77890015,-80.94309997558594],\"mode\":\"lines\",\"name\":\"CLT\",\"opacity\":0.8,\"type\":\"scattergeo\"},{\"lat\":[40.63980103,39.998001],\"line\":{\"color\":\"red\",\"width\":0.5},\"locationmode\":\"ISO-3\",\"lon\":[-73.77890015,-82.891899],\"mode\":\"lines\",\"name\":\"CMH\",\"opacity\":0.8,\"type\":\"scattergeo\"},{\"lat\":[40.63980103,39.0488014221],\"line\":{\"color\":\"red\",\"width\":0.5},\"locationmode\":\"ISO-3\",\"lon\":[-73.77890015,-84.6678009033],\"mode\":\"lines\",\"name\":\"CVG\",\"opacity\":0.8,\"type\":\"scattergeo\"},{\"lat\":[40.63980103,38.8521],\"line\":{\"color\":\"red\",\"width\":0.5},\"locationmode\":\"ISO-3\",\"lon\":[-73.77890015,-77.037697],\"mode\":\"lines\",\"name\":\"DCA\",\"opacity\":0.8,\"type\":\"scattergeo\"},{\"lat\":[40.63980103,32.896801],\"line\":{\"color\":\"red\",\"width\":0.5},\"locationmode\":\"ISO-3\",\"lon\":[-73.77890015,-97.038002],\"mode\":\"lines\",\"name\":\"DFW\",\"opacity\":0.8,\"type\":\"scattergeo\"},{\"lat\":[40.63980103,39.7173],\"line\":{\"color\":\"red\",\"width\":0.5},\"locationmode\":\"ISO-3\",\"lon\":[-73.77890015,-86.294403],\"mode\":\"lines\",\"name\":\"IND\",\"opacity\":0.8,\"type\":\"scattergeo\"},{\"lat\":[40.63980103,36.08010101],\"line\":{\"color\":\"red\",\"width\":0.5},\"locationmode\":\"ISO-3\",\"lon\":[-73.77890015,-115.1520004],\"mode\":\"lines\",\"name\":\"LAS\",\"opacity\":0.8,\"type\":\"scattergeo\"},{\"lat\":[40.63980103,33.94250107],\"line\":{\"color\":\"red\",\"width\":0.5},\"locationmode\":\"ISO-3\",\"lon\":[-73.77890015,-118.4079971],\"mode\":\"lines\",\"name\":\"LAX\",\"opacity\":0.8,\"type\":\"scattergeo\"},{\"lat\":[40.63980103,28.429399490356445],\"line\":{\"color\":\"red\",\"width\":0.5},\"locationmode\":\"ISO-3\",\"lon\":[-73.77890015,-81.30899810791016],\"mode\":\"lines\",\"name\":\"MCO\",\"opacity\":0.8,\"type\":\"scattergeo\"},{\"lat\":[40.63980103,25.79319953918457],\"line\":{\"color\":\"red\",\"width\":0.5},\"locationmode\":\"ISO-3\",\"lon\":[-73.77890015,-80.29060363769531],\"mode\":\"lines\",\"name\":\"MIA\",\"opacity\":0.8,\"type\":\"scattergeo\"},{\"lat\":[40.63980103,41.9786],\"line\":{\"color\":\"red\",\"width\":0.5},\"locationmode\":\"ISO-3\",\"lon\":[-73.77890015,-87.9048],\"mode\":\"lines\",\"name\":\"ORD\",\"opacity\":0.8,\"type\":\"scattergeo\"},{\"lat\":[40.63980103,36.89459991455078],\"line\":{\"color\":\"red\",\"width\":0.5},\"locationmode\":\"ISO-3\",\"lon\":[-73.77890015,-76.20120239257812],\"mode\":\"lines\",\"name\":\"ORF\",\"opacity\":0.8,\"type\":\"scattergeo\"},{\"lat\":[40.63980103,33.43429946899414],\"line\":{\"color\":\"red\",\"width\":0.5},\"locationmode\":\"ISO-3\",\"lon\":[-73.77890015,-112.01200103759766],\"mode\":\"lines\",\"name\":\"PHX\",\"opacity\":0.8,\"type\":\"scattergeo\"},{\"lat\":[40.63980103,40.49150085],\"line\":{\"color\":\"red\",\"width\":0.5},\"locationmode\":\"ISO-3\",\"lon\":[-73.77890015,-80.23290253],\"mode\":\"lines\",\"name\":\"PIT\",\"opacity\":0.8,\"type\":\"scattergeo\"},{\"lat\":[40.63980103,35.87760162353516],\"line\":{\"color\":\"red\",\"width\":0.5},\"locationmode\":\"ISO-3\",\"lon\":[-73.77890015,-78.7874984741211],\"mode\":\"lines\",\"name\":\"RDU\",\"opacity\":0.8,\"type\":\"scattergeo\"},{\"lat\":[40.63980103,32.7336006165],\"line\":{\"color\":\"red\",\"width\":0.5},\"locationmode\":\"ISO-3\",\"lon\":[-73.77890015,-117.190002441],\"mode\":\"lines\",\"name\":\"SAN\",\"opacity\":0.8,\"type\":\"scattergeo\"},{\"lat\":[40.63980103,47.449001],\"line\":{\"color\":\"red\",\"width\":0.5},\"locationmode\":\"ISO-3\",\"lon\":[-73.77890015,-122.308998],\"mode\":\"lines\",\"name\":\"SEA\",\"opacity\":0.8,\"type\":\"scattergeo\"},{\"lat\":[40.63980103,37.61899948120117],\"line\":{\"color\":\"red\",\"width\":0.5},\"locationmode\":\"ISO-3\",\"lon\":[-73.77890015,-122.375],\"mode\":\"lines\",\"name\":\"SFO\",\"opacity\":0.8,\"type\":\"scattergeo\"},{\"lat\":[40.63980103,27.975500106811523],\"line\":{\"color\":\"red\",\"width\":0.5},\"locationmode\":\"ISO-3\",\"lon\":[-73.77890015,-82.533203125],\"mode\":\"lines\",\"name\":\"TPA\",\"opacity\":0.8,\"type\":\"scattergeo\"},{\"lat\":[40.63980103,33.6367],\"line\":{\"color\":\"red\",\"width\":0.5},\"locationmode\":\"ISO-3\",\"lon\":[-73.77890015,-84.428101],\"mode\":\"lines\",\"name\":\"ATL\",\"opacity\":0.8,\"type\":\"scattergeo\"},{\"lat\":[40.63980103,29.99340057373047],\"line\":{\"color\":\"red\",\"width\":0.5},\"locationmode\":\"ISO-3\",\"lon\":[-73.77890015,-90.25800323486328],\"mode\":\"lines\",\"name\":\"MSY\",\"opacity\":0.8,\"type\":\"scattergeo\"},{\"lat\":[40.63980103,33.6367],\"line\":{\"color\":\"red\",\"width\":0.5},\"locationmode\":\"ISO-3\",\"lon\":[-73.77890015,-84.428101],\"mode\":\"lines\",\"name\":\"ATL\",\"opacity\":0.8,\"type\":\"scattergeo\"},{\"lat\":[40.63980103,33.94250107],\"line\":{\"color\":\"red\",\"width\":0.5},\"locationmode\":\"ISO-3\",\"lon\":[-73.77890015,-118.4079971],\"mode\":\"lines\",\"name\":\"LAX\",\"opacity\":0.8,\"type\":\"scattergeo\"},{\"lat\":[40.63980103,32.7336006165],\"line\":{\"color\":\"red\",\"width\":0.5},\"locationmode\":\"ISO-3\",\"lon\":[-73.77890015,-117.190002441],\"mode\":\"lines\",\"name\":\"SAN\",\"opacity\":0.8,\"type\":\"scattergeo\"},{\"lat\":[40.63980103,47.449001],\"line\":{\"color\":\"red\",\"width\":0.5},\"locationmode\":\"ISO-3\",\"lon\":[-73.77890015,-122.308998],\"mode\":\"lines\",\"name\":\"SEA\",\"opacity\":0.8,\"type\":\"scattergeo\"},{\"lat\":[40.63980103,37.61899948120117],\"line\":{\"color\":\"red\",\"width\":0.5},\"locationmode\":\"ISO-3\",\"lon\":[-73.77890015,-122.375],\"mode\":\"lines\",\"name\":\"SFO\",\"opacity\":0.8,\"type\":\"scattergeo\"},{\"lat\":[40.63980103,33.6367],\"line\":{\"color\":\"red\",\"width\":0.5},\"locationmode\":\"ISO-3\",\"lon\":[-73.77890015,-84.428101],\"mode\":\"lines\",\"name\":\"ATL\",\"opacity\":0.8,\"type\":\"scattergeo\"},{\"lat\":[40.63980103,29.99340057373047],\"line\":{\"color\":\"red\",\"width\":0.5},\"locationmode\":\"ISO-3\",\"lon\":[-73.77890015,-90.25800323486328],\"mode\":\"lines\",\"name\":\"MSY\",\"opacity\":0.8,\"type\":\"scattergeo\"},{\"lat\":[40.63980103,35.040199],\"line\":{\"color\":\"red\",\"width\":0.5},\"locationmode\":\"ISO-3\",\"lon\":[-73.77890015,-106.609001],\"mode\":\"lines\",\"name\":\"ABQ\",\"opacity\":0.8,\"type\":\"scattergeo\"},{\"lat\":[40.63980103,30.194499969482425],\"line\":{\"color\":\"red\",\"width\":0.5},\"locationmode\":\"ISO-3\",\"lon\":[-73.77890015,-97.6698989868164],\"mode\":\"lines\",\"name\":\"AUS\",\"opacity\":0.8,\"type\":\"scattergeo\"},{\"lat\":[40.63980103,42.36429977],\"line\":{\"color\":\"red\",\"width\":0.5},\"locationmode\":\"ISO-3\",\"lon\":[-73.77890015,-71.00520325],\"mode\":\"lines\",\"name\":\"BOS\",\"opacity\":0.8,\"type\":\"scattergeo\"},{\"lat\":[40.63980103,44.4719009399],\"line\":{\"color\":\"red\",\"width\":0.5},\"locationmode\":\"ISO-3\",\"lon\":[-73.77890015,-73.15329742429998],\"mode\":\"lines\",\"name\":\"BTV\",\"opacity\":0.8,\"type\":\"scattergeo\"},{\"lat\":[40.63980103,42.94049835],\"line\":{\"color\":\"red\",\"width\":0.5},\"locationmode\":\"ISO-3\",\"lon\":[-73.77890015,-78.73220062],\"mode\":\"lines\",\"name\":\"BUF\",\"opacity\":0.8,\"type\":\"scattergeo\"},{\"lat\":[40.63980103,34.200698852539055],\"line\":{\"color\":\"red\",\"width\":0.5},\"locationmode\":\"ISO-3\",\"lon\":[-73.77890015,-118.35900115966795],\"mode\":\"lines\",\"name\":\"BUR\",\"opacity\":0.8,\"type\":\"scattergeo\"},{\"lat\":[40.63980103,32.89860153],\"line\":{\"color\":\"red\",\"width\":0.5},\"locationmode\":\"ISO-3\",\"lon\":[-73.77890015,-80.04049683],\"mode\":\"lines\",\"name\":\"CHS\",\"opacity\":0.8,\"type\":\"scattergeo\"},{\"lat\":[40.63980103,35.2140007019043],\"line\":{\"color\":\"red\",\"width\":0.5},\"locationmode\":\"ISO-3\",\"lon\":[-73.77890015,-80.94309997558594],\"mode\":\"lines\",\"name\":\"CLT\",\"opacity\":0.8,\"type\":\"scattergeo\"},{\"lat\":[40.63980103,39.861698150635],\"line\":{\"color\":\"red\",\"width\":0.5},\"locationmode\":\"ISO-3\",\"lon\":[-73.77890015,-104.672996521],\"mode\":\"lines\",\"name\":\"DEN\",\"opacity\":0.8,\"type\":\"scattergeo\"},{\"lat\":[40.63980103,26.072599],\"line\":{\"color\":\"red\",\"width\":0.5},\"locationmode\":\"ISO-3\",\"lon\":[-73.77890015,-80.152702],\"mode\":\"lines\",\"name\":\"FLL\",\"opacity\":0.8,\"type\":\"scattergeo\"},{\"lat\":[40.63980103,29.64539909],\"line\":{\"color\":\"red\",\"width\":0.5},\"locationmode\":\"ISO-3\",\"lon\":[-73.77890015,-95.27890015],\"mode\":\"lines\",\"name\":\"HOU\",\"opacity\":0.8,\"type\":\"scattergeo\"},{\"lat\":[40.63980103,38.94449997],\"line\":{\"color\":\"red\",\"width\":0.5},\"locationmode\":\"ISO-3\",\"lon\":[-73.77890015,-77.45580292],\"mode\":\"lines\",\"name\":\"IAD\",\"opacity\":0.8,\"type\":\"scattergeo\"},{\"lat\":[40.63980103,30.49410057067871],\"line\":{\"color\":\"red\",\"width\":0.5},\"locationmode\":\"ISO-3\",\"lon\":[-73.77890015,-81.68789672851562],\"mode\":\"lines\",\"name\":\"JAX\",\"opacity\":0.8,\"type\":\"scattergeo\"},{\"lat\":[40.63980103,36.08010101],\"line\":{\"color\":\"red\",\"width\":0.5},\"locationmode\":\"ISO-3\",\"lon\":[-73.77890015,-115.1520004],\"mode\":\"lines\",\"name\":\"LAS\",\"opacity\":0.8,\"type\":\"scattergeo\"},{\"lat\":[40.63980103,33.94250107],\"line\":{\"color\":\"red\",\"width\":0.5},\"locationmode\":\"ISO-3\",\"lon\":[-73.77890015,-118.4079971],\"mode\":\"lines\",\"name\":\"LAX\",\"opacity\":0.8,\"type\":\"scattergeo\"},{\"lat\":[40.63980103,33.81769943],\"line\":{\"color\":\"red\",\"width\":0.5},\"locationmode\":\"ISO-3\",\"lon\":[-73.77890015,-118.1520004],\"mode\":\"lines\",\"name\":\"LGB\",\"opacity\":0.8,\"type\":\"scattergeo\"},{\"lat\":[40.63980103,28.429399490356445],\"line\":{\"color\":\"red\",\"width\":0.5},\"locationmode\":\"ISO-3\",\"lon\":[-73.77890015,-81.30899810791016],\"mode\":\"lines\",\"name\":\"MCO\",\"opacity\":0.8,\"type\":\"scattergeo\"},{\"lat\":[40.63980103,29.99340057373047],\"line\":{\"color\":\"red\",\"width\":0.5},\"locationmode\":\"ISO-3\",\"lon\":[-73.77890015,-90.25800323486328],\"mode\":\"lines\",\"name\":\"MSY\",\"opacity\":0.8,\"type\":\"scattergeo\"},{\"lat\":[40.63980103,37.721298],\"line\":{\"color\":\"red\",\"width\":0.5},\"locationmode\":\"ISO-3\",\"lon\":[-73.77890015,-122.221001],\"mode\":\"lines\",\"name\":\"OAK\",\"opacity\":0.8,\"type\":\"scattergeo\"},{\"lat\":[40.63980103,41.9786],\"line\":{\"color\":\"red\",\"width\":0.5},\"locationmode\":\"ISO-3\",\"lon\":[-73.77890015,-87.9048],\"mode\":\"lines\",\"name\":\"ORD\",\"opacity\":0.8,\"type\":\"scattergeo\"},{\"lat\":[40.63980103,26.68320083618164],\"line\":{\"color\":\"red\",\"width\":0.5},\"locationmode\":\"ISO-3\",\"lon\":[-73.77890015,-80.09559631347656],\"mode\":\"lines\",\"name\":\"PBI\",\"opacity\":0.8,\"type\":\"scattergeo\"},{\"lat\":[40.63980103,45.58869934],\"line\":{\"color\":\"red\",\"width\":0.5},\"locationmode\":\"ISO-3\",\"lon\":[-73.77890015,-122.5979996],\"mode\":\"lines\",\"name\":\"PDX\",\"opacity\":0.8,\"type\":\"scattergeo\"},{\"lat\":[40.63980103,33.43429946899414],\"line\":{\"color\":\"red\",\"width\":0.5},\"locationmode\":\"ISO-3\",\"lon\":[-73.77890015,-112.01200103759766],\"mode\":\"lines\",\"name\":\"PHX\",\"opacity\":0.8,\"type\":\"scattergeo\"},{\"lat\":[40.63980103,43.64619827],\"line\":{\"color\":\"red\",\"width\":0.5},\"locationmode\":\"ISO-3\",\"lon\":[-73.77890015,-70.30930328],\"mode\":\"lines\",\"name\":\"PWM\",\"opacity\":0.8,\"type\":\"scattergeo\"},{\"lat\":[40.63980103,35.87760162353516],\"line\":{\"color\":\"red\",\"width\":0.5},\"locationmode\":\"ISO-3\",\"lon\":[-73.77890015,-78.7874984741211],\"mode\":\"lines\",\"name\":\"RDU\",\"opacity\":0.8,\"type\":\"scattergeo\"},{\"lat\":[40.63980103,43.118900299072266],\"line\":{\"color\":\"red\",\"width\":0.5},\"locationmode\":\"ISO-3\",\"lon\":[-73.77890015,-77.67240142822266],\"mode\":\"lines\",\"name\":\"ROC\",\"opacity\":0.8,\"type\":\"scattergeo\"},{\"lat\":[40.63980103,26.53619956970215],\"line\":{\"color\":\"red\",\"width\":0.5},\"locationmode\":\"ISO-3\",\"lon\":[-73.77890015,-81.75520324707031],\"mode\":\"lines\",\"name\":\"RSW\",\"opacity\":0.8,\"type\":\"scattergeo\"},{\"lat\":[40.63980103,32.7336006165],\"line\":{\"color\":\"red\",\"width\":0.5},\"locationmode\":\"ISO-3\",\"lon\":[-73.77890015,-117.190002441],\"mode\":\"lines\",\"name\":\"SAN\",\"opacity\":0.8,\"type\":\"scattergeo\"},{\"lat\":[40.63980103,32.12760162],\"line\":{\"color\":\"red\",\"width\":0.5},\"locationmode\":\"ISO-3\",\"lon\":[-73.77890015,-81.20210266],\"mode\":\"lines\",\"name\":\"SAV\",\"opacity\":0.8,\"type\":\"scattergeo\"},{\"lat\":[40.63980103,47.449001],\"line\":{\"color\":\"red\",\"width\":0.5},\"locationmode\":\"ISO-3\",\"lon\":[-73.77890015,-122.308998],\"mode\":\"lines\",\"name\":\"SEA\",\"opacity\":0.8,\"type\":\"scattergeo\"},{\"lat\":[40.63980103,37.61899948120117],\"line\":{\"color\":\"red\",\"width\":0.5},\"locationmode\":\"ISO-3\",\"lon\":[-73.77890015,-122.375],\"mode\":\"lines\",\"name\":\"SFO\",\"opacity\":0.8,\"type\":\"scattergeo\"},{\"lat\":[40.63980103,37.362598],\"line\":{\"color\":\"red\",\"width\":0.5},\"locationmode\":\"ISO-3\",\"lon\":[-73.77890015,-121.929001],\"mode\":\"lines\",\"name\":\"SJC\",\"opacity\":0.8,\"type\":\"scattergeo\"},{\"lat\":[40.63980103,40.78839874267578],\"line\":{\"color\":\"red\",\"width\":0.5},\"locationmode\":\"ISO-3\",\"lon\":[-73.77890015,-111.97799682617188],\"mode\":\"lines\",\"name\":\"SLC\",\"opacity\":0.8,\"type\":\"scattergeo\"},{\"lat\":[40.63980103,38.69540023803711],\"line\":{\"color\":\"red\",\"width\":0.5},\"locationmode\":\"ISO-3\",\"lon\":[-73.77890015,-121.59100341796876],\"mode\":\"lines\",\"name\":\"SMF\",\"opacity\":0.8,\"type\":\"scattergeo\"},{\"lat\":[40.63980103,27.39539909362793],\"line\":{\"color\":\"red\",\"width\":0.5},\"locationmode\":\"ISO-3\",\"lon\":[-73.77890015,-82.55439758300781],\"mode\":\"lines\",\"name\":\"SRQ\",\"opacity\":0.8,\"type\":\"scattergeo\"},{\"lat\":[40.63980103,43.11119842529297],\"line\":{\"color\":\"red\",\"width\":0.5},\"locationmode\":\"ISO-3\",\"lon\":[-73.77890015,-76.1063003540039],\"mode\":\"lines\",\"name\":\"SYR\",\"opacity\":0.8,\"type\":\"scattergeo\"},{\"lat\":[40.63980103,27.975500106811523],\"line\":{\"color\":\"red\",\"width\":0.5},\"locationmode\":\"ISO-3\",\"lon\":[-73.77890015,-82.533203125],\"mode\":\"lines\",\"name\":\"TPA\",\"opacity\":0.8,\"type\":\"scattergeo\"},{\"lat\":[40.63980103,33.6367],\"line\":{\"color\":\"red\",\"width\":0.5},\"locationmode\":\"ISO-3\",\"lon\":[-73.77890015,-84.428101],\"mode\":\"lines\",\"name\":\"ATL\",\"opacity\":0.8,\"type\":\"scattergeo\"},{\"lat\":[40.63980103,30.194499969482425],\"line\":{\"color\":\"red\",\"width\":0.5},\"locationmode\":\"ISO-3\",\"lon\":[-73.77890015,-97.6698989868164],\"mode\":\"lines\",\"name\":\"AUS\",\"opacity\":0.8,\"type\":\"scattergeo\"},{\"lat\":[40.63980103,36.1245002746582],\"line\":{\"color\":\"red\",\"width\":0.5},\"locationmode\":\"ISO-3\",\"lon\":[-73.77890015,-86.6781997680664],\"mode\":\"lines\",\"name\":\"BNA\",\"opacity\":0.8,\"type\":\"scattergeo\"},{\"lat\":[40.63980103,42.36429977],\"line\":{\"color\":\"red\",\"width\":0.5},\"locationmode\":\"ISO-3\",\"lon\":[-73.77890015,-71.00520325],\"mode\":\"lines\",\"name\":\"BOS\",\"opacity\":0.8,\"type\":\"scattergeo\"},{\"lat\":[40.63980103,42.94049835],\"line\":{\"color\":\"red\",\"width\":0.5},\"locationmode\":\"ISO-3\",\"lon\":[-73.77890015,-78.73220062],\"mode\":\"lines\",\"name\":\"BUF\",\"opacity\":0.8,\"type\":\"scattergeo\"},{\"lat\":[40.63980103,39.1754],\"line\":{\"color\":\"red\",\"width\":0.5},\"locationmode\":\"ISO-3\",\"lon\":[-73.77890015,-76.668297],\"mode\":\"lines\",\"name\":\"BWI\",\"opacity\":0.8,\"type\":\"scattergeo\"},{\"lat\":[40.63980103,32.89860153],\"line\":{\"color\":\"red\",\"width\":0.5},\"locationmode\":\"ISO-3\",\"lon\":[-73.77890015,-80.04049683],\"mode\":\"lines\",\"name\":\"CHS\",\"opacity\":0.8,\"type\":\"scattergeo\"},{\"lat\":[40.63980103,41.4117012024],\"line\":{\"color\":\"red\",\"width\":0.5},\"locationmode\":\"ISO-3\",\"lon\":[-73.77890015,-81.8498001099],\"mode\":\"lines\",\"name\":\"CLE\",\"opacity\":0.8,\"type\":\"scattergeo\"},{\"lat\":[40.63980103,35.2140007019043],\"line\":{\"color\":\"red\",\"width\":0.5},\"locationmode\":\"ISO-3\",\"lon\":[-73.77890015,-80.94309997558594],\"mode\":\"lines\",\"name\":\"CLT\",\"opacity\":0.8,\"type\":\"scattergeo\"},{\"lat\":[40.63980103,39.998001],\"line\":{\"color\":\"red\",\"width\":0.5},\"locationmode\":\"ISO-3\",\"lon\":[-73.77890015,-82.891899],\"mode\":\"lines\",\"name\":\"CMH\",\"opacity\":0.8,\"type\":\"scattergeo\"},{\"lat\":[40.63980103,39.0488014221],\"line\":{\"color\":\"red\",\"width\":0.5},\"locationmode\":\"ISO-3\",\"lon\":[-73.77890015,-84.6678009033],\"mode\":\"lines\",\"name\":\"CVG\",\"opacity\":0.8,\"type\":\"scattergeo\"},{\"lat\":[40.63980103,38.8521],\"line\":{\"color\":\"red\",\"width\":0.5},\"locationmode\":\"ISO-3\",\"lon\":[-73.77890015,-77.037697],\"mode\":\"lines\",\"name\":\"DCA\",\"opacity\":0.8,\"type\":\"scattergeo\"},{\"lat\":[40.63980103,39.861698150635],\"line\":{\"color\":\"red\",\"width\":0.5},\"locationmode\":\"ISO-3\",\"lon\":[-73.77890015,-104.672996521],\"mode\":\"lines\",\"name\":\"DEN\",\"opacity\":0.8,\"type\":\"scattergeo\"},{\"lat\":[40.63980103,32.896801],\"line\":{\"color\":\"red\",\"width\":0.5},\"locationmode\":\"ISO-3\",\"lon\":[-73.77890015,-97.038002],\"mode\":\"lines\",\"name\":\"DFW\",\"opacity\":0.8,\"type\":\"scattergeo\"},{\"lat\":[40.63980103,42.212398529052734],\"line\":{\"color\":\"red\",\"width\":0.5},\"locationmode\":\"ISO-3\",\"lon\":[-73.77890015,-83.35340118408203],\"mode\":\"lines\",\"name\":\"DTW\",\"opacity\":0.8,\"type\":\"scattergeo\"},{\"lat\":[40.63980103,26.072599],\"line\":{\"color\":\"red\",\"width\":0.5},\"locationmode\":\"ISO-3\",\"lon\":[-73.77890015,-80.152702],\"mode\":\"lines\",\"name\":\"FLL\",\"opacity\":0.8,\"type\":\"scattergeo\"},{\"lat\":[40.63980103,38.94449997],\"line\":{\"color\":\"red\",\"width\":0.5},\"locationmode\":\"ISO-3\",\"lon\":[-73.77890015,-77.45580292],\"mode\":\"lines\",\"name\":\"IAD\",\"opacity\":0.8,\"type\":\"scattergeo\"},{\"lat\":[40.63980103,39.7173],\"line\":{\"color\":\"red\",\"width\":0.5},\"locationmode\":\"ISO-3\",\"lon\":[-73.77890015,-86.294403],\"mode\":\"lines\",\"name\":\"IND\",\"opacity\":0.8,\"type\":\"scattergeo\"},{\"lat\":[40.63980103,30.49410057067871],\"line\":{\"color\":\"red\",\"width\":0.5},\"locationmode\":\"ISO-3\",\"lon\":[-73.77890015,-81.68789672851562],\"mode\":\"lines\",\"name\":\"JAX\",\"opacity\":0.8,\"type\":\"scattergeo\"},{\"lat\":[40.63980103,36.08010101],\"line\":{\"color\":\"red\",\"width\":0.5},\"locationmode\":\"ISO-3\",\"lon\":[-73.77890015,-115.1520004],\"mode\":\"lines\",\"name\":\"LAS\",\"opacity\":0.8,\"type\":\"scattergeo\"},{\"lat\":[40.63980103,33.94250107],\"line\":{\"color\":\"red\",\"width\":0.5},\"locationmode\":\"ISO-3\",\"lon\":[-73.77890015,-118.4079971],\"mode\":\"lines\",\"name\":\"LAX\",\"opacity\":0.8,\"type\":\"scattergeo\"},{\"lat\":[40.63980103,28.429399490356445],\"line\":{\"color\":\"red\",\"width\":0.5},\"locationmode\":\"ISO-3\",\"lon\":[-73.77890015,-81.30899810791016],\"mode\":\"lines\",\"name\":\"MCO\",\"opacity\":0.8,\"type\":\"scattergeo\"},{\"lat\":[40.63980103,25.79319953918457],\"line\":{\"color\":\"red\",\"width\":0.5},\"locationmode\":\"ISO-3\",\"lon\":[-73.77890015,-80.29060363769531],\"mode\":\"lines\",\"name\":\"MIA\",\"opacity\":0.8,\"type\":\"scattergeo\"},{\"lat\":[40.63980103,44.882],\"line\":{\"color\":\"red\",\"width\":0.5},\"locationmode\":\"ISO-3\",\"lon\":[-73.77890015,-93.221802],\"mode\":\"lines\",\"name\":\"MSP\",\"opacity\":0.8,\"type\":\"scattergeo\"},{\"lat\":[40.63980103,29.99340057373047],\"line\":{\"color\":\"red\",\"width\":0.5},\"locationmode\":\"ISO-3\",\"lon\":[-73.77890015,-90.25800323486328],\"mode\":\"lines\",\"name\":\"MSY\",\"opacity\":0.8,\"type\":\"scattergeo\"},{\"lat\":[40.63980103,41.9786],\"line\":{\"color\":\"red\",\"width\":0.5},\"locationmode\":\"ISO-3\",\"lon\":[-73.77890015,-87.9048],\"mode\":\"lines\",\"name\":\"ORD\",\"opacity\":0.8,\"type\":\"scattergeo\"},{\"lat\":[40.63980103,36.89459991455078],\"line\":{\"color\":\"red\",\"width\":0.5},\"locationmode\":\"ISO-3\",\"lon\":[-73.77890015,-76.20120239257812],\"mode\":\"lines\",\"name\":\"ORF\",\"opacity\":0.8,\"type\":\"scattergeo\"},{\"lat\":[40.63980103,45.58869934],\"line\":{\"color\":\"red\",\"width\":0.5},\"locationmode\":\"ISO-3\",\"lon\":[-73.77890015,-122.5979996],\"mode\":\"lines\",\"name\":\"PDX\",\"opacity\":0.8,\"type\":\"scattergeo\"},{\"lat\":[40.63980103,39.87189865112305],\"line\":{\"color\":\"red\",\"width\":0.5},\"locationmode\":\"ISO-3\",\"lon\":[-73.77890015,-75.24109649658203],\"mode\":\"lines\",\"name\":\"PHL\",\"opacity\":0.8,\"type\":\"scattergeo\"},{\"lat\":[40.63980103,33.43429946899414],\"line\":{\"color\":\"red\",\"width\":0.5},\"locationmode\":\"ISO-3\",\"lon\":[-73.77890015,-112.01200103759766],\"mode\":\"lines\",\"name\":\"PHX\",\"opacity\":0.8,\"type\":\"scattergeo\"},{\"lat\":[40.63980103,40.49150085],\"line\":{\"color\":\"red\",\"width\":0.5},\"locationmode\":\"ISO-3\",\"lon\":[-73.77890015,-80.23290253],\"mode\":\"lines\",\"name\":\"PIT\",\"opacity\":0.8,\"type\":\"scattergeo\"},{\"lat\":[40.63980103,35.87760162353516],\"line\":{\"color\":\"red\",\"width\":0.5},\"locationmode\":\"ISO-3\",\"lon\":[-73.77890015,-78.7874984741211],\"mode\":\"lines\",\"name\":\"RDU\",\"opacity\":0.8,\"type\":\"scattergeo\"},{\"lat\":[40.63980103,37.50519943237305],\"line\":{\"color\":\"red\",\"width\":0.5},\"locationmode\":\"ISO-3\",\"lon\":[-73.77890015,-77.3197021484375],\"mode\":\"lines\",\"name\":\"RIC\",\"opacity\":0.8,\"type\":\"scattergeo\"},{\"lat\":[40.63980103,43.118900299072266],\"line\":{\"color\":\"red\",\"width\":0.5},\"locationmode\":\"ISO-3\",\"lon\":[-73.77890015,-77.67240142822266],\"mode\":\"lines\",\"name\":\"ROC\",\"opacity\":0.8,\"type\":\"scattergeo\"},{\"lat\":[40.63980103,32.7336006165],\"line\":{\"color\":\"red\",\"width\":0.5},\"locationmode\":\"ISO-3\",\"lon\":[-73.77890015,-117.190002441],\"mode\":\"lines\",\"name\":\"SAN\",\"opacity\":0.8,\"type\":\"scattergeo\"},{\"lat\":[40.63980103,29.533700942993164],\"line\":{\"color\":\"red\",\"width\":0.5},\"locationmode\":\"ISO-3\",\"lon\":[-73.77890015,-98.46980285644533],\"mode\":\"lines\",\"name\":\"SAT\",\"opacity\":0.8,\"type\":\"scattergeo\"},{\"lat\":[40.63980103,32.12760162],\"line\":{\"color\":\"red\",\"width\":0.5},\"locationmode\":\"ISO-3\",\"lon\":[-73.77890015,-81.20210266],\"mode\":\"lines\",\"name\":\"SAV\",\"opacity\":0.8,\"type\":\"scattergeo\"},{\"lat\":[40.63980103,38.1744],\"line\":{\"color\":\"red\",\"width\":0.5},\"locationmode\":\"ISO-3\",\"lon\":[-73.77890015,-85.736],\"mode\":\"lines\",\"name\":\"SDF\",\"opacity\":0.8,\"type\":\"scattergeo\"},{\"lat\":[40.63980103,47.449001],\"line\":{\"color\":\"red\",\"width\":0.5},\"locationmode\":\"ISO-3\",\"lon\":[-73.77890015,-122.308998],\"mode\":\"lines\",\"name\":\"SEA\",\"opacity\":0.8,\"type\":\"scattergeo\"},{\"lat\":[40.63980103,37.61899948120117],\"line\":{\"color\":\"red\",\"width\":0.5},\"locationmode\":\"ISO-3\",\"lon\":[-73.77890015,-122.375],\"mode\":\"lines\",\"name\":\"SFO\",\"opacity\":0.8,\"type\":\"scattergeo\"},{\"lat\":[40.63980103,40.78839874267578],\"line\":{\"color\":\"red\",\"width\":0.5},\"locationmode\":\"ISO-3\",\"lon\":[-73.77890015,-111.97799682617188],\"mode\":\"lines\",\"name\":\"SLC\",\"opacity\":0.8,\"type\":\"scattergeo\"},{\"lat\":[40.63980103,38.748697],\"line\":{\"color\":\"red\",\"width\":0.5},\"locationmode\":\"ISO-3\",\"lon\":[-73.77890015,-90.370003],\"mode\":\"lines\",\"name\":\"STL\",\"opacity\":0.8,\"type\":\"scattergeo\"},{\"lat\":[40.63980103,43.11119842529297],\"line\":{\"color\":\"red\",\"width\":0.5},\"locationmode\":\"ISO-3\",\"lon\":[-73.77890015,-76.1063003540039],\"mode\":\"lines\",\"name\":\"SYR\",\"opacity\":0.8,\"type\":\"scattergeo\"},{\"lat\":[40.63980103,27.975500106811523],\"line\":{\"color\":\"red\",\"width\":0.5},\"locationmode\":\"ISO-3\",\"lon\":[-73.77890015,-82.533203125],\"mode\":\"lines\",\"name\":\"TPA\",\"opacity\":0.8,\"type\":\"scattergeo\"},{\"lat\":[40.63980103,36.08010101],\"line\":{\"color\":\"red\",\"width\":0.5},\"locationmode\":\"ISO-3\",\"lon\":[-73.77890015,-115.1520004],\"mode\":\"lines\",\"name\":\"LAS\",\"opacity\":0.8,\"type\":\"scattergeo\"},{\"lat\":[40.63980103,29.99340057373047],\"line\":{\"color\":\"red\",\"width\":0.5},\"locationmode\":\"ISO-3\",\"lon\":[-73.77890015,-90.25800323486328],\"mode\":\"lines\",\"name\":\"MSY\",\"opacity\":0.8,\"type\":\"scattergeo\"},{\"lat\":[40.63980103,21.32062],\"line\":{\"color\":\"red\",\"width\":0.5},\"locationmode\":\"ISO-3\",\"lon\":[-73.77890015,-157.924228],\"mode\":\"lines\",\"name\":\"HNL\",\"opacity\":0.8,\"type\":\"scattergeo\"},{\"lat\":[40.63980103,36.08010101],\"line\":{\"color\":\"red\",\"width\":0.5},\"locationmode\":\"ISO-3\",\"lon\":[-73.77890015,-115.1520004],\"mode\":\"lines\",\"name\":\"LAS\",\"opacity\":0.8,\"type\":\"scattergeo\"},{\"lat\":[40.63980103,29.99340057373047],\"line\":{\"color\":\"red\",\"width\":0.5},\"locationmode\":\"ISO-3\",\"lon\":[-73.77890015,-90.25800323486328],\"mode\":\"lines\",\"name\":\"MSY\",\"opacity\":0.8,\"type\":\"scattergeo\"},{\"lat\":[40.63980103,33.6367],\"line\":{\"color\":\"red\",\"width\":0.5},\"locationmode\":\"ISO-3\",\"lon\":[-73.77890015,-84.428101],\"mode\":\"lines\",\"name\":\"ATL\",\"opacity\":0.8,\"type\":\"scattergeo\"},{\"lat\":[40.63980103,29.99340057373047],\"line\":{\"color\":\"red\",\"width\":0.5},\"locationmode\":\"ISO-3\",\"lon\":[-73.77890015,-90.25800323486328],\"mode\":\"lines\",\"name\":\"MSY\",\"opacity\":0.8,\"type\":\"scattergeo\"},{\"lat\":[40.63980103,29.99340057373047],\"line\":{\"color\":\"red\",\"width\":0.5},\"locationmode\":\"ISO-3\",\"lon\":[-73.77890015,-90.25800323486328],\"mode\":\"lines\",\"name\":\"MSY\",\"opacity\":0.8,\"type\":\"scattergeo\"},{\"lat\":[40.63980103,33.94250107],\"line\":{\"color\":\"red\",\"width\":0.5},\"locationmode\":\"ISO-3\",\"lon\":[-73.77890015,-118.4079971],\"mode\":\"lines\",\"name\":\"LAX\",\"opacity\":0.8,\"type\":\"scattergeo\"},{\"lat\":[40.63980103,36.08010101],\"line\":{\"color\":\"red\",\"width\":0.5},\"locationmode\":\"ISO-3\",\"lon\":[-73.77890015,-115.1520004],\"mode\":\"lines\",\"name\":\"LAS\",\"opacity\":0.8,\"type\":\"scattergeo\"},{\"lat\":[40.63980103,29.99340057373047],\"line\":{\"color\":\"red\",\"width\":0.5},\"locationmode\":\"ISO-3\",\"lon\":[-73.77890015,-90.25800323486328],\"mode\":\"lines\",\"name\":\"MSY\",\"opacity\":0.8,\"type\":\"scattergeo\"},{\"lat\":[40.63980103,41.9786],\"line\":{\"color\":\"red\",\"width\":0.5},\"locationmode\":\"ISO-3\",\"lon\":[-73.77890015,-87.9048],\"mode\":\"lines\",\"name\":\"ORD\",\"opacity\":0.8,\"type\":\"scattergeo\"},{\"lat\":[40.63980103,32.7336006165],\"line\":{\"color\":\"red\",\"width\":0.5},\"locationmode\":\"ISO-3\",\"lon\":[-73.77890015,-117.190002441],\"mode\":\"lines\",\"name\":\"SAN\",\"opacity\":0.8,\"type\":\"scattergeo\"},{\"lat\":[40.63980103,33.6367],\"line\":{\"color\":\"red\",\"width\":0.5},\"locationmode\":\"ISO-3\",\"lon\":[-73.77890015,-84.428101],\"mode\":\"lines\",\"name\":\"ATL\",\"opacity\":0.8,\"type\":\"scattergeo\"},{\"lat\":[40.63980103,44.882],\"line\":{\"color\":\"red\",\"width\":0.5},\"locationmode\":\"ISO-3\",\"lon\":[-73.77890015,-93.221802],\"mode\":\"lines\",\"name\":\"MSP\",\"opacity\":0.8,\"type\":\"scattergeo\"},{\"lat\":[40.63980103,38.94449997],\"line\":{\"color\":\"red\",\"width\":0.5},\"locationmode\":\"ISO-3\",\"lon\":[-73.77890015,-77.45580292],\"mode\":\"lines\",\"name\":\"IAD\",\"opacity\":0.8,\"type\":\"scattergeo\"},{\"lat\":[40.63980103,33.94250107],\"line\":{\"color\":\"red\",\"width\":0.5},\"locationmode\":\"ISO-3\",\"lon\":[-73.77890015,-118.4079971],\"mode\":\"lines\",\"name\":\"LAX\",\"opacity\":0.8,\"type\":\"scattergeo\"},{\"lat\":[40.63980103,37.61899948120117],\"line\":{\"color\":\"red\",\"width\":0.5},\"locationmode\":\"ISO-3\",\"lon\":[-73.77890015,-122.375],\"mode\":\"lines\",\"name\":\"SFO\",\"opacity\":0.8,\"type\":\"scattergeo\"},{\"lat\":[40.63980103,30.194499969482425],\"line\":{\"color\":\"red\",\"width\":0.5},\"locationmode\":\"ISO-3\",\"lon\":[-73.77890015,-97.6698989868164],\"mode\":\"lines\",\"name\":\"AUS\",\"opacity\":0.8,\"type\":\"scattergeo\"},{\"lat\":[40.63980103,36.1245002746582],\"line\":{\"color\":\"red\",\"width\":0.5},\"locationmode\":\"ISO-3\",\"lon\":[-73.77890015,-86.6781997680664],\"mode\":\"lines\",\"name\":\"BNA\",\"opacity\":0.8,\"type\":\"scattergeo\"},{\"lat\":[40.63980103,42.36429977],\"line\":{\"color\":\"red\",\"width\":0.5},\"locationmode\":\"ISO-3\",\"lon\":[-73.77890015,-71.00520325],\"mode\":\"lines\",\"name\":\"BOS\",\"opacity\":0.8,\"type\":\"scattergeo\"},{\"lat\":[40.63980103,39.1754],\"line\":{\"color\":\"red\",\"width\":0.5},\"locationmode\":\"ISO-3\",\"lon\":[-73.77890015,-76.668297],\"mode\":\"lines\",\"name\":\"BWI\",\"opacity\":0.8,\"type\":\"scattergeo\"},{\"lat\":[40.63980103,41.4117012024],\"line\":{\"color\":\"red\",\"width\":0.5},\"locationmode\":\"ISO-3\",\"lon\":[-73.77890015,-81.8498001099],\"mode\":\"lines\",\"name\":\"CLE\",\"opacity\":0.8,\"type\":\"scattergeo\"},{\"lat\":[40.63980103,35.2140007019043],\"line\":{\"color\":\"red\",\"width\":0.5},\"locationmode\":\"ISO-3\",\"lon\":[-73.77890015,-80.94309997558594],\"mode\":\"lines\",\"name\":\"CLT\",\"opacity\":0.8,\"type\":\"scattergeo\"},{\"lat\":[40.63980103,39.998001],\"line\":{\"color\":\"red\",\"width\":0.5},\"locationmode\":\"ISO-3\",\"lon\":[-73.77890015,-82.891899],\"mode\":\"lines\",\"name\":\"CMH\",\"opacity\":0.8,\"type\":\"scattergeo\"},{\"lat\":[40.63980103,39.0488014221],\"line\":{\"color\":\"red\",\"width\":0.5},\"locationmode\":\"ISO-3\",\"lon\":[-73.77890015,-84.6678009033],\"mode\":\"lines\",\"name\":\"CVG\",\"opacity\":0.8,\"type\":\"scattergeo\"},{\"lat\":[40.63980103,38.8521],\"line\":{\"color\":\"red\",\"width\":0.5},\"locationmode\":\"ISO-3\",\"lon\":[-73.77890015,-77.037697],\"mode\":\"lines\",\"name\":\"DCA\",\"opacity\":0.8,\"type\":\"scattergeo\"},{\"lat\":[40.63980103,32.896801],\"line\":{\"color\":\"red\",\"width\":0.5},\"locationmode\":\"ISO-3\",\"lon\":[-73.77890015,-97.038002],\"mode\":\"lines\",\"name\":\"DFW\",\"opacity\":0.8,\"type\":\"scattergeo\"},{\"lat\":[40.63980103,39.7173],\"line\":{\"color\":\"red\",\"width\":0.5},\"locationmode\":\"ISO-3\",\"lon\":[-73.77890015,-86.294403],\"mode\":\"lines\",\"name\":\"IND\",\"opacity\":0.8,\"type\":\"scattergeo\"},{\"lat\":[40.63980103,36.08010101],\"line\":{\"color\":\"red\",\"width\":0.5},\"locationmode\":\"ISO-3\",\"lon\":[-73.77890015,-115.1520004],\"mode\":\"lines\",\"name\":\"LAS\",\"opacity\":0.8,\"type\":\"scattergeo\"},{\"lat\":[40.63980103,33.94250107],\"line\":{\"color\":\"red\",\"width\":0.5},\"locationmode\":\"ISO-3\",\"lon\":[-73.77890015,-118.4079971],\"mode\":\"lines\",\"name\":\"LAX\",\"opacity\":0.8,\"type\":\"scattergeo\"},{\"lat\":[40.63980103,28.429399490356445],\"line\":{\"color\":\"red\",\"width\":0.5},\"locationmode\":\"ISO-3\",\"lon\":[-73.77890015,-81.30899810791016],\"mode\":\"lines\",\"name\":\"MCO\",\"opacity\":0.8,\"type\":\"scattergeo\"},{\"lat\":[40.63980103,25.79319953918457],\"line\":{\"color\":\"red\",\"width\":0.5},\"locationmode\":\"ISO-3\",\"lon\":[-73.77890015,-80.29060363769531],\"mode\":\"lines\",\"name\":\"MIA\",\"opacity\":0.8,\"type\":\"scattergeo\"},{\"lat\":[40.63980103,41.9786],\"line\":{\"color\":\"red\",\"width\":0.5},\"locationmode\":\"ISO-3\",\"lon\":[-73.77890015,-87.9048],\"mode\":\"lines\",\"name\":\"ORD\",\"opacity\":0.8,\"type\":\"scattergeo\"},{\"lat\":[40.63980103,36.89459991455078],\"line\":{\"color\":\"red\",\"width\":0.5},\"locationmode\":\"ISO-3\",\"lon\":[-73.77890015,-76.20120239257812],\"mode\":\"lines\",\"name\":\"ORF\",\"opacity\":0.8,\"type\":\"scattergeo\"},{\"lat\":[40.63980103,33.43429946899414],\"line\":{\"color\":\"red\",\"width\":0.5},\"locationmode\":\"ISO-3\",\"lon\":[-73.77890015,-112.01200103759766],\"mode\":\"lines\",\"name\":\"PHX\",\"opacity\":0.8,\"type\":\"scattergeo\"},{\"lat\":[40.63980103,40.49150085],\"line\":{\"color\":\"red\",\"width\":0.5},\"locationmode\":\"ISO-3\",\"lon\":[-73.77890015,-80.23290253],\"mode\":\"lines\",\"name\":\"PIT\",\"opacity\":0.8,\"type\":\"scattergeo\"},{\"lat\":[40.63980103,35.87760162353516],\"line\":{\"color\":\"red\",\"width\":0.5},\"locationmode\":\"ISO-3\",\"lon\":[-73.77890015,-78.7874984741211],\"mode\":\"lines\",\"name\":\"RDU\",\"opacity\":0.8,\"type\":\"scattergeo\"},{\"lat\":[40.63980103,32.7336006165],\"line\":{\"color\":\"red\",\"width\":0.5},\"locationmode\":\"ISO-3\",\"lon\":[-73.77890015,-117.190002441],\"mode\":\"lines\",\"name\":\"SAN\",\"opacity\":0.8,\"type\":\"scattergeo\"},{\"lat\":[40.63980103,47.449001],\"line\":{\"color\":\"red\",\"width\":0.5},\"locationmode\":\"ISO-3\",\"lon\":[-73.77890015,-122.308998],\"mode\":\"lines\",\"name\":\"SEA\",\"opacity\":0.8,\"type\":\"scattergeo\"},{\"lat\":[40.63980103,37.61899948120117],\"line\":{\"color\":\"red\",\"width\":0.5},\"locationmode\":\"ISO-3\",\"lon\":[-73.77890015,-122.375],\"mode\":\"lines\",\"name\":\"SFO\",\"opacity\":0.8,\"type\":\"scattergeo\"},{\"lat\":[40.63980103,27.975500106811523],\"line\":{\"color\":\"red\",\"width\":0.5},\"locationmode\":\"ISO-3\",\"lon\":[-73.77890015,-82.533203125],\"mode\":\"lines\",\"name\":\"TPA\",\"opacity\":0.8,\"type\":\"scattergeo\"},{\"lat\":[40.63980103,33.6367],\"line\":{\"color\":\"red\",\"width\":0.5},\"locationmode\":\"ISO-3\",\"lon\":[-73.77890015,-84.428101],\"mode\":\"lines\",\"name\":\"ATL\",\"opacity\":0.8,\"type\":\"scattergeo\"},{\"lat\":[40.63980103,29.99340057373047],\"line\":{\"color\":\"red\",\"width\":0.5},\"locationmode\":\"ISO-3\",\"lon\":[-73.77890015,-90.25800323486328],\"mode\":\"lines\",\"name\":\"MSY\",\"opacity\":0.8,\"type\":\"scattergeo\"},{\"lat\":[40.63980103,36.08010101],\"line\":{\"color\":\"red\",\"width\":0.5},\"locationmode\":\"ISO-3\",\"lon\":[-73.77890015,-115.1520004],\"mode\":\"lines\",\"name\":\"LAS\",\"opacity\":0.8,\"type\":\"scattergeo\"},{\"lat\":[40.63980103,33.94250107],\"line\":{\"color\":\"red\",\"width\":0.5},\"locationmode\":\"ISO-3\",\"lon\":[-73.77890015,-118.4079971],\"mode\":\"lines\",\"name\":\"LAX\",\"opacity\":0.8,\"type\":\"scattergeo\"},{\"lat\":[40.63980103,37.61899948120117],\"line\":{\"color\":\"red\",\"width\":0.5},\"locationmode\":\"ISO-3\",\"lon\":[-73.77890015,-122.375],\"mode\":\"lines\",\"name\":\"SFO\",\"opacity\":0.8,\"type\":\"scattergeo\"},{\"lat\":[40.63980103],\"locationmode\":\"ISO-3\",\"lon\":[-73.77890015],\"marker\":{\"color\":\"blue\",\"size\":10},\"mode\":\"markers\",\"name\":\"JFK Airport\",\"text\":\"JFK Airport\",\"type\":\"scattergeo\"}],                        {\"geo\":{\"coastlinecolor\":\"rgb(255, 255, 255)\",\"countrycolor\":\"rgb(255, 255, 255)\",\"landcolor\":\"rgb(229, 229, 229)\",\"projection\":{\"type\":\"natural earth\"},\"scope\":\"world\",\"showland\":true},\"showlegend\":true,\"template\":{\"data\":{\"barpolar\":[{\"marker\":{\"line\":{\"color\":\"#E5ECF6\",\"width\":0.5},\"pattern\":{\"fillmode\":\"overlay\",\"size\":10,\"solidity\":0.2}},\"type\":\"barpolar\"}],\"bar\":[{\"error_x\":{\"color\":\"#2a3f5f\"},\"error_y\":{\"color\":\"#2a3f5f\"},\"marker\":{\"line\":{\"color\":\"#E5ECF6\",\"width\":0.5},\"pattern\":{\"fillmode\":\"overlay\",\"size\":10,\"solidity\":0.2}},\"type\":\"bar\"}],\"carpet\":[{\"aaxis\":{\"endlinecolor\":\"#2a3f5f\",\"gridcolor\":\"white\",\"linecolor\":\"white\",\"minorgridcolor\":\"white\",\"startlinecolor\":\"#2a3f5f\"},\"baxis\":{\"endlinecolor\":\"#2a3f5f\",\"gridcolor\":\"white\",\"linecolor\":\"white\",\"minorgridcolor\":\"white\",\"startlinecolor\":\"#2a3f5f\"},\"type\":\"carpet\"}],\"choropleth\":[{\"colorbar\":{\"outlinewidth\":0,\"ticks\":\"\"},\"type\":\"choropleth\"}],\"contourcarpet\":[{\"colorbar\":{\"outlinewidth\":0,\"ticks\":\"\"},\"type\":\"contourcarpet\"}],\"contour\":[{\"colorbar\":{\"outlinewidth\":0,\"ticks\":\"\"},\"colorscale\":[[0.0,\"#0d0887\"],[0.1111111111111111,\"#46039f\"],[0.2222222222222222,\"#7201a8\"],[0.3333333333333333,\"#9c179e\"],[0.4444444444444444,\"#bd3786\"],[0.5555555555555556,\"#d8576b\"],[0.6666666666666666,\"#ed7953\"],[0.7777777777777778,\"#fb9f3a\"],[0.8888888888888888,\"#fdca26\"],[1.0,\"#f0f921\"]],\"type\":\"contour\"}],\"heatmapgl\":[{\"colorbar\":{\"outlinewidth\":0,\"ticks\":\"\"},\"colorscale\":[[0.0,\"#0d0887\"],[0.1111111111111111,\"#46039f\"],[0.2222222222222222,\"#7201a8\"],[0.3333333333333333,\"#9c179e\"],[0.4444444444444444,\"#bd3786\"],[0.5555555555555556,\"#d8576b\"],[0.6666666666666666,\"#ed7953\"],[0.7777777777777778,\"#fb9f3a\"],[0.8888888888888888,\"#fdca26\"],[1.0,\"#f0f921\"]],\"type\":\"heatmapgl\"}],\"heatmap\":[{\"colorbar\":{\"outlinewidth\":0,\"ticks\":\"\"},\"colorscale\":[[0.0,\"#0d0887\"],[0.1111111111111111,\"#46039f\"],[0.2222222222222222,\"#7201a8\"],[0.3333333333333333,\"#9c179e\"],[0.4444444444444444,\"#bd3786\"],[0.5555555555555556,\"#d8576b\"],[0.6666666666666666,\"#ed7953\"],[0.7777777777777778,\"#fb9f3a\"],[0.8888888888888888,\"#fdca26\"],[1.0,\"#f0f921\"]],\"type\":\"heatmap\"}],\"histogram2dcontour\":[{\"colorbar\":{\"outlinewidth\":0,\"ticks\":\"\"},\"colorscale\":[[0.0,\"#0d0887\"],[0.1111111111111111,\"#46039f\"],[0.2222222222222222,\"#7201a8\"],[0.3333333333333333,\"#9c179e\"],[0.4444444444444444,\"#bd3786\"],[0.5555555555555556,\"#d8576b\"],[0.6666666666666666,\"#ed7953\"],[0.7777777777777778,\"#fb9f3a\"],[0.8888888888888888,\"#fdca26\"],[1.0,\"#f0f921\"]],\"type\":\"histogram2dcontour\"}],\"histogram2d\":[{\"colorbar\":{\"outlinewidth\":0,\"ticks\":\"\"},\"colorscale\":[[0.0,\"#0d0887\"],[0.1111111111111111,\"#46039f\"],[0.2222222222222222,\"#7201a8\"],[0.3333333333333333,\"#9c179e\"],[0.4444444444444444,\"#bd3786\"],[0.5555555555555556,\"#d8576b\"],[0.6666666666666666,\"#ed7953\"],[0.7777777777777778,\"#fb9f3a\"],[0.8888888888888888,\"#fdca26\"],[1.0,\"#f0f921\"]],\"type\":\"histogram2d\"}],\"histogram\":[{\"marker\":{\"pattern\":{\"fillmode\":\"overlay\",\"size\":10,\"solidity\":0.2}},\"type\":\"histogram\"}],\"mesh3d\":[{\"colorbar\":{\"outlinewidth\":0,\"ticks\":\"\"},\"type\":\"mesh3d\"}],\"parcoords\":[{\"line\":{\"colorbar\":{\"outlinewidth\":0,\"ticks\":\"\"}},\"type\":\"parcoords\"}],\"pie\":[{\"automargin\":true,\"type\":\"pie\"}],\"scatter3d\":[{\"line\":{\"colorbar\":{\"outlinewidth\":0,\"ticks\":\"\"}},\"marker\":{\"colorbar\":{\"outlinewidth\":0,\"ticks\":\"\"}},\"type\":\"scatter3d\"}],\"scattercarpet\":[{\"marker\":{\"colorbar\":{\"outlinewidth\":0,\"ticks\":\"\"}},\"type\":\"scattercarpet\"}],\"scattergeo\":[{\"marker\":{\"colorbar\":{\"outlinewidth\":0,\"ticks\":\"\"}},\"type\":\"scattergeo\"}],\"scattergl\":[{\"marker\":{\"colorbar\":{\"outlinewidth\":0,\"ticks\":\"\"}},\"type\":\"scattergl\"}],\"scattermapbox\":[{\"marker\":{\"colorbar\":{\"outlinewidth\":0,\"ticks\":\"\"}},\"type\":\"scattermapbox\"}],\"scatterpolargl\":[{\"marker\":{\"colorbar\":{\"outlinewidth\":0,\"ticks\":\"\"}},\"type\":\"scatterpolargl\"}],\"scatterpolar\":[{\"marker\":{\"colorbar\":{\"outlinewidth\":0,\"ticks\":\"\"}},\"type\":\"scatterpolar\"}],\"scatter\":[{\"fillpattern\":{\"fillmode\":\"overlay\",\"size\":10,\"solidity\":0.2},\"type\":\"scatter\"}],\"scatterternary\":[{\"marker\":{\"colorbar\":{\"outlinewidth\":0,\"ticks\":\"\"}},\"type\":\"scatterternary\"}],\"surface\":[{\"colorbar\":{\"outlinewidth\":0,\"ticks\":\"\"},\"colorscale\":[[0.0,\"#0d0887\"],[0.1111111111111111,\"#46039f\"],[0.2222222222222222,\"#7201a8\"],[0.3333333333333333,\"#9c179e\"],[0.4444444444444444,\"#bd3786\"],[0.5555555555555556,\"#d8576b\"],[0.6666666666666666,\"#ed7953\"],[0.7777777777777778,\"#fb9f3a\"],[0.8888888888888888,\"#fdca26\"],[1.0,\"#f0f921\"]],\"type\":\"surface\"}],\"table\":[{\"cells\":{\"fill\":{\"color\":\"#EBF0F8\"},\"line\":{\"color\":\"white\"}},\"header\":{\"fill\":{\"color\":\"#C8D4E3\"},\"line\":{\"color\":\"white\"}},\"type\":\"table\"}]},\"layout\":{\"annotationdefaults\":{\"arrowcolor\":\"#2a3f5f\",\"arrowhead\":0,\"arrowwidth\":1},\"autotypenumbers\":\"strict\",\"coloraxis\":{\"colorbar\":{\"outlinewidth\":0,\"ticks\":\"\"}},\"colorscale\":{\"diverging\":[[0,\"#8e0152\"],[0.1,\"#c51b7d\"],[0.2,\"#de77ae\"],[0.3,\"#f1b6da\"],[0.4,\"#fde0ef\"],[0.5,\"#f7f7f7\"],[0.6,\"#e6f5d0\"],[0.7,\"#b8e186\"],[0.8,\"#7fbc41\"],[0.9,\"#4d9221\"],[1,\"#276419\"]],\"sequential\":[[0.0,\"#0d0887\"],[0.1111111111111111,\"#46039f\"],[0.2222222222222222,\"#7201a8\"],[0.3333333333333333,\"#9c179e\"],[0.4444444444444444,\"#bd3786\"],[0.5555555555555556,\"#d8576b\"],[0.6666666666666666,\"#ed7953\"],[0.7777777777777778,\"#fb9f3a\"],[0.8888888888888888,\"#fdca26\"],[1.0,\"#f0f921\"]],\"sequentialminus\":[[0.0,\"#0d0887\"],[0.1111111111111111,\"#46039f\"],[0.2222222222222222,\"#7201a8\"],[0.3333333333333333,\"#9c179e\"],[0.4444444444444444,\"#bd3786\"],[0.5555555555555556,\"#d8576b\"],[0.6666666666666666,\"#ed7953\"],[0.7777777777777778,\"#fb9f3a\"],[0.8888888888888888,\"#fdca26\"],[1.0,\"#f0f921\"]]},\"colorway\":[\"#636efa\",\"#EF553B\",\"#00cc96\",\"#ab63fa\",\"#FFA15A\",\"#19d3f3\",\"#FF6692\",\"#B6E880\",\"#FF97FF\",\"#FECB52\"],\"font\":{\"color\":\"#2a3f5f\"},\"geo\":{\"bgcolor\":\"white\",\"lakecolor\":\"white\",\"landcolor\":\"#E5ECF6\",\"showlakes\":true,\"showland\":true,\"subunitcolor\":\"white\"},\"hoverlabel\":{\"align\":\"left\"},\"hovermode\":\"closest\",\"mapbox\":{\"style\":\"light\"},\"paper_bgcolor\":\"white\",\"plot_bgcolor\":\"#E5ECF6\",\"polar\":{\"angularaxis\":{\"gridcolor\":\"white\",\"linecolor\":\"white\",\"ticks\":\"\"},\"bgcolor\":\"#E5ECF6\",\"radialaxis\":{\"gridcolor\":\"white\",\"linecolor\":\"white\",\"ticks\":\"\"}},\"scene\":{\"xaxis\":{\"backgroundcolor\":\"#E5ECF6\",\"gridcolor\":\"white\",\"gridwidth\":2,\"linecolor\":\"white\",\"showbackground\":true,\"ticks\":\"\",\"zerolinecolor\":\"white\"},\"yaxis\":{\"backgroundcolor\":\"#E5ECF6\",\"gridcolor\":\"white\",\"gridwidth\":2,\"linecolor\":\"white\",\"showbackground\":true,\"ticks\":\"\",\"zerolinecolor\":\"white\"},\"zaxis\":{\"backgroundcolor\":\"#E5ECF6\",\"gridcolor\":\"white\",\"gridwidth\":2,\"linecolor\":\"white\",\"showbackground\":true,\"ticks\":\"\",\"zerolinecolor\":\"white\"}},\"shapedefaults\":{\"line\":{\"color\":\"#2a3f5f\"}},\"ternary\":{\"aaxis\":{\"gridcolor\":\"white\",\"linecolor\":\"white\",\"ticks\":\"\"},\"baxis\":{\"gridcolor\":\"white\",\"linecolor\":\"white\",\"ticks\":\"\"},\"bgcolor\":\"#E5ECF6\",\"caxis\":{\"gridcolor\":\"white\",\"linecolor\":\"white\",\"ticks\":\"\"}},\"title\":{\"x\":0.05},\"xaxis\":{\"automargin\":true,\"gridcolor\":\"white\",\"linecolor\":\"white\",\"ticks\":\"\",\"title\":{\"standoff\":15},\"zerolinecolor\":\"white\",\"zerolinewidth\":2},\"yaxis\":{\"automargin\":true,\"gridcolor\":\"white\",\"linecolor\":\"white\",\"ticks\":\"\",\"title\":{\"standoff\":15},\"zerolinecolor\":\"white\",\"zerolinewidth\":2}}},\"title\":{\"text\":\"Internal flights from JFK Airport\"}},                        {\"responsive\": true}                    ).then(function(){\n",
       "                            \n",
       "var gd = document.getElementById('ef64346c-bb68-4887-9c31-2c85ff9c04dd');\n",
       "var x = new MutationObserver(function (mutations, observer) {{\n",
       "        var display = window.getComputedStyle(gd).display;\n",
       "        if (!display || display === 'none') {{\n",
       "            console.log([gd, 'removed!']);\n",
       "            Plotly.purge(gd);\n",
       "            observer.disconnect();\n",
       "        }}\n",
       "}});\n",
       "\n",
       "// Listen for the removal of the full notebook cells\n",
       "var notebookContainer = gd.closest('#notebook-container');\n",
       "if (notebookContainer) {{\n",
       "    x.observe(notebookContainer, {childList: true});\n",
       "}}\n",
       "\n",
       "// Listen for the clearing of the current output cell\n",
       "var outputEl = gd.closest('.output');\n",
       "if (outputEl) {{\n",
       "    x.observe(outputEl, {childList: true});\n",
       "}}\n",
       "\n",
       "                        })                };                });            </script>        </div>"
      ]
     },
     "metadata": {},
     "output_type": "display_data"
    },
    {
     "data": {
      "application/vnd.plotly.v1+json": {
       "config": {
        "linkText": "Export to plot.ly",
        "plotlyServerURL": "https://plot.ly",
        "showLink": false
       },
       "data": [
        {
         "lat": [
          40.63980103,
          -34.8222
         ],
         "line": {
          "color": "red",
          "width": 0.5
         },
         "locationmode": "ISO-3",
         "lon": [
          -73.77890015,
          -58.5358
         ],
         "mode": "lines",
         "name": "EZE",
         "opacity": 0.8,
         "type": "scattergeo"
        },
        {
         "lat": [
          40.63980103,
          19.4363
         ],
         "line": {
          "color": "red",
          "width": 0.5
         },
         "locationmode": "ISO-3",
         "lon": [
          -73.77890015,
          -99.072098
         ],
         "mode": "lines",
         "name": "MEX",
         "opacity": 0.8,
         "type": "scattergeo"
        },
        {
         "lat": [
          40.63980103,
          29.99340057373047
         ],
         "line": {
          "color": "red",
          "width": 0.5
         },
         "locationmode": "ISO-3",
         "lon": [
          -73.77890015,
          -90.25800323486328
         ],
         "mode": "lines",
         "name": "MSY",
         "opacity": 0.8,
         "type": "scattergeo"
        },
        {
         "lat": [
          40.63980103,
          31.7226009369
         ],
         "line": {
          "color": "red",
          "width": 0.5
         },
         "locationmode": "ISO-3",
         "lon": [
          -73.77890015,
          35.9931983948
         ],
         "mode": "lines",
         "name": "AMM",
         "opacity": 0.8,
         "type": "scattergeo"
        },
        {
         "lat": [
          40.63980103,
          17.1367
         ],
         "line": {
          "color": "red",
          "width": 0.5
         },
         "locationmode": "ISO-3",
         "lon": [
          -73.77890015,
          -61.792702
         ],
         "mode": "lines",
         "name": "ANU",
         "opacity": 0.8,
         "type": "scattergeo"
        },
        {
         "lat": [
          40.63980103,
          24.433000564575195
         ],
         "line": {
          "color": "red",
          "width": 0.5
         },
         "locationmode": "ISO-3",
         "lon": [
          -73.77890015,
          54.651100158691406
         ],
         "mode": "lines",
         "name": "AUH",
         "opacity": 0.8,
         "type": "scattergeo"
        },
        {
         "lat": [
          40.63980103,
          30.194499969482425
         ],
         "line": {
          "color": "red",
          "width": 0.5
         },
         "locationmode": "ISO-3",
         "lon": [
          -73.77890015,
          -97.6698989868164
         ],
         "mode": "lines",
         "name": "AUS",
         "opacity": 0.8,
         "type": "scattergeo"
        },
        {
         "lat": [
          40.63980103,
          41.2971
         ],
         "line": {
          "color": "red",
          "width": 0.5
         },
         "locationmode": "ISO-3",
         "lon": [
          -73.77890015,
          2.07846
         ],
         "mode": "lines",
         "name": "BCN",
         "opacity": 0.8,
         "type": "scattergeo"
        },
        {
         "lat": [
          40.63980103,
          32.363998413085945
         ],
         "line": {
          "color": "red",
          "width": 0.5
         },
         "locationmode": "ISO-3",
         "lon": [
          -73.77890015,
          -64.67870330810547
         ],
         "mode": "lines",
         "name": "BDA",
         "opacity": 0.8,
         "type": "scattergeo"
        },
        {
         "lat": [
          40.63980103,
          36.1245002746582
         ],
         "line": {
          "color": "red",
          "width": 0.5
         },
         "locationmode": "ISO-3",
         "lon": [
          -73.77890015,
          -86.6781997680664
         ],
         "mode": "lines",
         "name": "BNA",
         "opacity": 0.8,
         "type": "scattergeo"
        },
        {
         "lat": [
          40.63980103,
          42.36429977
         ],
         "line": {
          "color": "red",
          "width": 0.5
         },
         "locationmode": "ISO-3",
         "lon": [
          -73.77890015,
          -71.00520325
         ],
         "mode": "lines",
         "name": "BOS",
         "opacity": 0.8,
         "type": "scattergeo"
        },
        {
         "lat": [
          40.63980103,
          39.1754
         ],
         "line": {
          "color": "red",
          "width": 0.5
         },
         "locationmode": "ISO-3",
         "lon": [
          -73.77890015,
          -76.668297
         ],
         "mode": "lines",
         "name": "BWI",
         "opacity": 0.8,
         "type": "scattergeo"
        },
        {
         "lat": [
          40.63980103,
          10.601194
         ],
         "line": {
          "color": "red",
          "width": 0.5
         },
         "locationmode": "ISO-3",
         "lon": [
          -73.77890015,
          -66.991222
         ],
         "mode": "lines",
         "name": "CCS",
         "opacity": 0.8,
         "type": "scattergeo"
        },
        {
         "lat": [
          40.63980103,
          49.012798
         ],
         "line": {
          "color": "red",
          "width": 0.5
         },
         "locationmode": "ISO-3",
         "lon": [
          -73.77890015,
          2.55
         ],
         "mode": "lines",
         "name": "CDG",
         "opacity": 0.8,
         "type": "scattergeo"
        },
        {
         "lat": [
          40.63980103,
          41.4117012024
         ],
         "line": {
          "color": "red",
          "width": 0.5
         },
         "locationmode": "ISO-3",
         "lon": [
          -73.77890015,
          -81.8498001099
         ],
         "mode": "lines",
         "name": "CLE",
         "opacity": 0.8,
         "type": "scattergeo"
        },
        {
         "lat": [
          40.63980103,
          35.2140007019043
         ],
         "line": {
          "color": "red",
          "width": 0.5
         },
         "locationmode": "ISO-3",
         "lon": [
          -73.77890015,
          -80.94309997558594
         ],
         "mode": "lines",
         "name": "CLT",
         "opacity": 0.8,
         "type": "scattergeo"
        },
        {
         "lat": [
          40.63980103,
          39.998001
         ],
         "line": {
          "color": "red",
          "width": 0.5
         },
         "locationmode": "ISO-3",
         "lon": [
          -73.77890015,
          -82.891899
         ],
         "mode": "lines",
         "name": "CMH",
         "opacity": 0.8,
         "type": "scattergeo"
        },
        {
         "lat": [
          40.63980103,
          21.036500930800003
         ],
         "line": {
          "color": "red",
          "width": 0.5
         },
         "locationmode": "ISO-3",
         "lon": [
          -73.77890015,
          -86.8770980835
         ],
         "mode": "lines",
         "name": "CUN",
         "opacity": 0.8,
         "type": "scattergeo"
        },
        {
         "lat": [
          40.63980103,
          39.0488014221
         ],
         "line": {
          "color": "red",
          "width": 0.5
         },
         "locationmode": "ISO-3",
         "lon": [
          -73.77890015,
          -84.6678009033
         ],
         "mode": "lines",
         "name": "CVG",
         "opacity": 0.8,
         "type": "scattergeo"
        },
        {
         "lat": [
          40.63980103,
          38.8521
         ],
         "line": {
          "color": "red",
          "width": 0.5
         },
         "locationmode": "ISO-3",
         "lon": [
          -73.77890015,
          -77.037697
         ],
         "mode": "lines",
         "name": "DCA",
         "opacity": 0.8,
         "type": "scattergeo"
        },
        {
         "lat": [
          40.63980103,
          32.896801
         ],
         "line": {
          "color": "red",
          "width": 0.5
         },
         "locationmode": "ISO-3",
         "lon": [
          -73.77890015,
          -97.038002
         ],
         "mode": "lines",
         "name": "DFW",
         "opacity": 0.8,
         "type": "scattergeo"
        },
        {
         "lat": [
          40.63980103,
          25.273056
         ],
         "line": {
          "color": "red",
          "width": 0.5
         },
         "locationmode": "ISO-3",
         "lon": [
          -73.77890015,
          51.608056
         ],
         "mode": "lines",
         "name": "DOH",
         "opacity": 0.8,
         "type": "scattergeo"
        },
        {
         "lat": [
          40.63980103,
          53.421299
         ],
         "line": {
          "color": "red",
          "width": 0.5
         },
         "locationmode": "ISO-3",
         "lon": [
          -73.77890015,
          -6.27007
         ],
         "mode": "lines",
         "name": "DUB",
         "opacity": 0.8,
         "type": "scattergeo"
        },
        {
         "lat": [
          40.63980103,
          51.289501
         ],
         "line": {
          "color": "red",
          "width": 0.5
         },
         "locationmode": "ISO-3",
         "lon": [
          -73.77890015,
          6.766780000000001
         ],
         "mode": "lines",
         "name": "DUS",
         "opacity": 0.8,
         "type": "scattergeo"
        },
        {
         "lat": [
          40.63980103,
          -34.8222
         ],
         "line": {
          "color": "red",
          "width": 0.5
         },
         "locationmode": "ISO-3",
         "lon": [
          -73.77890015,
          -58.5358
         ],
         "mode": "lines",
         "name": "EZE",
         "opacity": 0.8,
         "type": "scattergeo"
        },
        {
         "lat": [
          40.63980103,
          41.8002778
         ],
         "line": {
          "color": "red",
          "width": 0.5
         },
         "locationmode": "ISO-3",
         "lon": [
          -73.77890015,
          12.2388889
         ],
         "mode": "lines",
         "name": "FCO",
         "opacity": 0.8,
         "type": "scattergeo"
        },
        {
         "lat": [
          40.63980103,
          -22.8099994659
         ],
         "line": {
          "color": "red",
          "width": 0.5
         },
         "locationmode": "ISO-3",
         "lon": [
          -73.77890015,
          -43.2505569458
         ],
         "mode": "lines",
         "name": "GIG",
         "opacity": 0.8,
         "type": "scattergeo"
        },
        {
         "lat": [
          40.63980103,
          -23.435556411743164
         ],
         "line": {
          "color": "red",
          "width": 0.5
         },
         "locationmode": "ISO-3",
         "lon": [
          -73.77890015,
          -46.47305679321289
         ],
         "mode": "lines",
         "name": "GRU",
         "opacity": 0.8,
         "type": "scattergeo"
        },
        {
         "lat": [
          40.63980103,
          -2.15741991997
         ],
         "line": {
          "color": "red",
          "width": 0.5
         },
         "locationmode": "ISO-3",
         "lon": [
          -73.77890015,
          -79.88359832760001
         ],
         "mode": "lines",
         "name": "GYE",
         "opacity": 0.8,
         "type": "scattergeo"
        },
        {
         "lat": [
          40.63980103,
          60.317199707031
         ],
         "line": {
          "color": "red",
          "width": 0.5
         },
         "locationmode": "ISO-3",
         "lon": [
          -73.77890015,
          24.963300704956
         ],
         "mode": "lines",
         "name": "HEL",
         "opacity": 0.8,
         "type": "scattergeo"
        },
        {
         "lat": [
          40.63980103,
          22.308901
         ],
         "line": {
          "color": "red",
          "width": 0.5
         },
         "locationmode": "ISO-3",
         "lon": [
          -73.77890015,
          113.915001
         ],
         "mode": "lines",
         "name": "HKG",
         "opacity": 0.8,
         "type": "scattergeo"
        },
        {
         "lat": [
          40.63980103,
          39.7173
         ],
         "line": {
          "color": "red",
          "width": 0.5
         },
         "locationmode": "ISO-3",
         "lon": [
          -73.77890015,
          -86.294403
         ],
         "mode": "lines",
         "name": "IND",
         "opacity": 0.8,
         "type": "scattergeo"
        },
        {
         "lat": [
          40.63980103,
          36.08010101
         ],
         "line": {
          "color": "red",
          "width": 0.5
         },
         "locationmode": "ISO-3",
         "lon": [
          -73.77890015,
          -115.1520004
         ],
         "mode": "lines",
         "name": "LAS",
         "opacity": 0.8,
         "type": "scattergeo"
        },
        {
         "lat": [
          40.63980103,
          33.94250107
         ],
         "line": {
          "color": "red",
          "width": 0.5
         },
         "locationmode": "ISO-3",
         "lon": [
          -73.77890015,
          -118.4079971
         ],
         "mode": "lines",
         "name": "LAX",
         "opacity": 0.8,
         "type": "scattergeo"
        },
        {
         "lat": [
          40.63980103,
          51.505299
         ],
         "line": {
          "color": "red",
          "width": 0.5
         },
         "locationmode": "ISO-3",
         "lon": [
          -73.77890015,
          0.0552779999999999
         ],
         "mode": "lines",
         "name": "LCY",
         "opacity": 0.8,
         "type": "scattergeo"
        },
        {
         "lat": [
          40.63980103,
          51.4706
         ],
         "line": {
          "color": "red",
          "width": 0.5
         },
         "locationmode": "ISO-3",
         "lon": [
          -73.77890015,
          -0.461941
         ],
         "mode": "lines",
         "name": "LHR",
         "opacity": 0.8,
         "type": "scattergeo"
        },
        {
         "lat": [
          40.63980103,
          -12.0219
         ],
         "line": {
          "color": "red",
          "width": 0.5
         },
         "locationmode": "ISO-3",
         "lon": [
          -73.77890015,
          -77.114305
         ],
         "mode": "lines",
         "name": "LIM",
         "opacity": 0.8,
         "type": "scattergeo"
        },
        {
         "lat": [
          40.63980103,
          40.471926
         ],
         "line": {
          "color": "red",
          "width": 0.5
         },
         "locationmode": "ISO-3",
         "lon": [
          -73.77890015,
          -3.56264
         ],
         "mode": "lines",
         "name": "MAD",
         "opacity": 0.8,
         "type": "scattergeo"
        },
        {
         "lat": [
          40.63980103,
          53.35369873046875
         ],
         "line": {
          "color": "red",
          "width": 0.5
         },
         "locationmode": "ISO-3",
         "lon": [
          -73.77890015,
          -2.2749500274658203
         ],
         "mode": "lines",
         "name": "MAN",
         "opacity": 0.8,
         "type": "scattergeo"
        },
        {
         "lat": [
          40.63980103,
          28.429399490356445
         ],
         "line": {
          "color": "red",
          "width": 0.5
         },
         "locationmode": "ISO-3",
         "lon": [
          -73.77890015,
          -81.30899810791016
         ],
         "mode": "lines",
         "name": "MCO",
         "opacity": 0.8,
         "type": "scattergeo"
        },
        {
         "lat": [
          40.63980103,
          25.79319953918457
         ],
         "line": {
          "color": "red",
          "width": 0.5
         },
         "locationmode": "ISO-3",
         "lon": [
          -73.77890015,
          -80.29060363769531
         ],
         "mode": "lines",
         "name": "MIA",
         "opacity": 0.8,
         "type": "scattergeo"
        },
        {
         "lat": [
          40.63980103,
          45.6306
         ],
         "line": {
          "color": "red",
          "width": 0.5
         },
         "locationmode": "ISO-3",
         "lon": [
          -73.77890015,
          8.728110000000001
         ],
         "mode": "lines",
         "name": "MXP",
         "opacity": 0.8,
         "type": "scattergeo"
        },
        {
         "lat": [
          40.63980103,
          35.7647018433
         ],
         "line": {
          "color": "red",
          "width": 0.5
         },
         "locationmode": "ISO-3",
         "lon": [
          -73.77890015,
          140.386001587
         ],
         "mode": "lines",
         "name": "NRT",
         "opacity": 0.8,
         "type": "scattergeo"
        },
        {
         "lat": [
          40.63980103,
          41.9786
         ],
         "line": {
          "color": "red",
          "width": 0.5
         },
         "locationmode": "ISO-3",
         "lon": [
          -73.77890015,
          -87.9048
         ],
         "mode": "lines",
         "name": "ORD",
         "opacity": 0.8,
         "type": "scattergeo"
        },
        {
         "lat": [
          40.63980103,
          36.89459991455078
         ],
         "line": {
          "color": "red",
          "width": 0.5
         },
         "locationmode": "ISO-3",
         "lon": [
          -73.77890015,
          -76.20120239257812
         ],
         "mode": "lines",
         "name": "ORF",
         "opacity": 0.8,
         "type": "scattergeo"
        },
        {
         "lat": [
          40.63980103,
          48.7233333
         ],
         "line": {
          "color": "red",
          "width": 0.5
         },
         "locationmode": "ISO-3",
         "lon": [
          -73.77890015,
          2.3794444
         ],
         "mode": "lines",
         "name": "ORY",
         "opacity": 0.8,
         "type": "scattergeo"
        },
        {
         "lat": [
          40.63980103,
          18.57999992370605
         ],
         "line": {
          "color": "red",
          "width": 0.5
         },
         "locationmode": "ISO-3",
         "lon": [
          -73.77890015,
          -72.2925033569336
         ],
         "mode": "lines",
         "name": "PAP",
         "opacity": 0.8,
         "type": "scattergeo"
        },
        {
         "lat": [
          40.63980103,
          33.43429946899414
         ],
         "line": {
          "color": "red",
          "width": 0.5
         },
         "locationmode": "ISO-3",
         "lon": [
          -73.77890015,
          -112.01200103759766
         ],
         "mode": "lines",
         "name": "PHX",
         "opacity": 0.8,
         "type": "scattergeo"
        },
        {
         "lat": [
          40.63980103,
          40.49150085
         ],
         "line": {
          "color": "red",
          "width": 0.5
         },
         "locationmode": "ISO-3",
         "lon": [
          -73.77890015,
          -80.23290253
         ],
         "mode": "lines",
         "name": "PIT",
         "opacity": 0.8,
         "type": "scattergeo"
        },
        {
         "lat": [
          40.63980103,
          35.87760162353516
         ],
         "line": {
          "color": "red",
          "width": 0.5
         },
         "locationmode": "ISO-3",
         "lon": [
          -73.77890015,
          -78.7874984741211
         ],
         "mode": "lines",
         "name": "RDU",
         "opacity": 0.8,
         "type": "scattergeo"
        },
        {
         "lat": [
          40.63980103,
          32.7336006165
         ],
         "line": {
          "color": "red",
          "width": 0.5
         },
         "locationmode": "ISO-3",
         "lon": [
          -73.77890015,
          -117.190002441
         ],
         "mode": "lines",
         "name": "SAN",
         "opacity": 0.8,
         "type": "scattergeo"
        },
        {
         "lat": [
          40.63980103,
          -33.393001556396484
         ],
         "line": {
          "color": "red",
          "width": 0.5
         },
         "locationmode": "ISO-3",
         "lon": [
          -73.77890015,
          -70.78579711914062
         ],
         "mode": "lines",
         "name": "SCL",
         "opacity": 0.8,
         "type": "scattergeo"
        },
        {
         "lat": [
          40.63980103,
          47.449001
         ],
         "line": {
          "color": "red",
          "width": 0.5
         },
         "locationmode": "ISO-3",
         "lon": [
          -73.77890015,
          -122.308998
         ],
         "mode": "lines",
         "name": "SEA",
         "opacity": 0.8,
         "type": "scattergeo"
        },
        {
         "lat": [
          40.63980103,
          37.61899948120117
         ],
         "line": {
          "color": "red",
          "width": 0.5
         },
         "locationmode": "ISO-3",
         "lon": [
          -73.77890015,
          -122.375
         ],
         "mode": "lines",
         "name": "SFO",
         "opacity": 0.8,
         "type": "scattergeo"
        },
        {
         "lat": [
          40.63980103,
          9.993860244750977
         ],
         "line": {
          "color": "red",
          "width": 0.5
         },
         "locationmode": "ISO-3",
         "lon": [
          -73.77890015,
          -84.20880126953125
         ],
         "mode": "lines",
         "name": "SJO",
         "opacity": 0.8,
         "type": "scattergeo"
        },
        {
         "lat": [
          40.63980103,
          18.4393997192
         ],
         "line": {
          "color": "red",
          "width": 0.5
         },
         "locationmode": "ISO-3",
         "lon": [
          -73.77890015,
          -66.0018005371
         ],
         "mode": "lines",
         "name": "SJU",
         "opacity": 0.8,
         "type": "scattergeo"
        },
        {
         "lat": [
          40.63980103,
          18.337299346923828
         ],
         "line": {
          "color": "red",
          "width": 0.5
         },
         "locationmode": "ISO-3",
         "lon": [
          -73.77890015,
          -64.97339630126953
         ],
         "mode": "lines",
         "name": "STT",
         "opacity": 0.8,
         "type": "scattergeo"
        },
        {
         "lat": [
          40.63980103,
          18.0410003662
         ],
         "line": {
          "color": "red",
          "width": 0.5
         },
         "locationmode": "ISO-3",
         "lon": [
          -73.77890015,
          -63.1088981628
         ],
         "mode": "lines",
         "name": "SXM",
         "opacity": 0.8,
         "type": "scattergeo"
        },
        {
         "lat": [
          40.63980103,
          27.975500106811523
         ],
         "line": {
          "color": "red",
          "width": 0.5
         },
         "locationmode": "ISO-3",
         "lon": [
          -73.77890015,
          -82.533203125
         ],
         "mode": "lines",
         "name": "TPA",
         "opacity": 0.8,
         "type": "scattergeo"
        },
        {
         "lat": [
          40.63980103,
          52.5597
         ],
         "line": {
          "color": "red",
          "width": 0.5
         },
         "locationmode": "ISO-3",
         "lon": [
          -73.77890015,
          13.2877
         ],
         "mode": "lines",
         "name": "TXL",
         "opacity": 0.8,
         "type": "scattergeo"
        },
        {
         "lat": [
          40.63980103,
          45.4706001282
         ],
         "line": {
          "color": "red",
          "width": 0.5
         },
         "locationmode": "ISO-3",
         "lon": [
          -73.77890015,
          -73.7407989502
         ],
         "mode": "lines",
         "name": "YUL",
         "opacity": 0.8,
         "type": "scattergeo"
        },
        {
         "lat": [
          40.63980103,
          51.113899231000005
         ],
         "line": {
          "color": "red",
          "width": 0.5
         },
         "locationmode": "ISO-3",
         "lon": [
          -73.77890015,
          -114.019996643
         ],
         "mode": "lines",
         "name": "YYC",
         "opacity": 0.8,
         "type": "scattergeo"
        },
        {
         "lat": [
          40.63980103,
          43.6772003174
         ],
         "line": {
          "color": "red",
          "width": 0.5
         },
         "locationmode": "ISO-3",
         "lon": [
          -73.77890015,
          -79.63059997559999
         ],
         "mode": "lines",
         "name": "YYZ",
         "opacity": 0.8,
         "type": "scattergeo"
        },
        {
         "lat": [
          40.63980103,
          47.464699
         ],
         "line": {
          "color": "red",
          "width": 0.5
         },
         "locationmode": "ISO-3",
         "lon": [
          -73.77890015,
          8.54917
         ],
         "mode": "lines",
         "name": "ZRH",
         "opacity": 0.8,
         "type": "scattergeo"
        },
        {
         "lat": [
          40.63980103,
          51.289501
         ],
         "line": {
          "color": "red",
          "width": 0.5
         },
         "locationmode": "ISO-3",
         "lon": [
          -73.77890015,
          6.766780000000001
         ],
         "mode": "lines",
         "name": "DUS",
         "opacity": 0.8,
         "type": "scattergeo"
        },
        {
         "lat": [
          40.63980103,
          52.5597
         ],
         "line": {
          "color": "red",
          "width": 0.5
         },
         "locationmode": "ISO-3",
         "lon": [
          -73.77890015,
          13.2877
         ],
         "mode": "lines",
         "name": "TXL",
         "opacity": 0.8,
         "type": "scattergeo"
        },
        {
         "lat": [
          40.63980103,
          43.6772003174
         ],
         "line": {
          "color": "red",
          "width": 0.5
         },
         "locationmode": "ISO-3",
         "lon": [
          -73.77890015,
          -79.63059997559999
         ],
         "mode": "lines",
         "name": "YYZ",
         "opacity": 0.8,
         "type": "scattergeo"
        },
        {
         "lat": [
          40.63980103,
          33.6367
         ],
         "line": {
          "color": "red",
          "width": 0.5
         },
         "locationmode": "ISO-3",
         "lon": [
          -73.77890015,
          -84.428101
         ],
         "mode": "lines",
         "name": "ATL",
         "opacity": 0.8,
         "type": "scattergeo"
        },
        {
         "lat": [
          40.63980103,
          41.2971
         ],
         "line": {
          "color": "red",
          "width": 0.5
         },
         "locationmode": "ISO-3",
         "lon": [
          -73.77890015,
          2.07846
         ],
         "mode": "lines",
         "name": "BCN",
         "opacity": 0.8,
         "type": "scattergeo"
        },
        {
         "lat": [
          40.63980103,
          50.9014015198
         ],
         "line": {
          "color": "red",
          "width": 0.5
         },
         "locationmode": "ISO-3",
         "lon": [
          -73.77890015,
          4.48443984985
         ],
         "mode": "lines",
         "name": "BRU",
         "opacity": 0.8,
         "type": "scattergeo"
        },
        {
         "lat": [
          40.63980103,
          49.012798
         ],
         "line": {
          "color": "red",
          "width": 0.5
         },
         "locationmode": "ISO-3",
         "lon": [
          -73.77890015,
          2.55
         ],
         "mode": "lines",
         "name": "CDG",
         "opacity": 0.8,
         "type": "scattergeo"
        },
        {
         "lat": [
          40.63980103,
          53.421299
         ],
         "line": {
          "color": "red",
          "width": 0.5
         },
         "locationmode": "ISO-3",
         "lon": [
          -73.77890015,
          -6.27007
         ],
         "mode": "lines",
         "name": "DUB",
         "opacity": 0.8,
         "type": "scattergeo"
        },
        {
         "lat": [
          40.63980103,
          50.033333
         ],
         "line": {
          "color": "red",
          "width": 0.5
         },
         "locationmode": "ISO-3",
         "lon": [
          -73.77890015,
          8.570556
         ],
         "mode": "lines",
         "name": "FRA",
         "opacity": 0.8,
         "type": "scattergeo"
        },
        {
         "lat": [
          40.63980103,
          51.4706
         ],
         "line": {
          "color": "red",
          "width": 0.5
         },
         "locationmode": "ISO-3",
         "lon": [
          -73.77890015,
          -0.461941
         ],
         "mode": "lines",
         "name": "LHR",
         "opacity": 0.8,
         "type": "scattergeo"
        },
        {
         "lat": [
          40.63980103,
          40.471926
         ],
         "line": {
          "color": "red",
          "width": 0.5
         },
         "locationmode": "ISO-3",
         "lon": [
          -73.77890015,
          -3.56264
         ],
         "mode": "lines",
         "name": "MAD",
         "opacity": 0.8,
         "type": "scattergeo"
        },
        {
         "lat": [
          40.63980103,
          29.99340057373047
         ],
         "line": {
          "color": "red",
          "width": 0.5
         },
         "locationmode": "ISO-3",
         "lon": [
          -73.77890015,
          -90.25800323486328
         ],
         "mode": "lines",
         "name": "MSY",
         "opacity": 0.8,
         "type": "scattergeo"
        },
        {
         "lat": [
          40.63980103,
          43.658401489300005
         ],
         "line": {
          "color": "red",
          "width": 0.5
         },
         "locationmode": "ISO-3",
         "lon": [
          -73.77890015,
          7.215869903560001
         ],
         "mode": "lines",
         "name": "NCE",
         "opacity": 0.8,
         "type": "scattergeo"
        },
        {
         "lat": [
          40.63980103,
          18.57999992370605
         ],
         "line": {
          "color": "red",
          "width": 0.5
         },
         "locationmode": "ISO-3",
         "lon": [
          -73.77890015,
          -72.2925033569336
         ],
         "mode": "lines",
         "name": "PAP",
         "opacity": 0.8,
         "type": "scattergeo"
        },
        {
         "lat": [
          40.63980103,
          28.5665
         ],
         "line": {
          "color": "red",
          "width": 0.5
         },
         "locationmode": "ISO-3",
         "lon": [
          -73.77890015,
          77.103104
         ],
         "mode": "lines",
         "name": "DEL",
         "opacity": 0.8,
         "type": "scattergeo"
        },
        {
         "lat": [
          40.63980103,
          51.4706
         ],
         "line": {
          "color": "red",
          "width": 0.5
         },
         "locationmode": "ISO-3",
         "lon": [
          -73.77890015,
          -0.461941
         ],
         "mode": "lines",
         "name": "LHR",
         "opacity": 0.8,
         "type": "scattergeo"
        },
        {
         "lat": [
          40.63980103,
          33.6367
         ],
         "line": {
          "color": "red",
          "width": 0.5
         },
         "locationmode": "ISO-3",
         "lon": [
          -73.77890015,
          -84.428101
         ],
         "mode": "lines",
         "name": "ATL",
         "opacity": 0.8,
         "type": "scattergeo"
        },
        {
         "lat": [
          40.63980103,
          21.036500930800003
         ],
         "line": {
          "color": "red",
          "width": 0.5
         },
         "locationmode": "ISO-3",
         "lon": [
          -73.77890015,
          -86.8770980835
         ],
         "mode": "lines",
         "name": "CUN",
         "opacity": 0.8,
         "type": "scattergeo"
        },
        {
         "lat": [
          40.63980103,
          19.4363
         ],
         "line": {
          "color": "red",
          "width": 0.5
         },
         "locationmode": "ISO-3",
         "lon": [
          -73.77890015,
          -99.072098
         ],
         "mode": "lines",
         "name": "MEX",
         "opacity": 0.8,
         "type": "scattergeo"
        },
        {
         "lat": [
          40.63980103,
          -34.8222
         ],
         "line": {
          "color": "red",
          "width": 0.5
         },
         "locationmode": "ISO-3",
         "lon": [
          -73.77890015,
          -58.5358
         ],
         "mode": "lines",
         "name": "EZE",
         "opacity": 0.8,
         "type": "scattergeo"
        },
        {
         "lat": [
          40.63980103,
          33.94250107
         ],
         "line": {
          "color": "red",
          "width": 0.5
         },
         "locationmode": "ISO-3",
         "lon": [
          -73.77890015,
          -118.4079971
         ],
         "mode": "lines",
         "name": "LAX",
         "opacity": 0.8,
         "type": "scattergeo"
        },
        {
         "lat": [
          40.63980103,
          32.7336006165
         ],
         "line": {
          "color": "red",
          "width": 0.5
         },
         "locationmode": "ISO-3",
         "lon": [
          -73.77890015,
          -117.190002441
         ],
         "mode": "lines",
         "name": "SAN",
         "opacity": 0.8,
         "type": "scattergeo"
        },
        {
         "lat": [
          40.63980103,
          47.449001
         ],
         "line": {
          "color": "red",
          "width": 0.5
         },
         "locationmode": "ISO-3",
         "lon": [
          -73.77890015,
          -122.308998
         ],
         "mode": "lines",
         "name": "SEA",
         "opacity": 0.8,
         "type": "scattergeo"
        },
        {
         "lat": [
          40.63980103,
          37.61899948120117
         ],
         "line": {
          "color": "red",
          "width": 0.5
         },
         "locationmode": "ISO-3",
         "lon": [
          -73.77890015,
          -122.375
         ],
         "mode": "lines",
         "name": "SFO",
         "opacity": 0.8,
         "type": "scattergeo"
        },
        {
         "lat": [
          40.63980103,
          33.36750030517578
         ],
         "line": {
          "color": "red",
          "width": 0.5
         },
         "locationmode": "ISO-3",
         "lon": [
          -73.77890015,
          -7.589970111846924
         ],
         "mode": "lines",
         "name": "CMN",
         "opacity": 0.8,
         "type": "scattergeo"
        },
        {
         "lat": [
          40.63980103,
          4.70159
         ],
         "line": {
          "color": "red",
          "width": 0.5
         },
         "locationmode": "ISO-3",
         "lon": [
          -73.77890015,
          -74.1469
         ],
         "mode": "lines",
         "name": "BOG",
         "opacity": 0.8,
         "type": "scattergeo"
        },
        {
         "lat": [
          40.63980103,
          6.164540000000001
         ],
         "line": {
          "color": "red",
          "width": 0.5
         },
         "locationmode": "ISO-3",
         "lon": [
          -73.77890015,
          -75.4231
         ],
         "mode": "lines",
         "name": "MDE",
         "opacity": 0.8,
         "type": "scattergeo"
        },
        {
         "lat": [
          40.63980103,
          13.4409
         ],
         "line": {
          "color": "red",
          "width": 0.5
         },
         "locationmode": "ISO-3",
         "lon": [
          -73.77890015,
          -89.055702
         ],
         "mode": "lines",
         "name": "SAL",
         "opacity": 0.8,
         "type": "scattergeo"
        },
        {
         "lat": [
          40.63980103,
          15.4526
         ],
         "line": {
          "color": "red",
          "width": 0.5
         },
         "locationmode": "ISO-3",
         "lon": [
          -73.77890015,
          -87.923599
         ],
         "mode": "lines",
         "name": "SAP",
         "opacity": 0.8,
         "type": "scattergeo"
        },
        {
         "lat": [
          40.63980103,
          41.2971
         ],
         "line": {
          "color": "red",
          "width": 0.5
         },
         "locationmode": "ISO-3",
         "lon": [
          -73.77890015,
          2.07846
         ],
         "mode": "lines",
         "name": "BCN",
         "opacity": 0.8,
         "type": "scattergeo"
        },
        {
         "lat": [
          40.63980103,
          49.012798
         ],
         "line": {
          "color": "red",
          "width": 0.5
         },
         "locationmode": "ISO-3",
         "lon": [
          -73.77890015,
          2.55
         ],
         "mode": "lines",
         "name": "CDG",
         "opacity": 0.8,
         "type": "scattergeo"
        },
        {
         "lat": [
          40.63980103,
          53.421299
         ],
         "line": {
          "color": "red",
          "width": 0.5
         },
         "locationmode": "ISO-3",
         "lon": [
          -73.77890015,
          -6.27007
         ],
         "mode": "lines",
         "name": "DUB",
         "opacity": 0.8,
         "type": "scattergeo"
        },
        {
         "lat": [
          40.63980103,
          41.8002778
         ],
         "line": {
          "color": "red",
          "width": 0.5
         },
         "locationmode": "ISO-3",
         "lon": [
          -73.77890015,
          12.2388889
         ],
         "mode": "lines",
         "name": "FCO",
         "opacity": 0.8,
         "type": "scattergeo"
        },
        {
         "lat": [
          40.63980103,
          60.317199707031
         ],
         "line": {
          "color": "red",
          "width": 0.5
         },
         "locationmode": "ISO-3",
         "lon": [
          -73.77890015,
          24.963300704956
         ],
         "mode": "lines",
         "name": "HEL",
         "opacity": 0.8,
         "type": "scattergeo"
        },
        {
         "lat": [
          40.63980103,
          51.505299
         ],
         "line": {
          "color": "red",
          "width": 0.5
         },
         "locationmode": "ISO-3",
         "lon": [
          -73.77890015,
          0.0552779999999999
         ],
         "mode": "lines",
         "name": "LCY",
         "opacity": 0.8,
         "type": "scattergeo"
        },
        {
         "lat": [
          40.63980103,
          51.4706
         ],
         "line": {
          "color": "red",
          "width": 0.5
         },
         "locationmode": "ISO-3",
         "lon": [
          -73.77890015,
          -0.461941
         ],
         "mode": "lines",
         "name": "LHR",
         "opacity": 0.8,
         "type": "scattergeo"
        },
        {
         "lat": [
          40.63980103,
          40.471926
         ],
         "line": {
          "color": "red",
          "width": 0.5
         },
         "locationmode": "ISO-3",
         "lon": [
          -73.77890015,
          -3.56264
         ],
         "mode": "lines",
         "name": "MAD",
         "opacity": 0.8,
         "type": "scattergeo"
        },
        {
         "lat": [
          40.63980103,
          53.35369873046875
         ],
         "line": {
          "color": "red",
          "width": 0.5
         },
         "locationmode": "ISO-3",
         "lon": [
          -73.77890015,
          -2.2749500274658203
         ],
         "mode": "lines",
         "name": "MAN",
         "opacity": 0.8,
         "type": "scattergeo"
        },
        {
         "lat": [
          40.63980103,
          45.6306
         ],
         "line": {
          "color": "red",
          "width": 0.5
         },
         "locationmode": "ISO-3",
         "lon": [
          -73.77890015,
          8.728110000000001
         ],
         "mode": "lines",
         "name": "MXP",
         "opacity": 0.8,
         "type": "scattergeo"
        },
        {
         "lat": [
          40.63980103,
          18.4393997192
         ],
         "line": {
          "color": "red",
          "width": 0.5
         },
         "locationmode": "ISO-3",
         "lon": [
          -73.77890015,
          -66.0018005371
         ],
         "mode": "lines",
         "name": "SJU",
         "opacity": 0.8,
         "type": "scattergeo"
        },
        {
         "lat": [
          40.63980103,
          45.4706001282
         ],
         "line": {
          "color": "red",
          "width": 0.5
         },
         "locationmode": "ISO-3",
         "lon": [
          -73.77890015,
          -73.7407989502
         ],
         "mode": "lines",
         "name": "YUL",
         "opacity": 0.8,
         "type": "scattergeo"
        },
        {
         "lat": [
          40.63980103,
          43.6772003174
         ],
         "line": {
          "color": "red",
          "width": 0.5
         },
         "locationmode": "ISO-3",
         "lon": [
          -73.77890015,
          -79.63059997559999
         ],
         "mode": "lines",
         "name": "YYZ",
         "opacity": 0.8,
         "type": "scattergeo"
        },
        {
         "lat": [
          40.63980103,
          33.6367
         ],
         "line": {
          "color": "red",
          "width": 0.5
         },
         "locationmode": "ISO-3",
         "lon": [
          -73.77890015,
          -84.428101
         ],
         "mode": "lines",
         "name": "ATL",
         "opacity": 0.8,
         "type": "scattergeo"
        },
        {
         "lat": [
          40.63980103,
          49.012798
         ],
         "line": {
          "color": "red",
          "width": 0.5
         },
         "locationmode": "ISO-3",
         "lon": [
          -73.77890015,
          2.55
         ],
         "mode": "lines",
         "name": "CDG",
         "opacity": 0.8,
         "type": "scattergeo"
        },
        {
         "lat": [
          40.63980103,
          41.8002778
         ],
         "line": {
          "color": "red",
          "width": 0.5
         },
         "locationmode": "ISO-3",
         "lon": [
          -73.77890015,
          12.2388889
         ],
         "mode": "lines",
         "name": "FCO",
         "opacity": 0.8,
         "type": "scattergeo"
        },
        {
         "lat": [
          40.63980103,
          19.4363
         ],
         "line": {
          "color": "red",
          "width": 0.5
         },
         "locationmode": "ISO-3",
         "lon": [
          -73.77890015,
          -99.072098
         ],
         "mode": "lines",
         "name": "MEX",
         "opacity": 0.8,
         "type": "scattergeo"
        },
        {
         "lat": [
          40.63980103,
          29.99340057373047
         ],
         "line": {
          "color": "red",
          "width": 0.5
         },
         "locationmode": "ISO-3",
         "lon": [
          -73.77890015,
          -90.25800323486328
         ],
         "mode": "lines",
         "name": "MSY",
         "opacity": 0.8,
         "type": "scattergeo"
        },
        {
         "lat": [
          40.63980103,
          45.6306
         ],
         "line": {
          "color": "red",
          "width": 0.5
         },
         "locationmode": "ISO-3",
         "lon": [
          -73.77890015,
          8.728110000000001
         ],
         "mode": "lines",
         "name": "MXP",
         "opacity": 0.8,
         "type": "scattergeo"
        },
        {
         "lat": [
          40.63980103,
          45.505299
         ],
         "line": {
          "color": "red",
          "width": 0.5
         },
         "locationmode": "ISO-3",
         "lon": [
          -73.77890015,
          12.3519
         ],
         "mode": "lines",
         "name": "VCE",
         "opacity": 0.8,
         "type": "scattergeo"
        },
        {
         "lat": [
          40.63980103,
          45.4706001282
         ],
         "line": {
          "color": "red",
          "width": 0.5
         },
         "locationmode": "ISO-3",
         "lon": [
          -73.77890015,
          -73.7407989502
         ],
         "mode": "lines",
         "name": "YUL",
         "opacity": 0.8,
         "type": "scattergeo"
        },
        {
         "lat": [
          40.63980103,
          43.6772003174
         ],
         "line": {
          "color": "red",
          "width": 0.5
         },
         "locationmode": "ISO-3",
         "lon": [
          -73.77890015,
          -79.63059997559999
         ],
         "mode": "lines",
         "name": "YYZ",
         "opacity": 0.8,
         "type": "scattergeo"
        },
        {
         "lat": [
          40.63980103,
          35.040199
         ],
         "line": {
          "color": "red",
          "width": 0.5
         },
         "locationmode": "ISO-3",
         "lon": [
          -73.77890015,
          -106.609001
         ],
         "mode": "lines",
         "name": "ABQ",
         "opacity": 0.8,
         "type": "scattergeo"
        },
        {
         "lat": [
          40.63980103,
          12.5014
         ],
         "line": {
          "color": "red",
          "width": 0.5
         },
         "locationmode": "ISO-3",
         "lon": [
          -73.77890015,
          -70.015198
         ],
         "mode": "lines",
         "name": "AUA",
         "opacity": 0.8,
         "type": "scattergeo"
        },
        {
         "lat": [
          40.63980103,
          30.194499969482425
         ],
         "line": {
          "color": "red",
          "width": 0.5
         },
         "locationmode": "ISO-3",
         "lon": [
          -73.77890015,
          -97.6698989868164
         ],
         "mode": "lines",
         "name": "AUS",
         "opacity": 0.8,
         "type": "scattergeo"
        },
        {
         "lat": [
          40.63980103,
          19.2670001984
         ],
         "line": {
          "color": "red",
          "width": 0.5
         },
         "locationmode": "ISO-3",
         "lon": [
          -73.77890015,
          -69.7419967651
         ],
         "mode": "lines",
         "name": "AZS",
         "opacity": 0.8,
         "type": "scattergeo"
        },
        {
         "lat": [
          40.63980103,
          32.363998413085945
         ],
         "line": {
          "color": "red",
          "width": 0.5
         },
         "locationmode": "ISO-3",
         "lon": [
          -73.77890015,
          -64.67870330810547
         ],
         "mode": "lines",
         "name": "BDA",
         "opacity": 0.8,
         "type": "scattergeo"
        },
        {
         "lat": [
          40.63980103,
          13.0746002197
         ],
         "line": {
          "color": "red",
          "width": 0.5
         },
         "locationmode": "ISO-3",
         "lon": [
          -73.77890015,
          -59.4925003052
         ],
         "mode": "lines",
         "name": "BGI",
         "opacity": 0.8,
         "type": "scattergeo"
        },
        {
         "lat": [
          40.63980103,
          42.36429977
         ],
         "line": {
          "color": "red",
          "width": 0.5
         },
         "locationmode": "ISO-3",
         "lon": [
          -73.77890015,
          -71.00520325
         ],
         "mode": "lines",
         "name": "BOS",
         "opacity": 0.8,
         "type": "scattergeo"
        },
        {
         "lat": [
          40.63980103,
          18.49489974975586
         ],
         "line": {
          "color": "red",
          "width": 0.5
         },
         "locationmode": "ISO-3",
         "lon": [
          -73.77890015,
          -67.12940216064453
         ],
         "mode": "lines",
         "name": "BQN",
         "opacity": 0.8,
         "type": "scattergeo"
        },
        {
         "lat": [
          40.63980103,
          44.4719009399
         ],
         "line": {
          "color": "red",
          "width": 0.5
         },
         "locationmode": "ISO-3",
         "lon": [
          -73.77890015,
          -73.15329742429998
         ],
         "mode": "lines",
         "name": "BTV",
         "opacity": 0.8,
         "type": "scattergeo"
        },
        {
         "lat": [
          40.63980103,
          42.94049835
         ],
         "line": {
          "color": "red",
          "width": 0.5
         },
         "locationmode": "ISO-3",
         "lon": [
          -73.77890015,
          -78.73220062
         ],
         "mode": "lines",
         "name": "BUF",
         "opacity": 0.8,
         "type": "scattergeo"
        },
        {
         "lat": [
          40.63980103,
          34.200698852539055
         ],
         "line": {
          "color": "red",
          "width": 0.5
         },
         "locationmode": "ISO-3",
         "lon": [
          -73.77890015,
          -118.35900115966795
         ],
         "mode": "lines",
         "name": "BUR",
         "opacity": 0.8,
         "type": "scattergeo"
        },
        {
         "lat": [
          40.63980103,
          32.89860153
         ],
         "line": {
          "color": "red",
          "width": 0.5
         },
         "locationmode": "ISO-3",
         "lon": [
          -73.77890015,
          -80.04049683
         ],
         "mode": "lines",
         "name": "CHS",
         "opacity": 0.8,
         "type": "scattergeo"
        },
        {
         "lat": [
          40.63980103,
          35.2140007019043
         ],
         "line": {
          "color": "red",
          "width": 0.5
         },
         "locationmode": "ISO-3",
         "lon": [
          -73.77890015,
          -80.94309997558594
         ],
         "mode": "lines",
         "name": "CLT",
         "opacity": 0.8,
         "type": "scattergeo"
        },
        {
         "lat": [
          40.63980103,
          10.4424
         ],
         "line": {
          "color": "red",
          "width": 0.5
         },
         "locationmode": "ISO-3",
         "lon": [
          -73.77890015,
          -75.513
         ],
         "mode": "lines",
         "name": "CTG",
         "opacity": 0.8,
         "type": "scattergeo"
        },
        {
         "lat": [
          40.63980103,
          21.036500930800003
         ],
         "line": {
          "color": "red",
          "width": 0.5
         },
         "locationmode": "ISO-3",
         "lon": [
          -73.77890015,
          -86.8770980835
         ],
         "mode": "lines",
         "name": "CUN",
         "opacity": 0.8,
         "type": "scattergeo"
        },
        {
         "lat": [
          40.63980103,
          39.861698150635
         ],
         "line": {
          "color": "red",
          "width": 0.5
         },
         "locationmode": "ISO-3",
         "lon": [
          -73.77890015,
          -104.672996521
         ],
         "mode": "lines",
         "name": "DEN",
         "opacity": 0.8,
         "type": "scattergeo"
        },
        {
         "lat": [
          40.63980103,
          25.252799987800003
         ],
         "line": {
          "color": "red",
          "width": 0.5
         },
         "locationmode": "ISO-3",
         "lon": [
          -73.77890015,
          55.3643989563
         ],
         "mode": "lines",
         "name": "DXB",
         "opacity": 0.8,
         "type": "scattergeo"
        },
        {
         "lat": [
          40.63980103,
          26.072599
         ],
         "line": {
          "color": "red",
          "width": 0.5
         },
         "locationmode": "ISO-3",
         "lon": [
          -73.77890015,
          -80.152702
         ],
         "mode": "lines",
         "name": "FLL",
         "opacity": 0.8,
         "type": "scattergeo"
        },
        {
         "lat": [
          40.63980103,
          19.2928009033
         ],
         "line": {
          "color": "red",
          "width": 0.5
         },
         "locationmode": "ISO-3",
         "lon": [
          -73.77890015,
          -81.3576965332
         ],
         "mode": "lines",
         "name": "GCM",
         "opacity": 0.8,
         "type": "scattergeo"
        },
        {
         "lat": [
          40.63980103,
          29.64539909
         ],
         "line": {
          "color": "red",
          "width": 0.5
         },
         "locationmode": "ISO-3",
         "lon": [
          -73.77890015,
          -95.27890015
         ],
         "mode": "lines",
         "name": "HOU",
         "opacity": 0.8,
         "type": "scattergeo"
        },
        {
         "lat": [
          40.63980103,
          38.94449997
         ],
         "line": {
          "color": "red",
          "width": 0.5
         },
         "locationmode": "ISO-3",
         "lon": [
          -73.77890015,
          -77.45580292
         ],
         "mode": "lines",
         "name": "IAD",
         "opacity": 0.8,
         "type": "scattergeo"
        },
        {
         "lat": [
          40.63980103,
          30.49410057067871
         ],
         "line": {
          "color": "red",
          "width": 0.5
         },
         "locationmode": "ISO-3",
         "lon": [
          -73.77890015,
          -81.68789672851562
         ],
         "mode": "lines",
         "name": "JAX",
         "opacity": 0.8,
         "type": "scattergeo"
        },
        {
         "lat": [
          40.63980103,
          -26.1392
         ],
         "line": {
          "color": "red",
          "width": 0.5
         },
         "locationmode": "ISO-3",
         "lon": [
          -73.77890015,
          28.246
         ],
         "mode": "lines",
         "name": "JNB",
         "opacity": 0.8,
         "type": "scattergeo"
        },
        {
         "lat": [
          40.63980103,
          17.935699462890625
         ],
         "line": {
          "color": "red",
          "width": 0.5
         },
         "locationmode": "ISO-3",
         "lon": [
          -73.77890015,
          -76.7874984741211
         ],
         "mode": "lines",
         "name": "KIN",
         "opacity": 0.8,
         "type": "scattergeo"
        },
        {
         "lat": [
          40.63980103,
          36.08010101
         ],
         "line": {
          "color": "red",
          "width": 0.5
         },
         "locationmode": "ISO-3",
         "lon": [
          -73.77890015,
          -115.1520004
         ],
         "mode": "lines",
         "name": "LAS",
         "opacity": 0.8,
         "type": "scattergeo"
        },
        {
         "lat": [
          40.63980103,
          33.94250107
         ],
         "line": {
          "color": "red",
          "width": 0.5
         },
         "locationmode": "ISO-3",
         "lon": [
          -73.77890015,
          -118.4079971
         ],
         "mode": "lines",
         "name": "LAX",
         "opacity": 0.8,
         "type": "scattergeo"
        },
        {
         "lat": [
          40.63980103,
          33.81769943
         ],
         "line": {
          "color": "red",
          "width": 0.5
         },
         "locationmode": "ISO-3",
         "lon": [
          -73.77890015,
          -118.1520004
         ],
         "mode": "lines",
         "name": "LGB",
         "opacity": 0.8,
         "type": "scattergeo"
        },
        {
         "lat": [
          40.63980103,
          10.5933
         ],
         "line": {
          "color": "red",
          "width": 0.5
         },
         "locationmode": "ISO-3",
         "lon": [
          -73.77890015,
          -85.544403
         ],
         "mode": "lines",
         "name": "LIR",
         "opacity": 0.8,
         "type": "scattergeo"
        },
        {
         "lat": [
          40.63980103,
          18.45070075988769
         ],
         "line": {
          "color": "red",
          "width": 0.5
         },
         "locationmode": "ISO-3",
         "lon": [
          -73.77890015,
          -68.91179656982422
         ],
         "mode": "lines",
         "name": "LRM",
         "opacity": 0.8,
         "type": "scattergeo"
        },
        {
         "lat": [
          40.63980103,
          18.503700256347656
         ],
         "line": {
          "color": "red",
          "width": 0.5
         },
         "locationmode": "ISO-3",
         "lon": [
          -73.77890015,
          -77.91339874267578
         ],
         "mode": "lines",
         "name": "MBJ",
         "opacity": 0.8,
         "type": "scattergeo"
        },
        {
         "lat": [
          40.63980103,
          28.429399490356445
         ],
         "line": {
          "color": "red",
          "width": 0.5
         },
         "locationmode": "ISO-3",
         "lon": [
          -73.77890015,
          -81.30899810791016
         ],
         "mode": "lines",
         "name": "MCO",
         "opacity": 0.8,
         "type": "scattergeo"
        },
        {
         "lat": [
          40.63980103,
          29.99340057373047
         ],
         "line": {
          "color": "red",
          "width": 0.5
         },
         "locationmode": "ISO-3",
         "lon": [
          -73.77890015,
          -90.25800323486328
         ],
         "mode": "lines",
         "name": "MSY",
         "opacity": 0.8,
         "type": "scattergeo"
        },
        {
         "lat": [
          40.63980103,
          45.6306
         ],
         "line": {
          "color": "red",
          "width": 0.5
         },
         "locationmode": "ISO-3",
         "lon": [
          -73.77890015,
          8.728110000000001
         ],
         "mode": "lines",
         "name": "MXP",
         "opacity": 0.8,
         "type": "scattergeo"
        },
        {
         "lat": [
          40.63980103,
          25.0389995575
         ],
         "line": {
          "color": "red",
          "width": 0.5
         },
         "locationmode": "ISO-3",
         "lon": [
          -73.77890015,
          -77.46620178219999
         ],
         "mode": "lines",
         "name": "NAS",
         "opacity": 0.8,
         "type": "scattergeo"
        },
        {
         "lat": [
          40.63980103,
          37.721298
         ],
         "line": {
          "color": "red",
          "width": 0.5
         },
         "locationmode": "ISO-3",
         "lon": [
          -73.77890015,
          -122.221001
         ],
         "mode": "lines",
         "name": "OAK",
         "opacity": 0.8,
         "type": "scattergeo"
        },
        {
         "lat": [
          40.63980103,
          41.9786
         ],
         "line": {
          "color": "red",
          "width": 0.5
         },
         "locationmode": "ISO-3",
         "lon": [
          -73.77890015,
          -87.9048
         ],
         "mode": "lines",
         "name": "ORD",
         "opacity": 0.8,
         "type": "scattergeo"
        },
        {
         "lat": [
          40.63980103,
          18.57999992370605
         ],
         "line": {
          "color": "red",
          "width": 0.5
         },
         "locationmode": "ISO-3",
         "lon": [
          -73.77890015,
          -72.2925033569336
         ],
         "mode": "lines",
         "name": "PAP",
         "opacity": 0.8,
         "type": "scattergeo"
        },
        {
         "lat": [
          40.63980103,
          26.68320083618164
         ],
         "line": {
          "color": "red",
          "width": 0.5
         },
         "locationmode": "ISO-3",
         "lon": [
          -73.77890015,
          -80.09559631347656
         ],
         "mode": "lines",
         "name": "PBI",
         "opacity": 0.8,
         "type": "scattergeo"
        },
        {
         "lat": [
          40.63980103,
          45.58869934
         ],
         "line": {
          "color": "red",
          "width": 0.5
         },
         "locationmode": "ISO-3",
         "lon": [
          -73.77890015,
          -122.5979996
         ],
         "mode": "lines",
         "name": "PDX",
         "opacity": 0.8,
         "type": "scattergeo"
        },
        {
         "lat": [
          40.63980103,
          33.43429946899414
         ],
         "line": {
          "color": "red",
          "width": 0.5
         },
         "locationmode": "ISO-3",
         "lon": [
          -73.77890015,
          -112.01200103759766
         ],
         "mode": "lines",
         "name": "PHX",
         "opacity": 0.8,
         "type": "scattergeo"
        },
        {
         "lat": [
          40.63980103,
          21.77359962463379
         ],
         "line": {
          "color": "red",
          "width": 0.5
         },
         "locationmode": "ISO-3",
         "lon": [
          -73.77890015,
          -72.26589965820312
         ],
         "mode": "lines",
         "name": "PLS",
         "opacity": 0.8,
         "type": "scattergeo"
        },
        {
         "lat": [
          40.63980103,
          19.75790023803711
         ],
         "line": {
          "color": "red",
          "width": 0.5
         },
         "locationmode": "ISO-3",
         "lon": [
          -73.77890015,
          -70.56999969482422
         ],
         "mode": "lines",
         "name": "POP",
         "opacity": 0.8,
         "type": "scattergeo"
        },
        {
         "lat": [
          40.63980103,
          10.595399856567385
         ],
         "line": {
          "color": "red",
          "width": 0.5
         },
         "locationmode": "ISO-3",
         "lon": [
          -73.77890015,
          -61.33720016479492
         ],
         "mode": "lines",
         "name": "POS",
         "opacity": 0.8,
         "type": "scattergeo"
        },
        {
         "lat": [
          40.63980103,
          18.00830078125
         ],
         "line": {
          "color": "red",
          "width": 0.5
         },
         "locationmode": "ISO-3",
         "lon": [
          -73.77890015,
          -66.56300354003906
         ],
         "mode": "lines",
         "name": "PSE",
         "opacity": 0.8,
         "type": "scattergeo"
        },
        {
         "lat": [
          40.63980103,
          18.5673999786
         ],
         "line": {
          "color": "red",
          "width": 0.5
         },
         "locationmode": "ISO-3",
         "lon": [
          -73.77890015,
          -68.36340332030001
         ],
         "mode": "lines",
         "name": "PUJ",
         "opacity": 0.8,
         "type": "scattergeo"
        },
        {
         "lat": [
          40.63980103,
          43.64619827
         ],
         "line": {
          "color": "red",
          "width": 0.5
         },
         "locationmode": "ISO-3",
         "lon": [
          -73.77890015,
          -70.30930328
         ],
         "mode": "lines",
         "name": "PWM",
         "opacity": 0.8,
         "type": "scattergeo"
        },
        {
         "lat": [
          40.63980103,
          35.87760162353516
         ],
         "line": {
          "color": "red",
          "width": 0.5
         },
         "locationmode": "ISO-3",
         "lon": [
          -73.77890015,
          -78.7874984741211
         ],
         "mode": "lines",
         "name": "RDU",
         "opacity": 0.8,
         "type": "scattergeo"
        },
        {
         "lat": [
          40.63980103,
          43.118900299072266
         ],
         "line": {
          "color": "red",
          "width": 0.5
         },
         "locationmode": "ISO-3",
         "lon": [
          -73.77890015,
          -77.67240142822266
         ],
         "mode": "lines",
         "name": "ROC",
         "opacity": 0.8,
         "type": "scattergeo"
        },
        {
         "lat": [
          40.63980103,
          26.53619956970215
         ],
         "line": {
          "color": "red",
          "width": 0.5
         },
         "locationmode": "ISO-3",
         "lon": [
          -73.77890015,
          -81.75520324707031
         ],
         "mode": "lines",
         "name": "RSW",
         "opacity": 0.8,
         "type": "scattergeo"
        },
        {
         "lat": [
          40.63980103,
          32.7336006165
         ],
         "line": {
          "color": "red",
          "width": 0.5
         },
         "locationmode": "ISO-3",
         "lon": [
          -73.77890015,
          -117.190002441
         ],
         "mode": "lines",
         "name": "SAN",
         "opacity": 0.8,
         "type": "scattergeo"
        },
        {
         "lat": [
          40.63980103,
          32.12760162
         ],
         "line": {
          "color": "red",
          "width": 0.5
         },
         "locationmode": "ISO-3",
         "lon": [
          -73.77890015,
          -81.20210266
         ],
         "mode": "lines",
         "name": "SAV",
         "opacity": 0.8,
         "type": "scattergeo"
        },
        {
         "lat": [
          40.63980103,
          18.42970085144
         ],
         "line": {
          "color": "red",
          "width": 0.5
         },
         "locationmode": "ISO-3",
         "lon": [
          -73.77890015,
          -69.668899536133
         ],
         "mode": "lines",
         "name": "SDQ",
         "opacity": 0.8,
         "type": "scattergeo"
        },
        {
         "lat": [
          40.63980103,
          47.449001
         ],
         "line": {
          "color": "red",
          "width": 0.5
         },
         "locationmode": "ISO-3",
         "lon": [
          -73.77890015,
          -122.308998
         ],
         "mode": "lines",
         "name": "SEA",
         "opacity": 0.8,
         "type": "scattergeo"
        },
        {
         "lat": [
          40.63980103,
          37.61899948120117
         ],
         "line": {
          "color": "red",
          "width": 0.5
         },
         "locationmode": "ISO-3",
         "lon": [
          -73.77890015,
          -122.375
         ],
         "mode": "lines",
         "name": "SFO",
         "opacity": 0.8,
         "type": "scattergeo"
        },
        {
         "lat": [
          40.63980103,
          37.362598
         ],
         "line": {
          "color": "red",
          "width": 0.5
         },
         "locationmode": "ISO-3",
         "lon": [
          -73.77890015,
          -121.929001
         ],
         "mode": "lines",
         "name": "SJC",
         "opacity": 0.8,
         "type": "scattergeo"
        },
        {
         "lat": [
          40.63980103,
          18.4393997192
         ],
         "line": {
          "color": "red",
          "width": 0.5
         },
         "locationmode": "ISO-3",
         "lon": [
          -73.77890015,
          -66.0018005371
         ],
         "mode": "lines",
         "name": "SJU",
         "opacity": 0.8,
         "type": "scattergeo"
        },
        {
         "lat": [
          40.63980103,
          40.78839874267578
         ],
         "line": {
          "color": "red",
          "width": 0.5
         },
         "locationmode": "ISO-3",
         "lon": [
          -73.77890015,
          -111.97799682617188
         ],
         "mode": "lines",
         "name": "SLC",
         "opacity": 0.8,
         "type": "scattergeo"
        },
        {
         "lat": [
          40.63980103,
          38.69540023803711
         ],
         "line": {
          "color": "red",
          "width": 0.5
         },
         "locationmode": "ISO-3",
         "lon": [
          -73.77890015,
          -121.59100341796876
         ],
         "mode": "lines",
         "name": "SMF",
         "opacity": 0.8,
         "type": "scattergeo"
        },
        {
         "lat": [
          40.63980103,
          27.39539909362793
         ],
         "line": {
          "color": "red",
          "width": 0.5
         },
         "locationmode": "ISO-3",
         "lon": [
          -73.77890015,
          -82.55439758300781
         ],
         "mode": "lines",
         "name": "SRQ",
         "opacity": 0.8,
         "type": "scattergeo"
        },
        {
         "lat": [
          40.63980103,
          19.406099319458008
         ],
         "line": {
          "color": "red",
          "width": 0.5
         },
         "locationmode": "ISO-3",
         "lon": [
          -73.77890015,
          -70.60469818115234
         ],
         "mode": "lines",
         "name": "STI",
         "opacity": 0.8,
         "type": "scattergeo"
        },
        {
         "lat": [
          40.63980103,
          18.0410003662
         ],
         "line": {
          "color": "red",
          "width": 0.5
         },
         "locationmode": "ISO-3",
         "lon": [
          -73.77890015,
          -63.1088981628
         ],
         "mode": "lines",
         "name": "SXM",
         "opacity": 0.8,
         "type": "scattergeo"
        },
        {
         "lat": [
          40.63980103,
          43.11119842529297
         ],
         "line": {
          "color": "red",
          "width": 0.5
         },
         "locationmode": "ISO-3",
         "lon": [
          -73.77890015,
          -76.1063003540039
         ],
         "mode": "lines",
         "name": "SYR",
         "opacity": 0.8,
         "type": "scattergeo"
        },
        {
         "lat": [
          40.63980103,
          27.975500106811523
         ],
         "line": {
          "color": "red",
          "width": 0.5
         },
         "locationmode": "ISO-3",
         "lon": [
          -73.77890015,
          -82.533203125
         ],
         "mode": "lines",
         "name": "TPA",
         "opacity": 0.8,
         "type": "scattergeo"
        },
        {
         "lat": [
          40.63980103,
          13.7332
         ],
         "line": {
          "color": "red",
          "width": 0.5
         },
         "locationmode": "ISO-3",
         "lon": [
          -73.77890015,
          -60.952599
         ],
         "mode": "lines",
         "name": "UVF",
         "opacity": 0.8,
         "type": "scattergeo"
        },
        {
         "lat": [
          40.63980103,
          41.2971
         ],
         "line": {
          "color": "red",
          "width": 0.5
         },
         "locationmode": "ISO-3",
         "lon": [
          -73.77890015,
          2.07846
         ],
         "mode": "lines",
         "name": "BCN",
         "opacity": 0.8,
         "type": "scattergeo"
        },
        {
         "lat": [
          40.63980103,
          49.012798
         ],
         "line": {
          "color": "red",
          "width": 0.5
         },
         "locationmode": "ISO-3",
         "lon": [
          -73.77890015,
          2.55
         ],
         "mode": "lines",
         "name": "CDG",
         "opacity": 0.8,
         "type": "scattergeo"
        },
        {
         "lat": [
          40.63980103,
          53.421299
         ],
         "line": {
          "color": "red",
          "width": 0.5
         },
         "locationmode": "ISO-3",
         "lon": [
          -73.77890015,
          -6.27007
         ],
         "mode": "lines",
         "name": "DUB",
         "opacity": 0.8,
         "type": "scattergeo"
        },
        {
         "lat": [
          40.63980103,
          41.8002778
         ],
         "line": {
          "color": "red",
          "width": 0.5
         },
         "locationmode": "ISO-3",
         "lon": [
          -73.77890015,
          12.2388889
         ],
         "mode": "lines",
         "name": "FCO",
         "opacity": 0.8,
         "type": "scattergeo"
        },
        {
         "lat": [
          40.63980103,
          60.317199707031
         ],
         "line": {
          "color": "red",
          "width": 0.5
         },
         "locationmode": "ISO-3",
         "lon": [
          -73.77890015,
          24.963300704956
         ],
         "mode": "lines",
         "name": "HEL",
         "opacity": 0.8,
         "type": "scattergeo"
        },
        {
         "lat": [
          40.63980103,
          51.505299
         ],
         "line": {
          "color": "red",
          "width": 0.5
         },
         "locationmode": "ISO-3",
         "lon": [
          -73.77890015,
          0.0552779999999999
         ],
         "mode": "lines",
         "name": "LCY",
         "opacity": 0.8,
         "type": "scattergeo"
        },
        {
         "lat": [
          40.63980103,
          51.4706
         ],
         "line": {
          "color": "red",
          "width": 0.5
         },
         "locationmode": "ISO-3",
         "lon": [
          -73.77890015,
          -0.461941
         ],
         "mode": "lines",
         "name": "LHR",
         "opacity": 0.8,
         "type": "scattergeo"
        },
        {
         "lat": [
          40.63980103,
          40.471926
         ],
         "line": {
          "color": "red",
          "width": 0.5
         },
         "locationmode": "ISO-3",
         "lon": [
          -73.77890015,
          -3.56264
         ],
         "mode": "lines",
         "name": "MAD",
         "opacity": 0.8,
         "type": "scattergeo"
        },
        {
         "lat": [
          40.63980103,
          53.35369873046875
         ],
         "line": {
          "color": "red",
          "width": 0.5
         },
         "locationmode": "ISO-3",
         "lon": [
          -73.77890015,
          -2.2749500274658203
         ],
         "mode": "lines",
         "name": "MAN",
         "opacity": 0.8,
         "type": "scattergeo"
        },
        {
         "lat": [
          40.63980103,
          45.6306
         ],
         "line": {
          "color": "red",
          "width": 0.5
         },
         "locationmode": "ISO-3",
         "lon": [
          -73.77890015,
          8.728110000000001
         ],
         "mode": "lines",
         "name": "MXP",
         "opacity": 0.8,
         "type": "scattergeo"
        },
        {
         "lat": [
          40.63980103,
          48.7233333
         ],
         "line": {
          "color": "red",
          "width": 0.5
         },
         "locationmode": "ISO-3",
         "lon": [
          -73.77890015,
          2.3794444
         ],
         "mode": "lines",
         "name": "ORY",
         "opacity": 0.8,
         "type": "scattergeo"
        },
        {
         "lat": [
          40.63980103,
          25.0777
         ],
         "line": {
          "color": "red",
          "width": 0.5
         },
         "locationmode": "ISO-3",
         "lon": [
          -73.77890015,
          121.233002
         ],
         "mode": "lines",
         "name": "TPE",
         "opacity": 0.8,
         "type": "scattergeo"
        },
        {
         "lat": [
          40.63980103,
          6.498549938201903
         ],
         "line": {
          "color": "red",
          "width": 0.5
         },
         "locationmode": "ISO-3",
         "lon": [
          -73.77890015,
          -58.25410079956055
         ],
         "mode": "lines",
         "name": "GEO",
         "opacity": 0.8,
         "type": "scattergeo"
        },
        {
         "lat": [
          40.63980103,
          12.004199981689451
         ],
         "line": {
          "color": "red",
          "width": 0.5
         },
         "locationmode": "ISO-3",
         "lon": [
          -73.77890015,
          -61.78620147705078
         ],
         "mode": "lines",
         "name": "GND",
         "opacity": 0.8,
         "type": "scattergeo"
        },
        {
         "lat": [
          40.63980103,
          17.935699462890625
         ],
         "line": {
          "color": "red",
          "width": 0.5
         },
         "locationmode": "ISO-3",
         "lon": [
          -73.77890015,
          -76.7874984741211
         ],
         "mode": "lines",
         "name": "KIN",
         "opacity": 0.8,
         "type": "scattergeo"
        },
        {
         "lat": [
          40.63980103,
          18.503700256347656
         ],
         "line": {
          "color": "red",
          "width": 0.5
         },
         "locationmode": "ISO-3",
         "lon": [
          -73.77890015,
          -77.91339874267578
         ],
         "mode": "lines",
         "name": "MBJ",
         "opacity": 0.8,
         "type": "scattergeo"
        },
        {
         "lat": [
          40.63980103,
          10.595399856567385
         ],
         "line": {
          "color": "red",
          "width": 0.5
         },
         "locationmode": "ISO-3",
         "lon": [
          -73.77890015,
          -61.33720016479492
         ],
         "mode": "lines",
         "name": "POS",
         "opacity": 0.8,
         "type": "scattergeo"
        },
        {
         "lat": [
          40.63980103,
          11.149700164794922
         ],
         "line": {
          "color": "red",
          "width": 0.5
         },
         "locationmode": "ISO-3",
         "lon": [
          -73.77890015,
          -60.83219909667969
         ],
         "mode": "lines",
         "name": "TAB",
         "opacity": 0.8,
         "type": "scattergeo"
        },
        {
         "lat": [
          40.63980103,
          40.0801010131836
         ],
         "line": {
          "color": "red",
          "width": 0.5
         },
         "locationmode": "ISO-3",
         "lon": [
          -73.77890015,
          116.58499908447266
         ],
         "mode": "lines",
         "name": "PEK",
         "opacity": 0.8,
         "type": "scattergeo"
        },
        {
         "lat": [
          40.63980103,
          34.42729949951172
         ],
         "line": {
          "color": "red",
          "width": 0.5
         },
         "locationmode": "ISO-3",
         "lon": [
          -73.77890015,
          135.24400329589844
         ],
         "mode": "lines",
         "name": "KIX",
         "opacity": 0.8,
         "type": "scattergeo"
        },
        {
         "lat": [
          40.63980103,
          9.0713596344
         ],
         "line": {
          "color": "red",
          "width": 0.5
         },
         "locationmode": "ISO-3",
         "lon": [
          -73.77890015,
          -79.3834991455
         ],
         "mode": "lines",
         "name": "PTY",
         "opacity": 0.8,
         "type": "scattergeo"
        },
        {
         "lat": [
          40.63980103,
          22.308901
         ],
         "line": {
          "color": "red",
          "width": 0.5
         },
         "locationmode": "ISO-3",
         "lon": [
          -73.77890015,
          113.915001
         ],
         "mode": "lines",
         "name": "HKG",
         "opacity": 0.8,
         "type": "scattergeo"
        },
        {
         "lat": [
          40.63980103,
          49.193901062
         ],
         "line": {
          "color": "red",
          "width": 0.5
         },
         "locationmode": "ISO-3",
         "lon": [
          -73.77890015,
          -123.183998108
         ],
         "mode": "lines",
         "name": "YVR",
         "opacity": 0.8,
         "type": "scattergeo"
        },
        {
         "lat": [
          40.63980103,
          5.605189800262451
         ],
         "line": {
          "color": "red",
          "width": 0.5
         },
         "locationmode": "ISO-3",
         "lon": [
          -73.77890015,
          -0.1667860001325607
         ],
         "mode": "lines",
         "name": "ACC",
         "opacity": 0.8,
         "type": "scattergeo"
        },
        {
         "lat": [
          40.63980103,
          52.308601
         ],
         "line": {
          "color": "red",
          "width": 0.5
         },
         "locationmode": "ISO-3",
         "lon": [
          -73.77890015,
          4.76389
         ],
         "mode": "lines",
         "name": "AMS",
         "opacity": 0.8,
         "type": "scattergeo"
        },
        {
         "lat": [
          40.63980103,
          33.6367
         ],
         "line": {
          "color": "red",
          "width": 0.5
         },
         "locationmode": "ISO-3",
         "lon": [
          -73.77890015,
          -84.428101
         ],
         "mode": "lines",
         "name": "ATL",
         "opacity": 0.8,
         "type": "scattergeo"
        },
        {
         "lat": [
          40.63980103,
          12.5014
         ],
         "line": {
          "color": "red",
          "width": 0.5
         },
         "locationmode": "ISO-3",
         "lon": [
          -73.77890015,
          -70.015198
         ],
         "mode": "lines",
         "name": "AUA",
         "opacity": 0.8,
         "type": "scattergeo"
        },
        {
         "lat": [
          40.63980103,
          30.194499969482425
         ],
         "line": {
          "color": "red",
          "width": 0.5
         },
         "locationmode": "ISO-3",
         "lon": [
          -73.77890015,
          -97.6698989868164
         ],
         "mode": "lines",
         "name": "AUS",
         "opacity": 0.8,
         "type": "scattergeo"
        },
        {
         "lat": [
          40.63980103,
          41.2971
         ],
         "line": {
          "color": "red",
          "width": 0.5
         },
         "locationmode": "ISO-3",
         "lon": [
          -73.77890015,
          2.07846
         ],
         "mode": "lines",
         "name": "BCN",
         "opacity": 0.8,
         "type": "scattergeo"
        },
        {
         "lat": [
          40.63980103,
          32.363998413085945
         ],
         "line": {
          "color": "red",
          "width": 0.5
         },
         "locationmode": "ISO-3",
         "lon": [
          -73.77890015,
          -64.67870330810547
         ],
         "mode": "lines",
         "name": "BDA",
         "opacity": 0.8,
         "type": "scattergeo"
        },
        {
         "lat": [
          40.63980103,
          36.1245002746582
         ],
         "line": {
          "color": "red",
          "width": 0.5
         },
         "locationmode": "ISO-3",
         "lon": [
          -73.77890015,
          -86.6781997680664
         ],
         "mode": "lines",
         "name": "BNA",
         "opacity": 0.8,
         "type": "scattergeo"
        },
        {
         "lat": [
          40.63980103,
          4.70159
         ],
         "line": {
          "color": "red",
          "width": 0.5
         },
         "locationmode": "ISO-3",
         "lon": [
          -73.77890015,
          -74.1469
         ],
         "mode": "lines",
         "name": "BOG",
         "opacity": 0.8,
         "type": "scattergeo"
        },
        {
         "lat": [
          40.63980103,
          42.36429977
         ],
         "line": {
          "color": "red",
          "width": 0.5
         },
         "locationmode": "ISO-3",
         "lon": [
          -73.77890015,
          -71.00520325
         ],
         "mode": "lines",
         "name": "BOS",
         "opacity": 0.8,
         "type": "scattergeo"
        },
        {
         "lat": [
          40.63980103,
          50.9014015198
         ],
         "line": {
          "color": "red",
          "width": 0.5
         },
         "locationmode": "ISO-3",
         "lon": [
          -73.77890015,
          4.48443984985
         ],
         "mode": "lines",
         "name": "BRU",
         "opacity": 0.8,
         "type": "scattergeo"
        },
        {
         "lat": [
          40.63980103,
          42.94049835
         ],
         "line": {
          "color": "red",
          "width": 0.5
         },
         "locationmode": "ISO-3",
         "lon": [
          -73.77890015,
          -78.73220062
         ],
         "mode": "lines",
         "name": "BUF",
         "opacity": 0.8,
         "type": "scattergeo"
        },
        {
         "lat": [
          40.63980103,
          39.1754
         ],
         "line": {
          "color": "red",
          "width": 0.5
         },
         "locationmode": "ISO-3",
         "lon": [
          -73.77890015,
          -76.668297
         ],
         "mode": "lines",
         "name": "BWI",
         "opacity": 0.8,
         "type": "scattergeo"
        },
        {
         "lat": [
          40.63980103,
          49.012798
         ],
         "line": {
          "color": "red",
          "width": 0.5
         },
         "locationmode": "ISO-3",
         "lon": [
          -73.77890015,
          2.55
         ],
         "mode": "lines",
         "name": "CDG",
         "opacity": 0.8,
         "type": "scattergeo"
        },
        {
         "lat": [
          40.63980103,
          32.89860153
         ],
         "line": {
          "color": "red",
          "width": 0.5
         },
         "locationmode": "ISO-3",
         "lon": [
          -73.77890015,
          -80.04049683
         ],
         "mode": "lines",
         "name": "CHS",
         "opacity": 0.8,
         "type": "scattergeo"
        },
        {
         "lat": [
          40.63980103,
          41.4117012024
         ],
         "line": {
          "color": "red",
          "width": 0.5
         },
         "locationmode": "ISO-3",
         "lon": [
          -73.77890015,
          -81.8498001099
         ],
         "mode": "lines",
         "name": "CLE",
         "opacity": 0.8,
         "type": "scattergeo"
        },
        {
         "lat": [
          40.63980103,
          35.2140007019043
         ],
         "line": {
          "color": "red",
          "width": 0.5
         },
         "locationmode": "ISO-3",
         "lon": [
          -73.77890015,
          -80.94309997558594
         ],
         "mode": "lines",
         "name": "CLT",
         "opacity": 0.8,
         "type": "scattergeo"
        },
        {
         "lat": [
          40.63980103,
          39.998001
         ],
         "line": {
          "color": "red",
          "width": 0.5
         },
         "locationmode": "ISO-3",
         "lon": [
          -73.77890015,
          -82.891899
         ],
         "mode": "lines",
         "name": "CMH",
         "opacity": 0.8,
         "type": "scattergeo"
        },
        {
         "lat": [
          40.63980103,
          21.036500930800003
         ],
         "line": {
          "color": "red",
          "width": 0.5
         },
         "locationmode": "ISO-3",
         "lon": [
          -73.77890015,
          -86.8770980835
         ],
         "mode": "lines",
         "name": "CUN",
         "opacity": 0.8,
         "type": "scattergeo"
        },
        {
         "lat": [
          40.63980103,
          39.0488014221
         ],
         "line": {
          "color": "red",
          "width": 0.5
         },
         "locationmode": "ISO-3",
         "lon": [
          -73.77890015,
          -84.6678009033
         ],
         "mode": "lines",
         "name": "CVG",
         "opacity": 0.8,
         "type": "scattergeo"
        },
        {
         "lat": [
          40.63980103,
          38.8521
         ],
         "line": {
          "color": "red",
          "width": 0.5
         },
         "locationmode": "ISO-3",
         "lon": [
          -73.77890015,
          -77.037697
         ],
         "mode": "lines",
         "name": "DCA",
         "opacity": 0.8,
         "type": "scattergeo"
        },
        {
         "lat": [
          40.63980103,
          39.861698150635
         ],
         "line": {
          "color": "red",
          "width": 0.5
         },
         "locationmode": "ISO-3",
         "lon": [
          -73.77890015,
          -104.672996521
         ],
         "mode": "lines",
         "name": "DEN",
         "opacity": 0.8,
         "type": "scattergeo"
        },
        {
         "lat": [
          40.63980103,
          32.896801
         ],
         "line": {
          "color": "red",
          "width": 0.5
         },
         "locationmode": "ISO-3",
         "lon": [
          -73.77890015,
          -97.038002
         ],
         "mode": "lines",
         "name": "DFW",
         "opacity": 0.8,
         "type": "scattergeo"
        },
        {
         "lat": [
          40.63980103,
          14.739700317382812
         ],
         "line": {
          "color": "red",
          "width": 0.5
         },
         "locationmode": "ISO-3",
         "lon": [
          -73.77890015,
          -17.49020004272461
         ],
         "mode": "lines",
         "name": "DKR",
         "opacity": 0.8,
         "type": "scattergeo"
        },
        {
         "lat": [
          40.63980103,
          42.212398529052734
         ],
         "line": {
          "color": "red",
          "width": 0.5
         },
         "locationmode": "ISO-3",
         "lon": [
          -73.77890015,
          -83.35340118408203
         ],
         "mode": "lines",
         "name": "DTW",
         "opacity": 0.8,
         "type": "scattergeo"
        },
        {
         "lat": [
          40.63980103,
          53.421299
         ],
         "line": {
          "color": "red",
          "width": 0.5
         },
         "locationmode": "ISO-3",
         "lon": [
          -73.77890015,
          -6.27007
         ],
         "mode": "lines",
         "name": "DUB",
         "opacity": 0.8,
         "type": "scattergeo"
        },
        {
         "lat": [
          40.63980103,
          41.8002778
         ],
         "line": {
          "color": "red",
          "width": 0.5
         },
         "locationmode": "ISO-3",
         "lon": [
          -73.77890015,
          12.2388889
         ],
         "mode": "lines",
         "name": "FCO",
         "opacity": 0.8,
         "type": "scattergeo"
        },
        {
         "lat": [
          40.63980103,
          26.072599
         ],
         "line": {
          "color": "red",
          "width": 0.5
         },
         "locationmode": "ISO-3",
         "lon": [
          -73.77890015,
          -80.152702
         ],
         "mode": "lines",
         "name": "FLL",
         "opacity": 0.8,
         "type": "scattergeo"
        },
        {
         "lat": [
          40.63980103,
          50.033333
         ],
         "line": {
          "color": "red",
          "width": 0.5
         },
         "locationmode": "ISO-3",
         "lon": [
          -73.77890015,
          8.570556
         ],
         "mode": "lines",
         "name": "FRA",
         "opacity": 0.8,
         "type": "scattergeo"
        },
        {
         "lat": [
          40.63980103,
          12.004199981689451
         ],
         "line": {
          "color": "red",
          "width": 0.5
         },
         "locationmode": "ISO-3",
         "lon": [
          -73.77890015,
          -61.78620147705078
         ],
         "mode": "lines",
         "name": "GND",
         "opacity": 0.8,
         "type": "scattergeo"
        },
        {
         "lat": [
          40.63980103,
          -23.435556411743164
         ],
         "line": {
          "color": "red",
          "width": 0.5
         },
         "locationmode": "ISO-3",
         "lon": [
          -73.77890015,
          -46.47305679321289
         ],
         "mode": "lines",
         "name": "GRU",
         "opacity": 0.8,
         "type": "scattergeo"
        },
        {
         "lat": [
          40.63980103,
          14.5833
         ],
         "line": {
          "color": "red",
          "width": 0.5
         },
         "locationmode": "ISO-3",
         "lon": [
          -73.77890015,
          -90.527496
         ],
         "mode": "lines",
         "name": "GUA",
         "opacity": 0.8,
         "type": "scattergeo"
        },
        {
         "lat": [
          40.63980103,
          38.94449997
         ],
         "line": {
          "color": "red",
          "width": 0.5
         },
         "locationmode": "ISO-3",
         "lon": [
          -73.77890015,
          -77.45580292
         ],
         "mode": "lines",
         "name": "IAD",
         "opacity": 0.8,
         "type": "scattergeo"
        },
        {
         "lat": [
          40.63980103,
          37.46910095214844
         ],
         "line": {
          "color": "red",
          "width": 0.5
         },
         "locationmode": "ISO-3",
         "lon": [
          -73.77890015,
          126.45099639892578
         ],
         "mode": "lines",
         "name": "ICN",
         "opacity": 0.8,
         "type": "scattergeo"
        },
        {
         "lat": [
          40.63980103,
          39.7173
         ],
         "line": {
          "color": "red",
          "width": 0.5
         },
         "locationmode": "ISO-3",
         "lon": [
          -73.77890015,
          -86.294403
         ],
         "mode": "lines",
         "name": "IND",
         "opacity": 0.8,
         "type": "scattergeo"
        },
        {
         "lat": [
          40.63980103,
          30.49410057067871
         ],
         "line": {
          "color": "red",
          "width": 0.5
         },
         "locationmode": "ISO-3",
         "lon": [
          -73.77890015,
          -81.68789672851562
         ],
         "mode": "lines",
         "name": "JAX",
         "opacity": 0.8,
         "type": "scattergeo"
        },
        {
         "lat": [
          40.63980103,
          36.08010101
         ],
         "line": {
          "color": "red",
          "width": 0.5
         },
         "locationmode": "ISO-3",
         "lon": [
          -73.77890015,
          -115.1520004
         ],
         "mode": "lines",
         "name": "LAS",
         "opacity": 0.8,
         "type": "scattergeo"
        },
        {
         "lat": [
          40.63980103,
          33.94250107
         ],
         "line": {
          "color": "red",
          "width": 0.5
         },
         "locationmode": "ISO-3",
         "lon": [
          -73.77890015,
          -118.4079971
         ],
         "mode": "lines",
         "name": "LAX",
         "opacity": 0.8,
         "type": "scattergeo"
        },
        {
         "lat": [
          40.63980103,
          51.4706
         ],
         "line": {
          "color": "red",
          "width": 0.5
         },
         "locationmode": "ISO-3",
         "lon": [
          -73.77890015,
          -0.461941
         ],
         "mode": "lines",
         "name": "LHR",
         "opacity": 0.8,
         "type": "scattergeo"
        },
        {
         "lat": [
          40.63980103,
          10.5933
         ],
         "line": {
          "color": "red",
          "width": 0.5
         },
         "locationmode": "ISO-3",
         "lon": [
          -73.77890015,
          -85.544403
         ],
         "mode": "lines",
         "name": "LIR",
         "opacity": 0.8,
         "type": "scattergeo"
        },
        {
         "lat": [
          40.63980103,
          40.471926
         ],
         "line": {
          "color": "red",
          "width": 0.5
         },
         "locationmode": "ISO-3",
         "lon": [
          -73.77890015,
          -3.56264
         ],
         "mode": "lines",
         "name": "MAD",
         "opacity": 0.8,
         "type": "scattergeo"
        },
        {
         "lat": [
          40.63980103,
          18.503700256347656
         ],
         "line": {
          "color": "red",
          "width": 0.5
         },
         "locationmode": "ISO-3",
         "lon": [
          -73.77890015,
          -77.91339874267578
         ],
         "mode": "lines",
         "name": "MBJ",
         "opacity": 0.8,
         "type": "scattergeo"
        },
        {
         "lat": [
          40.63980103,
          28.429399490356445
         ],
         "line": {
          "color": "red",
          "width": 0.5
         },
         "locationmode": "ISO-3",
         "lon": [
          -73.77890015,
          -81.30899810791016
         ],
         "mode": "lines",
         "name": "MCO",
         "opacity": 0.8,
         "type": "scattergeo"
        },
        {
         "lat": [
          40.63980103,
          19.4363
         ],
         "line": {
          "color": "red",
          "width": 0.5
         },
         "locationmode": "ISO-3",
         "lon": [
          -73.77890015,
          -99.072098
         ],
         "mode": "lines",
         "name": "MEX",
         "opacity": 0.8,
         "type": "scattergeo"
        },
        {
         "lat": [
          40.63980103,
          25.79319953918457
         ],
         "line": {
          "color": "red",
          "width": 0.5
         },
         "locationmode": "ISO-3",
         "lon": [
          -73.77890015,
          -80.29060363769531
         ],
         "mode": "lines",
         "name": "MIA",
         "opacity": 0.8,
         "type": "scattergeo"
        },
        {
         "lat": [
          40.63980103,
          44.882
         ],
         "line": {
          "color": "red",
          "width": 0.5
         },
         "locationmode": "ISO-3",
         "lon": [
          -73.77890015,
          -93.221802
         ],
         "mode": "lines",
         "name": "MSP",
         "opacity": 0.8,
         "type": "scattergeo"
        },
        {
         "lat": [
          40.63980103,
          29.99340057373047
         ],
         "line": {
          "color": "red",
          "width": 0.5
         },
         "locationmode": "ISO-3",
         "lon": [
          -73.77890015,
          -90.25800323486328
         ],
         "mode": "lines",
         "name": "MSY",
         "opacity": 0.8,
         "type": "scattergeo"
        },
        {
         "lat": [
          40.63980103,
          45.6306
         ],
         "line": {
          "color": "red",
          "width": 0.5
         },
         "locationmode": "ISO-3",
         "lon": [
          -73.77890015,
          8.728110000000001
         ],
         "mode": "lines",
         "name": "MXP",
         "opacity": 0.8,
         "type": "scattergeo"
        },
        {
         "lat": [
          40.63980103,
          25.0389995575
         ],
         "line": {
          "color": "red",
          "width": 0.5
         },
         "locationmode": "ISO-3",
         "lon": [
          -73.77890015,
          -77.46620178219999
         ],
         "mode": "lines",
         "name": "NAS",
         "opacity": 0.8,
         "type": "scattergeo"
        },
        {
         "lat": [
          40.63980103,
          43.658401489300005
         ],
         "line": {
          "color": "red",
          "width": 0.5
         },
         "locationmode": "ISO-3",
         "lon": [
          -73.77890015,
          7.215869903560001
         ],
         "mode": "lines",
         "name": "NCE",
         "opacity": 0.8,
         "type": "scattergeo"
        },
        {
         "lat": [
          40.63980103,
          35.7647018433
         ],
         "line": {
          "color": "red",
          "width": 0.5
         },
         "locationmode": "ISO-3",
         "lon": [
          -73.77890015,
          140.386001587
         ],
         "mode": "lines",
         "name": "NRT",
         "opacity": 0.8,
         "type": "scattergeo"
        },
        {
         "lat": [
          40.63980103,
          41.9786
         ],
         "line": {
          "color": "red",
          "width": 0.5
         },
         "locationmode": "ISO-3",
         "lon": [
          -73.77890015,
          -87.9048
         ],
         "mode": "lines",
         "name": "ORD",
         "opacity": 0.8,
         "type": "scattergeo"
        },
        {
         "lat": [
          40.63980103,
          36.89459991455078
         ],
         "line": {
          "color": "red",
          "width": 0.5
         },
         "locationmode": "ISO-3",
         "lon": [
          -73.77890015,
          -76.20120239257812
         ],
         "mode": "lines",
         "name": "ORF",
         "opacity": 0.8,
         "type": "scattergeo"
        },
        {
         "lat": [
          40.63980103,
          18.57999992370605
         ],
         "line": {
          "color": "red",
          "width": 0.5
         },
         "locationmode": "ISO-3",
         "lon": [
          -73.77890015,
          -72.2925033569336
         ],
         "mode": "lines",
         "name": "PAP",
         "opacity": 0.8,
         "type": "scattergeo"
        },
        {
         "lat": [
          40.63980103,
          45.58869934
         ],
         "line": {
          "color": "red",
          "width": 0.5
         },
         "locationmode": "ISO-3",
         "lon": [
          -73.77890015,
          -122.5979996
         ],
         "mode": "lines",
         "name": "PDX",
         "opacity": 0.8,
         "type": "scattergeo"
        },
        {
         "lat": [
          40.63980103,
          39.87189865112305
         ],
         "line": {
          "color": "red",
          "width": 0.5
         },
         "locationmode": "ISO-3",
         "lon": [
          -73.77890015,
          -75.24109649658203
         ],
         "mode": "lines",
         "name": "PHL",
         "opacity": 0.8,
         "type": "scattergeo"
        },
        {
         "lat": [
          40.63980103,
          33.43429946899414
         ],
         "line": {
          "color": "red",
          "width": 0.5
         },
         "locationmode": "ISO-3",
         "lon": [
          -73.77890015,
          -112.01200103759766
         ],
         "mode": "lines",
         "name": "PHX",
         "opacity": 0.8,
         "type": "scattergeo"
        },
        {
         "lat": [
          40.63980103,
          40.49150085
         ],
         "line": {
          "color": "red",
          "width": 0.5
         },
         "locationmode": "ISO-3",
         "lon": [
          -73.77890015,
          -80.23290253
         ],
         "mode": "lines",
         "name": "PIT",
         "opacity": 0.8,
         "type": "scattergeo"
        },
        {
         "lat": [
          40.63980103,
          21.77359962463379
         ],
         "line": {
          "color": "red",
          "width": 0.5
         },
         "locationmode": "ISO-3",
         "lon": [
          -73.77890015,
          -72.26589965820312
         ],
         "mode": "lines",
         "name": "PLS",
         "opacity": 0.8,
         "type": "scattergeo"
        },
        {
         "lat": [
          40.63980103,
          18.5673999786
         ],
         "line": {
          "color": "red",
          "width": 0.5
         },
         "locationmode": "ISO-3",
         "lon": [
          -73.77890015,
          -68.36340332030001
         ],
         "mode": "lines",
         "name": "PUJ",
         "opacity": 0.8,
         "type": "scattergeo"
        },
        {
         "lat": [
          40.63980103,
          31.143400192260746
         ],
         "line": {
          "color": "red",
          "width": 0.5
         },
         "locationmode": "ISO-3",
         "lon": [
          -73.77890015,
          121.80500030517578
         ],
         "mode": "lines",
         "name": "PVG",
         "opacity": 0.8,
         "type": "scattergeo"
        },
        {
         "lat": [
          40.63980103,
          35.87760162353516
         ],
         "line": {
          "color": "red",
          "width": 0.5
         },
         "locationmode": "ISO-3",
         "lon": [
          -73.77890015,
          -78.7874984741211
         ],
         "mode": "lines",
         "name": "RDU",
         "opacity": 0.8,
         "type": "scattergeo"
        },
        {
         "lat": [
          40.63980103,
          37.50519943237305
         ],
         "line": {
          "color": "red",
          "width": 0.5
         },
         "locationmode": "ISO-3",
         "lon": [
          -73.77890015,
          -77.3197021484375
         ],
         "mode": "lines",
         "name": "RIC",
         "opacity": 0.8,
         "type": "scattergeo"
        },
        {
         "lat": [
          40.63980103,
          43.118900299072266
         ],
         "line": {
          "color": "red",
          "width": 0.5
         },
         "locationmode": "ISO-3",
         "lon": [
          -73.77890015,
          -77.67240142822266
         ],
         "mode": "lines",
         "name": "ROC",
         "opacity": 0.8,
         "type": "scattergeo"
        },
        {
         "lat": [
          40.63980103,
          32.7336006165
         ],
         "line": {
          "color": "red",
          "width": 0.5
         },
         "locationmode": "ISO-3",
         "lon": [
          -73.77890015,
          -117.190002441
         ],
         "mode": "lines",
         "name": "SAN",
         "opacity": 0.8,
         "type": "scattergeo"
        },
        {
         "lat": [
          40.63980103,
          29.533700942993164
         ],
         "line": {
          "color": "red",
          "width": 0.5
         },
         "locationmode": "ISO-3",
         "lon": [
          -73.77890015,
          -98.46980285644533
         ],
         "mode": "lines",
         "name": "SAT",
         "opacity": 0.8,
         "type": "scattergeo"
        },
        {
         "lat": [
          40.63980103,
          32.12760162
         ],
         "line": {
          "color": "red",
          "width": 0.5
         },
         "locationmode": "ISO-3",
         "lon": [
          -73.77890015,
          -81.20210266
         ],
         "mode": "lines",
         "name": "SAV",
         "opacity": 0.8,
         "type": "scattergeo"
        },
        {
         "lat": [
          40.63980103,
          38.1744
         ],
         "line": {
          "color": "red",
          "width": 0.5
         },
         "locationmode": "ISO-3",
         "lon": [
          -73.77890015,
          -85.736
         ],
         "mode": "lines",
         "name": "SDF",
         "opacity": 0.8,
         "type": "scattergeo"
        },
        {
         "lat": [
          40.63980103,
          18.42970085144
         ],
         "line": {
          "color": "red",
          "width": 0.5
         },
         "locationmode": "ISO-3",
         "lon": [
          -73.77890015,
          -69.668899536133
         ],
         "mode": "lines",
         "name": "SDQ",
         "opacity": 0.8,
         "type": "scattergeo"
        },
        {
         "lat": [
          40.63980103,
          47.449001
         ],
         "line": {
          "color": "red",
          "width": 0.5
         },
         "locationmode": "ISO-3",
         "lon": [
          -73.77890015,
          -122.308998
         ],
         "mode": "lines",
         "name": "SEA",
         "opacity": 0.8,
         "type": "scattergeo"
        },
        {
         "lat": [
          40.63980103,
          37.61899948120117
         ],
         "line": {
          "color": "red",
          "width": 0.5
         },
         "locationmode": "ISO-3",
         "lon": [
          -73.77890015,
          -122.375
         ],
         "mode": "lines",
         "name": "SFO",
         "opacity": 0.8,
         "type": "scattergeo"
        },
        {
         "lat": [
          40.63980103,
          9.993860244750977
         ],
         "line": {
          "color": "red",
          "width": 0.5
         },
         "locationmode": "ISO-3",
         "lon": [
          -73.77890015,
          -84.20880126953125
         ],
         "mode": "lines",
         "name": "SJO",
         "opacity": 0.8,
         "type": "scattergeo"
        },
        {
         "lat": [
          40.63980103,
          18.4393997192
         ],
         "line": {
          "color": "red",
          "width": 0.5
         },
         "locationmode": "ISO-3",
         "lon": [
          -73.77890015,
          -66.0018005371
         ],
         "mode": "lines",
         "name": "SJU",
         "opacity": 0.8,
         "type": "scattergeo"
        },
        {
         "lat": [
          40.63980103,
          40.78839874267578
         ],
         "line": {
          "color": "red",
          "width": 0.5
         },
         "locationmode": "ISO-3",
         "lon": [
          -73.77890015,
          -111.97799682617188
         ],
         "mode": "lines",
         "name": "SLC",
         "opacity": 0.8,
         "type": "scattergeo"
        },
        {
         "lat": [
          40.63980103,
          19.406099319458008
         ],
         "line": {
          "color": "red",
          "width": 0.5
         },
         "locationmode": "ISO-3",
         "lon": [
          -73.77890015,
          -70.60469818115234
         ],
         "mode": "lines",
         "name": "STI",
         "opacity": 0.8,
         "type": "scattergeo"
        },
        {
         "lat": [
          40.63980103,
          38.748697
         ],
         "line": {
          "color": "red",
          "width": 0.5
         },
         "locationmode": "ISO-3",
         "lon": [
          -73.77890015,
          -90.370003
         ],
         "mode": "lines",
         "name": "STL",
         "opacity": 0.8,
         "type": "scattergeo"
        },
        {
         "lat": [
          40.63980103,
          18.337299346923828
         ],
         "line": {
          "color": "red",
          "width": 0.5
         },
         "locationmode": "ISO-3",
         "lon": [
          -73.77890015,
          -64.97339630126953
         ],
         "mode": "lines",
         "name": "STT",
         "opacity": 0.8,
         "type": "scattergeo"
        },
        {
         "lat": [
          40.63980103,
          55.972599
         ],
         "line": {
          "color": "red",
          "width": 0.5
         },
         "locationmode": "ISO-3",
         "lon": [
          -73.77890015,
          37.4146
         ],
         "mode": "lines",
         "name": "SVO",
         "opacity": 0.8,
         "type": "scattergeo"
        },
        {
         "lat": [
          40.63980103,
          18.0410003662
         ],
         "line": {
          "color": "red",
          "width": 0.5
         },
         "locationmode": "ISO-3",
         "lon": [
          -73.77890015,
          -63.1088981628
         ],
         "mode": "lines",
         "name": "SXM",
         "opacity": 0.8,
         "type": "scattergeo"
        },
        {
         "lat": [
          40.63980103,
          43.11119842529297
         ],
         "line": {
          "color": "red",
          "width": 0.5
         },
         "locationmode": "ISO-3",
         "lon": [
          -73.77890015,
          -76.1063003540039
         ],
         "mode": "lines",
         "name": "SYR",
         "opacity": 0.8,
         "type": "scattergeo"
        },
        {
         "lat": [
          40.63980103,
          32.011398315429695
         ],
         "line": {
          "color": "red",
          "width": 0.5
         },
         "locationmode": "ISO-3",
         "lon": [
          -73.77890015,
          34.88669967651367
         ],
         "mode": "lines",
         "name": "TLV",
         "opacity": 0.8,
         "type": "scattergeo"
        },
        {
         "lat": [
          40.63980103,
          27.975500106811523
         ],
         "line": {
          "color": "red",
          "width": 0.5
         },
         "locationmode": "ISO-3",
         "lon": [
          -73.77890015,
          -82.533203125
         ],
         "mode": "lines",
         "name": "TPA",
         "opacity": 0.8,
         "type": "scattergeo"
        },
        {
         "lat": [
          40.63980103,
          45.505299
         ],
         "line": {
          "color": "red",
          "width": 0.5
         },
         "locationmode": "ISO-3",
         "lon": [
          -73.77890015,
          12.3519
         ],
         "mode": "lines",
         "name": "VCE",
         "opacity": 0.8,
         "type": "scattergeo"
        },
        {
         "lat": [
          40.63980103,
          45.4706001282
         ],
         "line": {
          "color": "red",
          "width": 0.5
         },
         "locationmode": "ISO-3",
         "lon": [
          -73.77890015,
          -73.7407989502
         ],
         "mode": "lines",
         "name": "YUL",
         "opacity": 0.8,
         "type": "scattergeo"
        },
        {
         "lat": [
          40.63980103,
          51.113899231000005
         ],
         "line": {
          "color": "red",
          "width": 0.5
         },
         "locationmode": "ISO-3",
         "lon": [
          -73.77890015,
          -114.019996643
         ],
         "mode": "lines",
         "name": "YYC",
         "opacity": 0.8,
         "type": "scattergeo"
        },
        {
         "lat": [
          40.63980103,
          43.6772003174
         ],
         "line": {
          "color": "red",
          "width": 0.5
         },
         "locationmode": "ISO-3",
         "lon": [
          -73.77890015,
          -79.63059997559999
         ],
         "mode": "lines",
         "name": "YYZ",
         "opacity": 0.8,
         "type": "scattergeo"
        },
        {
         "lat": [
          40.63980103,
          59.651901245117
         ],
         "line": {
          "color": "red",
          "width": 0.5
         },
         "locationmode": "ISO-3",
         "lon": [
          -73.77890015,
          17.918600082397
         ],
         "mode": "lines",
         "name": "ARN",
         "opacity": 0.8,
         "type": "scattergeo"
        },
        {
         "lat": [
          40.63980103,
          60.29339981
         ],
         "line": {
          "color": "red",
          "width": 0.5
         },
         "locationmode": "ISO-3",
         "lon": [
          -73.77890015,
          5.218140125
         ],
         "mode": "lines",
         "name": "BGO",
         "opacity": 0.8,
         "type": "scattergeo"
        },
        {
         "lat": [
          40.63980103,
          55.617900848389
         ],
         "line": {
          "color": "red",
          "width": 0.5
         },
         "locationmode": "ISO-3",
         "lon": [
          -73.77890015,
          12.656000137329
         ],
         "mode": "lines",
         "name": "CPH",
         "opacity": 0.8,
         "type": "scattergeo"
        },
        {
         "lat": [
          40.63980103,
          60.121
         ],
         "line": {
          "color": "red",
          "width": 0.5
         },
         "locationmode": "ISO-3",
         "lon": [
          -73.77890015,
          11.0502
         ],
         "mode": "lines",
         "name": "OSL",
         "opacity": 0.8,
         "type": "scattergeo"
        },
        {
         "lat": [
          40.63980103,
          53.421299
         ],
         "line": {
          "color": "red",
          "width": 0.5
         },
         "locationmode": "ISO-3",
         "lon": [
          -73.77890015,
          -6.27007
         ],
         "mode": "lines",
         "name": "DUB",
         "opacity": 0.8,
         "type": "scattergeo"
        },
        {
         "lat": [
          40.63980103,
          52.702
         ],
         "line": {
          "color": "red",
          "width": 0.5
         },
         "locationmode": "ISO-3",
         "lon": [
          -73.77890015,
          -8.92482
         ],
         "mode": "lines",
         "name": "SNN",
         "opacity": 0.8,
         "type": "scattergeo"
        },
        {
         "lat": [
          40.63980103,
          25.252799987800003
         ],
         "line": {
          "color": "red",
          "width": 0.5
         },
         "locationmode": "ISO-3",
         "lon": [
          -73.77890015,
          55.3643989563
         ],
         "mode": "lines",
         "name": "DXB",
         "opacity": 0.8,
         "type": "scattergeo"
        },
        {
         "lat": [
          40.63980103,
          45.6306
         ],
         "line": {
          "color": "red",
          "width": 0.5
         },
         "locationmode": "ISO-3",
         "lon": [
          -73.77890015,
          8.728110000000001
         ],
         "mode": "lines",
         "name": "MXP",
         "opacity": 0.8,
         "type": "scattergeo"
        },
        {
         "lat": [
          40.63980103,
          50.033333
         ],
         "line": {
          "color": "red",
          "width": 0.5
         },
         "locationmode": "ISO-3",
         "lon": [
          -73.77890015,
          8.570556
         ],
         "mode": "lines",
         "name": "FRA",
         "opacity": 0.8,
         "type": "scattergeo"
        },
        {
         "lat": [
          40.63980103,
          24.433000564575195
         ],
         "line": {
          "color": "red",
          "width": 0.5
         },
         "locationmode": "ISO-3",
         "lon": [
          -73.77890015,
          54.651100158691406
         ],
         "mode": "lines",
         "name": "AUH",
         "opacity": 0.8,
         "type": "scattergeo"
        },
        {
         "lat": [
          40.63980103,
          49.012798
         ],
         "line": {
          "color": "red",
          "width": 0.5
         },
         "locationmode": "ISO-3",
         "lon": [
          -73.77890015,
          2.55
         ],
         "mode": "lines",
         "name": "CDG",
         "opacity": 0.8,
         "type": "scattergeo"
        },
        {
         "lat": [
          40.63980103,
          36.08010101
         ],
         "line": {
          "color": "red",
          "width": 0.5
         },
         "locationmode": "ISO-3",
         "lon": [
          -73.77890015,
          -115.1520004
         ],
         "mode": "lines",
         "name": "LAS",
         "opacity": 0.8,
         "type": "scattergeo"
        },
        {
         "lat": [
          40.63980103,
          29.99340057373047
         ],
         "line": {
          "color": "red",
          "width": 0.5
         },
         "locationmode": "ISO-3",
         "lon": [
          -73.77890015,
          -90.25800323486328
         ],
         "mode": "lines",
         "name": "MSY",
         "opacity": 0.8,
         "type": "scattergeo"
        },
        {
         "lat": [
          40.63980103,
          63.985000610352
         ],
         "line": {
          "color": "red",
          "width": 0.5
         },
         "locationmode": "ISO-3",
         "lon": [
          -73.77890015,
          -22.605600357056
         ],
         "mode": "lines",
         "name": "KEF",
         "opacity": 0.8,
         "type": "scattergeo"
        },
        {
         "lat": [
          40.63980103,
          -23.435556411743164
         ],
         "line": {
          "color": "red",
          "width": 0.5
         },
         "locationmode": "ISO-3",
         "lon": [
          -73.77890015,
          -46.47305679321289
         ],
         "mode": "lines",
         "name": "GRU",
         "opacity": 0.8,
         "type": "scattergeo"
        },
        {
         "lat": [
          40.63980103,
          21.32062
         ],
         "line": {
          "color": "red",
          "width": 0.5
         },
         "locationmode": "ISO-3",
         "lon": [
          -73.77890015,
          -157.924228
         ],
         "mode": "lines",
         "name": "HNL",
         "opacity": 0.8,
         "type": "scattergeo"
        },
        {
         "lat": [
          40.63980103,
          36.08010101
         ],
         "line": {
          "color": "red",
          "width": 0.5
         },
         "locationmode": "ISO-3",
         "lon": [
          -73.77890015,
          -115.1520004
         ],
         "mode": "lines",
         "name": "LAS",
         "opacity": 0.8,
         "type": "scattergeo"
        },
        {
         "lat": [
          40.63980103,
          56.92359924316406
         ],
         "line": {
          "color": "red",
          "width": 0.5
         },
         "locationmode": "ISO-3",
         "lon": [
          -73.77890015,
          23.971099853515625
         ],
         "mode": "lines",
         "name": "RIX",
         "opacity": 0.8,
         "type": "scattergeo"
        },
        {
         "lat": [
          40.63980103,
          41.2971
         ],
         "line": {
          "color": "red",
          "width": 0.5
         },
         "locationmode": "ISO-3",
         "lon": [
          -73.77890015,
          2.07846
         ],
         "mode": "lines",
         "name": "BCN",
         "opacity": 0.8,
         "type": "scattergeo"
        },
        {
         "lat": [
          40.63980103,
          49.012798
         ],
         "line": {
          "color": "red",
          "width": 0.5
         },
         "locationmode": "ISO-3",
         "lon": [
          -73.77890015,
          2.55
         ],
         "mode": "lines",
         "name": "CDG",
         "opacity": 0.8,
         "type": "scattergeo"
        },
        {
         "lat": [
          40.63980103,
          41.8002778
         ],
         "line": {
          "color": "red",
          "width": 0.5
         },
         "locationmode": "ISO-3",
         "lon": [
          -73.77890015,
          12.2388889
         ],
         "mode": "lines",
         "name": "FCO",
         "opacity": 0.8,
         "type": "scattergeo"
        },
        {
         "lat": [
          40.63980103,
          60.317199707031
         ],
         "line": {
          "color": "red",
          "width": 0.5
         },
         "locationmode": "ISO-3",
         "lon": [
          -73.77890015,
          24.963300704956
         ],
         "mode": "lines",
         "name": "HEL",
         "opacity": 0.8,
         "type": "scattergeo"
        },
        {
         "lat": [
          40.63980103,
          51.505299
         ],
         "line": {
          "color": "red",
          "width": 0.5
         },
         "locationmode": "ISO-3",
         "lon": [
          -73.77890015,
          0.0552779999999999
         ],
         "mode": "lines",
         "name": "LCY",
         "opacity": 0.8,
         "type": "scattergeo"
        },
        {
         "lat": [
          40.63980103,
          51.4706
         ],
         "line": {
          "color": "red",
          "width": 0.5
         },
         "locationmode": "ISO-3",
         "lon": [
          -73.77890015,
          -0.461941
         ],
         "mode": "lines",
         "name": "LHR",
         "opacity": 0.8,
         "type": "scattergeo"
        },
        {
         "lat": [
          40.63980103,
          40.471926
         ],
         "line": {
          "color": "red",
          "width": 0.5
         },
         "locationmode": "ISO-3",
         "lon": [
          -73.77890015,
          -3.56264
         ],
         "mode": "lines",
         "name": "MAD",
         "opacity": 0.8,
         "type": "scattergeo"
        },
        {
         "lat": [
          40.63980103,
          53.35369873046875
         ],
         "line": {
          "color": "red",
          "width": 0.5
         },
         "locationmode": "ISO-3",
         "lon": [
          -73.77890015,
          -2.2749500274658203
         ],
         "mode": "lines",
         "name": "MAN",
         "opacity": 0.8,
         "type": "scattergeo"
        },
        {
         "lat": [
          40.63980103,
          45.6306
         ],
         "line": {
          "color": "red",
          "width": 0.5
         },
         "locationmode": "ISO-3",
         "lon": [
          -73.77890015,
          8.728110000000001
         ],
         "mode": "lines",
         "name": "MXP",
         "opacity": 0.8,
         "type": "scattergeo"
        },
        {
         "lat": [
          40.63980103,
          48.7233333
         ],
         "line": {
          "color": "red",
          "width": 0.5
         },
         "locationmode": "ISO-3",
         "lon": [
          -73.77890015,
          2.3794444
         ],
         "mode": "lines",
         "name": "ORY",
         "opacity": 0.8,
         "type": "scattergeo"
        },
        {
         "lat": [
          40.63980103,
          -22.8099994659
         ],
         "line": {
          "color": "red",
          "width": 0.5
         },
         "locationmode": "ISO-3",
         "lon": [
          -73.77890015,
          -43.2505569458
         ],
         "mode": "lines",
         "name": "GIG",
         "opacity": 0.8,
         "type": "scattergeo"
        },
        {
         "lat": [
          40.63980103,
          -23.435556411743164
         ],
         "line": {
          "color": "red",
          "width": 0.5
         },
         "locationmode": "ISO-3",
         "lon": [
          -73.77890015,
          -46.47305679321289
         ],
         "mode": "lines",
         "name": "GRU",
         "opacity": 0.8,
         "type": "scattergeo"
        },
        {
         "lat": [
          40.63980103,
          -12.0219
         ],
         "line": {
          "color": "red",
          "width": 0.5
         },
         "locationmode": "ISO-3",
         "lon": [
          -73.77890015,
          -77.114305
         ],
         "mode": "lines",
         "name": "LIM",
         "opacity": 0.8,
         "type": "scattergeo"
        },
        {
         "lat": [
          40.63980103,
          29.99340057373047
         ],
         "line": {
          "color": "red",
          "width": 0.5
         },
         "locationmode": "ISO-3",
         "lon": [
          -73.77890015,
          -90.25800323486328
         ],
         "mode": "lines",
         "name": "MSY",
         "opacity": 0.8,
         "type": "scattergeo"
        },
        {
         "lat": [
          40.63980103,
          35.7647018433
         ],
         "line": {
          "color": "red",
          "width": 0.5
         },
         "locationmode": "ISO-3",
         "lon": [
          -73.77890015,
          140.386001587
         ],
         "mode": "lines",
         "name": "NRT",
         "opacity": 0.8,
         "type": "scattergeo"
        },
        {
         "lat": [
          40.63980103,
          37.46910095214844
         ],
         "line": {
          "color": "red",
          "width": 0.5
         },
         "locationmode": "ISO-3",
         "lon": [
          -73.77890015,
          126.45099639892578
         ],
         "mode": "lines",
         "name": "ICN",
         "opacity": 0.8,
         "type": "scattergeo"
        },
        {
         "lat": [
          40.63980103,
          52.308601
         ],
         "line": {
          "color": "red",
          "width": 0.5
         },
         "locationmode": "ISO-3",
         "lon": [
          -73.77890015,
          4.76389
         ],
         "mode": "lines",
         "name": "AMS",
         "opacity": 0.8,
         "type": "scattergeo"
        },
        {
         "lat": [
          40.63980103,
          33.6367
         ],
         "line": {
          "color": "red",
          "width": 0.5
         },
         "locationmode": "ISO-3",
         "lon": [
          -73.77890015,
          -84.428101
         ],
         "mode": "lines",
         "name": "ATL",
         "opacity": 0.8,
         "type": "scattergeo"
        },
        {
         "lat": [
          40.63980103,
          41.2971
         ],
         "line": {
          "color": "red",
          "width": 0.5
         },
         "locationmode": "ISO-3",
         "lon": [
          -73.77890015,
          2.07846
         ],
         "mode": "lines",
         "name": "BCN",
         "opacity": 0.8,
         "type": "scattergeo"
        },
        {
         "lat": [
          40.63980103,
          50.9014015198
         ],
         "line": {
          "color": "red",
          "width": 0.5
         },
         "locationmode": "ISO-3",
         "lon": [
          -73.77890015,
          4.48443984985
         ],
         "mode": "lines",
         "name": "BRU",
         "opacity": 0.8,
         "type": "scattergeo"
        },
        {
         "lat": [
          40.63980103,
          53.421299
         ],
         "line": {
          "color": "red",
          "width": 0.5
         },
         "locationmode": "ISO-3",
         "lon": [
          -73.77890015,
          -6.27007
         ],
         "mode": "lines",
         "name": "DUB",
         "opacity": 0.8,
         "type": "scattergeo"
        },
        {
         "lat": [
          40.63980103,
          50.033333
         ],
         "line": {
          "color": "red",
          "width": 0.5
         },
         "locationmode": "ISO-3",
         "lon": [
          -73.77890015,
          8.570556
         ],
         "mode": "lines",
         "name": "FRA",
         "opacity": 0.8,
         "type": "scattergeo"
        },
        {
         "lat": [
          40.63980103,
          51.4706
         ],
         "line": {
          "color": "red",
          "width": 0.5
         },
         "locationmode": "ISO-3",
         "lon": [
          -73.77890015,
          -0.461941
         ],
         "mode": "lines",
         "name": "LHR",
         "opacity": 0.8,
         "type": "scattergeo"
        },
        {
         "lat": [
          40.63980103,
          40.471926
         ],
         "line": {
          "color": "red",
          "width": 0.5
         },
         "locationmode": "ISO-3",
         "lon": [
          -73.77890015,
          -3.56264
         ],
         "mode": "lines",
         "name": "MAD",
         "opacity": 0.8,
         "type": "scattergeo"
        },
        {
         "lat": [
          40.63980103,
          29.99340057373047
         ],
         "line": {
          "color": "red",
          "width": 0.5
         },
         "locationmode": "ISO-3",
         "lon": [
          -73.77890015,
          -90.25800323486328
         ],
         "mode": "lines",
         "name": "MSY",
         "opacity": 0.8,
         "type": "scattergeo"
        },
        {
         "lat": [
          40.63980103,
          29.226600646972656
         ],
         "line": {
          "color": "red",
          "width": 0.5
         },
         "locationmode": "ISO-3",
         "lon": [
          -73.77890015,
          47.96889877319336
         ],
         "mode": "lines",
         "name": "KWI",
         "opacity": 0.8,
         "type": "scattergeo"
        },
        {
         "lat": [
          40.63980103,
          51.4706
         ],
         "line": {
          "color": "red",
          "width": 0.5
         },
         "locationmode": "ISO-3",
         "lon": [
          -73.77890015,
          -0.461941
         ],
         "mode": "lines",
         "name": "LHR",
         "opacity": 0.8,
         "type": "scattergeo"
        },
        {
         "lat": [
          40.63980103,
          19.2928009033
         ],
         "line": {
          "color": "red",
          "width": 0.5
         },
         "locationmode": "ISO-3",
         "lon": [
          -73.77890015,
          -81.3576965332
         ],
         "mode": "lines",
         "name": "GCM",
         "opacity": 0.8,
         "type": "scattergeo"
        },
        {
         "lat": [
          40.63980103,
          -12.0219
         ],
         "line": {
          "color": "red",
          "width": 0.5
         },
         "locationmode": "ISO-3",
         "lon": [
          -73.77890015,
          -77.114305
         ],
         "mode": "lines",
         "name": "LIM",
         "opacity": 0.8,
         "type": "scattergeo"
        },
        {
         "lat": [
          40.63980103,
          -33.393001556396484
         ],
         "line": {
          "color": "red",
          "width": 0.5
         },
         "locationmode": "ISO-3",
         "lon": [
          -73.77890015,
          -70.78579711914062
         ],
         "mode": "lines",
         "name": "SCL",
         "opacity": 0.8,
         "type": "scattergeo"
        },
        {
         "lat": [
          40.63980103,
          50.9014015198
         ],
         "line": {
          "color": "red",
          "width": 0.5
         },
         "locationmode": "ISO-3",
         "lon": [
          -73.77890015,
          4.48443984985
         ],
         "mode": "lines",
         "name": "BRU",
         "opacity": 0.8,
         "type": "scattergeo"
        },
        {
         "lat": [
          40.63980103,
          50.033333
         ],
         "line": {
          "color": "red",
          "width": 0.5
         },
         "locationmode": "ISO-3",
         "lon": [
          -73.77890015,
          8.570556
         ],
         "mode": "lines",
         "name": "FRA",
         "opacity": 0.8,
         "type": "scattergeo"
        },
        {
         "lat": [
          40.63980103,
          29.99340057373047
         ],
         "line": {
          "color": "red",
          "width": 0.5
         },
         "locationmode": "ISO-3",
         "lon": [
          -73.77890015,
          -90.25800323486328
         ],
         "mode": "lines",
         "name": "MSY",
         "opacity": 0.8,
         "type": "scattergeo"
        },
        {
         "lat": [
          40.63980103,
          48.353802
         ],
         "line": {
          "color": "red",
          "width": 0.5
         },
         "locationmode": "ISO-3",
         "lon": [
          -73.77890015,
          11.7861
         ],
         "mode": "lines",
         "name": "MUC",
         "opacity": 0.8,
         "type": "scattergeo"
        },
        {
         "lat": [
          40.63980103,
          52.1656990051
         ],
         "line": {
          "color": "red",
          "width": 0.5
         },
         "locationmode": "ISO-3",
         "lon": [
          -73.77890015,
          20.9671001434
         ],
         "mode": "lines",
         "name": "WAW",
         "opacity": 0.8,
         "type": "scattergeo"
        },
        {
         "lat": [
          40.63980103,
          46.23809814453125
         ],
         "line": {
          "color": "red",
          "width": 0.5
         },
         "locationmode": "ISO-3",
         "lon": [
          -73.77890015,
          6.108950138092041
         ],
         "mode": "lines",
         "name": "GVA",
         "opacity": 0.8,
         "type": "scattergeo"
        },
        {
         "lat": [
          40.63980103,
          47.464699
         ],
         "line": {
          "color": "red",
          "width": 0.5
         },
         "locationmode": "ISO-3",
         "lon": [
          -73.77890015,
          8.54917
         ],
         "mode": "lines",
         "name": "ZRH",
         "opacity": 0.8,
         "type": "scattergeo"
        },
        {
         "lat": [
          40.63980103,
          32.011398315429695
         ],
         "line": {
          "color": "red",
          "width": 0.5
         },
         "locationmode": "ISO-3",
         "lon": [
          -73.77890015,
          34.88669967651367
         ],
         "mode": "lines",
         "name": "TLV",
         "opacity": 0.8,
         "type": "scattergeo"
        },
        {
         "lat": [
          40.63980103,
          51.4706
         ],
         "line": {
          "color": "red",
          "width": 0.5
         },
         "locationmode": "ISO-3",
         "lon": [
          -73.77890015,
          -0.461941
         ],
         "mode": "lines",
         "name": "LHR",
         "opacity": 0.8,
         "type": "scattergeo"
        },
        {
         "lat": [
          40.63980103,
          30.12190055847168
         ],
         "line": {
          "color": "red",
          "width": 0.5
         },
         "locationmode": "ISO-3",
         "lon": [
          -73.77890015,
          31.40559959411621
         ],
         "mode": "lines",
         "name": "CAI",
         "opacity": 0.8,
         "type": "scattergeo"
        },
        {
         "lat": [
          40.63980103,
          31.143400192260746
         ],
         "line": {
          "color": "red",
          "width": 0.5
         },
         "locationmode": "ISO-3",
         "lon": [
          -73.77890015,
          121.80500030517578
         ],
         "mode": "lines",
         "name": "PVG",
         "opacity": 0.8,
         "type": "scattergeo"
        },
        {
         "lat": [
          40.63980103,
          35.7647018433
         ],
         "line": {
          "color": "red",
          "width": 0.5
         },
         "locationmode": "ISO-3",
         "lon": [
          -73.77890015,
          140.386001587
         ],
         "mode": "lines",
         "name": "NRT",
         "opacity": 0.8,
         "type": "scattergeo"
        },
        {
         "lat": [
          40.63980103,
          17.935699462890625
         ],
         "line": {
          "color": "red",
          "width": 0.5
         },
         "locationmode": "ISO-3",
         "lon": [
          -73.77890015,
          -76.7874984741211
         ],
         "mode": "lines",
         "name": "KIN",
         "opacity": 0.8,
         "type": "scattergeo"
        },
        {
         "lat": [
          40.63980103,
          48.110298156738
         ],
         "line": {
          "color": "red",
          "width": 0.5
         },
         "locationmode": "ISO-3",
         "lon": [
          -73.77890015,
          16.569700241089002
         ],
         "mode": "lines",
         "name": "VIE",
         "opacity": 0.8,
         "type": "scattergeo"
        },
        {
         "lat": [
          40.63980103,
          37.46910095214844
         ],
         "line": {
          "color": "red",
          "width": 0.5
         },
         "locationmode": "ISO-3",
         "lon": [
          -73.77890015,
          126.45099639892578
         ],
         "mode": "lines",
         "name": "ICN",
         "opacity": 0.8,
         "type": "scattergeo"
        },
        {
         "lat": [
          40.63980103,
          31.5216007232666
         ],
         "line": {
          "color": "red",
          "width": 0.5
         },
         "locationmode": "ISO-3",
         "lon": [
          -73.77890015,
          74.40360260009766
         ],
         "mode": "lines",
         "name": "LHE",
         "opacity": 0.8,
         "type": "scattergeo"
        },
        {
         "lat": [
          40.63980103,
          50.34500122070313
         ],
         "line": {
          "color": "red",
          "width": 0.5
         },
         "locationmode": "ISO-3",
         "lon": [
          -73.77890015,
          30.89469909667969
         ],
         "mode": "lines",
         "name": "KBP",
         "opacity": 0.8,
         "type": "scattergeo"
        },
        {
         "lat": [
          40.63980103,
          33.94250107
         ],
         "line": {
          "color": "red",
          "width": 0.5
         },
         "locationmode": "ISO-3",
         "lon": [
          -73.77890015,
          -118.4079971
         ],
         "mode": "lines",
         "name": "LAX",
         "opacity": 0.8,
         "type": "scattergeo"
        },
        {
         "lat": [
          40.63980103,
          41.2971
         ],
         "line": {
          "color": "red",
          "width": 0.5
         },
         "locationmode": "ISO-3",
         "lon": [
          -73.77890015,
          2.07846
         ],
         "mode": "lines",
         "name": "BCN",
         "opacity": 0.8,
         "type": "scattergeo"
        },
        {
         "lat": [
          40.63980103,
          49.012798
         ],
         "line": {
          "color": "red",
          "width": 0.5
         },
         "locationmode": "ISO-3",
         "lon": [
          -73.77890015,
          2.55
         ],
         "mode": "lines",
         "name": "CDG",
         "opacity": 0.8,
         "type": "scattergeo"
        },
        {
         "lat": [
          40.63980103,
          25.273056
         ],
         "line": {
          "color": "red",
          "width": 0.5
         },
         "locationmode": "ISO-3",
         "lon": [
          -73.77890015,
          51.608056
         ],
         "mode": "lines",
         "name": "DOH",
         "opacity": 0.8,
         "type": "scattergeo"
        },
        {
         "lat": [
          40.63980103,
          36.08010101
         ],
         "line": {
          "color": "red",
          "width": 0.5
         },
         "locationmode": "ISO-3",
         "lon": [
          -73.77890015,
          -115.1520004
         ],
         "mode": "lines",
         "name": "LAS",
         "opacity": 0.8,
         "type": "scattergeo"
        },
        {
         "lat": [
          40.63980103,
          29.99340057373047
         ],
         "line": {
          "color": "red",
          "width": 0.5
         },
         "locationmode": "ISO-3",
         "lon": [
          -73.77890015,
          -90.25800323486328
         ],
         "mode": "lines",
         "name": "MSY",
         "opacity": 0.8,
         "type": "scattergeo"
        },
        {
         "lat": [
          40.63980103,
          45.6306
         ],
         "line": {
          "color": "red",
          "width": 0.5
         },
         "locationmode": "ISO-3",
         "lon": [
          -73.77890015,
          8.728110000000001
         ],
         "mode": "lines",
         "name": "MXP",
         "opacity": 0.8,
         "type": "scattergeo"
        },
        {
         "lat": [
          40.63980103,
          41.9786
         ],
         "line": {
          "color": "red",
          "width": 0.5
         },
         "locationmode": "ISO-3",
         "lon": [
          -73.77890015,
          -87.9048
         ],
         "mode": "lines",
         "name": "ORD",
         "opacity": 0.8,
         "type": "scattergeo"
        },
        {
         "lat": [
          40.63980103,
          32.7336006165
         ],
         "line": {
          "color": "red",
          "width": 0.5
         },
         "locationmode": "ISO-3",
         "lon": [
          -73.77890015,
          -117.190002441
         ],
         "mode": "lines",
         "name": "SAN",
         "opacity": 0.8,
         "type": "scattergeo"
        },
        {
         "lat": [
          40.63980103,
          31.7226009369
         ],
         "line": {
          "color": "red",
          "width": 0.5
         },
         "locationmode": "ISO-3",
         "lon": [
          -73.77890015,
          35.9931983948
         ],
         "mode": "lines",
         "name": "AMM",
         "opacity": 0.8,
         "type": "scattergeo"
        },
        {
         "lat": [
          40.63980103,
          -26.1392
         ],
         "line": {
          "color": "red",
          "width": 0.5
         },
         "locationmode": "ISO-3",
         "lon": [
          -73.77890015,
          28.246
         ],
         "mode": "lines",
         "name": "JNB",
         "opacity": 0.8,
         "type": "scattergeo"
        },
        {
         "lat": [
          40.63980103,
          49.012798
         ],
         "line": {
          "color": "red",
          "width": 0.5
         },
         "locationmode": "ISO-3",
         "lon": [
          -73.77890015,
          2.55
         ],
         "mode": "lines",
         "name": "CDG",
         "opacity": 0.8,
         "type": "scattergeo"
        },
        {
         "lat": [
          40.63980103,
          50.9014015198
         ],
         "line": {
          "color": "red",
          "width": 0.5
         },
         "locationmode": "ISO-3",
         "lon": [
          -73.77890015,
          4.48443984985
         ],
         "mode": "lines",
         "name": "BRU",
         "opacity": 0.8,
         "type": "scattergeo"
        },
        {
         "lat": [
          40.63980103,
          50.033333
         ],
         "line": {
          "color": "red",
          "width": 0.5
         },
         "locationmode": "ISO-3",
         "lon": [
          -73.77890015,
          8.570556
         ],
         "mode": "lines",
         "name": "FRA",
         "opacity": 0.8,
         "type": "scattergeo"
        },
        {
         "lat": [
          40.63980103,
          33.6367
         ],
         "line": {
          "color": "red",
          "width": 0.5
         },
         "locationmode": "ISO-3",
         "lon": [
          -73.77890015,
          -84.428101
         ],
         "mode": "lines",
         "name": "ATL",
         "opacity": 0.8,
         "type": "scattergeo"
        },
        {
         "lat": [
          40.63980103,
          55.972599
         ],
         "line": {
          "color": "red",
          "width": 0.5
         },
         "locationmode": "ISO-3",
         "lon": [
          -73.77890015,
          37.4146
         ],
         "mode": "lines",
         "name": "SVO",
         "opacity": 0.8,
         "type": "scattergeo"
        },
        {
         "lat": [
          40.63980103,
          21.6796
         ],
         "line": {
          "color": "red",
          "width": 0.5
         },
         "locationmode": "ISO-3",
         "lon": [
          -73.77890015,
          39.156502
         ],
         "mode": "lines",
         "name": "JED",
         "opacity": 0.8,
         "type": "scattergeo"
        },
        {
         "lat": [
          40.63980103,
          24.95759963989257
         ],
         "line": {
          "color": "red",
          "width": 0.5
         },
         "locationmode": "ISO-3",
         "lon": [
          -73.77890015,
          46.69879913330078
         ],
         "mode": "lines",
         "name": "RUH",
         "opacity": 0.8,
         "type": "scattergeo"
        },
        {
         "lat": [
          40.63980103,
          44.882
         ],
         "line": {
          "color": "red",
          "width": 0.5
         },
         "locationmode": "ISO-3",
         "lon": [
          -73.77890015,
          -93.221802
         ],
         "mode": "lines",
         "name": "MSP",
         "opacity": 0.8,
         "type": "scattergeo"
        },
        {
         "lat": [
          40.63980103,
          41.275278
         ],
         "line": {
          "color": "red",
          "width": 0.5
         },
         "locationmode": "ISO-3",
         "lon": [
          -73.77890015,
          28.751944
         ],
         "mode": "lines",
         "name": "IST",
         "opacity": 0.8,
         "type": "scattergeo"
        },
        {
         "lat": [
          40.63980103,
          4.70159
         ],
         "line": {
          "color": "red",
          "width": 0.5
         },
         "locationmode": "ISO-3",
         "lon": [
          -73.77890015,
          -74.1469
         ],
         "mode": "lines",
         "name": "BOG",
         "opacity": 0.8,
         "type": "scattergeo"
        },
        {
         "lat": [
          40.63980103,
          50.9014015198
         ],
         "line": {
          "color": "red",
          "width": 0.5
         },
         "locationmode": "ISO-3",
         "lon": [
          -73.77890015,
          4.48443984985
         ],
         "mode": "lines",
         "name": "BRU",
         "opacity": 0.8,
         "type": "scattergeo"
        },
        {
         "lat": [
          40.63980103,
          30.12190055847168
         ],
         "line": {
          "color": "red",
          "width": 0.5
         },
         "locationmode": "ISO-3",
         "lon": [
          -73.77890015,
          31.40559959411621
         ],
         "mode": "lines",
         "name": "CAI",
         "opacity": 0.8,
         "type": "scattergeo"
        },
        {
         "lat": [
          40.63980103,
          53.421299
         ],
         "line": {
          "color": "red",
          "width": 0.5
         },
         "locationmode": "ISO-3",
         "lon": [
          -73.77890015,
          -6.27007
         ],
         "mode": "lines",
         "name": "DUB",
         "opacity": 0.8,
         "type": "scattergeo"
        },
        {
         "lat": [
          40.63980103,
          50.033333
         ],
         "line": {
          "color": "red",
          "width": 0.5
         },
         "locationmode": "ISO-3",
         "lon": [
          -73.77890015,
          8.570556
         ],
         "mode": "lines",
         "name": "FRA",
         "opacity": 0.8,
         "type": "scattergeo"
        },
        {
         "lat": [
          40.63980103,
          46.23809814453125
         ],
         "line": {
          "color": "red",
          "width": 0.5
         },
         "locationmode": "ISO-3",
         "lon": [
          -73.77890015,
          6.108950138092041
         ],
         "mode": "lines",
         "name": "GVA",
         "opacity": 0.8,
         "type": "scattergeo"
        },
        {
         "lat": [
          40.63980103,
          38.94449997
         ],
         "line": {
          "color": "red",
          "width": 0.5
         },
         "locationmode": "ISO-3",
         "lon": [
          -73.77890015,
          -77.45580292
         ],
         "mode": "lines",
         "name": "IAD",
         "opacity": 0.8,
         "type": "scattergeo"
        },
        {
         "lat": [
          40.63980103,
          37.46910095214844
         ],
         "line": {
          "color": "red",
          "width": 0.5
         },
         "locationmode": "ISO-3",
         "lon": [
          -73.77890015,
          126.45099639892578
         ],
         "mode": "lines",
         "name": "ICN",
         "opacity": 0.8,
         "type": "scattergeo"
        },
        {
         "lat": [
          40.63980103,
          -26.1392
         ],
         "line": {
          "color": "red",
          "width": 0.5
         },
         "locationmode": "ISO-3",
         "lon": [
          -73.77890015,
          28.246
         ],
         "mode": "lines",
         "name": "JNB",
         "opacity": 0.8,
         "type": "scattergeo"
        },
        {
         "lat": [
          40.63980103,
          33.94250107
         ],
         "line": {
          "color": "red",
          "width": 0.5
         },
         "locationmode": "ISO-3",
         "lon": [
          -73.77890015,
          -118.4079971
         ],
         "mode": "lines",
         "name": "LAX",
         "opacity": 0.8,
         "type": "scattergeo"
        },
        {
         "lat": [
          40.63980103,
          48.353802
         ],
         "line": {
          "color": "red",
          "width": 0.5
         },
         "locationmode": "ISO-3",
         "lon": [
          -73.77890015,
          11.7861
         ],
         "mode": "lines",
         "name": "MUC",
         "opacity": 0.8,
         "type": "scattergeo"
        },
        {
         "lat": [
          40.63980103,
          35.7647018433
         ],
         "line": {
          "color": "red",
          "width": 0.5
         },
         "locationmode": "ISO-3",
         "lon": [
          -73.77890015,
          140.386001587
         ],
         "mode": "lines",
         "name": "NRT",
         "opacity": 0.8,
         "type": "scattergeo"
        },
        {
         "lat": [
          40.63980103,
          40.0801010131836
         ],
         "line": {
          "color": "red",
          "width": 0.5
         },
         "locationmode": "ISO-3",
         "lon": [
          -73.77890015,
          116.58499908447266
         ],
         "mode": "lines",
         "name": "PEK",
         "opacity": 0.8,
         "type": "scattergeo"
        },
        {
         "lat": [
          40.63980103,
          9.0713596344
         ],
         "line": {
          "color": "red",
          "width": 0.5
         },
         "locationmode": "ISO-3",
         "lon": [
          -73.77890015,
          -79.3834991455
         ],
         "mode": "lines",
         "name": "PTY",
         "opacity": 0.8,
         "type": "scattergeo"
        },
        {
         "lat": [
          40.63980103,
          13.4409
         ],
         "line": {
          "color": "red",
          "width": 0.5
         },
         "locationmode": "ISO-3",
         "lon": [
          -73.77890015,
          -89.055702
         ],
         "mode": "lines",
         "name": "SAL",
         "opacity": 0.8,
         "type": "scattergeo"
        },
        {
         "lat": [
          40.63980103,
          37.61899948120117
         ],
         "line": {
          "color": "red",
          "width": 0.5
         },
         "locationmode": "ISO-3",
         "lon": [
          -73.77890015,
          -122.375
         ],
         "mode": "lines",
         "name": "SFO",
         "opacity": 0.8,
         "type": "scattergeo"
        },
        {
         "lat": [
          40.63980103,
          48.110298156738
         ],
         "line": {
          "color": "red",
          "width": 0.5
         },
         "locationmode": "ISO-3",
         "lon": [
          -73.77890015,
          16.569700241089002
         ],
         "mode": "lines",
         "name": "VIE",
         "opacity": 0.8,
         "type": "scattergeo"
        },
        {
         "lat": [
          40.63980103,
          47.464699
         ],
         "line": {
          "color": "red",
          "width": 0.5
         },
         "locationmode": "ISO-3",
         "lon": [
          -73.77890015,
          8.54917
         ],
         "mode": "lines",
         "name": "ZRH",
         "opacity": 0.8,
         "type": "scattergeo"
        },
        {
         "lat": [
          40.63980103,
          55.5914993286
         ],
         "line": {
          "color": "red",
          "width": 0.5
         },
         "locationmode": "ISO-3",
         "lon": [
          -73.77890015,
          37.2615013123
         ],
         "mode": "lines",
         "name": "VKO",
         "opacity": 0.8,
         "type": "scattergeo"
        },
        {
         "lat": [
          40.63980103,
          31.7226009369
         ],
         "line": {
          "color": "red",
          "width": 0.5
         },
         "locationmode": "ISO-3",
         "lon": [
          -73.77890015,
          35.9931983948
         ],
         "mode": "lines",
         "name": "AMM",
         "opacity": 0.8,
         "type": "scattergeo"
        },
        {
         "lat": [
          40.63980103,
          17.1367
         ],
         "line": {
          "color": "red",
          "width": 0.5
         },
         "locationmode": "ISO-3",
         "lon": [
          -73.77890015,
          -61.792702
         ],
         "mode": "lines",
         "name": "ANU",
         "opacity": 0.8,
         "type": "scattergeo"
        },
        {
         "lat": [
          40.63980103,
          30.194499969482425
         ],
         "line": {
          "color": "red",
          "width": 0.5
         },
         "locationmode": "ISO-3",
         "lon": [
          -73.77890015,
          -97.6698989868164
         ],
         "mode": "lines",
         "name": "AUS",
         "opacity": 0.8,
         "type": "scattergeo"
        },
        {
         "lat": [
          40.63980103,
          41.2971
         ],
         "line": {
          "color": "red",
          "width": 0.5
         },
         "locationmode": "ISO-3",
         "lon": [
          -73.77890015,
          2.07846
         ],
         "mode": "lines",
         "name": "BCN",
         "opacity": 0.8,
         "type": "scattergeo"
        },
        {
         "lat": [
          40.63980103,
          32.363998413085945
         ],
         "line": {
          "color": "red",
          "width": 0.5
         },
         "locationmode": "ISO-3",
         "lon": [
          -73.77890015,
          -64.67870330810547
         ],
         "mode": "lines",
         "name": "BDA",
         "opacity": 0.8,
         "type": "scattergeo"
        },
        {
         "lat": [
          40.63980103,
          36.1245002746582
         ],
         "line": {
          "color": "red",
          "width": 0.5
         },
         "locationmode": "ISO-3",
         "lon": [
          -73.77890015,
          -86.6781997680664
         ],
         "mode": "lines",
         "name": "BNA",
         "opacity": 0.8,
         "type": "scattergeo"
        },
        {
         "lat": [
          40.63980103,
          4.70159
         ],
         "line": {
          "color": "red",
          "width": 0.5
         },
         "locationmode": "ISO-3",
         "lon": [
          -73.77890015,
          -74.1469
         ],
         "mode": "lines",
         "name": "BOG",
         "opacity": 0.8,
         "type": "scattergeo"
        },
        {
         "lat": [
          40.63980103,
          42.36429977
         ],
         "line": {
          "color": "red",
          "width": 0.5
         },
         "locationmode": "ISO-3",
         "lon": [
          -73.77890015,
          -71.00520325
         ],
         "mode": "lines",
         "name": "BOS",
         "opacity": 0.8,
         "type": "scattergeo"
        },
        {
         "lat": [
          40.63980103,
          39.1754
         ],
         "line": {
          "color": "red",
          "width": 0.5
         },
         "locationmode": "ISO-3",
         "lon": [
          -73.77890015,
          -76.668297
         ],
         "mode": "lines",
         "name": "BWI",
         "opacity": 0.8,
         "type": "scattergeo"
        },
        {
         "lat": [
          40.63980103,
          49.012798
         ],
         "line": {
          "color": "red",
          "width": 0.5
         },
         "locationmode": "ISO-3",
         "lon": [
          -73.77890015,
          2.55
         ],
         "mode": "lines",
         "name": "CDG",
         "opacity": 0.8,
         "type": "scattergeo"
        },
        {
         "lat": [
          40.63980103,
          41.4117012024
         ],
         "line": {
          "color": "red",
          "width": 0.5
         },
         "locationmode": "ISO-3",
         "lon": [
          -73.77890015,
          -81.8498001099
         ],
         "mode": "lines",
         "name": "CLE",
         "opacity": 0.8,
         "type": "scattergeo"
        },
        {
         "lat": [
          40.63980103,
          35.2140007019043
         ],
         "line": {
          "color": "red",
          "width": 0.5
         },
         "locationmode": "ISO-3",
         "lon": [
          -73.77890015,
          -80.94309997558594
         ],
         "mode": "lines",
         "name": "CLT",
         "opacity": 0.8,
         "type": "scattergeo"
        },
        {
         "lat": [
          40.63980103,
          39.998001
         ],
         "line": {
          "color": "red",
          "width": 0.5
         },
         "locationmode": "ISO-3",
         "lon": [
          -73.77890015,
          -82.891899
         ],
         "mode": "lines",
         "name": "CMH",
         "opacity": 0.8,
         "type": "scattergeo"
        },
        {
         "lat": [
          40.63980103,
          21.036500930800003
         ],
         "line": {
          "color": "red",
          "width": 0.5
         },
         "locationmode": "ISO-3",
         "lon": [
          -73.77890015,
          -86.8770980835
         ],
         "mode": "lines",
         "name": "CUN",
         "opacity": 0.8,
         "type": "scattergeo"
        },
        {
         "lat": [
          40.63980103,
          39.0488014221
         ],
         "line": {
          "color": "red",
          "width": 0.5
         },
         "locationmode": "ISO-3",
         "lon": [
          -73.77890015,
          -84.6678009033
         ],
         "mode": "lines",
         "name": "CVG",
         "opacity": 0.8,
         "type": "scattergeo"
        },
        {
         "lat": [
          40.63980103,
          38.8521
         ],
         "line": {
          "color": "red",
          "width": 0.5
         },
         "locationmode": "ISO-3",
         "lon": [
          -73.77890015,
          -77.037697
         ],
         "mode": "lines",
         "name": "DCA",
         "opacity": 0.8,
         "type": "scattergeo"
        },
        {
         "lat": [
          40.63980103,
          32.896801
         ],
         "line": {
          "color": "red",
          "width": 0.5
         },
         "locationmode": "ISO-3",
         "lon": [
          -73.77890015,
          -97.038002
         ],
         "mode": "lines",
         "name": "DFW",
         "opacity": 0.8,
         "type": "scattergeo"
        },
        {
         "lat": [
          40.63980103,
          53.421299
         ],
         "line": {
          "color": "red",
          "width": 0.5
         },
         "locationmode": "ISO-3",
         "lon": [
          -73.77890015,
          -6.27007
         ],
         "mode": "lines",
         "name": "DUB",
         "opacity": 0.8,
         "type": "scattergeo"
        },
        {
         "lat": [
          40.63980103,
          41.8002778
         ],
         "line": {
          "color": "red",
          "width": 0.5
         },
         "locationmode": "ISO-3",
         "lon": [
          -73.77890015,
          12.2388889
         ],
         "mode": "lines",
         "name": "FCO",
         "opacity": 0.8,
         "type": "scattergeo"
        },
        {
         "lat": [
          40.63980103,
          50.033333
         ],
         "line": {
          "color": "red",
          "width": 0.5
         },
         "locationmode": "ISO-3",
         "lon": [
          -73.77890015,
          8.570556
         ],
         "mode": "lines",
         "name": "FRA",
         "opacity": 0.8,
         "type": "scattergeo"
        },
        {
         "lat": [
          40.63980103,
          -22.8099994659
         ],
         "line": {
          "color": "red",
          "width": 0.5
         },
         "locationmode": "ISO-3",
         "lon": [
          -73.77890015,
          -43.2505569458
         ],
         "mode": "lines",
         "name": "GIG",
         "opacity": 0.8,
         "type": "scattergeo"
        },
        {
         "lat": [
          40.63980103,
          -23.435556411743164
         ],
         "line": {
          "color": "red",
          "width": 0.5
         },
         "locationmode": "ISO-3",
         "lon": [
          -73.77890015,
          -46.47305679321289
         ],
         "mode": "lines",
         "name": "GRU",
         "opacity": 0.8,
         "type": "scattergeo"
        },
        {
         "lat": [
          40.63980103,
          39.7173
         ],
         "line": {
          "color": "red",
          "width": 0.5
         },
         "locationmode": "ISO-3",
         "lon": [
          -73.77890015,
          -86.294403
         ],
         "mode": "lines",
         "name": "IND",
         "opacity": 0.8,
         "type": "scattergeo"
        },
        {
         "lat": [
          40.63980103,
          41.275278
         ],
         "line": {
          "color": "red",
          "width": 0.5
         },
         "locationmode": "ISO-3",
         "lon": [
          -73.77890015,
          28.751944
         ],
         "mode": "lines",
         "name": "IST",
         "opacity": 0.8,
         "type": "scattergeo"
        },
        {
         "lat": [
          40.63980103,
          -26.1392
         ],
         "line": {
          "color": "red",
          "width": 0.5
         },
         "locationmode": "ISO-3",
         "lon": [
          -73.77890015,
          28.246
         ],
         "mode": "lines",
         "name": "JNB",
         "opacity": 0.8,
         "type": "scattergeo"
        },
        {
         "lat": [
          40.63980103,
          36.08010101
         ],
         "line": {
          "color": "red",
          "width": 0.5
         },
         "locationmode": "ISO-3",
         "lon": [
          -73.77890015,
          -115.1520004
         ],
         "mode": "lines",
         "name": "LAS",
         "opacity": 0.8,
         "type": "scattergeo"
        },
        {
         "lat": [
          40.63980103,
          33.94250107
         ],
         "line": {
          "color": "red",
          "width": 0.5
         },
         "locationmode": "ISO-3",
         "lon": [
          -73.77890015,
          -118.4079971
         ],
         "mode": "lines",
         "name": "LAX",
         "opacity": 0.8,
         "type": "scattergeo"
        },
        {
         "lat": [
          40.63980103,
          51.4706
         ],
         "line": {
          "color": "red",
          "width": 0.5
         },
         "locationmode": "ISO-3",
         "lon": [
          -73.77890015,
          -0.461941
         ],
         "mode": "lines",
         "name": "LHR",
         "opacity": 0.8,
         "type": "scattergeo"
        },
        {
         "lat": [
          40.63980103,
          40.471926
         ],
         "line": {
          "color": "red",
          "width": 0.5
         },
         "locationmode": "ISO-3",
         "lon": [
          -73.77890015,
          -3.56264
         ],
         "mode": "lines",
         "name": "MAD",
         "opacity": 0.8,
         "type": "scattergeo"
        },
        {
         "lat": [
          40.63980103,
          53.35369873046875
         ],
         "line": {
          "color": "red",
          "width": 0.5
         },
         "locationmode": "ISO-3",
         "lon": [
          -73.77890015,
          -2.2749500274658203
         ],
         "mode": "lines",
         "name": "MAN",
         "opacity": 0.8,
         "type": "scattergeo"
        },
        {
         "lat": [
          40.63980103,
          28.429399490356445
         ],
         "line": {
          "color": "red",
          "width": 0.5
         },
         "locationmode": "ISO-3",
         "lon": [
          -73.77890015,
          -81.30899810791016
         ],
         "mode": "lines",
         "name": "MCO",
         "opacity": 0.8,
         "type": "scattergeo"
        },
        {
         "lat": [
          40.63980103,
          6.164540000000001
         ],
         "line": {
          "color": "red",
          "width": 0.5
         },
         "locationmode": "ISO-3",
         "lon": [
          -73.77890015,
          -75.4231
         ],
         "mode": "lines",
         "name": "MDE",
         "opacity": 0.8,
         "type": "scattergeo"
        },
        {
         "lat": [
          40.63980103,
          25.79319953918457
         ],
         "line": {
          "color": "red",
          "width": 0.5
         },
         "locationmode": "ISO-3",
         "lon": [
          -73.77890015,
          -80.29060363769531
         ],
         "mode": "lines",
         "name": "MIA",
         "opacity": 0.8,
         "type": "scattergeo"
        },
        {
         "lat": [
          40.63980103,
          45.6306
         ],
         "line": {
          "color": "red",
          "width": 0.5
         },
         "locationmode": "ISO-3",
         "lon": [
          -73.77890015,
          8.728110000000001
         ],
         "mode": "lines",
         "name": "MXP",
         "opacity": 0.8,
         "type": "scattergeo"
        },
        {
         "lat": [
          40.63980103,
          41.9786
         ],
         "line": {
          "color": "red",
          "width": 0.5
         },
         "locationmode": "ISO-3",
         "lon": [
          -73.77890015,
          -87.9048
         ],
         "mode": "lines",
         "name": "ORD",
         "opacity": 0.8,
         "type": "scattergeo"
        },
        {
         "lat": [
          40.63980103,
          36.89459991455078
         ],
         "line": {
          "color": "red",
          "width": 0.5
         },
         "locationmode": "ISO-3",
         "lon": [
          -73.77890015,
          -76.20120239257812
         ],
         "mode": "lines",
         "name": "ORF",
         "opacity": 0.8,
         "type": "scattergeo"
        },
        {
         "lat": [
          40.63980103,
          40.0801010131836
         ],
         "line": {
          "color": "red",
          "width": 0.5
         },
         "locationmode": "ISO-3",
         "lon": [
          -73.77890015,
          116.58499908447266
         ],
         "mode": "lines",
         "name": "PEK",
         "opacity": 0.8,
         "type": "scattergeo"
        },
        {
         "lat": [
          40.63980103,
          33.43429946899414
         ],
         "line": {
          "color": "red",
          "width": 0.5
         },
         "locationmode": "ISO-3",
         "lon": [
          -73.77890015,
          -112.01200103759766
         ],
         "mode": "lines",
         "name": "PHX",
         "opacity": 0.8,
         "type": "scattergeo"
        },
        {
         "lat": [
          40.63980103,
          40.49150085
         ],
         "line": {
          "color": "red",
          "width": 0.5
         },
         "locationmode": "ISO-3",
         "lon": [
          -73.77890015,
          -80.23290253
         ],
         "mode": "lines",
         "name": "PIT",
         "opacity": 0.8,
         "type": "scattergeo"
        },
        {
         "lat": [
          40.63980103,
          35.87760162353516
         ],
         "line": {
          "color": "red",
          "width": 0.5
         },
         "locationmode": "ISO-3",
         "lon": [
          -73.77890015,
          -78.7874984741211
         ],
         "mode": "lines",
         "name": "RDU",
         "opacity": 0.8,
         "type": "scattergeo"
        },
        {
         "lat": [
          40.63980103,
          13.4409
         ],
         "line": {
          "color": "red",
          "width": 0.5
         },
         "locationmode": "ISO-3",
         "lon": [
          -73.77890015,
          -89.055702
         ],
         "mode": "lines",
         "name": "SAL",
         "opacity": 0.8,
         "type": "scattergeo"
        },
        {
         "lat": [
          40.63980103,
          32.7336006165
         ],
         "line": {
          "color": "red",
          "width": 0.5
         },
         "locationmode": "ISO-3",
         "lon": [
          -73.77890015,
          -117.190002441
         ],
         "mode": "lines",
         "name": "SAN",
         "opacity": 0.8,
         "type": "scattergeo"
        },
        {
         "lat": [
          40.63980103,
          47.449001
         ],
         "line": {
          "color": "red",
          "width": 0.5
         },
         "locationmode": "ISO-3",
         "lon": [
          -73.77890015,
          -122.308998
         ],
         "mode": "lines",
         "name": "SEA",
         "opacity": 0.8,
         "type": "scattergeo"
        },
        {
         "lat": [
          40.63980103,
          37.61899948120117
         ],
         "line": {
          "color": "red",
          "width": 0.5
         },
         "locationmode": "ISO-3",
         "lon": [
          -73.77890015,
          -122.375
         ],
         "mode": "lines",
         "name": "SFO",
         "opacity": 0.8,
         "type": "scattergeo"
        },
        {
         "lat": [
          40.63980103,
          9.993860244750977
         ],
         "line": {
          "color": "red",
          "width": 0.5
         },
         "locationmode": "ISO-3",
         "lon": [
          -73.77890015,
          -84.20880126953125
         ],
         "mode": "lines",
         "name": "SJO",
         "opacity": 0.8,
         "type": "scattergeo"
        },
        {
         "lat": [
          40.63980103,
          18.4393997192
         ],
         "line": {
          "color": "red",
          "width": 0.5
         },
         "locationmode": "ISO-3",
         "lon": [
          -73.77890015,
          -66.0018005371
         ],
         "mode": "lines",
         "name": "SJU",
         "opacity": 0.8,
         "type": "scattergeo"
        },
        {
         "lat": [
          40.63980103,
          18.337299346923828
         ],
         "line": {
          "color": "red",
          "width": 0.5
         },
         "locationmode": "ISO-3",
         "lon": [
          -73.77890015,
          -64.97339630126953
         ],
         "mode": "lines",
         "name": "STT",
         "opacity": 0.8,
         "type": "scattergeo"
        },
        {
         "lat": [
          40.63980103,
          18.0410003662
         ],
         "line": {
          "color": "red",
          "width": 0.5
         },
         "locationmode": "ISO-3",
         "lon": [
          -73.77890015,
          -63.1088981628
         ],
         "mode": "lines",
         "name": "SXM",
         "opacity": 0.8,
         "type": "scattergeo"
        },
        {
         "lat": [
          40.63980103,
          27.975500106811523
         ],
         "line": {
          "color": "red",
          "width": 0.5
         },
         "locationmode": "ISO-3",
         "lon": [
          -73.77890015,
          -82.533203125
         ],
         "mode": "lines",
         "name": "TPA",
         "opacity": 0.8,
         "type": "scattergeo"
        },
        {
         "lat": [
          40.63980103,
          45.4706001282
         ],
         "line": {
          "color": "red",
          "width": 0.5
         },
         "locationmode": "ISO-3",
         "lon": [
          -73.77890015,
          -73.7407989502
         ],
         "mode": "lines",
         "name": "YUL",
         "opacity": 0.8,
         "type": "scattergeo"
        },
        {
         "lat": [
          40.63980103,
          43.6772003174
         ],
         "line": {
          "color": "red",
          "width": 0.5
         },
         "locationmode": "ISO-3",
         "lon": [
          -73.77890015,
          -79.63059997559999
         ],
         "mode": "lines",
         "name": "YYZ",
         "opacity": 0.8,
         "type": "scattergeo"
        },
        {
         "lat": [
          40.63980103,
          47.464699
         ],
         "line": {
          "color": "red",
          "width": 0.5
         },
         "locationmode": "ISO-3",
         "lon": [
          -73.77890015,
          8.54917
         ],
         "mode": "lines",
         "name": "ZRH",
         "opacity": 0.8,
         "type": "scattergeo"
        },
        {
         "lat": [
          40.63980103,
          40.471926
         ],
         "line": {
          "color": "red",
          "width": 0.5
         },
         "locationmode": "ISO-3",
         "lon": [
          -73.77890015,
          -3.56264
         ],
         "mode": "lines",
         "name": "MAD",
         "opacity": 0.8,
         "type": "scattergeo"
        },
        {
         "lat": [
          40.63980103,
          33.6367
         ],
         "line": {
          "color": "red",
          "width": 0.5
         },
         "locationmode": "ISO-3",
         "lon": [
          -73.77890015,
          -84.428101
         ],
         "mode": "lines",
         "name": "ATL",
         "opacity": 0.8,
         "type": "scattergeo"
        },
        {
         "lat": [
          40.63980103,
          51.4706
         ],
         "line": {
          "color": "red",
          "width": 0.5
         },
         "locationmode": "ISO-3",
         "lon": [
          -73.77890015,
          -0.461941
         ],
         "mode": "lines",
         "name": "LHR",
         "opacity": 0.8,
         "type": "scattergeo"
        },
        {
         "lat": [
          40.63980103,
          29.99340057373047
         ],
         "line": {
          "color": "red",
          "width": 0.5
         },
         "locationmode": "ISO-3",
         "lon": [
          -73.77890015,
          -90.25800323486328
         ],
         "mode": "lines",
         "name": "MSY",
         "opacity": 0.8,
         "type": "scattergeo"
        },
        {
         "lat": [
          40.63980103,
          36.08010101
         ],
         "line": {
          "color": "red",
          "width": 0.5
         },
         "locationmode": "ISO-3",
         "lon": [
          -73.77890015,
          -115.1520004
         ],
         "mode": "lines",
         "name": "LAS",
         "opacity": 0.8,
         "type": "scattergeo"
        },
        {
         "lat": [
          40.63980103,
          33.94250107
         ],
         "line": {
          "color": "red",
          "width": 0.5
         },
         "locationmode": "ISO-3",
         "lon": [
          -73.77890015,
          -118.4079971
         ],
         "mode": "lines",
         "name": "LAX",
         "opacity": 0.8,
         "type": "scattergeo"
        },
        {
         "lat": [
          40.63980103,
          37.61899948120117
         ],
         "line": {
          "color": "red",
          "width": 0.5
         },
         "locationmode": "ISO-3",
         "lon": [
          -73.77890015,
          -122.375
         ],
         "mode": "lines",
         "name": "SFO",
         "opacity": 0.8,
         "type": "scattergeo"
        },
        {
         "lat": [
          40.63980103,
          6.5773701667785645
         ],
         "line": {
          "color": "red",
          "width": 0.5
         },
         "locationmode": "ISO-3",
         "lon": [
          -73.77890015,
          3.321160078048706
         ],
         "mode": "lines",
         "name": "LOS",
         "opacity": 0.8,
         "type": "scattergeo"
        },
        {
         "lat": [
          40.63980103,
          45.4706001282
         ],
         "line": {
          "color": "red",
          "width": 0.5
         },
         "locationmode": "ISO-3",
         "lon": [
          -73.77890015,
          -73.7407989502
         ],
         "mode": "lines",
         "name": "YUL",
         "opacity": 0.8,
         "type": "scattergeo"
        },
        {
         "lat": [
          40.63980103,
          51.113899231000005
         ],
         "line": {
          "color": "red",
          "width": 0.5
         },
         "locationmode": "ISO-3",
         "lon": [
          -73.77890015,
          -114.019996643
         ],
         "mode": "lines",
         "name": "YYC",
         "opacity": 0.8,
         "type": "scattergeo"
        },
        {
         "lat": [
          40.63980103,
          43.6772003174
         ],
         "line": {
          "color": "red",
          "width": 0.5
         },
         "locationmode": "ISO-3",
         "lon": [
          -73.77890015,
          -79.63059997559999
         ],
         "mode": "lines",
         "name": "YYZ",
         "opacity": 0.8,
         "type": "scattergeo"
        },
        {
         "lat": [
          40.63980103,
          -2.15741991997
         ],
         "line": {
          "color": "red",
          "width": 0.5
         },
         "locationmode": "ISO-3",
         "lon": [
          -73.77890015,
          -79.88359832760001
         ],
         "mode": "lines",
         "name": "GYE",
         "opacity": 0.8,
         "type": "scattergeo"
        },
        {
         "lat": [
          40.63980103
         ],
         "locationmode": "ISO-3",
         "lon": [
          -73.77890015
         ],
         "marker": {
          "color": "blue",
          "size": 10
         },
         "mode": "markers",
         "name": "JFK Airport",
         "text": "JFK Airport",
         "type": "scattergeo"
        }
       ],
       "layout": {
        "autosize": true,
        "geo": {
         "center": {
          "lat": -0.14311261041252393,
          "lon": 0.40943081862852226
         },
         "coastlinecolor": "rgb(255, 255, 255)",
         "countrycolor": "rgb(255, 255, 255)",
         "landcolor": "rgb(229, 229, 229)",
         "projection": {
          "rotation": {
           "lon": 0.40943081862852226
          },
          "scale": 1.0032998332254228,
          "type": "natural earth"
         },
         "scope": "world",
         "showland": true
        },
        "showlegend": true,
        "template": {
         "data": {
          "bar": [
           {
            "error_x": {
             "color": "#2a3f5f"
            },
            "error_y": {
             "color": "#2a3f5f"
            },
            "marker": {
             "line": {
              "color": "#E5ECF6",
              "width": 0.5
             },
             "pattern": {
              "fillmode": "overlay",
              "size": 10,
              "solidity": 0.2
             }
            },
            "type": "bar"
           }
          ],
          "barpolar": [
           {
            "marker": {
             "line": {
              "color": "#E5ECF6",
              "width": 0.5
             },
             "pattern": {
              "fillmode": "overlay",
              "size": 10,
              "solidity": 0.2
             }
            },
            "type": "barpolar"
           }
          ],
          "carpet": [
           {
            "aaxis": {
             "endlinecolor": "#2a3f5f",
             "gridcolor": "white",
             "linecolor": "white",
             "minorgridcolor": "white",
             "startlinecolor": "#2a3f5f"
            },
            "baxis": {
             "endlinecolor": "#2a3f5f",
             "gridcolor": "white",
             "linecolor": "white",
             "minorgridcolor": "white",
             "startlinecolor": "#2a3f5f"
            },
            "type": "carpet"
           }
          ],
          "choropleth": [
           {
            "colorbar": {
             "outlinewidth": 0,
             "ticks": ""
            },
            "type": "choropleth"
           }
          ],
          "contour": [
           {
            "colorbar": {
             "outlinewidth": 0,
             "ticks": ""
            },
            "colorscale": [
             [
              0,
              "#0d0887"
             ],
             [
              0.1111111111111111,
              "#46039f"
             ],
             [
              0.2222222222222222,
              "#7201a8"
             ],
             [
              0.3333333333333333,
              "#9c179e"
             ],
             [
              0.4444444444444444,
              "#bd3786"
             ],
             [
              0.5555555555555556,
              "#d8576b"
             ],
             [
              0.6666666666666666,
              "#ed7953"
             ],
             [
              0.7777777777777778,
              "#fb9f3a"
             ],
             [
              0.8888888888888888,
              "#fdca26"
             ],
             [
              1,
              "#f0f921"
             ]
            ],
            "type": "contour"
           }
          ],
          "contourcarpet": [
           {
            "colorbar": {
             "outlinewidth": 0,
             "ticks": ""
            },
            "type": "contourcarpet"
           }
          ],
          "heatmap": [
           {
            "colorbar": {
             "outlinewidth": 0,
             "ticks": ""
            },
            "colorscale": [
             [
              0,
              "#0d0887"
             ],
             [
              0.1111111111111111,
              "#46039f"
             ],
             [
              0.2222222222222222,
              "#7201a8"
             ],
             [
              0.3333333333333333,
              "#9c179e"
             ],
             [
              0.4444444444444444,
              "#bd3786"
             ],
             [
              0.5555555555555556,
              "#d8576b"
             ],
             [
              0.6666666666666666,
              "#ed7953"
             ],
             [
              0.7777777777777778,
              "#fb9f3a"
             ],
             [
              0.8888888888888888,
              "#fdca26"
             ],
             [
              1,
              "#f0f921"
             ]
            ],
            "type": "heatmap"
           }
          ],
          "heatmapgl": [
           {
            "colorbar": {
             "outlinewidth": 0,
             "ticks": ""
            },
            "colorscale": [
             [
              0,
              "#0d0887"
             ],
             [
              0.1111111111111111,
              "#46039f"
             ],
             [
              0.2222222222222222,
              "#7201a8"
             ],
             [
              0.3333333333333333,
              "#9c179e"
             ],
             [
              0.4444444444444444,
              "#bd3786"
             ],
             [
              0.5555555555555556,
              "#d8576b"
             ],
             [
              0.6666666666666666,
              "#ed7953"
             ],
             [
              0.7777777777777778,
              "#fb9f3a"
             ],
             [
              0.8888888888888888,
              "#fdca26"
             ],
             [
              1,
              "#f0f921"
             ]
            ],
            "type": "heatmapgl"
           }
          ],
          "histogram": [
           {
            "marker": {
             "pattern": {
              "fillmode": "overlay",
              "size": 10,
              "solidity": 0.2
             }
            },
            "type": "histogram"
           }
          ],
          "histogram2d": [
           {
            "colorbar": {
             "outlinewidth": 0,
             "ticks": ""
            },
            "colorscale": [
             [
              0,
              "#0d0887"
             ],
             [
              0.1111111111111111,
              "#46039f"
             ],
             [
              0.2222222222222222,
              "#7201a8"
             ],
             [
              0.3333333333333333,
              "#9c179e"
             ],
             [
              0.4444444444444444,
              "#bd3786"
             ],
             [
              0.5555555555555556,
              "#d8576b"
             ],
             [
              0.6666666666666666,
              "#ed7953"
             ],
             [
              0.7777777777777778,
              "#fb9f3a"
             ],
             [
              0.8888888888888888,
              "#fdca26"
             ],
             [
              1,
              "#f0f921"
             ]
            ],
            "type": "histogram2d"
           }
          ],
          "histogram2dcontour": [
           {
            "colorbar": {
             "outlinewidth": 0,
             "ticks": ""
            },
            "colorscale": [
             [
              0,
              "#0d0887"
             ],
             [
              0.1111111111111111,
              "#46039f"
             ],
             [
              0.2222222222222222,
              "#7201a8"
             ],
             [
              0.3333333333333333,
              "#9c179e"
             ],
             [
              0.4444444444444444,
              "#bd3786"
             ],
             [
              0.5555555555555556,
              "#d8576b"
             ],
             [
              0.6666666666666666,
              "#ed7953"
             ],
             [
              0.7777777777777778,
              "#fb9f3a"
             ],
             [
              0.8888888888888888,
              "#fdca26"
             ],
             [
              1,
              "#f0f921"
             ]
            ],
            "type": "histogram2dcontour"
           }
          ],
          "mesh3d": [
           {
            "colorbar": {
             "outlinewidth": 0,
             "ticks": ""
            },
            "type": "mesh3d"
           }
          ],
          "parcoords": [
           {
            "line": {
             "colorbar": {
              "outlinewidth": 0,
              "ticks": ""
             }
            },
            "type": "parcoords"
           }
          ],
          "pie": [
           {
            "automargin": true,
            "type": "pie"
           }
          ],
          "scatter": [
           {
            "fillpattern": {
             "fillmode": "overlay",
             "size": 10,
             "solidity": 0.2
            },
            "type": "scatter"
           }
          ],
          "scatter3d": [
           {
            "line": {
             "colorbar": {
              "outlinewidth": 0,
              "ticks": ""
             }
            },
            "marker": {
             "colorbar": {
              "outlinewidth": 0,
              "ticks": ""
             }
            },
            "type": "scatter3d"
           }
          ],
          "scattercarpet": [
           {
            "marker": {
             "colorbar": {
              "outlinewidth": 0,
              "ticks": ""
             }
            },
            "type": "scattercarpet"
           }
          ],
          "scattergeo": [
           {
            "marker": {
             "colorbar": {
              "outlinewidth": 0,
              "ticks": ""
             }
            },
            "type": "scattergeo"
           }
          ],
          "scattergl": [
           {
            "marker": {
             "colorbar": {
              "outlinewidth": 0,
              "ticks": ""
             }
            },
            "type": "scattergl"
           }
          ],
          "scattermapbox": [
           {
            "marker": {
             "colorbar": {
              "outlinewidth": 0,
              "ticks": ""
             }
            },
            "type": "scattermapbox"
           }
          ],
          "scatterpolar": [
           {
            "marker": {
             "colorbar": {
              "outlinewidth": 0,
              "ticks": ""
             }
            },
            "type": "scatterpolar"
           }
          ],
          "scatterpolargl": [
           {
            "marker": {
             "colorbar": {
              "outlinewidth": 0,
              "ticks": ""
             }
            },
            "type": "scatterpolargl"
           }
          ],
          "scatterternary": [
           {
            "marker": {
             "colorbar": {
              "outlinewidth": 0,
              "ticks": ""
             }
            },
            "type": "scatterternary"
           }
          ],
          "surface": [
           {
            "colorbar": {
             "outlinewidth": 0,
             "ticks": ""
            },
            "colorscale": [
             [
              0,
              "#0d0887"
             ],
             [
              0.1111111111111111,
              "#46039f"
             ],
             [
              0.2222222222222222,
              "#7201a8"
             ],
             [
              0.3333333333333333,
              "#9c179e"
             ],
             [
              0.4444444444444444,
              "#bd3786"
             ],
             [
              0.5555555555555556,
              "#d8576b"
             ],
             [
              0.6666666666666666,
              "#ed7953"
             ],
             [
              0.7777777777777778,
              "#fb9f3a"
             ],
             [
              0.8888888888888888,
              "#fdca26"
             ],
             [
              1,
              "#f0f921"
             ]
            ],
            "type": "surface"
           }
          ],
          "table": [
           {
            "cells": {
             "fill": {
              "color": "#EBF0F8"
             },
             "line": {
              "color": "white"
             }
            },
            "header": {
             "fill": {
              "color": "#C8D4E3"
             },
             "line": {
              "color": "white"
             }
            },
            "type": "table"
           }
          ]
         },
         "layout": {
          "annotationdefaults": {
           "arrowcolor": "#2a3f5f",
           "arrowhead": 0,
           "arrowwidth": 1
          },
          "autotypenumbers": "strict",
          "coloraxis": {
           "colorbar": {
            "outlinewidth": 0,
            "ticks": ""
           }
          },
          "colorscale": {
           "diverging": [
            [
             0,
             "#8e0152"
            ],
            [
             0.1,
             "#c51b7d"
            ],
            [
             0.2,
             "#de77ae"
            ],
            [
             0.3,
             "#f1b6da"
            ],
            [
             0.4,
             "#fde0ef"
            ],
            [
             0.5,
             "#f7f7f7"
            ],
            [
             0.6,
             "#e6f5d0"
            ],
            [
             0.7,
             "#b8e186"
            ],
            [
             0.8,
             "#7fbc41"
            ],
            [
             0.9,
             "#4d9221"
            ],
            [
             1,
             "#276419"
            ]
           ],
           "sequential": [
            [
             0,
             "#0d0887"
            ],
            [
             0.1111111111111111,
             "#46039f"
            ],
            [
             0.2222222222222222,
             "#7201a8"
            ],
            [
             0.3333333333333333,
             "#9c179e"
            ],
            [
             0.4444444444444444,
             "#bd3786"
            ],
            [
             0.5555555555555556,
             "#d8576b"
            ],
            [
             0.6666666666666666,
             "#ed7953"
            ],
            [
             0.7777777777777778,
             "#fb9f3a"
            ],
            [
             0.8888888888888888,
             "#fdca26"
            ],
            [
             1,
             "#f0f921"
            ]
           ],
           "sequentialminus": [
            [
             0,
             "#0d0887"
            ],
            [
             0.1111111111111111,
             "#46039f"
            ],
            [
             0.2222222222222222,
             "#7201a8"
            ],
            [
             0.3333333333333333,
             "#9c179e"
            ],
            [
             0.4444444444444444,
             "#bd3786"
            ],
            [
             0.5555555555555556,
             "#d8576b"
            ],
            [
             0.6666666666666666,
             "#ed7953"
            ],
            [
             0.7777777777777778,
             "#fb9f3a"
            ],
            [
             0.8888888888888888,
             "#fdca26"
            ],
            [
             1,
             "#f0f921"
            ]
           ]
          },
          "colorway": [
           "#636efa",
           "#EF553B",
           "#00cc96",
           "#ab63fa",
           "#FFA15A",
           "#19d3f3",
           "#FF6692",
           "#B6E880",
           "#FF97FF",
           "#FECB52"
          ],
          "font": {
           "color": "#2a3f5f"
          },
          "geo": {
           "bgcolor": "white",
           "lakecolor": "white",
           "landcolor": "#E5ECF6",
           "showlakes": true,
           "showland": true,
           "subunitcolor": "white"
          },
          "hoverlabel": {
           "align": "left"
          },
          "hovermode": "closest",
          "mapbox": {
           "style": "light"
          },
          "paper_bgcolor": "white",
          "plot_bgcolor": "#E5ECF6",
          "polar": {
           "angularaxis": {
            "gridcolor": "white",
            "linecolor": "white",
            "ticks": ""
           },
           "bgcolor": "#E5ECF6",
           "radialaxis": {
            "gridcolor": "white",
            "linecolor": "white",
            "ticks": ""
           }
          },
          "scene": {
           "xaxis": {
            "backgroundcolor": "#E5ECF6",
            "gridcolor": "white",
            "gridwidth": 2,
            "linecolor": "white",
            "showbackground": true,
            "ticks": "",
            "zerolinecolor": "white"
           },
           "yaxis": {
            "backgroundcolor": "#E5ECF6",
            "gridcolor": "white",
            "gridwidth": 2,
            "linecolor": "white",
            "showbackground": true,
            "ticks": "",
            "zerolinecolor": "white"
           },
           "zaxis": {
            "backgroundcolor": "#E5ECF6",
            "gridcolor": "white",
            "gridwidth": 2,
            "linecolor": "white",
            "showbackground": true,
            "ticks": "",
            "zerolinecolor": "white"
           }
          },
          "shapedefaults": {
           "line": {
            "color": "#2a3f5f"
           }
          },
          "ternary": {
           "aaxis": {
            "gridcolor": "white",
            "linecolor": "white",
            "ticks": ""
           },
           "baxis": {
            "gridcolor": "white",
            "linecolor": "white",
            "ticks": ""
           },
           "bgcolor": "#E5ECF6",
           "caxis": {
            "gridcolor": "white",
            "linecolor": "white",
            "ticks": ""
           }
          },
          "title": {
           "x": 0.05
          },
          "xaxis": {
           "automargin": true,
           "gridcolor": "white",
           "linecolor": "white",
           "ticks": "",
           "title": {
            "standoff": 15
           },
           "zerolinecolor": "white",
           "zerolinewidth": 2
          },
          "yaxis": {
           "automargin": true,
           "gridcolor": "white",
           "linecolor": "white",
           "ticks": "",
           "title": {
            "standoff": 15
           },
           "zerolinecolor": "white",
           "zerolinewidth": 2
          }
         }
        },
        "title": {
         "text": "All flights from JFK Airport"
        }
       }
      },
      "image/png": "[encoded data removed]",
      "text/html": [
       "<div>                            <div id=\"688ef368-81d3-4b2d-b5f2-3c4572a97f16\" class=\"plotly-graph-div\" style=\"height:525px; width:100%;\"></div>            <script type=\"text/javascript\">                require([\"plotly\"], function(Plotly) {                    window.PLOTLYENV=window.PLOTLYENV || {};                                    if (document.getElementById(\"688ef368-81d3-4b2d-b5f2-3c4572a97f16\")) {                    Plotly.newPlot(                        \"688ef368-81d3-4b2d-b5f2-3c4572a97f16\",                        [{\"lat\":[40.63980103,-34.8222],\"line\":{\"color\":\"red\",\"width\":0.5},\"locationmode\":\"ISO-3\",\"lon\":[-73.77890015,-58.5358],\"mode\":\"lines\",\"name\":\"EZE\",\"opacity\":0.8,\"type\":\"scattergeo\"},{\"lat\":[40.63980103,19.4363],\"line\":{\"color\":\"red\",\"width\":0.5},\"locationmode\":\"ISO-3\",\"lon\":[-73.77890015,-99.072098],\"mode\":\"lines\",\"name\":\"MEX\",\"opacity\":0.8,\"type\":\"scattergeo\"},{\"lat\":[40.63980103,29.99340057373047],\"line\":{\"color\":\"red\",\"width\":0.5},\"locationmode\":\"ISO-3\",\"lon\":[-73.77890015,-90.25800323486328],\"mode\":\"lines\",\"name\":\"MSY\",\"opacity\":0.8,\"type\":\"scattergeo\"},{\"lat\":[40.63980103,31.7226009369],\"line\":{\"color\":\"red\",\"width\":0.5},\"locationmode\":\"ISO-3\",\"lon\":[-73.77890015,35.9931983948],\"mode\":\"lines\",\"name\":\"AMM\",\"opacity\":0.8,\"type\":\"scattergeo\"},{\"lat\":[40.63980103,17.1367],\"line\":{\"color\":\"red\",\"width\":0.5},\"locationmode\":\"ISO-3\",\"lon\":[-73.77890015,-61.792702],\"mode\":\"lines\",\"name\":\"ANU\",\"opacity\":0.8,\"type\":\"scattergeo\"},{\"lat\":[40.63980103,24.433000564575195],\"line\":{\"color\":\"red\",\"width\":0.5},\"locationmode\":\"ISO-3\",\"lon\":[-73.77890015,54.651100158691406],\"mode\":\"lines\",\"name\":\"AUH\",\"opacity\":0.8,\"type\":\"scattergeo\"},{\"lat\":[40.63980103,30.194499969482425],\"line\":{\"color\":\"red\",\"width\":0.5},\"locationmode\":\"ISO-3\",\"lon\":[-73.77890015,-97.6698989868164],\"mode\":\"lines\",\"name\":\"AUS\",\"opacity\":0.8,\"type\":\"scattergeo\"},{\"lat\":[40.63980103,41.2971],\"line\":{\"color\":\"red\",\"width\":0.5},\"locationmode\":\"ISO-3\",\"lon\":[-73.77890015,2.07846],\"mode\":\"lines\",\"name\":\"BCN\",\"opacity\":0.8,\"type\":\"scattergeo\"},{\"lat\":[40.63980103,32.363998413085945],\"line\":{\"color\":\"red\",\"width\":0.5},\"locationmode\":\"ISO-3\",\"lon\":[-73.77890015,-64.67870330810547],\"mode\":\"lines\",\"name\":\"BDA\",\"opacity\":0.8,\"type\":\"scattergeo\"},{\"lat\":[40.63980103,36.1245002746582],\"line\":{\"color\":\"red\",\"width\":0.5},\"locationmode\":\"ISO-3\",\"lon\":[-73.77890015,-86.6781997680664],\"mode\":\"lines\",\"name\":\"BNA\",\"opacity\":0.8,\"type\":\"scattergeo\"},{\"lat\":[40.63980103,42.36429977],\"line\":{\"color\":\"red\",\"width\":0.5},\"locationmode\":\"ISO-3\",\"lon\":[-73.77890015,-71.00520325],\"mode\":\"lines\",\"name\":\"BOS\",\"opacity\":0.8,\"type\":\"scattergeo\"},{\"lat\":[40.63980103,39.1754],\"line\":{\"color\":\"red\",\"width\":0.5},\"locationmode\":\"ISO-3\",\"lon\":[-73.77890015,-76.668297],\"mode\":\"lines\",\"name\":\"BWI\",\"opacity\":0.8,\"type\":\"scattergeo\"},{\"lat\":[40.63980103,10.601194],\"line\":{\"color\":\"red\",\"width\":0.5},\"locationmode\":\"ISO-3\",\"lon\":[-73.77890015,-66.991222],\"mode\":\"lines\",\"name\":\"CCS\",\"opacity\":0.8,\"type\":\"scattergeo\"},{\"lat\":[40.63980103,49.012798],\"line\":{\"color\":\"red\",\"width\":0.5},\"locationmode\":\"ISO-3\",\"lon\":[-73.77890015,2.55],\"mode\":\"lines\",\"name\":\"CDG\",\"opacity\":0.8,\"type\":\"scattergeo\"},{\"lat\":[40.63980103,41.4117012024],\"line\":{\"color\":\"red\",\"width\":0.5},\"locationmode\":\"ISO-3\",\"lon\":[-73.77890015,-81.8498001099],\"mode\":\"lines\",\"name\":\"CLE\",\"opacity\":0.8,\"type\":\"scattergeo\"},{\"lat\":[40.63980103,35.2140007019043],\"line\":{\"color\":\"red\",\"width\":0.5},\"locationmode\":\"ISO-3\",\"lon\":[-73.77890015,-80.94309997558594],\"mode\":\"lines\",\"name\":\"CLT\",\"opacity\":0.8,\"type\":\"scattergeo\"},{\"lat\":[40.63980103,39.998001],\"line\":{\"color\":\"red\",\"width\":0.5},\"locationmode\":\"ISO-3\",\"lon\":[-73.77890015,-82.891899],\"mode\":\"lines\",\"name\":\"CMH\",\"opacity\":0.8,\"type\":\"scattergeo\"},{\"lat\":[40.63980103,21.036500930800003],\"line\":{\"color\":\"red\",\"width\":0.5},\"locationmode\":\"ISO-3\",\"lon\":[-73.77890015,-86.8770980835],\"mode\":\"lines\",\"name\":\"CUN\",\"opacity\":0.8,\"type\":\"scattergeo\"},{\"lat\":[40.63980103,39.0488014221],\"line\":{\"color\":\"red\",\"width\":0.5},\"locationmode\":\"ISO-3\",\"lon\":[-73.77890015,-84.6678009033],\"mode\":\"lines\",\"name\":\"CVG\",\"opacity\":0.8,\"type\":\"scattergeo\"},{\"lat\":[40.63980103,38.8521],\"line\":{\"color\":\"red\",\"width\":0.5},\"locationmode\":\"ISO-3\",\"lon\":[-73.77890015,-77.037697],\"mode\":\"lines\",\"name\":\"DCA\",\"opacity\":0.8,\"type\":\"scattergeo\"},{\"lat\":[40.63980103,32.896801],\"line\":{\"color\":\"red\",\"width\":0.5},\"locationmode\":\"ISO-3\",\"lon\":[-73.77890015,-97.038002],\"mode\":\"lines\",\"name\":\"DFW\",\"opacity\":0.8,\"type\":\"scattergeo\"},{\"lat\":[40.63980103,25.273056],\"line\":{\"color\":\"red\",\"width\":0.5},\"locationmode\":\"ISO-3\",\"lon\":[-73.77890015,51.608056],\"mode\":\"lines\",\"name\":\"DOH\",\"opacity\":0.8,\"type\":\"scattergeo\"},{\"lat\":[40.63980103,53.421299],\"line\":{\"color\":\"red\",\"width\":0.5},\"locationmode\":\"ISO-3\",\"lon\":[-73.77890015,-6.27007],\"mode\":\"lines\",\"name\":\"DUB\",\"opacity\":0.8,\"type\":\"scattergeo\"},{\"lat\":[40.63980103,51.289501],\"line\":{\"color\":\"red\",\"width\":0.5},\"locationmode\":\"ISO-3\",\"lon\":[-73.77890015,6.766780000000001],\"mode\":\"lines\",\"name\":\"DUS\",\"opacity\":0.8,\"type\":\"scattergeo\"},{\"lat\":[40.63980103,-34.8222],\"line\":{\"color\":\"red\",\"width\":0.5},\"locationmode\":\"ISO-3\",\"lon\":[-73.77890015,-58.5358],\"mode\":\"lines\",\"name\":\"EZE\",\"opacity\":0.8,\"type\":\"scattergeo\"},{\"lat\":[40.63980103,41.8002778],\"line\":{\"color\":\"red\",\"width\":0.5},\"locationmode\":\"ISO-3\",\"lon\":[-73.77890015,12.2388889],\"mode\":\"lines\",\"name\":\"FCO\",\"opacity\":0.8,\"type\":\"scattergeo\"},{\"lat\":[40.63980103,-22.8099994659],\"line\":{\"color\":\"red\",\"width\":0.5},\"locationmode\":\"ISO-3\",\"lon\":[-73.77890015,-43.2505569458],\"mode\":\"lines\",\"name\":\"GIG\",\"opacity\":0.8,\"type\":\"scattergeo\"},{\"lat\":[40.63980103,-23.435556411743164],\"line\":{\"color\":\"red\",\"width\":0.5},\"locationmode\":\"ISO-3\",\"lon\":[-73.77890015,-46.47305679321289],\"mode\":\"lines\",\"name\":\"GRU\",\"opacity\":0.8,\"type\":\"scattergeo\"},{\"lat\":[40.63980103,-2.15741991997],\"line\":{\"color\":\"red\",\"width\":0.5},\"locationmode\":\"ISO-3\",\"lon\":[-73.77890015,-79.88359832760001],\"mode\":\"lines\",\"name\":\"GYE\",\"opacity\":0.8,\"type\":\"scattergeo\"},{\"lat\":[40.63980103,60.317199707031],\"line\":{\"color\":\"red\",\"width\":0.5},\"locationmode\":\"ISO-3\",\"lon\":[-73.77890015,24.963300704956],\"mode\":\"lines\",\"name\":\"HEL\",\"opacity\":0.8,\"type\":\"scattergeo\"},{\"lat\":[40.63980103,22.308901],\"line\":{\"color\":\"red\",\"width\":0.5},\"locationmode\":\"ISO-3\",\"lon\":[-73.77890015,113.915001],\"mode\":\"lines\",\"name\":\"HKG\",\"opacity\":0.8,\"type\":\"scattergeo\"},{\"lat\":[40.63980103,39.7173],\"line\":{\"color\":\"red\",\"width\":0.5},\"locationmode\":\"ISO-3\",\"lon\":[-73.77890015,-86.294403],\"mode\":\"lines\",\"name\":\"IND\",\"opacity\":0.8,\"type\":\"scattergeo\"},{\"lat\":[40.63980103,36.08010101],\"line\":{\"color\":\"red\",\"width\":0.5},\"locationmode\":\"ISO-3\",\"lon\":[-73.77890015,-115.1520004],\"mode\":\"lines\",\"name\":\"LAS\",\"opacity\":0.8,\"type\":\"scattergeo\"},{\"lat\":[40.63980103,33.94250107],\"line\":{\"color\":\"red\",\"width\":0.5},\"locationmode\":\"ISO-3\",\"lon\":[-73.77890015,-118.4079971],\"mode\":\"lines\",\"name\":\"LAX\",\"opacity\":0.8,\"type\":\"scattergeo\"},{\"lat\":[40.63980103,51.505299],\"line\":{\"color\":\"red\",\"width\":0.5},\"locationmode\":\"ISO-3\",\"lon\":[-73.77890015,0.0552779999999999],\"mode\":\"lines\",\"name\":\"LCY\",\"opacity\":0.8,\"type\":\"scattergeo\"},{\"lat\":[40.63980103,51.4706],\"line\":{\"color\":\"red\",\"width\":0.5},\"locationmode\":\"ISO-3\",\"lon\":[-73.77890015,-0.461941],\"mode\":\"lines\",\"name\":\"LHR\",\"opacity\":0.8,\"type\":\"scattergeo\"},{\"lat\":[40.63980103,-12.0219],\"line\":{\"color\":\"red\",\"width\":0.5},\"locationmode\":\"ISO-3\",\"lon\":[-73.77890015,-77.114305],\"mode\":\"lines\",\"name\":\"LIM\",\"opacity\":0.8,\"type\":\"scattergeo\"},{\"lat\":[40.63980103,40.471926],\"line\":{\"color\":\"red\",\"width\":0.5},\"locationmode\":\"ISO-3\",\"lon\":[-73.77890015,-3.56264],\"mode\":\"lines\",\"name\":\"MAD\",\"opacity\":0.8,\"type\":\"scattergeo\"},{\"lat\":[40.63980103,53.35369873046875],\"line\":{\"color\":\"red\",\"width\":0.5},\"locationmode\":\"ISO-3\",\"lon\":[-73.77890015,-2.2749500274658203],\"mode\":\"lines\",\"name\":\"MAN\",\"opacity\":0.8,\"type\":\"scattergeo\"},{\"lat\":[40.63980103,28.429399490356445],\"line\":{\"color\":\"red\",\"width\":0.5},\"locationmode\":\"ISO-3\",\"lon\":[-73.77890015,-81.30899810791016],\"mode\":\"lines\",\"name\":\"MCO\",\"opacity\":0.8,\"type\":\"scattergeo\"},{\"lat\":[40.63980103,25.79319953918457],\"line\":{\"color\":\"red\",\"width\":0.5},\"locationmode\":\"ISO-3\",\"lon\":[-73.77890015,-80.29060363769531],\"mode\":\"lines\",\"name\":\"MIA\",\"opacity\":0.8,\"type\":\"scattergeo\"},{\"lat\":[40.63980103,45.6306],\"line\":{\"color\":\"red\",\"width\":0.5},\"locationmode\":\"ISO-3\",\"lon\":[-73.77890015,8.728110000000001],\"mode\":\"lines\",\"name\":\"MXP\",\"opacity\":0.8,\"type\":\"scattergeo\"},{\"lat\":[40.63980103,35.7647018433],\"line\":{\"color\":\"red\",\"width\":0.5},\"locationmode\":\"ISO-3\",\"lon\":[-73.77890015,140.386001587],\"mode\":\"lines\",\"name\":\"NRT\",\"opacity\":0.8,\"type\":\"scattergeo\"},{\"lat\":[40.63980103,41.9786],\"line\":{\"color\":\"red\",\"width\":0.5},\"locationmode\":\"ISO-3\",\"lon\":[-73.77890015,-87.9048],\"mode\":\"lines\",\"name\":\"ORD\",\"opacity\":0.8,\"type\":\"scattergeo\"},{\"lat\":[40.63980103,36.89459991455078],\"line\":{\"color\":\"red\",\"width\":0.5},\"locationmode\":\"ISO-3\",\"lon\":[-73.77890015,-76.20120239257812],\"mode\":\"lines\",\"name\":\"ORF\",\"opacity\":0.8,\"type\":\"scattergeo\"},{\"lat\":[40.63980103,48.7233333],\"line\":{\"color\":\"red\",\"width\":0.5},\"locationmode\":\"ISO-3\",\"lon\":[-73.77890015,2.3794444],\"mode\":\"lines\",\"name\":\"ORY\",\"opacity\":0.8,\"type\":\"scattergeo\"},{\"lat\":[40.63980103,18.57999992370605],\"line\":{\"color\":\"red\",\"width\":0.5},\"locationmode\":\"ISO-3\",\"lon\":[-73.77890015,-72.2925033569336],\"mode\":\"lines\",\"name\":\"PAP\",\"opacity\":0.8,\"type\":\"scattergeo\"},{\"lat\":[40.63980103,33.43429946899414],\"line\":{\"color\":\"red\",\"width\":0.5},\"locationmode\":\"ISO-3\",\"lon\":[-73.77890015,-112.01200103759766],\"mode\":\"lines\",\"name\":\"PHX\",\"opacity\":0.8,\"type\":\"scattergeo\"},{\"lat\":[40.63980103,40.49150085],\"line\":{\"color\":\"red\",\"width\":0.5},\"locationmode\":\"ISO-3\",\"lon\":[-73.77890015,-80.23290253],\"mode\":\"lines\",\"name\":\"PIT\",\"opacity\":0.8,\"type\":\"scattergeo\"},{\"lat\":[40.63980103,35.87760162353516],\"line\":{\"color\":\"red\",\"width\":0.5},\"locationmode\":\"ISO-3\",\"lon\":[-73.77890015,-78.7874984741211],\"mode\":\"lines\",\"name\":\"RDU\",\"opacity\":0.8,\"type\":\"scattergeo\"},{\"lat\":[40.63980103,32.7336006165],\"line\":{\"color\":\"red\",\"width\":0.5},\"locationmode\":\"ISO-3\",\"lon\":[-73.77890015,-117.190002441],\"mode\":\"lines\",\"name\":\"SAN\",\"opacity\":0.8,\"type\":\"scattergeo\"},{\"lat\":[40.63980103,-33.393001556396484],\"line\":{\"color\":\"red\",\"width\":0.5},\"locationmode\":\"ISO-3\",\"lon\":[-73.77890015,-70.78579711914062],\"mode\":\"lines\",\"name\":\"SCL\",\"opacity\":0.8,\"type\":\"scattergeo\"},{\"lat\":[40.63980103,47.449001],\"line\":{\"color\":\"red\",\"width\":0.5},\"locationmode\":\"ISO-3\",\"lon\":[-73.77890015,-122.308998],\"mode\":\"lines\",\"name\":\"SEA\",\"opacity\":0.8,\"type\":\"scattergeo\"},{\"lat\":[40.63980103,37.61899948120117],\"line\":{\"color\":\"red\",\"width\":0.5},\"locationmode\":\"ISO-3\",\"lon\":[-73.77890015,-122.375],\"mode\":\"lines\",\"name\":\"SFO\",\"opacity\":0.8,\"type\":\"scattergeo\"},{\"lat\":[40.63980103,9.993860244750977],\"line\":{\"color\":\"red\",\"width\":0.5},\"locationmode\":\"ISO-3\",\"lon\":[-73.77890015,-84.20880126953125],\"mode\":\"lines\",\"name\":\"SJO\",\"opacity\":0.8,\"type\":\"scattergeo\"},{\"lat\":[40.63980103,18.4393997192],\"line\":{\"color\":\"red\",\"width\":0.5},\"locationmode\":\"ISO-3\",\"lon\":[-73.77890015,-66.0018005371],\"mode\":\"lines\",\"name\":\"SJU\",\"opacity\":0.8,\"type\":\"scattergeo\"},{\"lat\":[40.63980103,18.337299346923828],\"line\":{\"color\":\"red\",\"width\":0.5},\"locationmode\":\"ISO-3\",\"lon\":[-73.77890015,-64.97339630126953],\"mode\":\"lines\",\"name\":\"STT\",\"opacity\":0.8,\"type\":\"scattergeo\"},{\"lat\":[40.63980103,18.0410003662],\"line\":{\"color\":\"red\",\"width\":0.5},\"locationmode\":\"ISO-3\",\"lon\":[-73.77890015,-63.1088981628],\"mode\":\"lines\",\"name\":\"SXM\",\"opacity\":0.8,\"type\":\"scattergeo\"},{\"lat\":[40.63980103,27.975500106811523],\"line\":{\"color\":\"red\",\"width\":0.5},\"locationmode\":\"ISO-3\",\"lon\":[-73.77890015,-82.533203125],\"mode\":\"lines\",\"name\":\"TPA\",\"opacity\":0.8,\"type\":\"scattergeo\"},{\"lat\":[40.63980103,52.5597],\"line\":{\"color\":\"red\",\"width\":0.5},\"locationmode\":\"ISO-3\",\"lon\":[-73.77890015,13.2877],\"mode\":\"lines\",\"name\":\"TXL\",\"opacity\":0.8,\"type\":\"scattergeo\"},{\"lat\":[40.63980103,45.4706001282],\"line\":{\"color\":\"red\",\"width\":0.5},\"locationmode\":\"ISO-3\",\"lon\":[-73.77890015,-73.7407989502],\"mode\":\"lines\",\"name\":\"YUL\",\"opacity\":0.8,\"type\":\"scattergeo\"},{\"lat\":[40.63980103,51.113899231000005],\"line\":{\"color\":\"red\",\"width\":0.5},\"locationmode\":\"ISO-3\",\"lon\":[-73.77890015,-114.019996643],\"mode\":\"lines\",\"name\":\"YYC\",\"opacity\":0.8,\"type\":\"scattergeo\"},{\"lat\":[40.63980103,43.6772003174],\"line\":{\"color\":\"red\",\"width\":0.5},\"locationmode\":\"ISO-3\",\"lon\":[-73.77890015,-79.63059997559999],\"mode\":\"lines\",\"name\":\"YYZ\",\"opacity\":0.8,\"type\":\"scattergeo\"},{\"lat\":[40.63980103,47.464699],\"line\":{\"color\":\"red\",\"width\":0.5},\"locationmode\":\"ISO-3\",\"lon\":[-73.77890015,8.54917],\"mode\":\"lines\",\"name\":\"ZRH\",\"opacity\":0.8,\"type\":\"scattergeo\"},{\"lat\":[40.63980103,51.289501],\"line\":{\"color\":\"red\",\"width\":0.5},\"locationmode\":\"ISO-3\",\"lon\":[-73.77890015,6.766780000000001],\"mode\":\"lines\",\"name\":\"DUS\",\"opacity\":0.8,\"type\":\"scattergeo\"},{\"lat\":[40.63980103,52.5597],\"line\":{\"color\":\"red\",\"width\":0.5},\"locationmode\":\"ISO-3\",\"lon\":[-73.77890015,13.2877],\"mode\":\"lines\",\"name\":\"TXL\",\"opacity\":0.8,\"type\":\"scattergeo\"},{\"lat\":[40.63980103,43.6772003174],\"line\":{\"color\":\"red\",\"width\":0.5},\"locationmode\":\"ISO-3\",\"lon\":[-73.77890015,-79.63059997559999],\"mode\":\"lines\",\"name\":\"YYZ\",\"opacity\":0.8,\"type\":\"scattergeo\"},{\"lat\":[40.63980103,33.6367],\"line\":{\"color\":\"red\",\"width\":0.5},\"locationmode\":\"ISO-3\",\"lon\":[-73.77890015,-84.428101],\"mode\":\"lines\",\"name\":\"ATL\",\"opacity\":0.8,\"type\":\"scattergeo\"},{\"lat\":[40.63980103,41.2971],\"line\":{\"color\":\"red\",\"width\":0.5},\"locationmode\":\"ISO-3\",\"lon\":[-73.77890015,2.07846],\"mode\":\"lines\",\"name\":\"BCN\",\"opacity\":0.8,\"type\":\"scattergeo\"},{\"lat\":[40.63980103,50.9014015198],\"line\":{\"color\":\"red\",\"width\":0.5},\"locationmode\":\"ISO-3\",\"lon\":[-73.77890015,4.48443984985],\"mode\":\"lines\",\"name\":\"BRU\",\"opacity\":0.8,\"type\":\"scattergeo\"},{\"lat\":[40.63980103,49.012798],\"line\":{\"color\":\"red\",\"width\":0.5},\"locationmode\":\"ISO-3\",\"lon\":[-73.77890015,2.55],\"mode\":\"lines\",\"name\":\"CDG\",\"opacity\":0.8,\"type\":\"scattergeo\"},{\"lat\":[40.63980103,53.421299],\"line\":{\"color\":\"red\",\"width\":0.5},\"locationmode\":\"ISO-3\",\"lon\":[-73.77890015,-6.27007],\"mode\":\"lines\",\"name\":\"DUB\",\"opacity\":0.8,\"type\":\"scattergeo\"},{\"lat\":[40.63980103,50.033333],\"line\":{\"color\":\"red\",\"width\":0.5},\"locationmode\":\"ISO-3\",\"lon\":[-73.77890015,8.570556],\"mode\":\"lines\",\"name\":\"FRA\",\"opacity\":0.8,\"type\":\"scattergeo\"},{\"lat\":[40.63980103,51.4706],\"line\":{\"color\":\"red\",\"width\":0.5},\"locationmode\":\"ISO-3\",\"lon\":[-73.77890015,-0.461941],\"mode\":\"lines\",\"name\":\"LHR\",\"opacity\":0.8,\"type\":\"scattergeo\"},{\"lat\":[40.63980103,40.471926],\"line\":{\"color\":\"red\",\"width\":0.5},\"locationmode\":\"ISO-3\",\"lon\":[-73.77890015,-3.56264],\"mode\":\"lines\",\"name\":\"MAD\",\"opacity\":0.8,\"type\":\"scattergeo\"},{\"lat\":[40.63980103,29.99340057373047],\"line\":{\"color\":\"red\",\"width\":0.5},\"locationmode\":\"ISO-3\",\"lon\":[-73.77890015,-90.25800323486328],\"mode\":\"lines\",\"name\":\"MSY\",\"opacity\":0.8,\"type\":\"scattergeo\"},{\"lat\":[40.63980103,43.658401489300005],\"line\":{\"color\":\"red\",\"width\":0.5},\"locationmode\":\"ISO-3\",\"lon\":[-73.77890015,7.215869903560001],\"mode\":\"lines\",\"name\":\"NCE\",\"opacity\":0.8,\"type\":\"scattergeo\"},{\"lat\":[40.63980103,18.57999992370605],\"line\":{\"color\":\"red\",\"width\":0.5},\"locationmode\":\"ISO-3\",\"lon\":[-73.77890015,-72.2925033569336],\"mode\":\"lines\",\"name\":\"PAP\",\"opacity\":0.8,\"type\":\"scattergeo\"},{\"lat\":[40.63980103,28.5665],\"line\":{\"color\":\"red\",\"width\":0.5},\"locationmode\":\"ISO-3\",\"lon\":[-73.77890015,77.103104],\"mode\":\"lines\",\"name\":\"DEL\",\"opacity\":0.8,\"type\":\"scattergeo\"},{\"lat\":[40.63980103,51.4706],\"line\":{\"color\":\"red\",\"width\":0.5},\"locationmode\":\"ISO-3\",\"lon\":[-73.77890015,-0.461941],\"mode\":\"lines\",\"name\":\"LHR\",\"opacity\":0.8,\"type\":\"scattergeo\"},{\"lat\":[40.63980103,33.6367],\"line\":{\"color\":\"red\",\"width\":0.5},\"locationmode\":\"ISO-3\",\"lon\":[-73.77890015,-84.428101],\"mode\":\"lines\",\"name\":\"ATL\",\"opacity\":0.8,\"type\":\"scattergeo\"},{\"lat\":[40.63980103,21.036500930800003],\"line\":{\"color\":\"red\",\"width\":0.5},\"locationmode\":\"ISO-3\",\"lon\":[-73.77890015,-86.8770980835],\"mode\":\"lines\",\"name\":\"CUN\",\"opacity\":0.8,\"type\":\"scattergeo\"},{\"lat\":[40.63980103,19.4363],\"line\":{\"color\":\"red\",\"width\":0.5},\"locationmode\":\"ISO-3\",\"lon\":[-73.77890015,-99.072098],\"mode\":\"lines\",\"name\":\"MEX\",\"opacity\":0.8,\"type\":\"scattergeo\"},{\"lat\":[40.63980103,-34.8222],\"line\":{\"color\":\"red\",\"width\":0.5},\"locationmode\":\"ISO-3\",\"lon\":[-73.77890015,-58.5358],\"mode\":\"lines\",\"name\":\"EZE\",\"opacity\":0.8,\"type\":\"scattergeo\"},{\"lat\":[40.63980103,33.94250107],\"line\":{\"color\":\"red\",\"width\":0.5},\"locationmode\":\"ISO-3\",\"lon\":[-73.77890015,-118.4079971],\"mode\":\"lines\",\"name\":\"LAX\",\"opacity\":0.8,\"type\":\"scattergeo\"},{\"lat\":[40.63980103,32.7336006165],\"line\":{\"color\":\"red\",\"width\":0.5},\"locationmode\":\"ISO-3\",\"lon\":[-73.77890015,-117.190002441],\"mode\":\"lines\",\"name\":\"SAN\",\"opacity\":0.8,\"type\":\"scattergeo\"},{\"lat\":[40.63980103,47.449001],\"line\":{\"color\":\"red\",\"width\":0.5},\"locationmode\":\"ISO-3\",\"lon\":[-73.77890015,-122.308998],\"mode\":\"lines\",\"name\":\"SEA\",\"opacity\":0.8,\"type\":\"scattergeo\"},{\"lat\":[40.63980103,37.61899948120117],\"line\":{\"color\":\"red\",\"width\":0.5},\"locationmode\":\"ISO-3\",\"lon\":[-73.77890015,-122.375],\"mode\":\"lines\",\"name\":\"SFO\",\"opacity\":0.8,\"type\":\"scattergeo\"},{\"lat\":[40.63980103,33.36750030517578],\"line\":{\"color\":\"red\",\"width\":0.5},\"locationmode\":\"ISO-3\",\"lon\":[-73.77890015,-7.589970111846924],\"mode\":\"lines\",\"name\":\"CMN\",\"opacity\":0.8,\"type\":\"scattergeo\"},{\"lat\":[40.63980103,4.70159],\"line\":{\"color\":\"red\",\"width\":0.5},\"locationmode\":\"ISO-3\",\"lon\":[-73.77890015,-74.1469],\"mode\":\"lines\",\"name\":\"BOG\",\"opacity\":0.8,\"type\":\"scattergeo\"},{\"lat\":[40.63980103,6.164540000000001],\"line\":{\"color\":\"red\",\"width\":0.5},\"locationmode\":\"ISO-3\",\"lon\":[-73.77890015,-75.4231],\"mode\":\"lines\",\"name\":\"MDE\",\"opacity\":0.8,\"type\":\"scattergeo\"},{\"lat\":[40.63980103,13.4409],\"line\":{\"color\":\"red\",\"width\":0.5},\"locationmode\":\"ISO-3\",\"lon\":[-73.77890015,-89.055702],\"mode\":\"lines\",\"name\":\"SAL\",\"opacity\":0.8,\"type\":\"scattergeo\"},{\"lat\":[40.63980103,15.4526],\"line\":{\"color\":\"red\",\"width\":0.5},\"locationmode\":\"ISO-3\",\"lon\":[-73.77890015,-87.923599],\"mode\":\"lines\",\"name\":\"SAP\",\"opacity\":0.8,\"type\":\"scattergeo\"},{\"lat\":[40.63980103,41.2971],\"line\":{\"color\":\"red\",\"width\":0.5},\"locationmode\":\"ISO-3\",\"lon\":[-73.77890015,2.07846],\"mode\":\"lines\",\"name\":\"BCN\",\"opacity\":0.8,\"type\":\"scattergeo\"},{\"lat\":[40.63980103,49.012798],\"line\":{\"color\":\"red\",\"width\":0.5},\"locationmode\":\"ISO-3\",\"lon\":[-73.77890015,2.55],\"mode\":\"lines\",\"name\":\"CDG\",\"opacity\":0.8,\"type\":\"scattergeo\"},{\"lat\":[40.63980103,53.421299],\"line\":{\"color\":\"red\",\"width\":0.5},\"locationmode\":\"ISO-3\",\"lon\":[-73.77890015,-6.27007],\"mode\":\"lines\",\"name\":\"DUB\",\"opacity\":0.8,\"type\":\"scattergeo\"},{\"lat\":[40.63980103,41.8002778],\"line\":{\"color\":\"red\",\"width\":0.5},\"locationmode\":\"ISO-3\",\"lon\":[-73.77890015,12.2388889],\"mode\":\"lines\",\"name\":\"FCO\",\"opacity\":0.8,\"type\":\"scattergeo\"},{\"lat\":[40.63980103,60.317199707031],\"line\":{\"color\":\"red\",\"width\":0.5},\"locationmode\":\"ISO-3\",\"lon\":[-73.77890015,24.963300704956],\"mode\":\"lines\",\"name\":\"HEL\",\"opacity\":0.8,\"type\":\"scattergeo\"},{\"lat\":[40.63980103,51.505299],\"line\":{\"color\":\"red\",\"width\":0.5},\"locationmode\":\"ISO-3\",\"lon\":[-73.77890015,0.0552779999999999],\"mode\":\"lines\",\"name\":\"LCY\",\"opacity\":0.8,\"type\":\"scattergeo\"},{\"lat\":[40.63980103,51.4706],\"line\":{\"color\":\"red\",\"width\":0.5},\"locationmode\":\"ISO-3\",\"lon\":[-73.77890015,-0.461941],\"mode\":\"lines\",\"name\":\"LHR\",\"opacity\":0.8,\"type\":\"scattergeo\"},{\"lat\":[40.63980103,40.471926],\"line\":{\"color\":\"red\",\"width\":0.5},\"locationmode\":\"ISO-3\",\"lon\":[-73.77890015,-3.56264],\"mode\":\"lines\",\"name\":\"MAD\",\"opacity\":0.8,\"type\":\"scattergeo\"},{\"lat\":[40.63980103,53.35369873046875],\"line\":{\"color\":\"red\",\"width\":0.5},\"locationmode\":\"ISO-3\",\"lon\":[-73.77890015,-2.2749500274658203],\"mode\":\"lines\",\"name\":\"MAN\",\"opacity\":0.8,\"type\":\"scattergeo\"},{\"lat\":[40.63980103,45.6306],\"line\":{\"color\":\"red\",\"width\":0.5},\"locationmode\":\"ISO-3\",\"lon\":[-73.77890015,8.728110000000001],\"mode\":\"lines\",\"name\":\"MXP\",\"opacity\":0.8,\"type\":\"scattergeo\"},{\"lat\":[40.63980103,18.4393997192],\"line\":{\"color\":\"red\",\"width\":0.5},\"locationmode\":\"ISO-3\",\"lon\":[-73.77890015,-66.0018005371],\"mode\":\"lines\",\"name\":\"SJU\",\"opacity\":0.8,\"type\":\"scattergeo\"},{\"lat\":[40.63980103,45.4706001282],\"line\":{\"color\":\"red\",\"width\":0.5},\"locationmode\":\"ISO-3\",\"lon\":[-73.77890015,-73.7407989502],\"mode\":\"lines\",\"name\":\"YUL\",\"opacity\":0.8,\"type\":\"scattergeo\"},{\"lat\":[40.63980103,43.6772003174],\"line\":{\"color\":\"red\",\"width\":0.5},\"locationmode\":\"ISO-3\",\"lon\":[-73.77890015,-79.63059997559999],\"mode\":\"lines\",\"name\":\"YYZ\",\"opacity\":0.8,\"type\":\"scattergeo\"},{\"lat\":[40.63980103,33.6367],\"line\":{\"color\":\"red\",\"width\":0.5},\"locationmode\":\"ISO-3\",\"lon\":[-73.77890015,-84.428101],\"mode\":\"lines\",\"name\":\"ATL\",\"opacity\":0.8,\"type\":\"scattergeo\"},{\"lat\":[40.63980103,49.012798],\"line\":{\"color\":\"red\",\"width\":0.5},\"locationmode\":\"ISO-3\",\"lon\":[-73.77890015,2.55],\"mode\":\"lines\",\"name\":\"CDG\",\"opacity\":0.8,\"type\":\"scattergeo\"},{\"lat\":[40.63980103,41.8002778],\"line\":{\"color\":\"red\",\"width\":0.5},\"locationmode\":\"ISO-3\",\"lon\":[-73.77890015,12.2388889],\"mode\":\"lines\",\"name\":\"FCO\",\"opacity\":0.8,\"type\":\"scattergeo\"},{\"lat\":[40.63980103,19.4363],\"line\":{\"color\":\"red\",\"width\":0.5},\"locationmode\":\"ISO-3\",\"lon\":[-73.77890015,-99.072098],\"mode\":\"lines\",\"name\":\"MEX\",\"opacity\":0.8,\"type\":\"scattergeo\"},{\"lat\":[40.63980103,29.99340057373047],\"line\":{\"color\":\"red\",\"width\":0.5},\"locationmode\":\"ISO-3\",\"lon\":[-73.77890015,-90.25800323486328],\"mode\":\"lines\",\"name\":\"MSY\",\"opacity\":0.8,\"type\":\"scattergeo\"},{\"lat\":[40.63980103,45.6306],\"line\":{\"color\":\"red\",\"width\":0.5},\"locationmode\":\"ISO-3\",\"lon\":[-73.77890015,8.728110000000001],\"mode\":\"lines\",\"name\":\"MXP\",\"opacity\":0.8,\"type\":\"scattergeo\"},{\"lat\":[40.63980103,45.505299],\"line\":{\"color\":\"red\",\"width\":0.5},\"locationmode\":\"ISO-3\",\"lon\":[-73.77890015,12.3519],\"mode\":\"lines\",\"name\":\"VCE\",\"opacity\":0.8,\"type\":\"scattergeo\"},{\"lat\":[40.63980103,45.4706001282],\"line\":{\"color\":\"red\",\"width\":0.5},\"locationmode\":\"ISO-3\",\"lon\":[-73.77890015,-73.7407989502],\"mode\":\"lines\",\"name\":\"YUL\",\"opacity\":0.8,\"type\":\"scattergeo\"},{\"lat\":[40.63980103,43.6772003174],\"line\":{\"color\":\"red\",\"width\":0.5},\"locationmode\":\"ISO-3\",\"lon\":[-73.77890015,-79.63059997559999],\"mode\":\"lines\",\"name\":\"YYZ\",\"opacity\":0.8,\"type\":\"scattergeo\"},{\"lat\":[40.63980103,35.040199],\"line\":{\"color\":\"red\",\"width\":0.5},\"locationmode\":\"ISO-3\",\"lon\":[-73.77890015,-106.609001],\"mode\":\"lines\",\"name\":\"ABQ\",\"opacity\":0.8,\"type\":\"scattergeo\"},{\"lat\":[40.63980103,12.5014],\"line\":{\"color\":\"red\",\"width\":0.5},\"locationmode\":\"ISO-3\",\"lon\":[-73.77890015,-70.015198],\"mode\":\"lines\",\"name\":\"AUA\",\"opacity\":0.8,\"type\":\"scattergeo\"},{\"lat\":[40.63980103,30.194499969482425],\"line\":{\"color\":\"red\",\"width\":0.5},\"locationmode\":\"ISO-3\",\"lon\":[-73.77890015,-97.6698989868164],\"mode\":\"lines\",\"name\":\"AUS\",\"opacity\":0.8,\"type\":\"scattergeo\"},{\"lat\":[40.63980103,19.2670001984],\"line\":{\"color\":\"red\",\"width\":0.5},\"locationmode\":\"ISO-3\",\"lon\":[-73.77890015,-69.7419967651],\"mode\":\"lines\",\"name\":\"AZS\",\"opacity\":0.8,\"type\":\"scattergeo\"},{\"lat\":[40.63980103,32.363998413085945],\"line\":{\"color\":\"red\",\"width\":0.5},\"locationmode\":\"ISO-3\",\"lon\":[-73.77890015,-64.67870330810547],\"mode\":\"lines\",\"name\":\"BDA\",\"opacity\":0.8,\"type\":\"scattergeo\"},{\"lat\":[40.63980103,13.0746002197],\"line\":{\"color\":\"red\",\"width\":0.5},\"locationmode\":\"ISO-3\",\"lon\":[-73.77890015,-59.4925003052],\"mode\":\"lines\",\"name\":\"BGI\",\"opacity\":0.8,\"type\":\"scattergeo\"},{\"lat\":[40.63980103,42.36429977],\"line\":{\"color\":\"red\",\"width\":0.5},\"locationmode\":\"ISO-3\",\"lon\":[-73.77890015,-71.00520325],\"mode\":\"lines\",\"name\":\"BOS\",\"opacity\":0.8,\"type\":\"scattergeo\"},{\"lat\":[40.63980103,18.49489974975586],\"line\":{\"color\":\"red\",\"width\":0.5},\"locationmode\":\"ISO-3\",\"lon\":[-73.77890015,-67.12940216064453],\"mode\":\"lines\",\"name\":\"BQN\",\"opacity\":0.8,\"type\":\"scattergeo\"},{\"lat\":[40.63980103,44.4719009399],\"line\":{\"color\":\"red\",\"width\":0.5},\"locationmode\":\"ISO-3\",\"lon\":[-73.77890015,-73.15329742429998],\"mode\":\"lines\",\"name\":\"BTV\",\"opacity\":0.8,\"type\":\"scattergeo\"},{\"lat\":[40.63980103,42.94049835],\"line\":{\"color\":\"red\",\"width\":0.5},\"locationmode\":\"ISO-3\",\"lon\":[-73.77890015,-78.73220062],\"mode\":\"lines\",\"name\":\"BUF\",\"opacity\":0.8,\"type\":\"scattergeo\"},{\"lat\":[40.63980103,34.200698852539055],\"line\":{\"color\":\"red\",\"width\":0.5},\"locationmode\":\"ISO-3\",\"lon\":[-73.77890015,-118.35900115966795],\"mode\":\"lines\",\"name\":\"BUR\",\"opacity\":0.8,\"type\":\"scattergeo\"},{\"lat\":[40.63980103,32.89860153],\"line\":{\"color\":\"red\",\"width\":0.5},\"locationmode\":\"ISO-3\",\"lon\":[-73.77890015,-80.04049683],\"mode\":\"lines\",\"name\":\"CHS\",\"opacity\":0.8,\"type\":\"scattergeo\"},{\"lat\":[40.63980103,35.2140007019043],\"line\":{\"color\":\"red\",\"width\":0.5},\"locationmode\":\"ISO-3\",\"lon\":[-73.77890015,-80.94309997558594],\"mode\":\"lines\",\"name\":\"CLT\",\"opacity\":0.8,\"type\":\"scattergeo\"},{\"lat\":[40.63980103,10.4424],\"line\":{\"color\":\"red\",\"width\":0.5},\"locationmode\":\"ISO-3\",\"lon\":[-73.77890015,-75.513],\"mode\":\"lines\",\"name\":\"CTG\",\"opacity\":0.8,\"type\":\"scattergeo\"},{\"lat\":[40.63980103,21.036500930800003],\"line\":{\"color\":\"red\",\"width\":0.5},\"locationmode\":\"ISO-3\",\"lon\":[-73.77890015,-86.8770980835],\"mode\":\"lines\",\"name\":\"CUN\",\"opacity\":0.8,\"type\":\"scattergeo\"},{\"lat\":[40.63980103,39.861698150635],\"line\":{\"color\":\"red\",\"width\":0.5},\"locationmode\":\"ISO-3\",\"lon\":[-73.77890015,-104.672996521],\"mode\":\"lines\",\"name\":\"DEN\",\"opacity\":0.8,\"type\":\"scattergeo\"},{\"lat\":[40.63980103,25.252799987800003],\"line\":{\"color\":\"red\",\"width\":0.5},\"locationmode\":\"ISO-3\",\"lon\":[-73.77890015,55.3643989563],\"mode\":\"lines\",\"name\":\"DXB\",\"opacity\":0.8,\"type\":\"scattergeo\"},{\"lat\":[40.63980103,26.072599],\"line\":{\"color\":\"red\",\"width\":0.5},\"locationmode\":\"ISO-3\",\"lon\":[-73.77890015,-80.152702],\"mode\":\"lines\",\"name\":\"FLL\",\"opacity\":0.8,\"type\":\"scattergeo\"},{\"lat\":[40.63980103,19.2928009033],\"line\":{\"color\":\"red\",\"width\":0.5},\"locationmode\":\"ISO-3\",\"lon\":[-73.77890015,-81.3576965332],\"mode\":\"lines\",\"name\":\"GCM\",\"opacity\":0.8,\"type\":\"scattergeo\"},{\"lat\":[40.63980103,29.64539909],\"line\":{\"color\":\"red\",\"width\":0.5},\"locationmode\":\"ISO-3\",\"lon\":[-73.77890015,-95.27890015],\"mode\":\"lines\",\"name\":\"HOU\",\"opacity\":0.8,\"type\":\"scattergeo\"},{\"lat\":[40.63980103,38.94449997],\"line\":{\"color\":\"red\",\"width\":0.5},\"locationmode\":\"ISO-3\",\"lon\":[-73.77890015,-77.45580292],\"mode\":\"lines\",\"name\":\"IAD\",\"opacity\":0.8,\"type\":\"scattergeo\"},{\"lat\":[40.63980103,30.49410057067871],\"line\":{\"color\":\"red\",\"width\":0.5},\"locationmode\":\"ISO-3\",\"lon\":[-73.77890015,-81.68789672851562],\"mode\":\"lines\",\"name\":\"JAX\",\"opacity\":0.8,\"type\":\"scattergeo\"},{\"lat\":[40.63980103,-26.1392],\"line\":{\"color\":\"red\",\"width\":0.5},\"locationmode\":\"ISO-3\",\"lon\":[-73.77890015,28.246],\"mode\":\"lines\",\"name\":\"JNB\",\"opacity\":0.8,\"type\":\"scattergeo\"},{\"lat\":[40.63980103,17.935699462890625],\"line\":{\"color\":\"red\",\"width\":0.5},\"locationmode\":\"ISO-3\",\"lon\":[-73.77890015,-76.7874984741211],\"mode\":\"lines\",\"name\":\"KIN\",\"opacity\":0.8,\"type\":\"scattergeo\"},{\"lat\":[40.63980103,36.08010101],\"line\":{\"color\":\"red\",\"width\":0.5},\"locationmode\":\"ISO-3\",\"lon\":[-73.77890015,-115.1520004],\"mode\":\"lines\",\"name\":\"LAS\",\"opacity\":0.8,\"type\":\"scattergeo\"},{\"lat\":[40.63980103,33.94250107],\"line\":{\"color\":\"red\",\"width\":0.5},\"locationmode\":\"ISO-3\",\"lon\":[-73.77890015,-118.4079971],\"mode\":\"lines\",\"name\":\"LAX\",\"opacity\":0.8,\"type\":\"scattergeo\"},{\"lat\":[40.63980103,33.81769943],\"line\":{\"color\":\"red\",\"width\":0.5},\"locationmode\":\"ISO-3\",\"lon\":[-73.77890015,-118.1520004],\"mode\":\"lines\",\"name\":\"LGB\",\"opacity\":0.8,\"type\":\"scattergeo\"},{\"lat\":[40.63980103,10.5933],\"line\":{\"color\":\"red\",\"width\":0.5},\"locationmode\":\"ISO-3\",\"lon\":[-73.77890015,-85.544403],\"mode\":\"lines\",\"name\":\"LIR\",\"opacity\":0.8,\"type\":\"scattergeo\"},{\"lat\":[40.63980103,18.45070075988769],\"line\":{\"color\":\"red\",\"width\":0.5},\"locationmode\":\"ISO-3\",\"lon\":[-73.77890015,-68.91179656982422],\"mode\":\"lines\",\"name\":\"LRM\",\"opacity\":0.8,\"type\":\"scattergeo\"},{\"lat\":[40.63980103,18.503700256347656],\"line\":{\"color\":\"red\",\"width\":0.5},\"locationmode\":\"ISO-3\",\"lon\":[-73.77890015,-77.91339874267578],\"mode\":\"lines\",\"name\":\"MBJ\",\"opacity\":0.8,\"type\":\"scattergeo\"},{\"lat\":[40.63980103,28.429399490356445],\"line\":{\"color\":\"red\",\"width\":0.5},\"locationmode\":\"ISO-3\",\"lon\":[-73.77890015,-81.30899810791016],\"mode\":\"lines\",\"name\":\"MCO\",\"opacity\":0.8,\"type\":\"scattergeo\"},{\"lat\":[40.63980103,29.99340057373047],\"line\":{\"color\":\"red\",\"width\":0.5},\"locationmode\":\"ISO-3\",\"lon\":[-73.77890015,-90.25800323486328],\"mode\":\"lines\",\"name\":\"MSY\",\"opacity\":0.8,\"type\":\"scattergeo\"},{\"lat\":[40.63980103,45.6306],\"line\":{\"color\":\"red\",\"width\":0.5},\"locationmode\":\"ISO-3\",\"lon\":[-73.77890015,8.728110000000001],\"mode\":\"lines\",\"name\":\"MXP\",\"opacity\":0.8,\"type\":\"scattergeo\"},{\"lat\":[40.63980103,25.0389995575],\"line\":{\"color\":\"red\",\"width\":0.5},\"locationmode\":\"ISO-3\",\"lon\":[-73.77890015,-77.46620178219999],\"mode\":\"lines\",\"name\":\"NAS\",\"opacity\":0.8,\"type\":\"scattergeo\"},{\"lat\":[40.63980103,37.721298],\"line\":{\"color\":\"red\",\"width\":0.5},\"locationmode\":\"ISO-3\",\"lon\":[-73.77890015,-122.221001],\"mode\":\"lines\",\"name\":\"OAK\",\"opacity\":0.8,\"type\":\"scattergeo\"},{\"lat\":[40.63980103,41.9786],\"line\":{\"color\":\"red\",\"width\":0.5},\"locationmode\":\"ISO-3\",\"lon\":[-73.77890015,-87.9048],\"mode\":\"lines\",\"name\":\"ORD\",\"opacity\":0.8,\"type\":\"scattergeo\"},{\"lat\":[40.63980103,18.57999992370605],\"line\":{\"color\":\"red\",\"width\":0.5},\"locationmode\":\"ISO-3\",\"lon\":[-73.77890015,-72.2925033569336],\"mode\":\"lines\",\"name\":\"PAP\",\"opacity\":0.8,\"type\":\"scattergeo\"},{\"lat\":[40.63980103,26.68320083618164],\"line\":{\"color\":\"red\",\"width\":0.5},\"locationmode\":\"ISO-3\",\"lon\":[-73.77890015,-80.09559631347656],\"mode\":\"lines\",\"name\":\"PBI\",\"opacity\":0.8,\"type\":\"scattergeo\"},{\"lat\":[40.63980103,45.58869934],\"line\":{\"color\":\"red\",\"width\":0.5},\"locationmode\":\"ISO-3\",\"lon\":[-73.77890015,-122.5979996],\"mode\":\"lines\",\"name\":\"PDX\",\"opacity\":0.8,\"type\":\"scattergeo\"},{\"lat\":[40.63980103,33.43429946899414],\"line\":{\"color\":\"red\",\"width\":0.5},\"locationmode\":\"ISO-3\",\"lon\":[-73.77890015,-112.01200103759766],\"mode\":\"lines\",\"name\":\"PHX\",\"opacity\":0.8,\"type\":\"scattergeo\"},{\"lat\":[40.63980103,21.77359962463379],\"line\":{\"color\":\"red\",\"width\":0.5},\"locationmode\":\"ISO-3\",\"lon\":[-73.77890015,-72.26589965820312],\"mode\":\"lines\",\"name\":\"PLS\",\"opacity\":0.8,\"type\":\"scattergeo\"},{\"lat\":[40.63980103,19.75790023803711],\"line\":{\"color\":\"red\",\"width\":0.5},\"locationmode\":\"ISO-3\",\"lon\":[-73.77890015,-70.56999969482422],\"mode\":\"lines\",\"name\":\"POP\",\"opacity\":0.8,\"type\":\"scattergeo\"},{\"lat\":[40.63980103,10.595399856567385],\"line\":{\"color\":\"red\",\"width\":0.5},\"locationmode\":\"ISO-3\",\"lon\":[-73.77890015,-61.33720016479492],\"mode\":\"lines\",\"name\":\"POS\",\"opacity\":0.8,\"type\":\"scattergeo\"},{\"lat\":[40.63980103,18.00830078125],\"line\":{\"color\":\"red\",\"width\":0.5},\"locationmode\":\"ISO-3\",\"lon\":[-73.77890015,-66.56300354003906],\"mode\":\"lines\",\"name\":\"PSE\",\"opacity\":0.8,\"type\":\"scattergeo\"},{\"lat\":[40.63980103,18.5673999786],\"line\":{\"color\":\"red\",\"width\":0.5},\"locationmode\":\"ISO-3\",\"lon\":[-73.77890015,-68.36340332030001],\"mode\":\"lines\",\"name\":\"PUJ\",\"opacity\":0.8,\"type\":\"scattergeo\"},{\"lat\":[40.63980103,43.64619827],\"line\":{\"color\":\"red\",\"width\":0.5},\"locationmode\":\"ISO-3\",\"lon\":[-73.77890015,-70.30930328],\"mode\":\"lines\",\"name\":\"PWM\",\"opacity\":0.8,\"type\":\"scattergeo\"},{\"lat\":[40.63980103,35.87760162353516],\"line\":{\"color\":\"red\",\"width\":0.5},\"locationmode\":\"ISO-3\",\"lon\":[-73.77890015,-78.7874984741211],\"mode\":\"lines\",\"name\":\"RDU\",\"opacity\":0.8,\"type\":\"scattergeo\"},{\"lat\":[40.63980103,43.118900299072266],\"line\":{\"color\":\"red\",\"width\":0.5},\"locationmode\":\"ISO-3\",\"lon\":[-73.77890015,-77.67240142822266],\"mode\":\"lines\",\"name\":\"ROC\",\"opacity\":0.8,\"type\":\"scattergeo\"},{\"lat\":[40.63980103,26.53619956970215],\"line\":{\"color\":\"red\",\"width\":0.5},\"locationmode\":\"ISO-3\",\"lon\":[-73.77890015,-81.75520324707031],\"mode\":\"lines\",\"name\":\"RSW\",\"opacity\":0.8,\"type\":\"scattergeo\"},{\"lat\":[40.63980103,32.7336006165],\"line\":{\"color\":\"red\",\"width\":0.5},\"locationmode\":\"ISO-3\",\"lon\":[-73.77890015,-117.190002441],\"mode\":\"lines\",\"name\":\"SAN\",\"opacity\":0.8,\"type\":\"scattergeo\"},{\"lat\":[40.63980103,32.12760162],\"line\":{\"color\":\"red\",\"width\":0.5},\"locationmode\":\"ISO-3\",\"lon\":[-73.77890015,-81.20210266],\"mode\":\"lines\",\"name\":\"SAV\",\"opacity\":0.8,\"type\":\"scattergeo\"},{\"lat\":[40.63980103,18.42970085144],\"line\":{\"color\":\"red\",\"width\":0.5},\"locationmode\":\"ISO-3\",\"lon\":[-73.77890015,-69.668899536133],\"mode\":\"lines\",\"name\":\"SDQ\",\"opacity\":0.8,\"type\":\"scattergeo\"},{\"lat\":[40.63980103,47.449001],\"line\":{\"color\":\"red\",\"width\":0.5},\"locationmode\":\"ISO-3\",\"lon\":[-73.77890015,-122.308998],\"mode\":\"lines\",\"name\":\"SEA\",\"opacity\":0.8,\"type\":\"scattergeo\"},{\"lat\":[40.63980103,37.61899948120117],\"line\":{\"color\":\"red\",\"width\":0.5},\"locationmode\":\"ISO-3\",\"lon\":[-73.77890015,-122.375],\"mode\":\"lines\",\"name\":\"SFO\",\"opacity\":0.8,\"type\":\"scattergeo\"},{\"lat\":[40.63980103,37.362598],\"line\":{\"color\":\"red\",\"width\":0.5},\"locationmode\":\"ISO-3\",\"lon\":[-73.77890015,-121.929001],\"mode\":\"lines\",\"name\":\"SJC\",\"opacity\":0.8,\"type\":\"scattergeo\"},{\"lat\":[40.63980103,18.4393997192],\"line\":{\"color\":\"red\",\"width\":0.5},\"locationmode\":\"ISO-3\",\"lon\":[-73.77890015,-66.0018005371],\"mode\":\"lines\",\"name\":\"SJU\",\"opacity\":0.8,\"type\":\"scattergeo\"},{\"lat\":[40.63980103,40.78839874267578],\"line\":{\"color\":\"red\",\"width\":0.5},\"locationmode\":\"ISO-3\",\"lon\":[-73.77890015,-111.97799682617188],\"mode\":\"lines\",\"name\":\"SLC\",\"opacity\":0.8,\"type\":\"scattergeo\"},{\"lat\":[40.63980103,38.69540023803711],\"line\":{\"color\":\"red\",\"width\":0.5},\"locationmode\":\"ISO-3\",\"lon\":[-73.77890015,-121.59100341796876],\"mode\":\"lines\",\"name\":\"SMF\",\"opacity\":0.8,\"type\":\"scattergeo\"},{\"lat\":[40.63980103,27.39539909362793],\"line\":{\"color\":\"red\",\"width\":0.5},\"locationmode\":\"ISO-3\",\"lon\":[-73.77890015,-82.55439758300781],\"mode\":\"lines\",\"name\":\"SRQ\",\"opacity\":0.8,\"type\":\"scattergeo\"},{\"lat\":[40.63980103,19.406099319458008],\"line\":{\"color\":\"red\",\"width\":0.5},\"locationmode\":\"ISO-3\",\"lon\":[-73.77890015,-70.60469818115234],\"mode\":\"lines\",\"name\":\"STI\",\"opacity\":0.8,\"type\":\"scattergeo\"},{\"lat\":[40.63980103,18.0410003662],\"line\":{\"color\":\"red\",\"width\":0.5},\"locationmode\":\"ISO-3\",\"lon\":[-73.77890015,-63.1088981628],\"mode\":\"lines\",\"name\":\"SXM\",\"opacity\":0.8,\"type\":\"scattergeo\"},{\"lat\":[40.63980103,43.11119842529297],\"line\":{\"color\":\"red\",\"width\":0.5},\"locationmode\":\"ISO-3\",\"lon\":[-73.77890015,-76.1063003540039],\"mode\":\"lines\",\"name\":\"SYR\",\"opacity\":0.8,\"type\":\"scattergeo\"},{\"lat\":[40.63980103,27.975500106811523],\"line\":{\"color\":\"red\",\"width\":0.5},\"locationmode\":\"ISO-3\",\"lon\":[-73.77890015,-82.533203125],\"mode\":\"lines\",\"name\":\"TPA\",\"opacity\":0.8,\"type\":\"scattergeo\"},{\"lat\":[40.63980103,13.7332],\"line\":{\"color\":\"red\",\"width\":0.5},\"locationmode\":\"ISO-3\",\"lon\":[-73.77890015,-60.952599],\"mode\":\"lines\",\"name\":\"UVF\",\"opacity\":0.8,\"type\":\"scattergeo\"},{\"lat\":[40.63980103,41.2971],\"line\":{\"color\":\"red\",\"width\":0.5},\"locationmode\":\"ISO-3\",\"lon\":[-73.77890015,2.07846],\"mode\":\"lines\",\"name\":\"BCN\",\"opacity\":0.8,\"type\":\"scattergeo\"},{\"lat\":[40.63980103,49.012798],\"line\":{\"color\":\"red\",\"width\":0.5},\"locationmode\":\"ISO-3\",\"lon\":[-73.77890015,2.55],\"mode\":\"lines\",\"name\":\"CDG\",\"opacity\":0.8,\"type\":\"scattergeo\"},{\"lat\":[40.63980103,53.421299],\"line\":{\"color\":\"red\",\"width\":0.5},\"locationmode\":\"ISO-3\",\"lon\":[-73.77890015,-6.27007],\"mode\":\"lines\",\"name\":\"DUB\",\"opacity\":0.8,\"type\":\"scattergeo\"},{\"lat\":[40.63980103,41.8002778],\"line\":{\"color\":\"red\",\"width\":0.5},\"locationmode\":\"ISO-3\",\"lon\":[-73.77890015,12.2388889],\"mode\":\"lines\",\"name\":\"FCO\",\"opacity\":0.8,\"type\":\"scattergeo\"},{\"lat\":[40.63980103,60.317199707031],\"line\":{\"color\":\"red\",\"width\":0.5},\"locationmode\":\"ISO-3\",\"lon\":[-73.77890015,24.963300704956],\"mode\":\"lines\",\"name\":\"HEL\",\"opacity\":0.8,\"type\":\"scattergeo\"},{\"lat\":[40.63980103,51.505299],\"line\":{\"color\":\"red\",\"width\":0.5},\"locationmode\":\"ISO-3\",\"lon\":[-73.77890015,0.0552779999999999],\"mode\":\"lines\",\"name\":\"LCY\",\"opacity\":0.8,\"type\":\"scattergeo\"},{\"lat\":[40.63980103,51.4706],\"line\":{\"color\":\"red\",\"width\":0.5},\"locationmode\":\"ISO-3\",\"lon\":[-73.77890015,-0.461941],\"mode\":\"lines\",\"name\":\"LHR\",\"opacity\":0.8,\"type\":\"scattergeo\"},{\"lat\":[40.63980103,40.471926],\"line\":{\"color\":\"red\",\"width\":0.5},\"locationmode\":\"ISO-3\",\"lon\":[-73.77890015,-3.56264],\"mode\":\"lines\",\"name\":\"MAD\",\"opacity\":0.8,\"type\":\"scattergeo\"},{\"lat\":[40.63980103,53.35369873046875],\"line\":{\"color\":\"red\",\"width\":0.5},\"locationmode\":\"ISO-3\",\"lon\":[-73.77890015,-2.2749500274658203],\"mode\":\"lines\",\"name\":\"MAN\",\"opacity\":0.8,\"type\":\"scattergeo\"},{\"lat\":[40.63980103,45.6306],\"line\":{\"color\":\"red\",\"width\":0.5},\"locationmode\":\"ISO-3\",\"lon\":[-73.77890015,8.728110000000001],\"mode\":\"lines\",\"name\":\"MXP\",\"opacity\":0.8,\"type\":\"scattergeo\"},{\"lat\":[40.63980103,48.7233333],\"line\":{\"color\":\"red\",\"width\":0.5},\"locationmode\":\"ISO-3\",\"lon\":[-73.77890015,2.3794444],\"mode\":\"lines\",\"name\":\"ORY\",\"opacity\":0.8,\"type\":\"scattergeo\"},{\"lat\":[40.63980103,25.0777],\"line\":{\"color\":\"red\",\"width\":0.5},\"locationmode\":\"ISO-3\",\"lon\":[-73.77890015,121.233002],\"mode\":\"lines\",\"name\":\"TPE\",\"opacity\":0.8,\"type\":\"scattergeo\"},{\"lat\":[40.63980103,6.498549938201903],\"line\":{\"color\":\"red\",\"width\":0.5},\"locationmode\":\"ISO-3\",\"lon\":[-73.77890015,-58.25410079956055],\"mode\":\"lines\",\"name\":\"GEO\",\"opacity\":0.8,\"type\":\"scattergeo\"},{\"lat\":[40.63980103,12.004199981689451],\"line\":{\"color\":\"red\",\"width\":0.5},\"locationmode\":\"ISO-3\",\"lon\":[-73.77890015,-61.78620147705078],\"mode\":\"lines\",\"name\":\"GND\",\"opacity\":0.8,\"type\":\"scattergeo\"},{\"lat\":[40.63980103,17.935699462890625],\"line\":{\"color\":\"red\",\"width\":0.5},\"locationmode\":\"ISO-3\",\"lon\":[-73.77890015,-76.7874984741211],\"mode\":\"lines\",\"name\":\"KIN\",\"opacity\":0.8,\"type\":\"scattergeo\"},{\"lat\":[40.63980103,18.503700256347656],\"line\":{\"color\":\"red\",\"width\":0.5},\"locationmode\":\"ISO-3\",\"lon\":[-73.77890015,-77.91339874267578],\"mode\":\"lines\",\"name\":\"MBJ\",\"opacity\":0.8,\"type\":\"scattergeo\"},{\"lat\":[40.63980103,10.595399856567385],\"line\":{\"color\":\"red\",\"width\":0.5},\"locationmode\":\"ISO-3\",\"lon\":[-73.77890015,-61.33720016479492],\"mode\":\"lines\",\"name\":\"POS\",\"opacity\":0.8,\"type\":\"scattergeo\"},{\"lat\":[40.63980103,11.149700164794922],\"line\":{\"color\":\"red\",\"width\":0.5},\"locationmode\":\"ISO-3\",\"lon\":[-73.77890015,-60.83219909667969],\"mode\":\"lines\",\"name\":\"TAB\",\"opacity\":0.8,\"type\":\"scattergeo\"},{\"lat\":[40.63980103,40.0801010131836],\"line\":{\"color\":\"red\",\"width\":0.5},\"locationmode\":\"ISO-3\",\"lon\":[-73.77890015,116.58499908447266],\"mode\":\"lines\",\"name\":\"PEK\",\"opacity\":0.8,\"type\":\"scattergeo\"},{\"lat\":[40.63980103,34.42729949951172],\"line\":{\"color\":\"red\",\"width\":0.5},\"locationmode\":\"ISO-3\",\"lon\":[-73.77890015,135.24400329589844],\"mode\":\"lines\",\"name\":\"KIX\",\"opacity\":0.8,\"type\":\"scattergeo\"},{\"lat\":[40.63980103,9.0713596344],\"line\":{\"color\":\"red\",\"width\":0.5},\"locationmode\":\"ISO-3\",\"lon\":[-73.77890015,-79.3834991455],\"mode\":\"lines\",\"name\":\"PTY\",\"opacity\":0.8,\"type\":\"scattergeo\"},{\"lat\":[40.63980103,22.308901],\"line\":{\"color\":\"red\",\"width\":0.5},\"locationmode\":\"ISO-3\",\"lon\":[-73.77890015,113.915001],\"mode\":\"lines\",\"name\":\"HKG\",\"opacity\":0.8,\"type\":\"scattergeo\"},{\"lat\":[40.63980103,49.193901062],\"line\":{\"color\":\"red\",\"width\":0.5},\"locationmode\":\"ISO-3\",\"lon\":[-73.77890015,-123.183998108],\"mode\":\"lines\",\"name\":\"YVR\",\"opacity\":0.8,\"type\":\"scattergeo\"},{\"lat\":[40.63980103,5.605189800262451],\"line\":{\"color\":\"red\",\"width\":0.5},\"locationmode\":\"ISO-3\",\"lon\":[-73.77890015,-0.1667860001325607],\"mode\":\"lines\",\"name\":\"ACC\",\"opacity\":0.8,\"type\":\"scattergeo\"},{\"lat\":[40.63980103,52.308601],\"line\":{\"color\":\"red\",\"width\":0.5},\"locationmode\":\"ISO-3\",\"lon\":[-73.77890015,4.76389],\"mode\":\"lines\",\"name\":\"AMS\",\"opacity\":0.8,\"type\":\"scattergeo\"},{\"lat\":[40.63980103,33.6367],\"line\":{\"color\":\"red\",\"width\":0.5},\"locationmode\":\"ISO-3\",\"lon\":[-73.77890015,-84.428101],\"mode\":\"lines\",\"name\":\"ATL\",\"opacity\":0.8,\"type\":\"scattergeo\"},{\"lat\":[40.63980103,12.5014],\"line\":{\"color\":\"red\",\"width\":0.5},\"locationmode\":\"ISO-3\",\"lon\":[-73.77890015,-70.015198],\"mode\":\"lines\",\"name\":\"AUA\",\"opacity\":0.8,\"type\":\"scattergeo\"},{\"lat\":[40.63980103,30.194499969482425],\"line\":{\"color\":\"red\",\"width\":0.5},\"locationmode\":\"ISO-3\",\"lon\":[-73.77890015,-97.6698989868164],\"mode\":\"lines\",\"name\":\"AUS\",\"opacity\":0.8,\"type\":\"scattergeo\"},{\"lat\":[40.63980103,41.2971],\"line\":{\"color\":\"red\",\"width\":0.5},\"locationmode\":\"ISO-3\",\"lon\":[-73.77890015,2.07846],\"mode\":\"lines\",\"name\":\"BCN\",\"opacity\":0.8,\"type\":\"scattergeo\"},{\"lat\":[40.63980103,32.363998413085945],\"line\":{\"color\":\"red\",\"width\":0.5},\"locationmode\":\"ISO-3\",\"lon\":[-73.77890015,-64.67870330810547],\"mode\":\"lines\",\"name\":\"BDA\",\"opacity\":0.8,\"type\":\"scattergeo\"},{\"lat\":[40.63980103,36.1245002746582],\"line\":{\"color\":\"red\",\"width\":0.5},\"locationmode\":\"ISO-3\",\"lon\":[-73.77890015,-86.6781997680664],\"mode\":\"lines\",\"name\":\"BNA\",\"opacity\":0.8,\"type\":\"scattergeo\"},{\"lat\":[40.63980103,4.70159],\"line\":{\"color\":\"red\",\"width\":0.5},\"locationmode\":\"ISO-3\",\"lon\":[-73.77890015,-74.1469],\"mode\":\"lines\",\"name\":\"BOG\",\"opacity\":0.8,\"type\":\"scattergeo\"},{\"lat\":[40.63980103,42.36429977],\"line\":{\"color\":\"red\",\"width\":0.5},\"locationmode\":\"ISO-3\",\"lon\":[-73.77890015,-71.00520325],\"mode\":\"lines\",\"name\":\"BOS\",\"opacity\":0.8,\"type\":\"scattergeo\"},{\"lat\":[40.63980103,50.9014015198],\"line\":{\"color\":\"red\",\"width\":0.5},\"locationmode\":\"ISO-3\",\"lon\":[-73.77890015,4.48443984985],\"mode\":\"lines\",\"name\":\"BRU\",\"opacity\":0.8,\"type\":\"scattergeo\"},{\"lat\":[40.63980103,42.94049835],\"line\":{\"color\":\"red\",\"width\":0.5},\"locationmode\":\"ISO-3\",\"lon\":[-73.77890015,-78.73220062],\"mode\":\"lines\",\"name\":\"BUF\",\"opacity\":0.8,\"type\":\"scattergeo\"},{\"lat\":[40.63980103,39.1754],\"line\":{\"color\":\"red\",\"width\":0.5},\"locationmode\":\"ISO-3\",\"lon\":[-73.77890015,-76.668297],\"mode\":\"lines\",\"name\":\"BWI\",\"opacity\":0.8,\"type\":\"scattergeo\"},{\"lat\":[40.63980103,49.012798],\"line\":{\"color\":\"red\",\"width\":0.5},\"locationmode\":\"ISO-3\",\"lon\":[-73.77890015,2.55],\"mode\":\"lines\",\"name\":\"CDG\",\"opacity\":0.8,\"type\":\"scattergeo\"},{\"lat\":[40.63980103,32.89860153],\"line\":{\"color\":\"red\",\"width\":0.5},\"locationmode\":\"ISO-3\",\"lon\":[-73.77890015,-80.04049683],\"mode\":\"lines\",\"name\":\"CHS\",\"opacity\":0.8,\"type\":\"scattergeo\"},{\"lat\":[40.63980103,41.4117012024],\"line\":{\"color\":\"red\",\"width\":0.5},\"locationmode\":\"ISO-3\",\"lon\":[-73.77890015,-81.8498001099],\"mode\":\"lines\",\"name\":\"CLE\",\"opacity\":0.8,\"type\":\"scattergeo\"},{\"lat\":[40.63980103,35.2140007019043],\"line\":{\"color\":\"red\",\"width\":0.5},\"locationmode\":\"ISO-3\",\"lon\":[-73.77890015,-80.94309997558594],\"mode\":\"lines\",\"name\":\"CLT\",\"opacity\":0.8,\"type\":\"scattergeo\"},{\"lat\":[40.63980103,39.998001],\"line\":{\"color\":\"red\",\"width\":0.5},\"locationmode\":\"ISO-3\",\"lon\":[-73.77890015,-82.891899],\"mode\":\"lines\",\"name\":\"CMH\",\"opacity\":0.8,\"type\":\"scattergeo\"},{\"lat\":[40.63980103,21.036500930800003],\"line\":{\"color\":\"red\",\"width\":0.5},\"locationmode\":\"ISO-3\",\"lon\":[-73.77890015,-86.8770980835],\"mode\":\"lines\",\"name\":\"CUN\",\"opacity\":0.8,\"type\":\"scattergeo\"},{\"lat\":[40.63980103,39.0488014221],\"line\":{\"color\":\"red\",\"width\":0.5},\"locationmode\":\"ISO-3\",\"lon\":[-73.77890015,-84.6678009033],\"mode\":\"lines\",\"name\":\"CVG\",\"opacity\":0.8,\"type\":\"scattergeo\"},{\"lat\":[40.63980103,38.8521],\"line\":{\"color\":\"red\",\"width\":0.5},\"locationmode\":\"ISO-3\",\"lon\":[-73.77890015,-77.037697],\"mode\":\"lines\",\"name\":\"DCA\",\"opacity\":0.8,\"type\":\"scattergeo\"},{\"lat\":[40.63980103,39.861698150635],\"line\":{\"color\":\"red\",\"width\":0.5},\"locationmode\":\"ISO-3\",\"lon\":[-73.77890015,-104.672996521],\"mode\":\"lines\",\"name\":\"DEN\",\"opacity\":0.8,\"type\":\"scattergeo\"},{\"lat\":[40.63980103,32.896801],\"line\":{\"color\":\"red\",\"width\":0.5},\"locationmode\":\"ISO-3\",\"lon\":[-73.77890015,-97.038002],\"mode\":\"lines\",\"name\":\"DFW\",\"opacity\":0.8,\"type\":\"scattergeo\"},{\"lat\":[40.63980103,14.739700317382812],\"line\":{\"color\":\"red\",\"width\":0.5},\"locationmode\":\"ISO-3\",\"lon\":[-73.77890015,-17.49020004272461],\"mode\":\"lines\",\"name\":\"DKR\",\"opacity\":0.8,\"type\":\"scattergeo\"},{\"lat\":[40.63980103,42.212398529052734],\"line\":{\"color\":\"red\",\"width\":0.5},\"locationmode\":\"ISO-3\",\"lon\":[-73.77890015,-83.35340118408203],\"mode\":\"lines\",\"name\":\"DTW\",\"opacity\":0.8,\"type\":\"scattergeo\"},{\"lat\":[40.63980103,53.421299],\"line\":{\"color\":\"red\",\"width\":0.5},\"locationmode\":\"ISO-3\",\"lon\":[-73.77890015,-6.27007],\"mode\":\"lines\",\"name\":\"DUB\",\"opacity\":0.8,\"type\":\"scattergeo\"},{\"lat\":[40.63980103,41.8002778],\"line\":{\"color\":\"red\",\"width\":0.5},\"locationmode\":\"ISO-3\",\"lon\":[-73.77890015,12.2388889],\"mode\":\"lines\",\"name\":\"FCO\",\"opacity\":0.8,\"type\":\"scattergeo\"},{\"lat\":[40.63980103,26.072599],\"line\":{\"color\":\"red\",\"width\":0.5},\"locationmode\":\"ISO-3\",\"lon\":[-73.77890015,-80.152702],\"mode\":\"lines\",\"name\":\"FLL\",\"opacity\":0.8,\"type\":\"scattergeo\"},{\"lat\":[40.63980103,50.033333],\"line\":{\"color\":\"red\",\"width\":0.5},\"locationmode\":\"ISO-3\",\"lon\":[-73.77890015,8.570556],\"mode\":\"lines\",\"name\":\"FRA\",\"opacity\":0.8,\"type\":\"scattergeo\"},{\"lat\":[40.63980103,12.004199981689451],\"line\":{\"color\":\"red\",\"width\":0.5},\"locationmode\":\"ISO-3\",\"lon\":[-73.77890015,-61.78620147705078],\"mode\":\"lines\",\"name\":\"GND\",\"opacity\":0.8,\"type\":\"scattergeo\"},{\"lat\":[40.63980103,-23.435556411743164],\"line\":{\"color\":\"red\",\"width\":0.5},\"locationmode\":\"ISO-3\",\"lon\":[-73.77890015,-46.47305679321289],\"mode\":\"lines\",\"name\":\"GRU\",\"opacity\":0.8,\"type\":\"scattergeo\"},{\"lat\":[40.63980103,14.5833],\"line\":{\"color\":\"red\",\"width\":0.5},\"locationmode\":\"ISO-3\",\"lon\":[-73.77890015,-90.527496],\"mode\":\"lines\",\"name\":\"GUA\",\"opacity\":0.8,\"type\":\"scattergeo\"},{\"lat\":[40.63980103,38.94449997],\"line\":{\"color\":\"red\",\"width\":0.5},\"locationmode\":\"ISO-3\",\"lon\":[-73.77890015,-77.45580292],\"mode\":\"lines\",\"name\":\"IAD\",\"opacity\":0.8,\"type\":\"scattergeo\"},{\"lat\":[40.63980103,37.46910095214844],\"line\":{\"color\":\"red\",\"width\":0.5},\"locationmode\":\"ISO-3\",\"lon\":[-73.77890015,126.45099639892578],\"mode\":\"lines\",\"name\":\"ICN\",\"opacity\":0.8,\"type\":\"scattergeo\"},{\"lat\":[40.63980103,39.7173],\"line\":{\"color\":\"red\",\"width\":0.5},\"locationmode\":\"ISO-3\",\"lon\":[-73.77890015,-86.294403],\"mode\":\"lines\",\"name\":\"IND\",\"opacity\":0.8,\"type\":\"scattergeo\"},{\"lat\":[40.63980103,30.49410057067871],\"line\":{\"color\":\"red\",\"width\":0.5},\"locationmode\":\"ISO-3\",\"lon\":[-73.77890015,-81.68789672851562],\"mode\":\"lines\",\"name\":\"JAX\",\"opacity\":0.8,\"type\":\"scattergeo\"},{\"lat\":[40.63980103,36.08010101],\"line\":{\"color\":\"red\",\"width\":0.5},\"locationmode\":\"ISO-3\",\"lon\":[-73.77890015,-115.1520004],\"mode\":\"lines\",\"name\":\"LAS\",\"opacity\":0.8,\"type\":\"scattergeo\"},{\"lat\":[40.63980103,33.94250107],\"line\":{\"color\":\"red\",\"width\":0.5},\"locationmode\":\"ISO-3\",\"lon\":[-73.77890015,-118.4079971],\"mode\":\"lines\",\"name\":\"LAX\",\"opacity\":0.8,\"type\":\"scattergeo\"},{\"lat\":[40.63980103,51.4706],\"line\":{\"color\":\"red\",\"width\":0.5},\"locationmode\":\"ISO-3\",\"lon\":[-73.77890015,-0.461941],\"mode\":\"lines\",\"name\":\"LHR\",\"opacity\":0.8,\"type\":\"scattergeo\"},{\"lat\":[40.63980103,10.5933],\"line\":{\"color\":\"red\",\"width\":0.5},\"locationmode\":\"ISO-3\",\"lon\":[-73.77890015,-85.544403],\"mode\":\"lines\",\"name\":\"LIR\",\"opacity\":0.8,\"type\":\"scattergeo\"},{\"lat\":[40.63980103,40.471926],\"line\":{\"color\":\"red\",\"width\":0.5},\"locationmode\":\"ISO-3\",\"lon\":[-73.77890015,-3.56264],\"mode\":\"lines\",\"name\":\"MAD\",\"opacity\":0.8,\"type\":\"scattergeo\"},{\"lat\":[40.63980103,18.503700256347656],\"line\":{\"color\":\"red\",\"width\":0.5},\"locationmode\":\"ISO-3\",\"lon\":[-73.77890015,-77.91339874267578],\"mode\":\"lines\",\"name\":\"MBJ\",\"opacity\":0.8,\"type\":\"scattergeo\"},{\"lat\":[40.63980103,28.429399490356445],\"line\":{\"color\":\"red\",\"width\":0.5},\"locationmode\":\"ISO-3\",\"lon\":[-73.77890015,-81.30899810791016],\"mode\":\"lines\",\"name\":\"MCO\",\"opacity\":0.8,\"type\":\"scattergeo\"},{\"lat\":[40.63980103,19.4363],\"line\":{\"color\":\"red\",\"width\":0.5},\"locationmode\":\"ISO-3\",\"lon\":[-73.77890015,-99.072098],\"mode\":\"lines\",\"name\":\"MEX\",\"opacity\":0.8,\"type\":\"scattergeo\"},{\"lat\":[40.63980103,25.79319953918457],\"line\":{\"color\":\"red\",\"width\":0.5},\"locationmode\":\"ISO-3\",\"lon\":[-73.77890015,-80.29060363769531],\"mode\":\"lines\",\"name\":\"MIA\",\"opacity\":0.8,\"type\":\"scattergeo\"},{\"lat\":[40.63980103,44.882],\"line\":{\"color\":\"red\",\"width\":0.5},\"locationmode\":\"ISO-3\",\"lon\":[-73.77890015,-93.221802],\"mode\":\"lines\",\"name\":\"MSP\",\"opacity\":0.8,\"type\":\"scattergeo\"},{\"lat\":[40.63980103,29.99340057373047],\"line\":{\"color\":\"red\",\"width\":0.5},\"locationmode\":\"ISO-3\",\"lon\":[-73.77890015,-90.25800323486328],\"mode\":\"lines\",\"name\":\"MSY\",\"opacity\":0.8,\"type\":\"scattergeo\"},{\"lat\":[40.63980103,45.6306],\"line\":{\"color\":\"red\",\"width\":0.5},\"locationmode\":\"ISO-3\",\"lon\":[-73.77890015,8.728110000000001],\"mode\":\"lines\",\"name\":\"MXP\",\"opacity\":0.8,\"type\":\"scattergeo\"},{\"lat\":[40.63980103,25.0389995575],\"line\":{\"color\":\"red\",\"width\":0.5},\"locationmode\":\"ISO-3\",\"lon\":[-73.77890015,-77.46620178219999],\"mode\":\"lines\",\"name\":\"NAS\",\"opacity\":0.8,\"type\":\"scattergeo\"},{\"lat\":[40.63980103,43.658401489300005],\"line\":{\"color\":\"red\",\"width\":0.5},\"locationmode\":\"ISO-3\",\"lon\":[-73.77890015,7.215869903560001],\"mode\":\"lines\",\"name\":\"NCE\",\"opacity\":0.8,\"type\":\"scattergeo\"},{\"lat\":[40.63980103,35.7647018433],\"line\":{\"color\":\"red\",\"width\":0.5},\"locationmode\":\"ISO-3\",\"lon\":[-73.77890015,140.386001587],\"mode\":\"lines\",\"name\":\"NRT\",\"opacity\":0.8,\"type\":\"scattergeo\"},{\"lat\":[40.63980103,41.9786],\"line\":{\"color\":\"red\",\"width\":0.5},\"locationmode\":\"ISO-3\",\"lon\":[-73.77890015,-87.9048],\"mode\":\"lines\",\"name\":\"ORD\",\"opacity\":0.8,\"type\":\"scattergeo\"},{\"lat\":[40.63980103,36.89459991455078],\"line\":{\"color\":\"red\",\"width\":0.5},\"locationmode\":\"ISO-3\",\"lon\":[-73.77890015,-76.20120239257812],\"mode\":\"lines\",\"name\":\"ORF\",\"opacity\":0.8,\"type\":\"scattergeo\"},{\"lat\":[40.63980103,18.57999992370605],\"line\":{\"color\":\"red\",\"width\":0.5},\"locationmode\":\"ISO-3\",\"lon\":[-73.77890015,-72.2925033569336],\"mode\":\"lines\",\"name\":\"PAP\",\"opacity\":0.8,\"type\":\"scattergeo\"},{\"lat\":[40.63980103,45.58869934],\"line\":{\"color\":\"red\",\"width\":0.5},\"locationmode\":\"ISO-3\",\"lon\":[-73.77890015,-122.5979996],\"mode\":\"lines\",\"name\":\"PDX\",\"opacity\":0.8,\"type\":\"scattergeo\"},{\"lat\":[40.63980103,39.87189865112305],\"line\":{\"color\":\"red\",\"width\":0.5},\"locationmode\":\"ISO-3\",\"lon\":[-73.77890015,-75.24109649658203],\"mode\":\"lines\",\"name\":\"PHL\",\"opacity\":0.8,\"type\":\"scattergeo\"},{\"lat\":[40.63980103,33.43429946899414],\"line\":{\"color\":\"red\",\"width\":0.5},\"locationmode\":\"ISO-3\",\"lon\":[-73.77890015,-112.01200103759766],\"mode\":\"lines\",\"name\":\"PHX\",\"opacity\":0.8,\"type\":\"scattergeo\"},{\"lat\":[40.63980103,40.49150085],\"line\":{\"color\":\"red\",\"width\":0.5},\"locationmode\":\"ISO-3\",\"lon\":[-73.77890015,-80.23290253],\"mode\":\"lines\",\"name\":\"PIT\",\"opacity\":0.8,\"type\":\"scattergeo\"},{\"lat\":[40.63980103,21.77359962463379],\"line\":{\"color\":\"red\",\"width\":0.5},\"locationmode\":\"ISO-3\",\"lon\":[-73.77890015,-72.26589965820312],\"mode\":\"lines\",\"name\":\"PLS\",\"opacity\":0.8,\"type\":\"scattergeo\"},{\"lat\":[40.63980103,18.5673999786],\"line\":{\"color\":\"red\",\"width\":0.5},\"locationmode\":\"ISO-3\",\"lon\":[-73.77890015,-68.36340332030001],\"mode\":\"lines\",\"name\":\"PUJ\",\"opacity\":0.8,\"type\":\"scattergeo\"},{\"lat\":[40.63980103,31.143400192260746],\"line\":{\"color\":\"red\",\"width\":0.5},\"locationmode\":\"ISO-3\",\"lon\":[-73.77890015,121.80500030517578],\"mode\":\"lines\",\"name\":\"PVG\",\"opacity\":0.8,\"type\":\"scattergeo\"},{\"lat\":[40.63980103,35.87760162353516],\"line\":{\"color\":\"red\",\"width\":0.5},\"locationmode\":\"ISO-3\",\"lon\":[-73.77890015,-78.7874984741211],\"mode\":\"lines\",\"name\":\"RDU\",\"opacity\":0.8,\"type\":\"scattergeo\"},{\"lat\":[40.63980103,37.50519943237305],\"line\":{\"color\":\"red\",\"width\":0.5},\"locationmode\":\"ISO-3\",\"lon\":[-73.77890015,-77.3197021484375],\"mode\":\"lines\",\"name\":\"RIC\",\"opacity\":0.8,\"type\":\"scattergeo\"},{\"lat\":[40.63980103,43.118900299072266],\"line\":{\"color\":\"red\",\"width\":0.5},\"locationmode\":\"ISO-3\",\"lon\":[-73.77890015,-77.67240142822266],\"mode\":\"lines\",\"name\":\"ROC\",\"opacity\":0.8,\"type\":\"scattergeo\"},{\"lat\":[40.63980103,32.7336006165],\"line\":{\"color\":\"red\",\"width\":0.5},\"locationmode\":\"ISO-3\",\"lon\":[-73.77890015,-117.190002441],\"mode\":\"lines\",\"name\":\"SAN\",\"opacity\":0.8,\"type\":\"scattergeo\"},{\"lat\":[40.63980103,29.533700942993164],\"line\":{\"color\":\"red\",\"width\":0.5},\"locationmode\":\"ISO-3\",\"lon\":[-73.77890015,-98.46980285644533],\"mode\":\"lines\",\"name\":\"SAT\",\"opacity\":0.8,\"type\":\"scattergeo\"},{\"lat\":[40.63980103,32.12760162],\"line\":{\"color\":\"red\",\"width\":0.5},\"locationmode\":\"ISO-3\",\"lon\":[-73.77890015,-81.20210266],\"mode\":\"lines\",\"name\":\"SAV\",\"opacity\":0.8,\"type\":\"scattergeo\"},{\"lat\":[40.63980103,38.1744],\"line\":{\"color\":\"red\",\"width\":0.5},\"locationmode\":\"ISO-3\",\"lon\":[-73.77890015,-85.736],\"mode\":\"lines\",\"name\":\"SDF\",\"opacity\":0.8,\"type\":\"scattergeo\"},{\"lat\":[40.63980103,18.42970085144],\"line\":{\"color\":\"red\",\"width\":0.5},\"locationmode\":\"ISO-3\",\"lon\":[-73.77890015,-69.668899536133],\"mode\":\"lines\",\"name\":\"SDQ\",\"opacity\":0.8,\"type\":\"scattergeo\"},{\"lat\":[40.63980103,47.449001],\"line\":{\"color\":\"red\",\"width\":0.5},\"locationmode\":\"ISO-3\",\"lon\":[-73.77890015,-122.308998],\"mode\":\"lines\",\"name\":\"SEA\",\"opacity\":0.8,\"type\":\"scattergeo\"},{\"lat\":[40.63980103,37.61899948120117],\"line\":{\"color\":\"red\",\"width\":0.5},\"locationmode\":\"ISO-3\",\"lon\":[-73.77890015,-122.375],\"mode\":\"lines\",\"name\":\"SFO\",\"opacity\":0.8,\"type\":\"scattergeo\"},{\"lat\":[40.63980103,9.993860244750977],\"line\":{\"color\":\"red\",\"width\":0.5},\"locationmode\":\"ISO-3\",\"lon\":[-73.77890015,-84.20880126953125],\"mode\":\"lines\",\"name\":\"SJO\",\"opacity\":0.8,\"type\":\"scattergeo\"},{\"lat\":[40.63980103,18.4393997192],\"line\":{\"color\":\"red\",\"width\":0.5},\"locationmode\":\"ISO-3\",\"lon\":[-73.77890015,-66.0018005371],\"mode\":\"lines\",\"name\":\"SJU\",\"opacity\":0.8,\"type\":\"scattergeo\"},{\"lat\":[40.63980103,40.78839874267578],\"line\":{\"color\":\"red\",\"width\":0.5},\"locationmode\":\"ISO-3\",\"lon\":[-73.77890015,-111.97799682617188],\"mode\":\"lines\",\"name\":\"SLC\",\"opacity\":0.8,\"type\":\"scattergeo\"},{\"lat\":[40.63980103,19.406099319458008],\"line\":{\"color\":\"red\",\"width\":0.5},\"locationmode\":\"ISO-3\",\"lon\":[-73.77890015,-70.60469818115234],\"mode\":\"lines\",\"name\":\"STI\",\"opacity\":0.8,\"type\":\"scattergeo\"},{\"lat\":[40.63980103,38.748697],\"line\":{\"color\":\"red\",\"width\":0.5},\"locationmode\":\"ISO-3\",\"lon\":[-73.77890015,-90.370003],\"mode\":\"lines\",\"name\":\"STL\",\"opacity\":0.8,\"type\":\"scattergeo\"},{\"lat\":[40.63980103,18.337299346923828],\"line\":{\"color\":\"red\",\"width\":0.5},\"locationmode\":\"ISO-3\",\"lon\":[-73.77890015,-64.97339630126953],\"mode\":\"lines\",\"name\":\"STT\",\"opacity\":0.8,\"type\":\"scattergeo\"},{\"lat\":[40.63980103,55.972599],\"line\":{\"color\":\"red\",\"width\":0.5},\"locationmode\":\"ISO-3\",\"lon\":[-73.77890015,37.4146],\"mode\":\"lines\",\"name\":\"SVO\",\"opacity\":0.8,\"type\":\"scattergeo\"},{\"lat\":[40.63980103,18.0410003662],\"line\":{\"color\":\"red\",\"width\":0.5},\"locationmode\":\"ISO-3\",\"lon\":[-73.77890015,-63.1088981628],\"mode\":\"lines\",\"name\":\"SXM\",\"opacity\":0.8,\"type\":\"scattergeo\"},{\"lat\":[40.63980103,43.11119842529297],\"line\":{\"color\":\"red\",\"width\":0.5},\"locationmode\":\"ISO-3\",\"lon\":[-73.77890015,-76.1063003540039],\"mode\":\"lines\",\"name\":\"SYR\",\"opacity\":0.8,\"type\":\"scattergeo\"},{\"lat\":[40.63980103,32.011398315429695],\"line\":{\"color\":\"red\",\"width\":0.5},\"locationmode\":\"ISO-3\",\"lon\":[-73.77890015,34.88669967651367],\"mode\":\"lines\",\"name\":\"TLV\",\"opacity\":0.8,\"type\":\"scattergeo\"},{\"lat\":[40.63980103,27.975500106811523],\"line\":{\"color\":\"red\",\"width\":0.5},\"locationmode\":\"ISO-3\",\"lon\":[-73.77890015,-82.533203125],\"mode\":\"lines\",\"name\":\"TPA\",\"opacity\":0.8,\"type\":\"scattergeo\"},{\"lat\":[40.63980103,45.505299],\"line\":{\"color\":\"red\",\"width\":0.5},\"locationmode\":\"ISO-3\",\"lon\":[-73.77890015,12.3519],\"mode\":\"lines\",\"name\":\"VCE\",\"opacity\":0.8,\"type\":\"scattergeo\"},{\"lat\":[40.63980103,45.4706001282],\"line\":{\"color\":\"red\",\"width\":0.5},\"locationmode\":\"ISO-3\",\"lon\":[-73.77890015,-73.7407989502],\"mode\":\"lines\",\"name\":\"YUL\",\"opacity\":0.8,\"type\":\"scattergeo\"},{\"lat\":[40.63980103,51.113899231000005],\"line\":{\"color\":\"red\",\"width\":0.5},\"locationmode\":\"ISO-3\",\"lon\":[-73.77890015,-114.019996643],\"mode\":\"lines\",\"name\":\"YYC\",\"opacity\":0.8,\"type\":\"scattergeo\"},{\"lat\":[40.63980103,43.6772003174],\"line\":{\"color\":\"red\",\"width\":0.5},\"locationmode\":\"ISO-3\",\"lon\":[-73.77890015,-79.63059997559999],\"mode\":\"lines\",\"name\":\"YYZ\",\"opacity\":0.8,\"type\":\"scattergeo\"},{\"lat\":[40.63980103,59.651901245117],\"line\":{\"color\":\"red\",\"width\":0.5},\"locationmode\":\"ISO-3\",\"lon\":[-73.77890015,17.918600082397],\"mode\":\"lines\",\"name\":\"ARN\",\"opacity\":0.8,\"type\":\"scattergeo\"},{\"lat\":[40.63980103,60.29339981],\"line\":{\"color\":\"red\",\"width\":0.5},\"locationmode\":\"ISO-3\",\"lon\":[-73.77890015,5.218140125],\"mode\":\"lines\",\"name\":\"BGO\",\"opacity\":0.8,\"type\":\"scattergeo\"},{\"lat\":[40.63980103,55.617900848389],\"line\":{\"color\":\"red\",\"width\":0.5},\"locationmode\":\"ISO-3\",\"lon\":[-73.77890015,12.656000137329],\"mode\":\"lines\",\"name\":\"CPH\",\"opacity\":0.8,\"type\":\"scattergeo\"},{\"lat\":[40.63980103,60.121],\"line\":{\"color\":\"red\",\"width\":0.5},\"locationmode\":\"ISO-3\",\"lon\":[-73.77890015,11.0502],\"mode\":\"lines\",\"name\":\"OSL\",\"opacity\":0.8,\"type\":\"scattergeo\"},{\"lat\":[40.63980103,53.421299],\"line\":{\"color\":\"red\",\"width\":0.5},\"locationmode\":\"ISO-3\",\"lon\":[-73.77890015,-6.27007],\"mode\":\"lines\",\"name\":\"DUB\",\"opacity\":0.8,\"type\":\"scattergeo\"},{\"lat\":[40.63980103,52.702],\"line\":{\"color\":\"red\",\"width\":0.5},\"locationmode\":\"ISO-3\",\"lon\":[-73.77890015,-8.92482],\"mode\":\"lines\",\"name\":\"SNN\",\"opacity\":0.8,\"type\":\"scattergeo\"},{\"lat\":[40.63980103,25.252799987800003],\"line\":{\"color\":\"red\",\"width\":0.5},\"locationmode\":\"ISO-3\",\"lon\":[-73.77890015,55.3643989563],\"mode\":\"lines\",\"name\":\"DXB\",\"opacity\":0.8,\"type\":\"scattergeo\"},{\"lat\":[40.63980103,45.6306],\"line\":{\"color\":\"red\",\"width\":0.5},\"locationmode\":\"ISO-3\",\"lon\":[-73.77890015,8.728110000000001],\"mode\":\"lines\",\"name\":\"MXP\",\"opacity\":0.8,\"type\":\"scattergeo\"},{\"lat\":[40.63980103,50.033333],\"line\":{\"color\":\"red\",\"width\":0.5},\"locationmode\":\"ISO-3\",\"lon\":[-73.77890015,8.570556],\"mode\":\"lines\",\"name\":\"FRA\",\"opacity\":0.8,\"type\":\"scattergeo\"},{\"lat\":[40.63980103,24.433000564575195],\"line\":{\"color\":\"red\",\"width\":0.5},\"locationmode\":\"ISO-3\",\"lon\":[-73.77890015,54.651100158691406],\"mode\":\"lines\",\"name\":\"AUH\",\"opacity\":0.8,\"type\":\"scattergeo\"},{\"lat\":[40.63980103,49.012798],\"line\":{\"color\":\"red\",\"width\":0.5},\"locationmode\":\"ISO-3\",\"lon\":[-73.77890015,2.55],\"mode\":\"lines\",\"name\":\"CDG\",\"opacity\":0.8,\"type\":\"scattergeo\"},{\"lat\":[40.63980103,36.08010101],\"line\":{\"color\":\"red\",\"width\":0.5},\"locationmode\":\"ISO-3\",\"lon\":[-73.77890015,-115.1520004],\"mode\":\"lines\",\"name\":\"LAS\",\"opacity\":0.8,\"type\":\"scattergeo\"},{\"lat\":[40.63980103,29.99340057373047],\"line\":{\"color\":\"red\",\"width\":0.5},\"locationmode\":\"ISO-3\",\"lon\":[-73.77890015,-90.25800323486328],\"mode\":\"lines\",\"name\":\"MSY\",\"opacity\":0.8,\"type\":\"scattergeo\"},{\"lat\":[40.63980103,63.985000610352],\"line\":{\"color\":\"red\",\"width\":0.5},\"locationmode\":\"ISO-3\",\"lon\":[-73.77890015,-22.605600357056],\"mode\":\"lines\",\"name\":\"KEF\",\"opacity\":0.8,\"type\":\"scattergeo\"},{\"lat\":[40.63980103,-23.435556411743164],\"line\":{\"color\":\"red\",\"width\":0.5},\"locationmode\":\"ISO-3\",\"lon\":[-73.77890015,-46.47305679321289],\"mode\":\"lines\",\"name\":\"GRU\",\"opacity\":0.8,\"type\":\"scattergeo\"},{\"lat\":[40.63980103,21.32062],\"line\":{\"color\":\"red\",\"width\":0.5},\"locationmode\":\"ISO-3\",\"lon\":[-73.77890015,-157.924228],\"mode\":\"lines\",\"name\":\"HNL\",\"opacity\":0.8,\"type\":\"scattergeo\"},{\"lat\":[40.63980103,36.08010101],\"line\":{\"color\":\"red\",\"width\":0.5},\"locationmode\":\"ISO-3\",\"lon\":[-73.77890015,-115.1520004],\"mode\":\"lines\",\"name\":\"LAS\",\"opacity\":0.8,\"type\":\"scattergeo\"},{\"lat\":[40.63980103,56.92359924316406],\"line\":{\"color\":\"red\",\"width\":0.5},\"locationmode\":\"ISO-3\",\"lon\":[-73.77890015,23.971099853515625],\"mode\":\"lines\",\"name\":\"RIX\",\"opacity\":0.8,\"type\":\"scattergeo\"},{\"lat\":[40.63980103,41.2971],\"line\":{\"color\":\"red\",\"width\":0.5},\"locationmode\":\"ISO-3\",\"lon\":[-73.77890015,2.07846],\"mode\":\"lines\",\"name\":\"BCN\",\"opacity\":0.8,\"type\":\"scattergeo\"},{\"lat\":[40.63980103,49.012798],\"line\":{\"color\":\"red\",\"width\":0.5},\"locationmode\":\"ISO-3\",\"lon\":[-73.77890015,2.55],\"mode\":\"lines\",\"name\":\"CDG\",\"opacity\":0.8,\"type\":\"scattergeo\"},{\"lat\":[40.63980103,41.8002778],\"line\":{\"color\":\"red\",\"width\":0.5},\"locationmode\":\"ISO-3\",\"lon\":[-73.77890015,12.2388889],\"mode\":\"lines\",\"name\":\"FCO\",\"opacity\":0.8,\"type\":\"scattergeo\"},{\"lat\":[40.63980103,60.317199707031],\"line\":{\"color\":\"red\",\"width\":0.5},\"locationmode\":\"ISO-3\",\"lon\":[-73.77890015,24.963300704956],\"mode\":\"lines\",\"name\":\"HEL\",\"opacity\":0.8,\"type\":\"scattergeo\"},{\"lat\":[40.63980103,51.505299],\"line\":{\"color\":\"red\",\"width\":0.5},\"locationmode\":\"ISO-3\",\"lon\":[-73.77890015,0.0552779999999999],\"mode\":\"lines\",\"name\":\"LCY\",\"opacity\":0.8,\"type\":\"scattergeo\"},{\"lat\":[40.63980103,51.4706],\"line\":{\"color\":\"red\",\"width\":0.5},\"locationmode\":\"ISO-3\",\"lon\":[-73.77890015,-0.461941],\"mode\":\"lines\",\"name\":\"LHR\",\"opacity\":0.8,\"type\":\"scattergeo\"},{\"lat\":[40.63980103,40.471926],\"line\":{\"color\":\"red\",\"width\":0.5},\"locationmode\":\"ISO-3\",\"lon\":[-73.77890015,-3.56264],\"mode\":\"lines\",\"name\":\"MAD\",\"opacity\":0.8,\"type\":\"scattergeo\"},{\"lat\":[40.63980103,53.35369873046875],\"line\":{\"color\":\"red\",\"width\":0.5},\"locationmode\":\"ISO-3\",\"lon\":[-73.77890015,-2.2749500274658203],\"mode\":\"lines\",\"name\":\"MAN\",\"opacity\":0.8,\"type\":\"scattergeo\"},{\"lat\":[40.63980103,45.6306],\"line\":{\"color\":\"red\",\"width\":0.5},\"locationmode\":\"ISO-3\",\"lon\":[-73.77890015,8.728110000000001],\"mode\":\"lines\",\"name\":\"MXP\",\"opacity\":0.8,\"type\":\"scattergeo\"},{\"lat\":[40.63980103,48.7233333],\"line\":{\"color\":\"red\",\"width\":0.5},\"locationmode\":\"ISO-3\",\"lon\":[-73.77890015,2.3794444],\"mode\":\"lines\",\"name\":\"ORY\",\"opacity\":0.8,\"type\":\"scattergeo\"},{\"lat\":[40.63980103,-22.8099994659],\"line\":{\"color\":\"red\",\"width\":0.5},\"locationmode\":\"ISO-3\",\"lon\":[-73.77890015,-43.2505569458],\"mode\":\"lines\",\"name\":\"GIG\",\"opacity\":0.8,\"type\":\"scattergeo\"},{\"lat\":[40.63980103,-23.435556411743164],\"line\":{\"color\":\"red\",\"width\":0.5},\"locationmode\":\"ISO-3\",\"lon\":[-73.77890015,-46.47305679321289],\"mode\":\"lines\",\"name\":\"GRU\",\"opacity\":0.8,\"type\":\"scattergeo\"},{\"lat\":[40.63980103,-12.0219],\"line\":{\"color\":\"red\",\"width\":0.5},\"locationmode\":\"ISO-3\",\"lon\":[-73.77890015,-77.114305],\"mode\":\"lines\",\"name\":\"LIM\",\"opacity\":0.8,\"type\":\"scattergeo\"},{\"lat\":[40.63980103,29.99340057373047],\"line\":{\"color\":\"red\",\"width\":0.5},\"locationmode\":\"ISO-3\",\"lon\":[-73.77890015,-90.25800323486328],\"mode\":\"lines\",\"name\":\"MSY\",\"opacity\":0.8,\"type\":\"scattergeo\"},{\"lat\":[40.63980103,35.7647018433],\"line\":{\"color\":\"red\",\"width\":0.5},\"locationmode\":\"ISO-3\",\"lon\":[-73.77890015,140.386001587],\"mode\":\"lines\",\"name\":\"NRT\",\"opacity\":0.8,\"type\":\"scattergeo\"},{\"lat\":[40.63980103,37.46910095214844],\"line\":{\"color\":\"red\",\"width\":0.5},\"locationmode\":\"ISO-3\",\"lon\":[-73.77890015,126.45099639892578],\"mode\":\"lines\",\"name\":\"ICN\",\"opacity\":0.8,\"type\":\"scattergeo\"},{\"lat\":[40.63980103,52.308601],\"line\":{\"color\":\"red\",\"width\":0.5},\"locationmode\":\"ISO-3\",\"lon\":[-73.77890015,4.76389],\"mode\":\"lines\",\"name\":\"AMS\",\"opacity\":0.8,\"type\":\"scattergeo\"},{\"lat\":[40.63980103,33.6367],\"line\":{\"color\":\"red\",\"width\":0.5},\"locationmode\":\"ISO-3\",\"lon\":[-73.77890015,-84.428101],\"mode\":\"lines\",\"name\":\"ATL\",\"opacity\":0.8,\"type\":\"scattergeo\"},{\"lat\":[40.63980103,41.2971],\"line\":{\"color\":\"red\",\"width\":0.5},\"locationmode\":\"ISO-3\",\"lon\":[-73.77890015,2.07846],\"mode\":\"lines\",\"name\":\"BCN\",\"opacity\":0.8,\"type\":\"scattergeo\"},{\"lat\":[40.63980103,50.9014015198],\"line\":{\"color\":\"red\",\"width\":0.5},\"locationmode\":\"ISO-3\",\"lon\":[-73.77890015,4.48443984985],\"mode\":\"lines\",\"name\":\"BRU\",\"opacity\":0.8,\"type\":\"scattergeo\"},{\"lat\":[40.63980103,53.421299],\"line\":{\"color\":\"red\",\"width\":0.5},\"locationmode\":\"ISO-3\",\"lon\":[-73.77890015,-6.27007],\"mode\":\"lines\",\"name\":\"DUB\",\"opacity\":0.8,\"type\":\"scattergeo\"},{\"lat\":[40.63980103,50.033333],\"line\":{\"color\":\"red\",\"width\":0.5},\"locationmode\":\"ISO-3\",\"lon\":[-73.77890015,8.570556],\"mode\":\"lines\",\"name\":\"FRA\",\"opacity\":0.8,\"type\":\"scattergeo\"},{\"lat\":[40.63980103,51.4706],\"line\":{\"color\":\"red\",\"width\":0.5},\"locationmode\":\"ISO-3\",\"lon\":[-73.77890015,-0.461941],\"mode\":\"lines\",\"name\":\"LHR\",\"opacity\":0.8,\"type\":\"scattergeo\"},{\"lat\":[40.63980103,40.471926],\"line\":{\"color\":\"red\",\"width\":0.5},\"locationmode\":\"ISO-3\",\"lon\":[-73.77890015,-3.56264],\"mode\":\"lines\",\"name\":\"MAD\",\"opacity\":0.8,\"type\":\"scattergeo\"},{\"lat\":[40.63980103,29.99340057373047],\"line\":{\"color\":\"red\",\"width\":0.5},\"locationmode\":\"ISO-3\",\"lon\":[-73.77890015,-90.25800323486328],\"mode\":\"lines\",\"name\":\"MSY\",\"opacity\":0.8,\"type\":\"scattergeo\"},{\"lat\":[40.63980103,29.226600646972656],\"line\":{\"color\":\"red\",\"width\":0.5},\"locationmode\":\"ISO-3\",\"lon\":[-73.77890015,47.96889877319336],\"mode\":\"lines\",\"name\":\"KWI\",\"opacity\":0.8,\"type\":\"scattergeo\"},{\"lat\":[40.63980103,51.4706],\"line\":{\"color\":\"red\",\"width\":0.5},\"locationmode\":\"ISO-3\",\"lon\":[-73.77890015,-0.461941],\"mode\":\"lines\",\"name\":\"LHR\",\"opacity\":0.8,\"type\":\"scattergeo\"},{\"lat\":[40.63980103,19.2928009033],\"line\":{\"color\":\"red\",\"width\":0.5},\"locationmode\":\"ISO-3\",\"lon\":[-73.77890015,-81.3576965332],\"mode\":\"lines\",\"name\":\"GCM\",\"opacity\":0.8,\"type\":\"scattergeo\"},{\"lat\":[40.63980103,-12.0219],\"line\":{\"color\":\"red\",\"width\":0.5},\"locationmode\":\"ISO-3\",\"lon\":[-73.77890015,-77.114305],\"mode\":\"lines\",\"name\":\"LIM\",\"opacity\":0.8,\"type\":\"scattergeo\"},{\"lat\":[40.63980103,-33.393001556396484],\"line\":{\"color\":\"red\",\"width\":0.5},\"locationmode\":\"ISO-3\",\"lon\":[-73.77890015,-70.78579711914062],\"mode\":\"lines\",\"name\":\"SCL\",\"opacity\":0.8,\"type\":\"scattergeo\"},{\"lat\":[40.63980103,50.9014015198],\"line\":{\"color\":\"red\",\"width\":0.5},\"locationmode\":\"ISO-3\",\"lon\":[-73.77890015,4.48443984985],\"mode\":\"lines\",\"name\":\"BRU\",\"opacity\":0.8,\"type\":\"scattergeo\"},{\"lat\":[40.63980103,50.033333],\"line\":{\"color\":\"red\",\"width\":0.5},\"locationmode\":\"ISO-3\",\"lon\":[-73.77890015,8.570556],\"mode\":\"lines\",\"name\":\"FRA\",\"opacity\":0.8,\"type\":\"scattergeo\"},{\"lat\":[40.63980103,29.99340057373047],\"line\":{\"color\":\"red\",\"width\":0.5},\"locationmode\":\"ISO-3\",\"lon\":[-73.77890015,-90.25800323486328],\"mode\":\"lines\",\"name\":\"MSY\",\"opacity\":0.8,\"type\":\"scattergeo\"},{\"lat\":[40.63980103,48.353802],\"line\":{\"color\":\"red\",\"width\":0.5},\"locationmode\":\"ISO-3\",\"lon\":[-73.77890015,11.7861],\"mode\":\"lines\",\"name\":\"MUC\",\"opacity\":0.8,\"type\":\"scattergeo\"},{\"lat\":[40.63980103,52.1656990051],\"line\":{\"color\":\"red\",\"width\":0.5},\"locationmode\":\"ISO-3\",\"lon\":[-73.77890015,20.9671001434],\"mode\":\"lines\",\"name\":\"WAW\",\"opacity\":0.8,\"type\":\"scattergeo\"},{\"lat\":[40.63980103,46.23809814453125],\"line\":{\"color\":\"red\",\"width\":0.5},\"locationmode\":\"ISO-3\",\"lon\":[-73.77890015,6.108950138092041],\"mode\":\"lines\",\"name\":\"GVA\",\"opacity\":0.8,\"type\":\"scattergeo\"},{\"lat\":[40.63980103,47.464699],\"line\":{\"color\":\"red\",\"width\":0.5},\"locationmode\":\"ISO-3\",\"lon\":[-73.77890015,8.54917],\"mode\":\"lines\",\"name\":\"ZRH\",\"opacity\":0.8,\"type\":\"scattergeo\"},{\"lat\":[40.63980103,32.011398315429695],\"line\":{\"color\":\"red\",\"width\":0.5},\"locationmode\":\"ISO-3\",\"lon\":[-73.77890015,34.88669967651367],\"mode\":\"lines\",\"name\":\"TLV\",\"opacity\":0.8,\"type\":\"scattergeo\"},{\"lat\":[40.63980103,51.4706],\"line\":{\"color\":\"red\",\"width\":0.5},\"locationmode\":\"ISO-3\",\"lon\":[-73.77890015,-0.461941],\"mode\":\"lines\",\"name\":\"LHR\",\"opacity\":0.8,\"type\":\"scattergeo\"},{\"lat\":[40.63980103,30.12190055847168],\"line\":{\"color\":\"red\",\"width\":0.5},\"locationmode\":\"ISO-3\",\"lon\":[-73.77890015,31.40559959411621],\"mode\":\"lines\",\"name\":\"CAI\",\"opacity\":0.8,\"type\":\"scattergeo\"},{\"lat\":[40.63980103,31.143400192260746],\"line\":{\"color\":\"red\",\"width\":0.5},\"locationmode\":\"ISO-3\",\"lon\":[-73.77890015,121.80500030517578],\"mode\":\"lines\",\"name\":\"PVG\",\"opacity\":0.8,\"type\":\"scattergeo\"},{\"lat\":[40.63980103,35.7647018433],\"line\":{\"color\":\"red\",\"width\":0.5},\"locationmode\":\"ISO-3\",\"lon\":[-73.77890015,140.386001587],\"mode\":\"lines\",\"name\":\"NRT\",\"opacity\":0.8,\"type\":\"scattergeo\"},{\"lat\":[40.63980103,17.935699462890625],\"line\":{\"color\":\"red\",\"width\":0.5},\"locationmode\":\"ISO-3\",\"lon\":[-73.77890015,-76.7874984741211],\"mode\":\"lines\",\"name\":\"KIN\",\"opacity\":0.8,\"type\":\"scattergeo\"},{\"lat\":[40.63980103,48.110298156738],\"line\":{\"color\":\"red\",\"width\":0.5},\"locationmode\":\"ISO-3\",\"lon\":[-73.77890015,16.569700241089002],\"mode\":\"lines\",\"name\":\"VIE\",\"opacity\":0.8,\"type\":\"scattergeo\"},{\"lat\":[40.63980103,37.46910095214844],\"line\":{\"color\":\"red\",\"width\":0.5},\"locationmode\":\"ISO-3\",\"lon\":[-73.77890015,126.45099639892578],\"mode\":\"lines\",\"name\":\"ICN\",\"opacity\":0.8,\"type\":\"scattergeo\"},{\"lat\":[40.63980103,31.5216007232666],\"line\":{\"color\":\"red\",\"width\":0.5},\"locationmode\":\"ISO-3\",\"lon\":[-73.77890015,74.40360260009766],\"mode\":\"lines\",\"name\":\"LHE\",\"opacity\":0.8,\"type\":\"scattergeo\"},{\"lat\":[40.63980103,50.34500122070313],\"line\":{\"color\":\"red\",\"width\":0.5},\"locationmode\":\"ISO-3\",\"lon\":[-73.77890015,30.89469909667969],\"mode\":\"lines\",\"name\":\"KBP\",\"opacity\":0.8,\"type\":\"scattergeo\"},{\"lat\":[40.63980103,33.94250107],\"line\":{\"color\":\"red\",\"width\":0.5},\"locationmode\":\"ISO-3\",\"lon\":[-73.77890015,-118.4079971],\"mode\":\"lines\",\"name\":\"LAX\",\"opacity\":0.8,\"type\":\"scattergeo\"},{\"lat\":[40.63980103,41.2971],\"line\":{\"color\":\"red\",\"width\":0.5},\"locationmode\":\"ISO-3\",\"lon\":[-73.77890015,2.07846],\"mode\":\"lines\",\"name\":\"BCN\",\"opacity\":0.8,\"type\":\"scattergeo\"},{\"lat\":[40.63980103,49.012798],\"line\":{\"color\":\"red\",\"width\":0.5},\"locationmode\":\"ISO-3\",\"lon\":[-73.77890015,2.55],\"mode\":\"lines\",\"name\":\"CDG\",\"opacity\":0.8,\"type\":\"scattergeo\"},{\"lat\":[40.63980103,25.273056],\"line\":{\"color\":\"red\",\"width\":0.5},\"locationmode\":\"ISO-3\",\"lon\":[-73.77890015,51.608056],\"mode\":\"lines\",\"name\":\"DOH\",\"opacity\":0.8,\"type\":\"scattergeo\"},{\"lat\":[40.63980103,36.08010101],\"line\":{\"color\":\"red\",\"width\":0.5},\"locationmode\":\"ISO-3\",\"lon\":[-73.77890015,-115.1520004],\"mode\":\"lines\",\"name\":\"LAS\",\"opacity\":0.8,\"type\":\"scattergeo\"},{\"lat\":[40.63980103,29.99340057373047],\"line\":{\"color\":\"red\",\"width\":0.5},\"locationmode\":\"ISO-3\",\"lon\":[-73.77890015,-90.25800323486328],\"mode\":\"lines\",\"name\":\"MSY\",\"opacity\":0.8,\"type\":\"scattergeo\"},{\"lat\":[40.63980103,45.6306],\"line\":{\"color\":\"red\",\"width\":0.5},\"locationmode\":\"ISO-3\",\"lon\":[-73.77890015,8.728110000000001],\"mode\":\"lines\",\"name\":\"MXP\",\"opacity\":0.8,\"type\":\"scattergeo\"},{\"lat\":[40.63980103,41.9786],\"line\":{\"color\":\"red\",\"width\":0.5},\"locationmode\":\"ISO-3\",\"lon\":[-73.77890015,-87.9048],\"mode\":\"lines\",\"name\":\"ORD\",\"opacity\":0.8,\"type\":\"scattergeo\"},{\"lat\":[40.63980103,32.7336006165],\"line\":{\"color\":\"red\",\"width\":0.5},\"locationmode\":\"ISO-3\",\"lon\":[-73.77890015,-117.190002441],\"mode\":\"lines\",\"name\":\"SAN\",\"opacity\":0.8,\"type\":\"scattergeo\"},{\"lat\":[40.63980103,31.7226009369],\"line\":{\"color\":\"red\",\"width\":0.5},\"locationmode\":\"ISO-3\",\"lon\":[-73.77890015,35.9931983948],\"mode\":\"lines\",\"name\":\"AMM\",\"opacity\":0.8,\"type\":\"scattergeo\"},{\"lat\":[40.63980103,-26.1392],\"line\":{\"color\":\"red\",\"width\":0.5},\"locationmode\":\"ISO-3\",\"lon\":[-73.77890015,28.246],\"mode\":\"lines\",\"name\":\"JNB\",\"opacity\":0.8,\"type\":\"scattergeo\"},{\"lat\":[40.63980103,49.012798],\"line\":{\"color\":\"red\",\"width\":0.5},\"locationmode\":\"ISO-3\",\"lon\":[-73.77890015,2.55],\"mode\":\"lines\",\"name\":\"CDG\",\"opacity\":0.8,\"type\":\"scattergeo\"},{\"lat\":[40.63980103,50.9014015198],\"line\":{\"color\":\"red\",\"width\":0.5},\"locationmode\":\"ISO-3\",\"lon\":[-73.77890015,4.48443984985],\"mode\":\"lines\",\"name\":\"BRU\",\"opacity\":0.8,\"type\":\"scattergeo\"},{\"lat\":[40.63980103,50.033333],\"line\":{\"color\":\"red\",\"width\":0.5},\"locationmode\":\"ISO-3\",\"lon\":[-73.77890015,8.570556],\"mode\":\"lines\",\"name\":\"FRA\",\"opacity\":0.8,\"type\":\"scattergeo\"},{\"lat\":[40.63980103,33.6367],\"line\":{\"color\":\"red\",\"width\":0.5},\"locationmode\":\"ISO-3\",\"lon\":[-73.77890015,-84.428101],\"mode\":\"lines\",\"name\":\"ATL\",\"opacity\":0.8,\"type\":\"scattergeo\"},{\"lat\":[40.63980103,55.972599],\"line\":{\"color\":\"red\",\"width\":0.5},\"locationmode\":\"ISO-3\",\"lon\":[-73.77890015,37.4146],\"mode\":\"lines\",\"name\":\"SVO\",\"opacity\":0.8,\"type\":\"scattergeo\"},{\"lat\":[40.63980103,21.6796],\"line\":{\"color\":\"red\",\"width\":0.5},\"locationmode\":\"ISO-3\",\"lon\":[-73.77890015,39.156502],\"mode\":\"lines\",\"name\":\"JED\",\"opacity\":0.8,\"type\":\"scattergeo\"},{\"lat\":[40.63980103,24.95759963989257],\"line\":{\"color\":\"red\",\"width\":0.5},\"locationmode\":\"ISO-3\",\"lon\":[-73.77890015,46.69879913330078],\"mode\":\"lines\",\"name\":\"RUH\",\"opacity\":0.8,\"type\":\"scattergeo\"},{\"lat\":[40.63980103,44.882],\"line\":{\"color\":\"red\",\"width\":0.5},\"locationmode\":\"ISO-3\",\"lon\":[-73.77890015,-93.221802],\"mode\":\"lines\",\"name\":\"MSP\",\"opacity\":0.8,\"type\":\"scattergeo\"},{\"lat\":[40.63980103,41.275278],\"line\":{\"color\":\"red\",\"width\":0.5},\"locationmode\":\"ISO-3\",\"lon\":[-73.77890015,28.751944],\"mode\":\"lines\",\"name\":\"IST\",\"opacity\":0.8,\"type\":\"scattergeo\"},{\"lat\":[40.63980103,4.70159],\"line\":{\"color\":\"red\",\"width\":0.5},\"locationmode\":\"ISO-3\",\"lon\":[-73.77890015,-74.1469],\"mode\":\"lines\",\"name\":\"BOG\",\"opacity\":0.8,\"type\":\"scattergeo\"},{\"lat\":[40.63980103,50.9014015198],\"line\":{\"color\":\"red\",\"width\":0.5},\"locationmode\":\"ISO-3\",\"lon\":[-73.77890015,4.48443984985],\"mode\":\"lines\",\"name\":\"BRU\",\"opacity\":0.8,\"type\":\"scattergeo\"},{\"lat\":[40.63980103,30.12190055847168],\"line\":{\"color\":\"red\",\"width\":0.5},\"locationmode\":\"ISO-3\",\"lon\":[-73.77890015,31.40559959411621],\"mode\":\"lines\",\"name\":\"CAI\",\"opacity\":0.8,\"type\":\"scattergeo\"},{\"lat\":[40.63980103,53.421299],\"line\":{\"color\":\"red\",\"width\":0.5},\"locationmode\":\"ISO-3\",\"lon\":[-73.77890015,-6.27007],\"mode\":\"lines\",\"name\":\"DUB\",\"opacity\":0.8,\"type\":\"scattergeo\"},{\"lat\":[40.63980103,50.033333],\"line\":{\"color\":\"red\",\"width\":0.5},\"locationmode\":\"ISO-3\",\"lon\":[-73.77890015,8.570556],\"mode\":\"lines\",\"name\":\"FRA\",\"opacity\":0.8,\"type\":\"scattergeo\"},{\"lat\":[40.63980103,46.23809814453125],\"line\":{\"color\":\"red\",\"width\":0.5},\"locationmode\":\"ISO-3\",\"lon\":[-73.77890015,6.108950138092041],\"mode\":\"lines\",\"name\":\"GVA\",\"opacity\":0.8,\"type\":\"scattergeo\"},{\"lat\":[40.63980103,38.94449997],\"line\":{\"color\":\"red\",\"width\":0.5},\"locationmode\":\"ISO-3\",\"lon\":[-73.77890015,-77.45580292],\"mode\":\"lines\",\"name\":\"IAD\",\"opacity\":0.8,\"type\":\"scattergeo\"},{\"lat\":[40.63980103,37.46910095214844],\"line\":{\"color\":\"red\",\"width\":0.5},\"locationmode\":\"ISO-3\",\"lon\":[-73.77890015,126.45099639892578],\"mode\":\"lines\",\"name\":\"ICN\",\"opacity\":0.8,\"type\":\"scattergeo\"},{\"lat\":[40.63980103,-26.1392],\"line\":{\"color\":\"red\",\"width\":0.5},\"locationmode\":\"ISO-3\",\"lon\":[-73.77890015,28.246],\"mode\":\"lines\",\"name\":\"JNB\",\"opacity\":0.8,\"type\":\"scattergeo\"},{\"lat\":[40.63980103,33.94250107],\"line\":{\"color\":\"red\",\"width\":0.5},\"locationmode\":\"ISO-3\",\"lon\":[-73.77890015,-118.4079971],\"mode\":\"lines\",\"name\":\"LAX\",\"opacity\":0.8,\"type\":\"scattergeo\"},{\"lat\":[40.63980103,48.353802],\"line\":{\"color\":\"red\",\"width\":0.5},\"locationmode\":\"ISO-3\",\"lon\":[-73.77890015,11.7861],\"mode\":\"lines\",\"name\":\"MUC\",\"opacity\":0.8,\"type\":\"scattergeo\"},{\"lat\":[40.63980103,35.7647018433],\"line\":{\"color\":\"red\",\"width\":0.5},\"locationmode\":\"ISO-3\",\"lon\":[-73.77890015,140.386001587],\"mode\":\"lines\",\"name\":\"NRT\",\"opacity\":0.8,\"type\":\"scattergeo\"},{\"lat\":[40.63980103,40.0801010131836],\"line\":{\"color\":\"red\",\"width\":0.5},\"locationmode\":\"ISO-3\",\"lon\":[-73.77890015,116.58499908447266],\"mode\":\"lines\",\"name\":\"PEK\",\"opacity\":0.8,\"type\":\"scattergeo\"},{\"lat\":[40.63980103,9.0713596344],\"line\":{\"color\":\"red\",\"width\":0.5},\"locationmode\":\"ISO-3\",\"lon\":[-73.77890015,-79.3834991455],\"mode\":\"lines\",\"name\":\"PTY\",\"opacity\":0.8,\"type\":\"scattergeo\"},{\"lat\":[40.63980103,13.4409],\"line\":{\"color\":\"red\",\"width\":0.5},\"locationmode\":\"ISO-3\",\"lon\":[-73.77890015,-89.055702],\"mode\":\"lines\",\"name\":\"SAL\",\"opacity\":0.8,\"type\":\"scattergeo\"},{\"lat\":[40.63980103,37.61899948120117],\"line\":{\"color\":\"red\",\"width\":0.5},\"locationmode\":\"ISO-3\",\"lon\":[-73.77890015,-122.375],\"mode\":\"lines\",\"name\":\"SFO\",\"opacity\":0.8,\"type\":\"scattergeo\"},{\"lat\":[40.63980103,48.110298156738],\"line\":{\"color\":\"red\",\"width\":0.5},\"locationmode\":\"ISO-3\",\"lon\":[-73.77890015,16.569700241089002],\"mode\":\"lines\",\"name\":\"VIE\",\"opacity\":0.8,\"type\":\"scattergeo\"},{\"lat\":[40.63980103,47.464699],\"line\":{\"color\":\"red\",\"width\":0.5},\"locationmode\":\"ISO-3\",\"lon\":[-73.77890015,8.54917],\"mode\":\"lines\",\"name\":\"ZRH\",\"opacity\":0.8,\"type\":\"scattergeo\"},{\"lat\":[40.63980103,55.5914993286],\"line\":{\"color\":\"red\",\"width\":0.5},\"locationmode\":\"ISO-3\",\"lon\":[-73.77890015,37.2615013123],\"mode\":\"lines\",\"name\":\"VKO\",\"opacity\":0.8,\"type\":\"scattergeo\"},{\"lat\":[40.63980103,31.7226009369],\"line\":{\"color\":\"red\",\"width\":0.5},\"locationmode\":\"ISO-3\",\"lon\":[-73.77890015,35.9931983948],\"mode\":\"lines\",\"name\":\"AMM\",\"opacity\":0.8,\"type\":\"scattergeo\"},{\"lat\":[40.63980103,17.1367],\"line\":{\"color\":\"red\",\"width\":0.5},\"locationmode\":\"ISO-3\",\"lon\":[-73.77890015,-61.792702],\"mode\":\"lines\",\"name\":\"ANU\",\"opacity\":0.8,\"type\":\"scattergeo\"},{\"lat\":[40.63980103,30.194499969482425],\"line\":{\"color\":\"red\",\"width\":0.5},\"locationmode\":\"ISO-3\",\"lon\":[-73.77890015,-97.6698989868164],\"mode\":\"lines\",\"name\":\"AUS\",\"opacity\":0.8,\"type\":\"scattergeo\"},{\"lat\":[40.63980103,41.2971],\"line\":{\"color\":\"red\",\"width\":0.5},\"locationmode\":\"ISO-3\",\"lon\":[-73.77890015,2.07846],\"mode\":\"lines\",\"name\":\"BCN\",\"opacity\":0.8,\"type\":\"scattergeo\"},{\"lat\":[40.63980103,32.363998413085945],\"line\":{\"color\":\"red\",\"width\":0.5},\"locationmode\":\"ISO-3\",\"lon\":[-73.77890015,-64.67870330810547],\"mode\":\"lines\",\"name\":\"BDA\",\"opacity\":0.8,\"type\":\"scattergeo\"},{\"lat\":[40.63980103,36.1245002746582],\"line\":{\"color\":\"red\",\"width\":0.5},\"locationmode\":\"ISO-3\",\"lon\":[-73.77890015,-86.6781997680664],\"mode\":\"lines\",\"name\":\"BNA\",\"opacity\":0.8,\"type\":\"scattergeo\"},{\"lat\":[40.63980103,4.70159],\"line\":{\"color\":\"red\",\"width\":0.5},\"locationmode\":\"ISO-3\",\"lon\":[-73.77890015,-74.1469],\"mode\":\"lines\",\"name\":\"BOG\",\"opacity\":0.8,\"type\":\"scattergeo\"},{\"lat\":[40.63980103,42.36429977],\"line\":{\"color\":\"red\",\"width\":0.5},\"locationmode\":\"ISO-3\",\"lon\":[-73.77890015,-71.00520325],\"mode\":\"lines\",\"name\":\"BOS\",\"opacity\":0.8,\"type\":\"scattergeo\"},{\"lat\":[40.63980103,39.1754],\"line\":{\"color\":\"red\",\"width\":0.5},\"locationmode\":\"ISO-3\",\"lon\":[-73.77890015,-76.668297],\"mode\":\"lines\",\"name\":\"BWI\",\"opacity\":0.8,\"type\":\"scattergeo\"},{\"lat\":[40.63980103,49.012798],\"line\":{\"color\":\"red\",\"width\":0.5},\"locationmode\":\"ISO-3\",\"lon\":[-73.77890015,2.55],\"mode\":\"lines\",\"name\":\"CDG\",\"opacity\":0.8,\"type\":\"scattergeo\"},{\"lat\":[40.63980103,41.4117012024],\"line\":{\"color\":\"red\",\"width\":0.5},\"locationmode\":\"ISO-3\",\"lon\":[-73.77890015,-81.8498001099],\"mode\":\"lines\",\"name\":\"CLE\",\"opacity\":0.8,\"type\":\"scattergeo\"},{\"lat\":[40.63980103,35.2140007019043],\"line\":{\"color\":\"red\",\"width\":0.5},\"locationmode\":\"ISO-3\",\"lon\":[-73.77890015,-80.94309997558594],\"mode\":\"lines\",\"name\":\"CLT\",\"opacity\":0.8,\"type\":\"scattergeo\"},{\"lat\":[40.63980103,39.998001],\"line\":{\"color\":\"red\",\"width\":0.5},\"locationmode\":\"ISO-3\",\"lon\":[-73.77890015,-82.891899],\"mode\":\"lines\",\"name\":\"CMH\",\"opacity\":0.8,\"type\":\"scattergeo\"},{\"lat\":[40.63980103,21.036500930800003],\"line\":{\"color\":\"red\",\"width\":0.5},\"locationmode\":\"ISO-3\",\"lon\":[-73.77890015,-86.8770980835],\"mode\":\"lines\",\"name\":\"CUN\",\"opacity\":0.8,\"type\":\"scattergeo\"},{\"lat\":[40.63980103,39.0488014221],\"line\":{\"color\":\"red\",\"width\":0.5},\"locationmode\":\"ISO-3\",\"lon\":[-73.77890015,-84.6678009033],\"mode\":\"lines\",\"name\":\"CVG\",\"opacity\":0.8,\"type\":\"scattergeo\"},{\"lat\":[40.63980103,38.8521],\"line\":{\"color\":\"red\",\"width\":0.5},\"locationmode\":\"ISO-3\",\"lon\":[-73.77890015,-77.037697],\"mode\":\"lines\",\"name\":\"DCA\",\"opacity\":0.8,\"type\":\"scattergeo\"},{\"lat\":[40.63980103,32.896801],\"line\":{\"color\":\"red\",\"width\":0.5},\"locationmode\":\"ISO-3\",\"lon\":[-73.77890015,-97.038002],\"mode\":\"lines\",\"name\":\"DFW\",\"opacity\":0.8,\"type\":\"scattergeo\"},{\"lat\":[40.63980103,53.421299],\"line\":{\"color\":\"red\",\"width\":0.5},\"locationmode\":\"ISO-3\",\"lon\":[-73.77890015,-6.27007],\"mode\":\"lines\",\"name\":\"DUB\",\"opacity\":0.8,\"type\":\"scattergeo\"},{\"lat\":[40.63980103,41.8002778],\"line\":{\"color\":\"red\",\"width\":0.5},\"locationmode\":\"ISO-3\",\"lon\":[-73.77890015,12.2388889],\"mode\":\"lines\",\"name\":\"FCO\",\"opacity\":0.8,\"type\":\"scattergeo\"},{\"lat\":[40.63980103,50.033333],\"line\":{\"color\":\"red\",\"width\":0.5},\"locationmode\":\"ISO-3\",\"lon\":[-73.77890015,8.570556],\"mode\":\"lines\",\"name\":\"FRA\",\"opacity\":0.8,\"type\":\"scattergeo\"},{\"lat\":[40.63980103,-22.8099994659],\"line\":{\"color\":\"red\",\"width\":0.5},\"locationmode\":\"ISO-3\",\"lon\":[-73.77890015,-43.2505569458],\"mode\":\"lines\",\"name\":\"GIG\",\"opacity\":0.8,\"type\":\"scattergeo\"},{\"lat\":[40.63980103,-23.435556411743164],\"line\":{\"color\":\"red\",\"width\":0.5},\"locationmode\":\"ISO-3\",\"lon\":[-73.77890015,-46.47305679321289],\"mode\":\"lines\",\"name\":\"GRU\",\"opacity\":0.8,\"type\":\"scattergeo\"},{\"lat\":[40.63980103,39.7173],\"line\":{\"color\":\"red\",\"width\":0.5},\"locationmode\":\"ISO-3\",\"lon\":[-73.77890015,-86.294403],\"mode\":\"lines\",\"name\":\"IND\",\"opacity\":0.8,\"type\":\"scattergeo\"},{\"lat\":[40.63980103,41.275278],\"line\":{\"color\":\"red\",\"width\":0.5},\"locationmode\":\"ISO-3\",\"lon\":[-73.77890015,28.751944],\"mode\":\"lines\",\"name\":\"IST\",\"opacity\":0.8,\"type\":\"scattergeo\"},{\"lat\":[40.63980103,-26.1392],\"line\":{\"color\":\"red\",\"width\":0.5},\"locationmode\":\"ISO-3\",\"lon\":[-73.77890015,28.246],\"mode\":\"lines\",\"name\":\"JNB\",\"opacity\":0.8,\"type\":\"scattergeo\"},{\"lat\":[40.63980103,36.08010101],\"line\":{\"color\":\"red\",\"width\":0.5},\"locationmode\":\"ISO-3\",\"lon\":[-73.77890015,-115.1520004],\"mode\":\"lines\",\"name\":\"LAS\",\"opacity\":0.8,\"type\":\"scattergeo\"},{\"lat\":[40.63980103,33.94250107],\"line\":{\"color\":\"red\",\"width\":0.5},\"locationmode\":\"ISO-3\",\"lon\":[-73.77890015,-118.4079971],\"mode\":\"lines\",\"name\":\"LAX\",\"opacity\":0.8,\"type\":\"scattergeo\"},{\"lat\":[40.63980103,51.4706],\"line\":{\"color\":\"red\",\"width\":0.5},\"locationmode\":\"ISO-3\",\"lon\":[-73.77890015,-0.461941],\"mode\":\"lines\",\"name\":\"LHR\",\"opacity\":0.8,\"type\":\"scattergeo\"},{\"lat\":[40.63980103,40.471926],\"line\":{\"color\":\"red\",\"width\":0.5},\"locationmode\":\"ISO-3\",\"lon\":[-73.77890015,-3.56264],\"mode\":\"lines\",\"name\":\"MAD\",\"opacity\":0.8,\"type\":\"scattergeo\"},{\"lat\":[40.63980103,53.35369873046875],\"line\":{\"color\":\"red\",\"width\":0.5},\"locationmode\":\"ISO-3\",\"lon\":[-73.77890015,-2.2749500274658203],\"mode\":\"lines\",\"name\":\"MAN\",\"opacity\":0.8,\"type\":\"scattergeo\"},{\"lat\":[40.63980103,28.429399490356445],\"line\":{\"color\":\"red\",\"width\":0.5},\"locationmode\":\"ISO-3\",\"lon\":[-73.77890015,-81.30899810791016],\"mode\":\"lines\",\"name\":\"MCO\",\"opacity\":0.8,\"type\":\"scattergeo\"},{\"lat\":[40.63980103,6.164540000000001],\"line\":{\"color\":\"red\",\"width\":0.5},\"locationmode\":\"ISO-3\",\"lon\":[-73.77890015,-75.4231],\"mode\":\"lines\",\"name\":\"MDE\",\"opacity\":0.8,\"type\":\"scattergeo\"},{\"lat\":[40.63980103,25.79319953918457],\"line\":{\"color\":\"red\",\"width\":0.5},\"locationmode\":\"ISO-3\",\"lon\":[-73.77890015,-80.29060363769531],\"mode\":\"lines\",\"name\":\"MIA\",\"opacity\":0.8,\"type\":\"scattergeo\"},{\"lat\":[40.63980103,45.6306],\"line\":{\"color\":\"red\",\"width\":0.5},\"locationmode\":\"ISO-3\",\"lon\":[-73.77890015,8.728110000000001],\"mode\":\"lines\",\"name\":\"MXP\",\"opacity\":0.8,\"type\":\"scattergeo\"},{\"lat\":[40.63980103,41.9786],\"line\":{\"color\":\"red\",\"width\":0.5},\"locationmode\":\"ISO-3\",\"lon\":[-73.77890015,-87.9048],\"mode\":\"lines\",\"name\":\"ORD\",\"opacity\":0.8,\"type\":\"scattergeo\"},{\"lat\":[40.63980103,36.89459991455078],\"line\":{\"color\":\"red\",\"width\":0.5},\"locationmode\":\"ISO-3\",\"lon\":[-73.77890015,-76.20120239257812],\"mode\":\"lines\",\"name\":\"ORF\",\"opacity\":0.8,\"type\":\"scattergeo\"},{\"lat\":[40.63980103,40.0801010131836],\"line\":{\"color\":\"red\",\"width\":0.5},\"locationmode\":\"ISO-3\",\"lon\":[-73.77890015,116.58499908447266],\"mode\":\"lines\",\"name\":\"PEK\",\"opacity\":0.8,\"type\":\"scattergeo\"},{\"lat\":[40.63980103,33.43429946899414],\"line\":{\"color\":\"red\",\"width\":0.5},\"locationmode\":\"ISO-3\",\"lon\":[-73.77890015,-112.01200103759766],\"mode\":\"lines\",\"name\":\"PHX\",\"opacity\":0.8,\"type\":\"scattergeo\"},{\"lat\":[40.63980103,40.49150085],\"line\":{\"color\":\"red\",\"width\":0.5},\"locationmode\":\"ISO-3\",\"lon\":[-73.77890015,-80.23290253],\"mode\":\"lines\",\"name\":\"PIT\",\"opacity\":0.8,\"type\":\"scattergeo\"},{\"lat\":[40.63980103,35.87760162353516],\"line\":{\"color\":\"red\",\"width\":0.5},\"locationmode\":\"ISO-3\",\"lon\":[-73.77890015,-78.7874984741211],\"mode\":\"lines\",\"name\":\"RDU\",\"opacity\":0.8,\"type\":\"scattergeo\"},{\"lat\":[40.63980103,13.4409],\"line\":{\"color\":\"red\",\"width\":0.5},\"locationmode\":\"ISO-3\",\"lon\":[-73.77890015,-89.055702],\"mode\":\"lines\",\"name\":\"SAL\",\"opacity\":0.8,\"type\":\"scattergeo\"},{\"lat\":[40.63980103,32.7336006165],\"line\":{\"color\":\"red\",\"width\":0.5},\"locationmode\":\"ISO-3\",\"lon\":[-73.77890015,-117.190002441],\"mode\":\"lines\",\"name\":\"SAN\",\"opacity\":0.8,\"type\":\"scattergeo\"},{\"lat\":[40.63980103,47.449001],\"line\":{\"color\":\"red\",\"width\":0.5},\"locationmode\":\"ISO-3\",\"lon\":[-73.77890015,-122.308998],\"mode\":\"lines\",\"name\":\"SEA\",\"opacity\":0.8,\"type\":\"scattergeo\"},{\"lat\":[40.63980103,37.61899948120117],\"line\":{\"color\":\"red\",\"width\":0.5},\"locationmode\":\"ISO-3\",\"lon\":[-73.77890015,-122.375],\"mode\":\"lines\",\"name\":\"SFO\",\"opacity\":0.8,\"type\":\"scattergeo\"},{\"lat\":[40.63980103,9.993860244750977],\"line\":{\"color\":\"red\",\"width\":0.5},\"locationmode\":\"ISO-3\",\"lon\":[-73.77890015,-84.20880126953125],\"mode\":\"lines\",\"name\":\"SJO\",\"opacity\":0.8,\"type\":\"scattergeo\"},{\"lat\":[40.63980103,18.4393997192],\"line\":{\"color\":\"red\",\"width\":0.5},\"locationmode\":\"ISO-3\",\"lon\":[-73.77890015,-66.0018005371],\"mode\":\"lines\",\"name\":\"SJU\",\"opacity\":0.8,\"type\":\"scattergeo\"},{\"lat\":[40.63980103,18.337299346923828],\"line\":{\"color\":\"red\",\"width\":0.5},\"locationmode\":\"ISO-3\",\"lon\":[-73.77890015,-64.97339630126953],\"mode\":\"lines\",\"name\":\"STT\",\"opacity\":0.8,\"type\":\"scattergeo\"},{\"lat\":[40.63980103,18.0410003662],\"line\":{\"color\":\"red\",\"width\":0.5},\"locationmode\":\"ISO-3\",\"lon\":[-73.77890015,-63.1088981628],\"mode\":\"lines\",\"name\":\"SXM\",\"opacity\":0.8,\"type\":\"scattergeo\"},{\"lat\":[40.63980103,27.975500106811523],\"line\":{\"color\":\"red\",\"width\":0.5},\"locationmode\":\"ISO-3\",\"lon\":[-73.77890015,-82.533203125],\"mode\":\"lines\",\"name\":\"TPA\",\"opacity\":0.8,\"type\":\"scattergeo\"},{\"lat\":[40.63980103,45.4706001282],\"line\":{\"color\":\"red\",\"width\":0.5},\"locationmode\":\"ISO-3\",\"lon\":[-73.77890015,-73.7407989502],\"mode\":\"lines\",\"name\":\"YUL\",\"opacity\":0.8,\"type\":\"scattergeo\"},{\"lat\":[40.63980103,43.6772003174],\"line\":{\"color\":\"red\",\"width\":0.5},\"locationmode\":\"ISO-3\",\"lon\":[-73.77890015,-79.63059997559999],\"mode\":\"lines\",\"name\":\"YYZ\",\"opacity\":0.8,\"type\":\"scattergeo\"},{\"lat\":[40.63980103,47.464699],\"line\":{\"color\":\"red\",\"width\":0.5},\"locationmode\":\"ISO-3\",\"lon\":[-73.77890015,8.54917],\"mode\":\"lines\",\"name\":\"ZRH\",\"opacity\":0.8,\"type\":\"scattergeo\"},{\"lat\":[40.63980103,40.471926],\"line\":{\"color\":\"red\",\"width\":0.5},\"locationmode\":\"ISO-3\",\"lon\":[-73.77890015,-3.56264],\"mode\":\"lines\",\"name\":\"MAD\",\"opacity\":0.8,\"type\":\"scattergeo\"},{\"lat\":[40.63980103,33.6367],\"line\":{\"color\":\"red\",\"width\":0.5},\"locationmode\":\"ISO-3\",\"lon\":[-73.77890015,-84.428101],\"mode\":\"lines\",\"name\":\"ATL\",\"opacity\":0.8,\"type\":\"scattergeo\"},{\"lat\":[40.63980103,51.4706],\"line\":{\"color\":\"red\",\"width\":0.5},\"locationmode\":\"ISO-3\",\"lon\":[-73.77890015,-0.461941],\"mode\":\"lines\",\"name\":\"LHR\",\"opacity\":0.8,\"type\":\"scattergeo\"},{\"lat\":[40.63980103,29.99340057373047],\"line\":{\"color\":\"red\",\"width\":0.5},\"locationmode\":\"ISO-3\",\"lon\":[-73.77890015,-90.25800323486328],\"mode\":\"lines\",\"name\":\"MSY\",\"opacity\":0.8,\"type\":\"scattergeo\"},{\"lat\":[40.63980103,36.08010101],\"line\":{\"color\":\"red\",\"width\":0.5},\"locationmode\":\"ISO-3\",\"lon\":[-73.77890015,-115.1520004],\"mode\":\"lines\",\"name\":\"LAS\",\"opacity\":0.8,\"type\":\"scattergeo\"},{\"lat\":[40.63980103,33.94250107],\"line\":{\"color\":\"red\",\"width\":0.5},\"locationmode\":\"ISO-3\",\"lon\":[-73.77890015,-118.4079971],\"mode\":\"lines\",\"name\":\"LAX\",\"opacity\":0.8,\"type\":\"scattergeo\"},{\"lat\":[40.63980103,37.61899948120117],\"line\":{\"color\":\"red\",\"width\":0.5},\"locationmode\":\"ISO-3\",\"lon\":[-73.77890015,-122.375],\"mode\":\"lines\",\"name\":\"SFO\",\"opacity\":0.8,\"type\":\"scattergeo\"},{\"lat\":[40.63980103,6.5773701667785645],\"line\":{\"color\":\"red\",\"width\":0.5},\"locationmode\":\"ISO-3\",\"lon\":[-73.77890015,3.321160078048706],\"mode\":\"lines\",\"name\":\"LOS\",\"opacity\":0.8,\"type\":\"scattergeo\"},{\"lat\":[40.63980103,45.4706001282],\"line\":{\"color\":\"red\",\"width\":0.5},\"locationmode\":\"ISO-3\",\"lon\":[-73.77890015,-73.7407989502],\"mode\":\"lines\",\"name\":\"YUL\",\"opacity\":0.8,\"type\":\"scattergeo\"},{\"lat\":[40.63980103,51.113899231000005],\"line\":{\"color\":\"red\",\"width\":0.5},\"locationmode\":\"ISO-3\",\"lon\":[-73.77890015,-114.019996643],\"mode\":\"lines\",\"name\":\"YYC\",\"opacity\":0.8,\"type\":\"scattergeo\"},{\"lat\":[40.63980103,43.6772003174],\"line\":{\"color\":\"red\",\"width\":0.5},\"locationmode\":\"ISO-3\",\"lon\":[-73.77890015,-79.63059997559999],\"mode\":\"lines\",\"name\":\"YYZ\",\"opacity\":0.8,\"type\":\"scattergeo\"},{\"lat\":[40.63980103,-2.15741991997],\"line\":{\"color\":\"red\",\"width\":0.5},\"locationmode\":\"ISO-3\",\"lon\":[-73.77890015,-79.88359832760001],\"mode\":\"lines\",\"name\":\"GYE\",\"opacity\":0.8,\"type\":\"scattergeo\"},{\"lat\":[40.63980103],\"locationmode\":\"ISO-3\",\"lon\":[-73.77890015],\"marker\":{\"color\":\"blue\",\"size\":10},\"mode\":\"markers\",\"name\":\"JFK Airport\",\"text\":\"JFK Airport\",\"type\":\"scattergeo\"}],                        {\"geo\":{\"coastlinecolor\":\"rgb(255, 255, 255)\",\"countrycolor\":\"rgb(255, 255, 255)\",\"landcolor\":\"rgb(229, 229, 229)\",\"projection\":{\"type\":\"natural earth\"},\"scope\":\"world\",\"showland\":true},\"showlegend\":true,\"template\":{\"data\":{\"barpolar\":[{\"marker\":{\"line\":{\"color\":\"#E5ECF6\",\"width\":0.5},\"pattern\":{\"fillmode\":\"overlay\",\"size\":10,\"solidity\":0.2}},\"type\":\"barpolar\"}],\"bar\":[{\"error_x\":{\"color\":\"#2a3f5f\"},\"error_y\":{\"color\":\"#2a3f5f\"},\"marker\":{\"line\":{\"color\":\"#E5ECF6\",\"width\":0.5},\"pattern\":{\"fillmode\":\"overlay\",\"size\":10,\"solidity\":0.2}},\"type\":\"bar\"}],\"carpet\":[{\"aaxis\":{\"endlinecolor\":\"#2a3f5f\",\"gridcolor\":\"white\",\"linecolor\":\"white\",\"minorgridcolor\":\"white\",\"startlinecolor\":\"#2a3f5f\"},\"baxis\":{\"endlinecolor\":\"#2a3f5f\",\"gridcolor\":\"white\",\"linecolor\":\"white\",\"minorgridcolor\":\"white\",\"startlinecolor\":\"#2a3f5f\"},\"type\":\"carpet\"}],\"choropleth\":[{\"colorbar\":{\"outlinewidth\":0,\"ticks\":\"\"},\"type\":\"choropleth\"}],\"contourcarpet\":[{\"colorbar\":{\"outlinewidth\":0,\"ticks\":\"\"},\"type\":\"contourcarpet\"}],\"contour\":[{\"colorbar\":{\"outlinewidth\":0,\"ticks\":\"\"},\"colorscale\":[[0.0,\"#0d0887\"],[0.1111111111111111,\"#46039f\"],[0.2222222222222222,\"#7201a8\"],[0.3333333333333333,\"#9c179e\"],[0.4444444444444444,\"#bd3786\"],[0.5555555555555556,\"#d8576b\"],[0.6666666666666666,\"#ed7953\"],[0.7777777777777778,\"#fb9f3a\"],[0.8888888888888888,\"#fdca26\"],[1.0,\"#f0f921\"]],\"type\":\"contour\"}],\"heatmapgl\":[{\"colorbar\":{\"outlinewidth\":0,\"ticks\":\"\"},\"colorscale\":[[0.0,\"#0d0887\"],[0.1111111111111111,\"#46039f\"],[0.2222222222222222,\"#7201a8\"],[0.3333333333333333,\"#9c179e\"],[0.4444444444444444,\"#bd3786\"],[0.5555555555555556,\"#d8576b\"],[0.6666666666666666,\"#ed7953\"],[0.7777777777777778,\"#fb9f3a\"],[0.8888888888888888,\"#fdca26\"],[1.0,\"#f0f921\"]],\"type\":\"heatmapgl\"}],\"heatmap\":[{\"colorbar\":{\"outlinewidth\":0,\"ticks\":\"\"},\"colorscale\":[[0.0,\"#0d0887\"],[0.1111111111111111,\"#46039f\"],[0.2222222222222222,\"#7201a8\"],[0.3333333333333333,\"#9c179e\"],[0.4444444444444444,\"#bd3786\"],[0.5555555555555556,\"#d8576b\"],[0.6666666666666666,\"#ed7953\"],[0.7777777777777778,\"#fb9f3a\"],[0.8888888888888888,\"#fdca26\"],[1.0,\"#f0f921\"]],\"type\":\"heatmap\"}],\"histogram2dcontour\":[{\"colorbar\":{\"outlinewidth\":0,\"ticks\":\"\"},\"colorscale\":[[0.0,\"#0d0887\"],[0.1111111111111111,\"#46039f\"],[0.2222222222222222,\"#7201a8\"],[0.3333333333333333,\"#9c179e\"],[0.4444444444444444,\"#bd3786\"],[0.5555555555555556,\"#d8576b\"],[0.6666666666666666,\"#ed7953\"],[0.7777777777777778,\"#fb9f3a\"],[0.8888888888888888,\"#fdca26\"],[1.0,\"#f0f921\"]],\"type\":\"histogram2dcontour\"}],\"histogram2d\":[{\"colorbar\":{\"outlinewidth\":0,\"ticks\":\"\"},\"colorscale\":[[0.0,\"#0d0887\"],[0.1111111111111111,\"#46039f\"],[0.2222222222222222,\"#7201a8\"],[0.3333333333333333,\"#9c179e\"],[0.4444444444444444,\"#bd3786\"],[0.5555555555555556,\"#d8576b\"],[0.6666666666666666,\"#ed7953\"],[0.7777777777777778,\"#fb9f3a\"],[0.8888888888888888,\"#fdca26\"],[1.0,\"#f0f921\"]],\"type\":\"histogram2d\"}],\"histogram\":[{\"marker\":{\"pattern\":{\"fillmode\":\"overlay\",\"size\":10,\"solidity\":0.2}},\"type\":\"histogram\"}],\"mesh3d\":[{\"colorbar\":{\"outlinewidth\":0,\"ticks\":\"\"},\"type\":\"mesh3d\"}],\"parcoords\":[{\"line\":{\"colorbar\":{\"outlinewidth\":0,\"ticks\":\"\"}},\"type\":\"parcoords\"}],\"pie\":[{\"automargin\":true,\"type\":\"pie\"}],\"scatter3d\":[{\"line\":{\"colorbar\":{\"outlinewidth\":0,\"ticks\":\"\"}},\"marker\":{\"colorbar\":{\"outlinewidth\":0,\"ticks\":\"\"}},\"type\":\"scatter3d\"}],\"scattercarpet\":[{\"marker\":{\"colorbar\":{\"outlinewidth\":0,\"ticks\":\"\"}},\"type\":\"scattercarpet\"}],\"scattergeo\":[{\"marker\":{\"colorbar\":{\"outlinewidth\":0,\"ticks\":\"\"}},\"type\":\"scattergeo\"}],\"scattergl\":[{\"marker\":{\"colorbar\":{\"outlinewidth\":0,\"ticks\":\"\"}},\"type\":\"scattergl\"}],\"scattermapbox\":[{\"marker\":{\"colorbar\":{\"outlinewidth\":0,\"ticks\":\"\"}},\"type\":\"scattermapbox\"}],\"scatterpolargl\":[{\"marker\":{\"colorbar\":{\"outlinewidth\":0,\"ticks\":\"\"}},\"type\":\"scatterpolargl\"}],\"scatterpolar\":[{\"marker\":{\"colorbar\":{\"outlinewidth\":0,\"ticks\":\"\"}},\"type\":\"scatterpolar\"}],\"scatter\":[{\"fillpattern\":{\"fillmode\":\"overlay\",\"size\":10,\"solidity\":0.2},\"type\":\"scatter\"}],\"scatterternary\":[{\"marker\":{\"colorbar\":{\"outlinewidth\":0,\"ticks\":\"\"}},\"type\":\"scatterternary\"}],\"surface\":[{\"colorbar\":{\"outlinewidth\":0,\"ticks\":\"\"},\"colorscale\":[[0.0,\"#0d0887\"],[0.1111111111111111,\"#46039f\"],[0.2222222222222222,\"#7201a8\"],[0.3333333333333333,\"#9c179e\"],[0.4444444444444444,\"#bd3786\"],[0.5555555555555556,\"#d8576b\"],[0.6666666666666666,\"#ed7953\"],[0.7777777777777778,\"#fb9f3a\"],[0.8888888888888888,\"#fdca26\"],[1.0,\"#f0f921\"]],\"type\":\"surface\"}],\"table\":[{\"cells\":{\"fill\":{\"color\":\"#EBF0F8\"},\"line\":{\"color\":\"white\"}},\"header\":{\"fill\":{\"color\":\"#C8D4E3\"},\"line\":{\"color\":\"white\"}},\"type\":\"table\"}]},\"layout\":{\"annotationdefaults\":{\"arrowcolor\":\"#2a3f5f\",\"arrowhead\":0,\"arrowwidth\":1},\"autotypenumbers\":\"strict\",\"coloraxis\":{\"colorbar\":{\"outlinewidth\":0,\"ticks\":\"\"}},\"colorscale\":{\"diverging\":[[0,\"#8e0152\"],[0.1,\"#c51b7d\"],[0.2,\"#de77ae\"],[0.3,\"#f1b6da\"],[0.4,\"#fde0ef\"],[0.5,\"#f7f7f7\"],[0.6,\"#e6f5d0\"],[0.7,\"#b8e186\"],[0.8,\"#7fbc41\"],[0.9,\"#4d9221\"],[1,\"#276419\"]],\"sequential\":[[0.0,\"#0d0887\"],[0.1111111111111111,\"#46039f\"],[0.2222222222222222,\"#7201a8\"],[0.3333333333333333,\"#9c179e\"],[0.4444444444444444,\"#bd3786\"],[0.5555555555555556,\"#d8576b\"],[0.6666666666666666,\"#ed7953\"],[0.7777777777777778,\"#fb9f3a\"],[0.8888888888888888,\"#fdca26\"],[1.0,\"#f0f921\"]],\"sequentialminus\":[[0.0,\"#0d0887\"],[0.1111111111111111,\"#46039f\"],[0.2222222222222222,\"#7201a8\"],[0.3333333333333333,\"#9c179e\"],[0.4444444444444444,\"#bd3786\"],[0.5555555555555556,\"#d8576b\"],[0.6666666666666666,\"#ed7953\"],[0.7777777777777778,\"#fb9f3a\"],[0.8888888888888888,\"#fdca26\"],[1.0,\"#f0f921\"]]},\"colorway\":[\"#636efa\",\"#EF553B\",\"#00cc96\",\"#ab63fa\",\"#FFA15A\",\"#19d3f3\",\"#FF6692\",\"#B6E880\",\"#FF97FF\",\"#FECB52\"],\"font\":{\"color\":\"#2a3f5f\"},\"geo\":{\"bgcolor\":\"white\",\"lakecolor\":\"white\",\"landcolor\":\"#E5ECF6\",\"showlakes\":true,\"showland\":true,\"subunitcolor\":\"white\"},\"hoverlabel\":{\"align\":\"left\"},\"hovermode\":\"closest\",\"mapbox\":{\"style\":\"light\"},\"paper_bgcolor\":\"white\",\"plot_bgcolor\":\"#E5ECF6\",\"polar\":{\"angularaxis\":{\"gridcolor\":\"white\",\"linecolor\":\"white\",\"ticks\":\"\"},\"bgcolor\":\"#E5ECF6\",\"radialaxis\":{\"gridcolor\":\"white\",\"linecolor\":\"white\",\"ticks\":\"\"}},\"scene\":{\"xaxis\":{\"backgroundcolor\":\"#E5ECF6\",\"gridcolor\":\"white\",\"gridwidth\":2,\"linecolor\":\"white\",\"showbackground\":true,\"ticks\":\"\",\"zerolinecolor\":\"white\"},\"yaxis\":{\"backgroundcolor\":\"#E5ECF6\",\"gridcolor\":\"white\",\"gridwidth\":2,\"linecolor\":\"white\",\"showbackground\":true,\"ticks\":\"\",\"zerolinecolor\":\"white\"},\"zaxis\":{\"backgroundcolor\":\"#E5ECF6\",\"gridcolor\":\"white\",\"gridwidth\":2,\"linecolor\":\"white\",\"showbackground\":true,\"ticks\":\"\",\"zerolinecolor\":\"white\"}},\"shapedefaults\":{\"line\":{\"color\":\"#2a3f5f\"}},\"ternary\":{\"aaxis\":{\"gridcolor\":\"white\",\"linecolor\":\"white\",\"ticks\":\"\"},\"baxis\":{\"gridcolor\":\"white\",\"linecolor\":\"white\",\"ticks\":\"\"},\"bgcolor\":\"#E5ECF6\",\"caxis\":{\"gridcolor\":\"white\",\"linecolor\":\"white\",\"ticks\":\"\"}},\"title\":{\"x\":0.05},\"xaxis\":{\"automargin\":true,\"gridcolor\":\"white\",\"linecolor\":\"white\",\"ticks\":\"\",\"title\":{\"standoff\":15},\"zerolinecolor\":\"white\",\"zerolinewidth\":2},\"yaxis\":{\"automargin\":true,\"gridcolor\":\"white\",\"linecolor\":\"white\",\"ticks\":\"\",\"title\":{\"standoff\":15},\"zerolinecolor\":\"white\",\"zerolinewidth\":2}}},\"title\":{\"text\":\"All flights from JFK Airport\"}},                        {\"responsive\": true}                    ).then(function(){\n",
       "                            \n",
       "var gd = document.getElementById('688ef368-81d3-4b2d-b5f2-3c4572a97f16');\n",
       "var x = new MutationObserver(function (mutations, observer) {{\n",
       "        var display = window.getComputedStyle(gd).display;\n",
       "        if (!display || display === 'none') {{\n",
       "            console.log([gd, 'removed!']);\n",
       "            Plotly.purge(gd);\n",
       "            observer.disconnect();\n",
       "        }}\n",
       "}});\n",
       "\n",
       "// Listen for the removal of the full notebook cells\n",
       "var notebookContainer = gd.closest('#notebook-container');\n",
       "if (notebookContainer) {{\n",
       "    x.observe(notebookContainer, {childList: true});\n",
       "}}\n",
       "\n",
       "// Listen for the clearing of the current output cell\n",
       "var outputEl = gd.closest('.output');\n",
       "if (outputEl) {{\n",
       "    x.observe(outputEl, {childList: true});\n",
       "}}\n",
       "\n",
       "                        })                };                });            </script>        </div>"
      ]
     },
     "metadata": {},
     "output_type": "display_data"
    }
   ],
   "source": [
    "def plot_flights_from_jfk(internal=False):\n",
    "\n",
    "    # Filter routes based on JFK as the source airport\n",
    "    jfk_routes = routes[routes['Source airport'] == 'JFK']\n",
    "\n",
    "    # Optionally, filter internal flights\n",
    "    if internal:\n",
    "        jfk_country = airports.loc[airports['IATA'] == 'JFK', 'Country'].iloc[0]\n",
    "        jfk_routes = jfk_routes[jfk_routes['Destination airport'].isin(\n",
    "            airports[airports['Country'] == jfk_country]['IATA']\n",
    "        )]\n",
    "\n",
    "        # Set title for internal flights\n",
    "        title = f'Internal flights from JFK Airport'\n",
    "    else:\n",
    "        # Set title for all flights\n",
    "        title = f'All flights from JFK Airport'\n",
    "\n",
    "    # Create Plotly trace for flight paths\n",
    "    flight_paths = []\n",
    "    for i, row in jfk_routes.iterrows():\n",
    "        origin = airports.loc[airports['IATA'] == row['Source airport']]\n",
    "        destination = airports.loc[airports['IATA'] == row['Destination airport']]\n",
    "\n",
    "        flight_paths.append(\n",
    "            go.Scattergeo(\n",
    "                locationmode='ISO-3',\n",
    "                lon=[float(origin['Longitude']), float(destination['Longitude'])],\n",
    "                lat=[float(origin['Latitude']), float(destination['Latitude'])],\n",
    "                mode='lines',\n",
    "                line=dict(width=0.5, color='red'),\n",
    "                opacity=0.8,\n",
    "                name=row['Destination airport']\n",
    "            )\n",
    "        )\n",
    "\n",
    "    # Create Plotly trace for JFK airport marker\n",
    "    jfk_marker = go.Scattergeo(\n",
    "        locationmode='ISO-3',\n",
    "        lon=[float(airports.loc[airports['IATA'] == 'JFK', 'Longitude'])],\n",
    "        lat=[float(airports.loc[airports['IATA'] == 'JFK', 'Latitude'])],\n",
    "        mode='markers',\n",
    "        marker=dict(size=10, color='blue'),\n",
    "        text='JFK Airport',\n",
    "        name='JFK Airport'\n",
    "    )\n",
    "\n",
    "    # Set layout\n",
    "    layout = go.Layout(\n",
    "        title=title,\n",
    "        showlegend=True,\n",
    "        geo=dict(\n",
    "            scope='world',\n",
    "            showland=True,\n",
    "            landcolor='rgb(229, 229, 229)',\n",
    "            countrycolor='rgb(255, 255, 255)',\n",
    "            coastlinecolor='rgb(255, 255, 255)',\n",
    "            projection_type='natural earth',\n",
    "        )\n",
    "    )\n",
    "\n",
    "    # Create the figure and plot\n",
    "    fig = go.Figure(data=[*flight_paths, jfk_marker], layout=layout)\n",
    "    pyo.iplot(fig, filename='flight_paths')\n",
    "\n",
    "# Example usage:\n",
    "plot_flights_from_jfk(internal=True)\n",
    "plot_flights_from_jfk(internal=False)"
   ]
  }
 ],
 "metadata": {
  "kernelspec": {
   "display_name": "adpro",
   "language": "python",
   "name": "adpro"
  },
  "language_info": {
   "codemirror_mode": {
    "name": "ipython",
    "version": 3
   },
   "file_extension": ".py",
   "mimetype": "text/x-python",
   "name": "python",
   "nbconvert_exporter": "python",
   "pygments_lexer": "ipython3",
   "version": "3.11.7"
  }
 },
 "nbformat": 4,
 "nbformat_minor": 5
}
