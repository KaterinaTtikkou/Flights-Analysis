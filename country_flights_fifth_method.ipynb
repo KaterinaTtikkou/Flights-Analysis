{
 "cells": [
  {
   "cell_type": "code",
   "execution_count": 1,
   "id": "24e316a6-68f5-4a78-9eea-d1fd12d95830",
   "metadata": {
    "tags": []
   },
   "outputs": [
    {
     "name": "stdout",
     "output_type": "stream",
     "text": [
      "Requirement already satisfied: geopandas in c:\\users\\draeger\\anaconda3\\lib\\site-packages (0.14.3)Note: you may need to restart the kernel to use updated packages.\n",
      "\n",
      "Requirement already satisfied: fiona>=1.8.21 in c:\\users\\draeger\\anaconda3\\lib\\site-packages (from geopandas) (1.9.5)\n",
      "Requirement already satisfied: packaging in c:\\users\\draeger\\anaconda3\\lib\\site-packages (from geopandas) (23.1)\n",
      "Requirement already satisfied: pandas>=1.4.0 in c:\\users\\draeger\\anaconda3\\lib\\site-packages (from geopandas) (2.1.4)\n",
      "Requirement already satisfied: pyproj>=3.3.0 in c:\\users\\draeger\\anaconda3\\lib\\site-packages (from geopandas) (3.6.1)\n",
      "Requirement already satisfied: shapely>=1.8.0 in c:\\users\\draeger\\anaconda3\\lib\\site-packages (from geopandas) (2.0.3)\n",
      "Requirement already satisfied: attrs>=19.2.0 in c:\\users\\draeger\\anaconda3\\lib\\site-packages (from fiona>=1.8.21->geopandas) (23.1.0)\n",
      "Requirement already satisfied: certifi in c:\\users\\draeger\\anaconda3\\lib\\site-packages (from fiona>=1.8.21->geopandas) (2024.2.2)\n",
      "Requirement already satisfied: click~=8.0 in c:\\users\\draeger\\anaconda3\\lib\\site-packages (from fiona>=1.8.21->geopandas) (8.1.7)\n",
      "Requirement already satisfied: click-plugins>=1.0 in c:\\users\\draeger\\anaconda3\\lib\\site-packages (from fiona>=1.8.21->geopandas) (1.1.1)\n",
      "Requirement already satisfied: cligj>=0.5 in c:\\users\\draeger\\anaconda3\\lib\\site-packages (from fiona>=1.8.21->geopandas) (0.7.2)\n",
      "Requirement already satisfied: six in c:\\users\\draeger\\anaconda3\\lib\\site-packages (from fiona>=1.8.21->geopandas) (1.16.0)\n",
      "Requirement already satisfied: setuptools in c:\\users\\draeger\\anaconda3\\lib\\site-packages (from fiona>=1.8.21->geopandas) (68.0.0)\n",
      "Requirement already satisfied: numpy<2,>=1.23.2 in c:\\users\\draeger\\anaconda3\\lib\\site-packages (from pandas>=1.4.0->geopandas) (1.24.3)\n",
      "Requirement already satisfied: python-dateutil>=2.8.2 in c:\\users\\draeger\\anaconda3\\lib\\site-packages (from pandas>=1.4.0->geopandas) (2.8.2)\n",
      "Requirement already satisfied: pytz>=2020.1 in c:\\users\\draeger\\anaconda3\\lib\\site-packages (from pandas>=1.4.0->geopandas) (2023.3.post1)\n",
      "Requirement already satisfied: tzdata>=2022.1 in c:\\users\\draeger\\anaconda3\\lib\\site-packages (from pandas>=1.4.0->geopandas) (2023.3)\n",
      "Requirement already satisfied: colorama in c:\\users\\draeger\\anaconda3\\lib\\site-packages (from click~=8.0->fiona>=1.8.21->geopandas) (0.4.6)\n"
     ]
    }
   ],
   "source": [
    "pip install geopandas"
   ]
  },
  {
   "cell_type": "code",
   "execution_count": 2,
   "id": "10ea48f1-4cdb-4551-a375-471284b21797",
   "metadata": {
    "tags": []
   },
   "outputs": [
    {
     "name": "stdout",
     "output_type": "stream",
     "text": [
      "Requirement already satisfied: plotly in c:\\users\\draeger\\anaconda3\\lib\\site-packages (5.19.0)Note: you may need to restart the kernel to use updated packages.\n",
      "\n",
      "Requirement already satisfied: tenacity>=6.2.0 in c:\\users\\draeger\\anaconda3\\lib\\site-packages (from plotly) (8.2.2)\n",
      "Requirement already satisfied: packaging in c:\\users\\draeger\\anaconda3\\lib\\site-packages (from plotly) (23.1)\n"
     ]
    }
   ],
   "source": [
    "pip install plotly"
   ]
  },
  {
   "cell_type": "code",
   "execution_count": 3,
   "id": "0fc509a4-7089-4dcb-b4ab-21197ec04db2",
   "metadata": {
    "tags": []
   },
   "outputs": [
    {
     "name": "stdout",
     "output_type": "stream",
     "text": [
      "Requirement already satisfied: scikit-learn in c:\\users\\draeger\\anaconda3\\lib\\site-packages (1.3.0)\n",
      "Requirement already satisfied: numpy>=1.17.3 in c:\\users\\draeger\\anaconda3\\lib\\site-packages (from scikit-learn) (1.24.3)\n",
      "Requirement already satisfied: scipy>=1.5.0 in c:\\users\\draeger\\anaconda3\\lib\\site-packages (from scikit-learn) (1.10.1)\n",
      "Requirement already satisfied: joblib>=1.1.1 in c:\\users\\draeger\\anaconda3\\lib\\site-packages (from scikit-learn) (1.2.0)\n",
      "Requirement already satisfied: threadpoolctl>=2.0.0 in c:\\users\\draeger\\anaconda3\\lib\\site-packages (from scikit-learn) (2.2.0)\n",
      "Note: you may need to restart the kernel to use updated packages.\n"
     ]
    }
   ],
   "source": [
    "pip install scikit-learn"
   ]
  },
  {
   "cell_type": "code",
   "execution_count": 4,
   "id": "5c6bfb2a-2c68-4f58-9893-82bdf09d33b8",
   "metadata": {
    "tags": []
   },
   "outputs": [],
   "source": [
    "import pandas as pd\n",
    "import plotly.offline as pyo\n",
    "import plotly.graph_objs as go\n",
    "from sklearn.linear_model import LinearRegression\n",
    "import matplotlib.pyplot as plt\n",
    "import geopandas as gpd\n",
    "from shapely.geometry import Point, LineString\n",
    "import warnings"
   ]
  },
  {
   "cell_type": "code",
   "execution_count": 58,
   "id": "77761f9e-f4da-47c3-927c-b38994f7b0ec",
   "metadata": {
    "tags": []
   },
   "outputs": [
    {
     "name": "stdout",
     "output_type": "stream",
     "text": [
      "      index  Airport ID                                         Name  \\\n",
      "0         0           1                               Goroka Airport   \n",
      "1         1           2                               Madang Airport   \n",
      "2         2           3                 Mount Hagen Kagamuga Airport   \n",
      "3         3           4                               Nadzab Airport   \n",
      "4         4           5  Port Moresby Jacksons International Airport   \n",
      "...     ...         ...                                          ...   \n",
      "7693   7693       14106                          Rogachyovo Air Base   \n",
      "7694   7694       14107                        Ulan-Ude East Airport   \n",
      "7695   7695       14108                         Krechevitsy Air Base   \n",
      "7696   7696       14109                  Desierto de Atacama Airport   \n",
      "7697   7697       14110                           Melitopol Air Base   \n",
      "\n",
      "              City           Country IATA  ICAO   Latitude   Longitude  \\\n",
      "0           Goroka  Papua New Guinea  GKA  AYGA  -6.081690  145.391998   \n",
      "1           Madang  Papua New Guinea  MAG  AYMD  -5.207080  145.789001   \n",
      "2      Mount Hagen  Papua New Guinea  HGU  AYMH  -5.826790  144.296005   \n",
      "3           Nadzab  Papua New Guinea  LAE  AYNZ  -6.569803  146.725977   \n",
      "4     Port Moresby  Papua New Guinea  POM  AYPY  -9.443380  147.220001   \n",
      "...            ...               ...  ...   ...        ...         ...   \n",
      "7693        Belaya            Russia   \\N  ULDA  71.616699   52.478298   \n",
      "7694      Ulan Ude            Russia   \\N  XIUW  51.849998  107.737999   \n",
      "7695      Novgorod            Russia   \\N  ULLK  58.625000   31.385000   \n",
      "7696       Copiapo             Chile  CPO  SCAT -27.261200  -70.779198   \n",
      "7697     Melitopol           Ukraine   \\N  UKDM  46.880001   35.305000   \n",
      "\n",
      "      Altitude Timezone DST Tz database time zone     Type       Source  \n",
      "0         5282       10   U  Pacific/Port_Moresby  airport  OurAirports  \n",
      "1           20       10   U  Pacific/Port_Moresby  airport  OurAirports  \n",
      "2         5388       10   U  Pacific/Port_Moresby  airport  OurAirports  \n",
      "3          239       10   U  Pacific/Port_Moresby  airport  OurAirports  \n",
      "4          146       10   U  Pacific/Port_Moresby  airport  OurAirports  \n",
      "...        ...      ...  ..                   ...      ...          ...  \n",
      "7693       272       \\N  \\N                    \\N  airport  OurAirports  \n",
      "7694      1670       \\N  \\N                    \\N  airport  OurAirports  \n",
      "7695        85       \\N  \\N                    \\N  airport  OurAirports  \n",
      "7696       670       \\N  \\N                    \\N  airport  OurAirports  \n",
      "7697         0       \\N  \\N                    \\N  airport  OurAirports  \n",
      "\n",
      "[7698 rows x 15 columns]\n",
      "       index Airline Airline ID Source airport Source airport ID  \\\n",
      "0          0      2B        410            AER              2965   \n",
      "1          1      2B        410            ASF              2966   \n",
      "2          2      2B        410            ASF              2966   \n",
      "3          3      2B        410            CEK              2968   \n",
      "4          4      2B        410            CEK              2968   \n",
      "...      ...     ...        ...            ...               ...   \n",
      "67658  67658      ZL       4178            WYA              6334   \n",
      "67659  67659      ZM      19016            DME              4029   \n",
      "67660  67660      ZM      19016            FRU              2912   \n",
      "67661  67661      ZM      19016            FRU              2912   \n",
      "67662  67662      ZM      19016            OSS              2913   \n",
      "\n",
      "      Destination airport Destination airport ID Codeshare  Stops Equipment  \n",
      "0                     KZN                   2990       NaN      0       CR2  \n",
      "1                     KZN                   2990       NaN      0       CR2  \n",
      "2                     MRV                   2962       NaN      0       CR2  \n",
      "3                     KZN                   2990       NaN      0       CR2  \n",
      "4                     OVB                   4078       NaN      0       CR2  \n",
      "...                   ...                    ...       ...    ...       ...  \n",
      "67658                 ADL                   3341       NaN      0       SF3  \n",
      "67659                 FRU                   2912       NaN      0       734  \n",
      "67660                 DME                   4029       NaN      0       734  \n",
      "67661                 OSS                   2913       NaN      0       734  \n",
      "67662                 FRU                   2912       NaN      0       734  \n",
      "\n",
      "[67663 rows x 10 columns]\n"
     ]
    }
   ],
   "source": [
    "airport = pd.read_csv('flight_data/airports.csv')\n",
    "routes = pd.read_csv('flight_data/routes.csv')\n",
    "print(airports)\n",
    "print(routes)"
   ]
  },
  {
   "cell_type": "code",
   "execution_count": 59,
   "id": "935a9be6-ab33-4fbf-92f1-39eeb88b8e74",
   "metadata": {
    "tags": []
   },
   "outputs": [
    {
     "data": {
      "text/plain": [
       "Index(['index', 'Airport ID', 'Name', 'City', 'Country', 'IATA', 'ICAO',\n",
       "       'Latitude', 'Longitude', 'Altitude', 'Timezone', 'DST',\n",
       "       'Tz database time zone', 'Type', 'Source'],\n",
       "      dtype='object')"
      ]
     },
     "execution_count": 59,
     "metadata": {},
     "output_type": "execute_result"
    }
   ],
   "source": [
    "airport.columns"
   ]
  },
  {
   "cell_type": "code",
   "execution_count": 60,
   "id": "aa6fe8bf-5cf2-4144-8a54-1ac4ebcfa03a",
   "metadata": {
    "tags": []
   },
   "outputs": [
    {
     "data": {
      "text/plain": [
       "Index(['index', 'Airline', 'Airline ID', 'Source airport', 'Source airport ID',\n",
       "       'Destination airport', 'Destination airport ID', 'Codeshare', 'Stops',\n",
       "       'Equipment'],\n",
       "      dtype='object')"
      ]
     },
     "execution_count": 60,
     "metadata": {},
     "output_type": "execute_result"
    }
   ],
   "source": [
    "routes.columns"
   ]
  },
  {
   "cell_type": "code",
   "execution_count": null,
   "id": "bb015abf",
   "metadata": {},
   "outputs": [],
   "source": [
    "def plot_flights_from_country(country, internal=False):\n",
    "    # Filter routes based on the country\n",
    "    country_routes = routes[(routes['Source airport'].isin(airports[airports['Country'] == country]['IATA']))]\n",
    "    \n",
    "    # Optionally, filter internal flights\n",
    "    if internal:\n",
    "        country_airports = airports[airports['Country'] == country]['IATA']\n",
    "        country_routes = country_routes[country_routes['Destination airport'].isin(country_airports)]\n",
    "    \n",
    "    # Create Plotly traces for flight paths\n",
    "    flight_paths = []\n",
    "    for i, row in country_routes.iterrows():\n",
    "        origin = airports.loc[airports['IATA'] == row['Source airport']].iloc[0]\n",
    "        destination = airports.loc[airports['IATA'] == row['Destination airport']].iloc[0]\n",
    "\n",
    "        flight_paths.append(\n",
    "            go.Scattergeo(\n",
    "                locationmode='ISO-3',\n",
    "                lon=[float(origin['Longitude']), float(destination['Longitude'])],\n",
    "                lat=[float(origin['Latitude']), float(destination['Latitude'])],\n",
    "                mode='lines',\n",
    "                line=dict(width=2, color='blue'),\n",
    "                opacity=0.7,\n",
    "                name=f\"{origin['IATA']} to {destination['IATA']}\"\n",
    "            )\n",
    "        )\n",
    "\n",
    "    # Set layout for the map\n",
    "    layout = go.Layout(\n",
    "        title='Internal flights' if internal else f\"All flights from {country}\",\n",
    "        showlegend=True,\n",
    "        geo=dict(\n",
    "            scope='world',\n",
    "            projection_type='natural earth',\n",
    "            showland=True,\n",
    "            landcolor='rgb(243, 243, 243)',\n",
    "            countrycolor='rgb(204, 204, 204)',\n",
    "        ),\n",
    "    )\n",
    "\n",
    "    # Create the figure and add the traces\n",
    "    fig = go.Figure(data=flight_paths, layout=layout)\n",
    "    fig.show()\n",
    "\n",
    "# Example usage:\n",
    "plot_flights_from_country('United States', internal=True)\n",
    "plot_flights_from_country('United States', internal=False)\n"
   ]
  }
 ],
 "metadata": {
  "kernelspec": {
   "display_name": "Python 3 (ipykernel)",
   "language": "python",
   "name": "python3"
  },
  "language_info": {
   "codemirror_mode": {
    "name": "ipython",
    "version": 3
   },
   "file_extension": ".py",
   "mimetype": "text/x-python",
   "name": "python",
   "nbconvert_exporter": "python",
   "pygments_lexer": "ipython3",
   "version": "3.11.8"
  }
 },
 "nbformat": 4,
 "nbformat_minor": 5
}
