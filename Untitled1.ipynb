{
 "cells": [
  {
   "cell_type": "code",
   "execution_count": 2,
   "id": "9e66e7ef-f383-4bad-bd9c-16abc245dbaf",
   "metadata": {
    "tags": []
   },
   "outputs": [
    {
     "name": "stdout",
     "output_type": "stream",
     "text": [
      "Requirement already satisfied: geopandas in /Users/anna-lenaschwarz/anaconda3/lib/python3.11/site-packages (0.14.3)\n",
      "Requirement already satisfied: fiona>=1.8.21 in /Users/anna-lenaschwarz/anaconda3/lib/python3.11/site-packages (from geopandas) (1.9.5)\n",
      "Requirement already satisfied: packaging in /Users/anna-lenaschwarz/anaconda3/lib/python3.11/site-packages (from geopandas) (23.0)\n",
      "Requirement already satisfied: pandas>=1.4.0 in /Users/anna-lenaschwarz/anaconda3/lib/python3.11/site-packages (from geopandas) (1.5.3)\n",
      "Requirement already satisfied: pyproj>=3.3.0 in /Users/anna-lenaschwarz/anaconda3/lib/python3.11/site-packages (from geopandas) (3.6.1)\n",
      "Requirement already satisfied: shapely>=1.8.0 in /Users/anna-lenaschwarz/anaconda3/lib/python3.11/site-packages (from geopandas) (2.0.3)\n",
      "Requirement already satisfied: attrs>=19.2.0 in /Users/anna-lenaschwarz/anaconda3/lib/python3.11/site-packages (from fiona>=1.8.21->geopandas) (22.1.0)\n",
      "Requirement already satisfied: certifi in /Users/anna-lenaschwarz/anaconda3/lib/python3.11/site-packages (from fiona>=1.8.21->geopandas) (2024.2.2)\n",
      "Requirement already satisfied: click~=8.0 in /Users/anna-lenaschwarz/anaconda3/lib/python3.11/site-packages (from fiona>=1.8.21->geopandas) (8.0.4)\n",
      "Requirement already satisfied: click-plugins>=1.0 in /Users/anna-lenaschwarz/anaconda3/lib/python3.11/site-packages (from fiona>=1.8.21->geopandas) (1.1.1)\n",
      "Requirement already satisfied: cligj>=0.5 in /Users/anna-lenaschwarz/anaconda3/lib/python3.11/site-packages (from fiona>=1.8.21->geopandas) (0.7.2)\n",
      "Requirement already satisfied: six in /Users/anna-lenaschwarz/anaconda3/lib/python3.11/site-packages (from fiona>=1.8.21->geopandas) (1.16.0)\n",
      "Requirement already satisfied: setuptools in /Users/anna-lenaschwarz/anaconda3/lib/python3.11/site-packages (from fiona>=1.8.21->geopandas) (67.8.0)\n",
      "Requirement already satisfied: python-dateutil>=2.8.1 in /Users/anna-lenaschwarz/anaconda3/lib/python3.11/site-packages (from pandas>=1.4.0->geopandas) (2.8.2)\n",
      "Requirement already satisfied: pytz>=2020.1 in /Users/anna-lenaschwarz/anaconda3/lib/python3.11/site-packages (from pandas>=1.4.0->geopandas) (2022.7)\n",
      "Requirement already satisfied: numpy>=1.21.0 in /Users/anna-lenaschwarz/anaconda3/lib/python3.11/site-packages (from pandas>=1.4.0->geopandas) (1.24.3)\n",
      "Note: you may need to restart the kernel to use updated packages.\n"
     ]
    }
   ],
   "source": [
    "pip install geopandas"
   ]
  },
  {
   "cell_type": "code",
   "execution_count": 3,
   "id": "8e9ae4c5-2fc3-4283-abac-0182e87d6450",
   "metadata": {
    "tags": []
   },
   "outputs": [
    {
     "name": "stdout",
     "output_type": "stream",
     "text": [
      "Requirement already satisfied: plotly in /Users/anna-lenaschwarz/anaconda3/lib/python3.11/site-packages (5.9.0)\n",
      "Requirement already satisfied: tenacity>=6.2.0 in /Users/anna-lenaschwarz/anaconda3/lib/python3.11/site-packages (from plotly) (8.2.2)\n",
      "Note: you may need to restart the kernel to use updated packages.\n"
     ]
    }
   ],
   "source": [
    "pip install plotly"
   ]
  },
  {
   "cell_type": "code",
   "execution_count": 4,
   "id": "630bf169-9a80-4e0c-8491-da19576d98b1",
   "metadata": {
    "tags": []
   },
   "outputs": [
    {
     "name": "stdout",
     "output_type": "stream",
     "text": [
      "Requirement already satisfied: scikit-learn in /Users/anna-lenaschwarz/anaconda3/lib/python3.11/site-packages (1.2.2)\n",
      "Requirement already satisfied: numpy>=1.17.3 in /Users/anna-lenaschwarz/anaconda3/lib/python3.11/site-packages (from scikit-learn) (1.24.3)\n",
      "Requirement already satisfied: scipy>=1.3.2 in /Users/anna-lenaschwarz/anaconda3/lib/python3.11/site-packages (from scikit-learn) (1.10.1)\n",
      "Requirement already satisfied: joblib>=1.1.1 in /Users/anna-lenaschwarz/anaconda3/lib/python3.11/site-packages (from scikit-learn) (1.2.0)\n",
      "Requirement already satisfied: threadpoolctl>=2.0.0 in /Users/anna-lenaschwarz/anaconda3/lib/python3.11/site-packages (from scikit-learn) (2.2.0)\n",
      "Note: you may need to restart the kernel to use updated packages.\n"
     ]
    }
   ],
   "source": [
    "pip install scikit-learn"
   ]
  },
  {
   "cell_type": "code",
   "execution_count": 5,
   "id": "55785374-f392-4652-8eb6-14a9354d5548",
   "metadata": {
    "tags": []
   },
   "outputs": [
    {
     "name": "stdout",
     "output_type": "stream",
     "text": [
      "Requirement already satisfied: pytest in /Users/anna-lenaschwarz/anaconda3/lib/python3.11/site-packages (7.3.1)\n",
      "Requirement already satisfied: iniconfig in /Users/anna-lenaschwarz/anaconda3/lib/python3.11/site-packages (from pytest) (1.1.1)\n",
      "Requirement already satisfied: packaging in /Users/anna-lenaschwarz/anaconda3/lib/python3.11/site-packages (from pytest) (23.0)\n",
      "Requirement already satisfied: pluggy<2.0,>=0.12 in /Users/anna-lenaschwarz/anaconda3/lib/python3.11/site-packages (from pytest) (1.0.0)\n",
      "Note: you may need to restart the kernel to use updated packages.\n"
     ]
    }
   ],
   "source": [
    "pip install pytest"
   ]
  },
  {
   "cell_type": "code",
   "execution_count": 6,
   "id": "f3f20a4b-add9-4277-8c87-1b1f5c04e963",
   "metadata": {
    "tags": []
   },
   "outputs": [
    {
     "name": "stdout",
     "output_type": "stream",
     "text": [
      "Requirement already satisfied: geopy in /Users/anna-lenaschwarz/anaconda3/lib/python3.11/site-packages (2.4.1)\n",
      "Requirement already satisfied: geographiclib<3,>=1.52 in /Users/anna-lenaschwarz/anaconda3/lib/python3.11/site-packages (from geopy) (2.0)\n",
      "Note: you may need to restart the kernel to use updated packages.\n"
     ]
    }
   ],
   "source": [
    "pip install geopy"
   ]
  },
  {
   "cell_type": "code",
   "execution_count": 10,
   "id": "9eba0037-c9c3-4c0d-bc83-017968714485",
   "metadata": {
    "tags": []
   },
   "outputs": [],
   "source": [
    "import os\n",
    "import pandas as pd\n",
    "from zipfile import ZipFile\n",
    "import requests\n",
    "from io import BytesIO\n",
    "import matplotlib.pyplot as plt\n",
    "import pandas as pd\n",
    "import plotly.offline as pyo\n",
    "import plotly.graph_objs as go\n",
    "from sklearn.linear_model import LinearRegression\n",
    "import matplotlib.pyplot as plt\n",
    "import geopandas as gpd\n",
    "from shapely.geometry import Point, LineString\n",
    "import warnings\n",
    "import numpy as np\n",
    "from math import radians, sin, cos, sqrt, atan2\n",
    "import unittest\n",
    "from pydantic import BaseModel\n",
    "from geopy.distance import geodesic\n",
    "import pytest"
   ]
  },
  {
   "cell_type": "code",
   "execution_count": 19,
   "id": "0b6260bf-318b-4ddd-b22c-77c9426699ce",
   "metadata": {
    "tags": []
   },
   "outputs": [],
   "source": [
    "import geopy.distance\n",
    "\n",
    "def dist(coords1=('Latitude'), coords2=('Longitude')):\n",
    "    \"\"\"\n",
    "    Distances between two coordinates set\n",
    "    \"\"\"\n",
    "\n",
    "    return geopy.distance.geodesic(coords1, coords2).km"
   ]
  },
  {
   "cell_type": "code",
   "execution_count": 18,
   "id": "8b45dcc2-96f1-44bc-9063-fac7ab343711",
   "metadata": {
    "tags": []
   },
   "outputs": [
    {
     "ename": "AttributeError",
     "evalue": "'FlightDataProcessor' object has no attribute 'routes_df'",
     "output_type": "error",
     "traceback": [
      "\u001b[0;31m---------------------------------------------------------------------------\u001b[0m",
      "\u001b[0;31mAttributeError\u001b[0m                            Traceback (most recent call last)",
      "Cell \u001b[0;32mIn[18], line 97\u001b[0m\n\u001b[1;32m     94\u001b[0m flight_processor \u001b[38;5;241m=\u001b[39m FlightDataProcessor()\n\u001b[1;32m     96\u001b[0m \u001b[38;5;66;03m# You should call add_distance_column to calculate and add the distance column\u001b[39;00m\n\u001b[0;32m---> 97\u001b[0m flight_processor\u001b[38;5;241m.\u001b[39madd_distance_column()\n\u001b[1;32m     99\u001b[0m \u001b[38;5;66;03m# Now, print the first few rows of the routes_df to check the added 'distance' column\u001b[39;00m\n\u001b[1;32m    100\u001b[0m \u001b[38;5;28mprint\u001b[39m(flight_processor\u001b[38;5;241m.\u001b[39mroutes_df\u001b[38;5;241m.\u001b[39mhead())\n",
      "Cell \u001b[0;32mIn[18], line 74\u001b[0m, in \u001b[0;36mFlightDataProcessor.add_distance_column\u001b[0;34m(self)\u001b[0m\n\u001b[1;32m     72\u001b[0m \u001b[38;5;28;01mdef\u001b[39;00m \u001b[38;5;21madd_distance_column\u001b[39m(\u001b[38;5;28mself\u001b[39m):\n\u001b[1;32m     73\u001b[0m     \u001b[38;5;66;03m# Pre-calculate all distances and store them in a dictionary\u001b[39;00m\n\u001b[0;32m---> 74\u001b[0m     \u001b[38;5;28mself\u001b[39m\u001b[38;5;241m.\u001b[39m_calculate_distances()\n\u001b[1;32m     76\u001b[0m     \u001b[38;5;66;03m# Initialize an empty list to store distances for each route\u001b[39;00m\n\u001b[1;32m     77\u001b[0m     distances_list \u001b[38;5;241m=\u001b[39m []\n",
      "Cell \u001b[0;32mIn[18], line 39\u001b[0m, in \u001b[0;36mFlightDataProcessor._calculate_distances\u001b[0;34m(self)\u001b[0m\n\u001b[1;32m     36\u001b[0m \u001b[38;5;28;01mdef\u001b[39;00m \u001b[38;5;21m_calculate_distances\u001b[39m(\u001b[38;5;28mself\u001b[39m):\n\u001b[1;32m     37\u001b[0m     distances \u001b[38;5;241m=\u001b[39m {}\n\u001b[0;32m---> 39\u001b[0m     \u001b[38;5;28;01mfor\u001b[39;00m index, row \u001b[38;5;129;01min\u001b[39;00m \u001b[38;5;28mself\u001b[39m\u001b[38;5;241m.\u001b[39mroutes_df\u001b[38;5;241m.\u001b[39miterrows():\n\u001b[1;32m     40\u001b[0m         source_airport_id \u001b[38;5;241m=\u001b[39m row[\u001b[38;5;124m'\u001b[39m\u001b[38;5;124mSource airport ID\u001b[39m\u001b[38;5;124m'\u001b[39m]\n\u001b[1;32m     41\u001b[0m         dest_airport_id \u001b[38;5;241m=\u001b[39m row[\u001b[38;5;124m'\u001b[39m\u001b[38;5;124mDestination airport ID\u001b[39m\u001b[38;5;124m'\u001b[39m]\n",
      "\u001b[0;31mAttributeError\u001b[0m: 'FlightDataProcessor' object has no attribute 'routes_df'"
     ]
    }
   ],
   "source": [
    "import os\n",
    "import pandas as pd\n",
    "import requests\n",
    "from zipfile import ZipFile\n",
    "from io import BytesIO\n",
    "from math import sin, cos, sqrt, atan2, radians\n",
    "import unittest\n",
    "\n",
    "class FlightDataProcessor:\n",
    "    gitlab_url = 'https://gitlab.com/adpro9641208/group_03/-/raw/main/flight_data.zip'\n",
    "\n",
    "    def _init_(self, gitlab_url=None):\n",
    "        self.gitlab_url = gitlab_url or self.gitlab_url\n",
    "\n",
    "        response = requests.get(self.gitlab_url)\n",
    "        zip_file = ZipFile(BytesIO(response.content))\n",
    "\n",
    "        destination_folder = os.path.join('group_03', 'downloads1')\n",
    "        os.makedirs(destination_folder, exist_ok=True)\n",
    "\n",
    "        zip_file.extractall(destination_folder)\n",
    "\n",
    "        self.airlines_df = pd.read_csv(os.path.join(destination_folder, 'airlines.csv'))\n",
    "        self.airplanes_df = pd.read_csv(os.path.join(destination_folder, 'airplanes.csv'))\n",
    "        self.airports_df = pd.read_csv(os.path.join(destination_folder, 'airports.csv'))\n",
    "        self.routes_df = pd.read_csv(os.path.join(destination_folder, 'routes.csv'))\n",
    "\n",
    "        # Drop rows with '\\N' in the \"Airline ID\" column\n",
    "        self.airlines_df = self.airlines_df[self.airlines_df['Airline ID'] != '\\\\N']\n",
    "\n",
    "        # Convert \"Airline ID\" to numeric\n",
    "        self.airlines_df['Airline ID'] = pd.to_numeric(self.airlines_df['Airline ID'])\n",
    "\n",
    "        self.distances = self._calculate_distances()\n",
    "\n",
    "    def _calculate_distances(self):\n",
    "        distances = {}\n",
    "\n",
    "        for index, row in self.routes_df.iterrows():\n",
    "            source_airport_id = row['Source airport ID']\n",
    "            dest_airport_id = row['Destination airport ID']\n",
    "\n",
    "            source_coords = self.get_coordinates(source_airport_id)\n",
    "            dest_coords = self.get_coordinates(dest_airport_id)\n",
    "\n",
    "            if source_coords is not None and dest_coords is not None:\n",
    "                distance = self.haversine_distance(*source_coords, *dest_coords)\n",
    "                distances[(source_airport_id, dest_airport_id)] = distance\n",
    "\n",
    "        return distances\n",
    "\n",
    "    def haversine_distance(self, lat1, lon1, lat2, lon2):\n",
    "        R = 6371\n",
    "        lat1, lon1, lat2, lon2 = map(radians, [lat1, lon1, lat2, lon2])\n",
    "        dlat = lat2 - lat1\n",
    "        dlon = lon2 - lon1\n",
    "        a = sin(dlat / 2) * 2 + cos(lat1) * cos(lat2) * sin(dlon / 2) * 2\n",
    "        c = 2 * atan2(sqrt(a), sqrt(1 - a))\n",
    "        distance = R * c\n",
    "        return distance\n",
    "\n",
    "    def get_coordinates(self, airport_id):\n",
    "        row = self.airports_df[self.airports_df['Airport ID'] == airport_id]\n",
    "        if not row.empty:\n",
    "            latitude = row['Latitude'].values[0]\n",
    "            longitude = row['Longitude'].values[0]\n",
    "            return latitude, longitude\n",
    "        else:\n",
    "            return None, None\n",
    "\n",
    "    \n",
    "    def add_distance_column(self):\n",
    "        # Pre-calculate all distances and store them in a dictionary\n",
    "        self._calculate_distances()\n",
    "\n",
    "        # Initialize an empty list to store distances for each route\n",
    "        distances_list = []\n",
    "\n",
    "        # Iterate over each row in routes_df to find the corresponding distance\n",
    "        for _, row in self.routes_df.iterrows():\n",
    "            source_airport_id = row['Source airport ID']\n",
    "            dest_airport_id = row['Destination airport ID']\n",
    "            # Use the get method to avoid KeyError if the tuple is not found in the dictionary\n",
    "            distance = self.distances.get((source_airport_id, dest_airport_id))\n",
    "            # Append the distance to the list, or None if not found\n",
    "            distances_list.append(distance)\n",
    "\n",
    "        # Assign the list of distances as a new column in routes_df\n",
    "        self.routes_df['distance'] = distances_list\n",
    "        \n",
    "        \n",
    "    \n",
    "# Initialize the FlightDataProcessor instance\n",
    "flight_processor = FlightDataProcessor()\n",
    "\n",
    "# You should call add_distance_column to calculate and add the distance column\n",
    "flight_processor.add_distance_column()\n",
    "\n",
    "# Now, print the first few rows of the routes_df to check the added 'distance' column\n",
    "print(flight_processor.routes_df.head())\n",
    "\n",
    "      \n",
    "\n"
   ]
  },
  {
   "cell_type": "code",
   "execution_count": 33,
   "id": "08e414bf-dab4-4740-b1f2-86659ee33e4e",
   "metadata": {
    "tags": []
   },
   "outputs": [
    {
     "name": "stdout",
     "output_type": "stream",
     "text": [
      "File already exists.\n",
      "File already exists.\n"
     ]
    },
    {
     "data": {
      "image/png": "[encoded data removed]",
      "text/plain": [
       "<Figure size 1000x600 with 1 Axes>"
      ]
     },
     "metadata": {},
     "output_type": "display_data"
    }
   ],
   "source": [
    "class FlightDataProcessor:\n",
    "    def __init__(self, zip_url):\n",
    "        \"\"\"\n",
    "        Downloads, extracts, and processes flight data from the given zip URL.\n",
    "\n",
    "        Parameters:\n",
    "        - zip_url (str): The URL of the flight data zip file.\n",
    "        \"\"\"\n",
    "        # Set the destination folder for the extracted data in the main directory\n",
    "        destination_folder = 'group_03/downloads'\n",
    "\n",
    "        # Ensure the destination folder exists\n",
    "        os.makedirs(destination_folder, exist_ok=True)\n",
    "\n",
    "        # Define the path to the downloaded zip file\n",
    "        zip_file_path = os.path.join(destination_folder, 'flight_data.zip')\n",
    "\n",
    "        # Check if the zip file already exists\n",
    "        if not os.path.exists(zip_file_path):\n",
    "            # Download the zip file from the given URL\n",
    "            response = requests.get(zip_url)\n",
    "\n",
    "            # Save the zip file in the destination folder\n",
    "            with open(zip_file_path, 'wb') as zip_file:\n",
    "                zip_file.write(response.content)\n",
    "\n",
    "            print(\"File downloaded successfully.\")\n",
    "        else:\n",
    "            print(\"File already exists.\")\n",
    "\n",
    "        # Process the downloaded zip file\n",
    "        zip_file = ZipFile(zip_file_path)\n",
    "        zip_file.extractall(destination_folder)\n",
    "\n",
    "        # Read the datasets into pandas dataframes\n",
    "        self.airlines_df = pd.read_csv(os.path.join(destination_folder, 'airlines.csv'))\n",
    "        self.airplanes_df = pd.read_csv(os.path.join(destination_folder, 'airplanes.csv'))\n",
    "        self.airports_df = pd.read_csv(os.path.join(destination_folder, 'airports.csv'))\n",
    "        self.routes_df = pd.read_csv(os.path.join(destination_folder, 'routes.csv'))\n",
    "\n",
    "        \n",
    "        \n",
    "    def haversine_distance(self, lat1, lon1, lat2, lon2):\n",
    "        \"\"\"\n",
    "        Calculate the great-circle distance between two points\n",
    "        on the Earth's surface using the Haversine formula.\n",
    "        \"\"\"\n",
    "        R = 6371  # Radius of the Earth in kilometers\n",
    "        lat1, lon1, lat2, lon2 = map(radians, [lat1, lon1, lat2, lon2])\n",
    "        dlat = lat2 - lat1\n",
    "        dlon = lon2 - lon1\n",
    "        a = sin(dlat / 2)**2 + cos(lat1) * cos(lat2) * sin(dlon / 2)**2\n",
    "        c = 2 * atan2(sqrt(a), sqrt(1 - a))\n",
    "        distance = R * c\n",
    "        return distance\n",
    "\n",
    "    def calculate_distances(self):\n",
    "        distances = []\n",
    "        for index, row in self.routes_df.iterrows():\n",
    "            source = row['Source airport ID']\n",
    "            dest = row['Destination airport ID']\n",
    "    \n",
    "            source_coords = self.airports_df.loc[self.airports_df['Airport ID'] == source, ['Latitude', 'Longitude']].values\n",
    "            dest_coords = self.airports_df.loc[self.airports_df['Airport ID'] == dest, ['Latitude', 'Longitude']].values\n",
    "    \n",
    "            if len(source_coords) > 0 and len(dest_coords) > 0:\n",
    "                source_lat, source_lon = source_coords[0]\n",
    "                dest_lat, dest_lon = dest_coords[0]\n",
    "                distance = self.haversine_distance(source_lat, source_lon, dest_lat, dest_lon)\n",
    "                distances.append(distance)\n",
    "            else:\n",
    "                distances.append(None)  # If coordinates not found, append None\n",
    "\n",
    "        # Add the distances list as a new column in routes_df\n",
    "        self.routes_df['Distance (km)'] = distances\n",
    "\n",
    "        # Save the updated dataframe to a new CSV file\n",
    "        self.routes_df.to_csv('routes_with_distance.csv', index=False)\n",
    "        \n",
    "        \n",
    "\n",
    "    def distance_analysis(self, bins=30, show_mean=True, show_median=True):\n",
    "       \n",
    "        # Filter out None values (if any)\n",
    "        valid_distances = self.routes_df['Distance (km)'].dropna()\n",
    "\n",
    "        # Create a histogram of flight distances\n",
    "        plt.figure(figsize=(10, 6))\n",
    "        plt.hist(valid_distances, bins=bins, color='skyblue', edgecolor='black', alpha=0.7)\n",
    "\n",
    "        # Add vertical lines for mean and median distances\n",
    "        if show_mean:\n",
    "            mean_val = valid_distances.mean()\n",
    "            plt.axvline(mean_val, color='red', linestyle='dashed', linewidth=1, label=f'Mean: {mean_val:.2f}')\n",
    "        if show_median:\n",
    "            median_val = valid_distances.median()\n",
    "            plt.axvline(median_val, color='green', linestyle='dashed', linewidth=1, label=f'Median: {median_val:.2f}')\n",
    "\n",
    "      \n",
    "        \n",
    "        # Set labels and title\n",
    "        plt.xlabel('Flight Distance (km)')\n",
    "        plt.ylabel('Frequency')\n",
    "        plt.title('Distribution of Flight Distances')\n",
    "        plt.legend()\n",
    "\n",
    "        # Show the plot\n",
    "        plt.show()\n",
    "\n",
    "\n",
    "# URL for the raw flight_data.zip file\n",
    "zip_url = 'https://gitlab.com/adpro9641208/group_03/-/raw/main/flight_data.zip'\n",
    "\n",
    "# Create an instance of FlightDataProcessor with the zip URL\n",
    "flight_processor = FlightDataProcessor(zip_url)\n",
    "\n",
    "# Access the dataframes\n",
    "airlines = flight_processor.airlines_df\n",
    "airplanes = flight_processor.airplanes_df\n",
    "airports = flight_processor.airports_df\n",
    "routes = flight_processor.routes_df\n",
    "\n",
    "# Create an instance of FlightDataProcessor with the zip URL\n",
    "flight_processor = FlightDataProcessor(zip_url)\n",
    "\n",
    "# Calculate distances\n",
    "flight_processor.calculate_distances()\n",
    "\n",
    "# Analyze distances and display the histogram\n",
    "flight_processor.distance_analysis(bins=30, show_mean=True, show_median=True)\n",
    "\n"
   ]
  },
  {
   "cell_type": "code",
   "execution_count": null,
   "id": "dbd5a533-d82f-469b-979d-65cc8402215f",
   "metadata": {},
   "outputs": [],
   "source": []
  }
 ],
 "metadata": {
  "kernelspec": {
   "display_name": "Python 3 (ipykernel)",
   "language": "python",
   "name": "python3"
  },
  "language_info": {
   "codemirror_mode": {
    "name": "ipython",
    "version": 3
   },
   "file_extension": ".py",
   "mimetype": "text/x-python",
   "name": "python",
   "nbconvert_exporter": "python",
   "pygments_lexer": "ipython3",
   "version": "3.11.7"
  }
 },
 "nbformat": 4,
 "nbformat_minor": 5
}
