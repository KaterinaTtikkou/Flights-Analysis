{
 "cells": [
  {
   "cell_type": "code",
   "execution_count": null,
   "id": "a2dc0d7b-861c-4eb5-ab99-8a007f4eaeac",
   "metadata": {},
   "outputs": [],
   "source": [
    "    def add_distance_column(self):\n",
    "\n",
    "    # Merge routes_df with airports_df to get source airport coordinates\n",
    "        routes_with_source_coords = self.routes_df.merge(\n",
    "            self.airports_df[['Airport ID', 'Latitude', 'Longitude']],\n",
    "            left_on='Source airport ID',\n",
    "            right_on='Airport ID',\n",
    "            how='left'\n",
    "        ).rename(columns={'Latitude': 'Source Latitude', 'Longitude': 'Source Longitude'})\n",
    "\n",
    "    # Merge routes_with_source_coords with airports_df to get destination airport coordinates\n",
    "        routes_with_all_coords = routes_with_source_coords.merge(\n",
    "            self.airports_df[['Airport ID', 'Latitude', 'Longitude']],\n",
    "            left_on='Destination airport ID',\n",
    "            right_on='Airport ID',\n",
    "            how='left'\n",
    "        ).rename(columns={'Latitude': 'Destination Latitude', 'Longitude': 'Destination Longitude'})\n",
    "\n",
    "    # Calculate distances and add as a new column\n",
    "        self.routes_df['distance'] = routes_with_all_coords.apply(\n",
    "            lambda row: self.haversine_distance(\n",
    "                row['Source Latitude'], row['Source Longitude'],\n",
    "                row['Destination Latitude'], row['Destination Longitude']\n",
    "            ),\n",
    "            axis=1\n",
    "        )\n",
    "\n",
    "\n",
    "    def distance_analysis(self, bins=30, show_mean=True, show_median=True):\n",
    "\n",
    "        # Filter out None values (if any)\n",
    "        valid_distances = self.routes_df['distance'].dropna()\n",
    "\n",
    "        # Create a histogram of flight distances\n",
    "        plt.figure(figsize=(10, 6))\n",
    "        plt.hist(valid_distances, bins=bins, color='skyblue', edgecolor='black', alpha=0.7)\n",
    "\n",
    "        # Add vertical lines for mean and median distances\n",
    "        if show_mean:\n",
    "            mean_val = valid_distances.mean()\n",
    "            plt.axvline(mean_val, color='red', linestyle='dashed', linewidth=1, label=f'Mean: {mean_val:.2f}')\n",
    "        if show_median:\n",
    "            median_val = valid_distances.median()\n",
    "            plt.axvline(median_val, color='green', linestyle='dashed', linewidth=1, label=f'Median: {median_val:.2f}')\n",
    "\n",
    "        # Set labels and title\n",
    "        plt.xlabel('Flight Distance')\n",
    "        plt.ylabel('Frequency')\n",
    "        plt.title('Distribution of Flight Distances')\n",
    "\n",
    "        # Show plot\n",
    "        plt.legend()\n",
    "        plt.show()"
   ]
  }
 ],
 "metadata": {
  "kernelspec": {
   "display_name": "Python 3 (ipykernel)",
   "language": "python",
   "name": "python3"
  },
  "language_info": {
   "codemirror_mode": {
    "name": "ipython",
    "version": 3
   },
   "file_extension": ".py",
   "mimetype": "text/x-python",
   "name": "python",
   "nbconvert_exporter": "python",
   "pygments_lexer": "ipython3",
   "version": "3.11.7"
  }
 },
 "nbformat": 4,
 "nbformat_minor": 5
}
