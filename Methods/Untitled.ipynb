{
 "cells": [
  {
   "cell_type": "code",
   "execution_count": 1,
   "id": "152026c7-4fca-4730-b8f8-0e2a540e90ea",
   "metadata": {
    "tags": []
   },
   "outputs": [],
   "source": [
    "import os\n",
    "import requests\n",
    "import pandas as pd\n",
    "from zipfile import ZipFile\n",
    "import geopandas as gpd\n",
    "from shapely.geometry import Point\n",
    "import unittest\n",
    "\n",
    "\n",
    "def calculate_distances(self):\n",
    "    distances = {}\n",
    "\n",
    "    # Create GeoDataFrame for airports\n",
    "    gdf_airports = gpd.GeoDataFrame(self.airports_df, \n",
    "                                    geometry=gpd.points_from_xy(self.airports_df['Longitude'], self.airports_df['Latitude']))\n",
    "\n",
    "    # Iterate over routes\n",
    "    for index, row in self.routes_df.iterrows():\n",
    "        source_airport_id = row['Source airport ID']\n",
    "        dest_airport_id = row['Destination airport ID']\n",
    "\n",
    "        source_points = gdf_airports[gdf_airports['Airport ID'] == source_airport_id].geometry\n",
    "        dest_points = gdf_airports[gdf_airports['Airport ID'] == dest_airport_id].geometry\n",
    "\n",
    "        # Print statements for debugging\n",
    "        print(f\"Source points for airport {source_airport_id}: {source_points}\")\n",
    "        print(f\"Destination points for airport {dest_airport_id}: {dest_points}\")\n",
    "\n",
    "        if not source_points.empty and not dest_points.empty:\n",
    "            source_point = source_points.iloc[0]\n",
    "            dest_point = dest_points.iloc[0]\n",
    "\n",
    "            distance = source_point.distance(dest_point).km\n",
    "            distances[(source_airport_id, dest_airport_id)] = distance\n",
    "        else:\n",
    "            print(f\"No points found for airports {source_airport_id} and {dest_airport_id}\")\n",
    "\n",
    "    return distances"
   ]
  }
 ],
 "metadata": {
  "kernelspec": {
   "display_name": "adpro",
   "language": "python",
   "name": "adpro"
  },
  "language_info": {
   "codemirror_mode": {
    "name": "ipython",
    "version": 3
   },
   "file_extension": ".py",
   "mimetype": "text/x-python",
   "name": "python",
   "nbconvert_exporter": "python",
   "pygments_lexer": "ipython3",
   "version": "3.11.7"
  }
 },
 "nbformat": 4,
 "nbformat_minor": 5
}
