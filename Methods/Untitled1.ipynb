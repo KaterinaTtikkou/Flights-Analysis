{
 "cells": [
  {
   "cell_type": "code",
   "execution_count": 8,
   "id": "e147e7d5-c6b6-4580-b7a9-8052c3d07b96",
   "metadata": {
    "tags": []
   },
   "outputs": [
    {
     "name": "stderr",
     "output_type": "stream",
     "text": [
      "test_distance_between_airports_in_different_continents (__main__.TestFIIUAirports.test_distance_between_airports_in_different_continents) ... "
     ]
    },
    {
     "name": "stdout",
     "output_type": "stream",
     "text": [
      "File already exists.\n"
     ]
    },
    {
     "name": "stderr",
     "output_type": "stream",
     "text": [
      "ok\n",
      "test_distance_between_different_airports (__main__.TestFIIUAirports.test_distance_between_different_airports) ... "
     ]
    },
    {
     "name": "stdout",
     "output_type": "stream",
     "text": [
      "File already exists.\n"
     ]
    },
    {
     "name": "stderr",
     "output_type": "stream",
     "text": [
      "ok\n",
      "test_distance_between_same_airport (__main__.TestFIIUAirports.test_distance_between_same_airport) ... "
     ]
    },
    {
     "name": "stdout",
     "output_type": "stream",
     "text": [
      "File already exists.\n"
     ]
    },
    {
     "name": "stderr",
     "output_type": "stream",
     "text": [
      "ok\n",
      "\n",
      "----------------------------------------------------------------------\n",
      "Ran 3 tests in 1.273s\n",
      "\n",
      "OK\n"
     ]
    }
   ],
   "source": [
    "import os\n",
    "import requests\n",
    "from zipfile import ZipFile\n",
    "import pandas as pd\n",
    "import matplotlib.pyplot as plt\n",
    "import numpy as np\n",
    "from math import radians\n",
    "from math import sin\n",
    "from math import cos\n",
    "from math import atan2\n",
    "from math import sqrt\n",
    "import unittest\n",
    "\n",
    "class FIIU:\n",
    "    \n",
    "    def __init__(self, zip_url='https://gitlab.com/adpro9641208/group_03/-/raw/main/flight_data.zip'):\n",
    "        \"\"\"\n",
    "        Downloads, extracts, and processes flight data from the given zip URL.\n",
    "        Parameters:\n",
    "        - zip_url (str): The URL of the flight data zip file.\n",
    "        \"\"\"\n",
    "        # Set the destination folder for the extracted data in the main directory\n",
    "        self.destination_folder = 'downloads'\n",
    "        # Ensure the destination folder exists\n",
    "        os.makedirs(self.destination_folder, exist_ok=True)\n",
    "        # Define the path to the downloaded zip file\n",
    "        zip_file_path = os.path.join(self.destination_folder, 'flight_data.zip')\n",
    "        # Check if the zip file already exists\n",
    "        if not os.path.exists(zip_file_path):\n",
    "            # Download the zip file from the given URL\n",
    "            response = requests.get(zip_url)\n",
    "            # Save the zip file in the destination folder\n",
    "            with open(zip_file_path, 'wb') as zip_file:\n",
    "                zip_file.write(response.content)\n",
    "            print(\"File downloaded successfully.\")\n",
    "        else:\n",
    "            print(\"File already exists.\")\n",
    "        # Process the downloaded zip file\n",
    "        zip_file = ZipFile(zip_file_path)\n",
    "        zip_file.extractall(self.destination_folder)\n",
    "        # Assign values to the instance attributes\n",
    "        self.airlines_df = pd.read_csv(os.path.join(self.destination_folder, 'airlines.csv'))\n",
    "        self.airplanes_df = pd.read_csv(os.path.join(self.destination_folder, 'airplanes.csv'))\n",
    "        self.airports_df = pd.read_csv(os.path.join(self.destination_folder, 'airports.csv'))\n",
    "        self.routes_df = pd.read_csv(os.path.join(self.destination_folder, 'routes.csv'))\n",
    "        \n",
    "        # Removing Superfluous Columns\n",
    "        self.airports_df = self.airports_df.drop(['index', 'Timezone', 'Altitude', 'DST', 'Tz database time zone', 'Type', 'Source'], axis=1)\n",
    "        self.routes_df = self.routes_df.drop(['index', 'Codeshare', 'Stops'], axis=1)\n",
    "        \n",
    "        # Cleaning and Type Casting\n",
    "        self.airports_df = self.airports_df.dropna()\n",
    "        self.routes_df = self.routes_df.dropna()\n",
    "        self.airplanes_df = self.airplanes_df.dropna()\n",
    "        self.airplanes_df = self.airplanes_df[self.airplanes_df['IATA code'] != '\\\\N']\n",
    "        self.routes_df = self.routes_df[self.routes_df['Source airport ID'] != '\\\\N']\n",
    "        self.routes_df['Source airport ID'] = self.routes_df['Source airport ID'].astype(int)\n",
    "        self.routes_df['Model'] = self.routes_df['Equipment'].str.split('-')\n",
    "        self.routes_df = self.routes_df.explode('Model')\n",
    "\n",
    "        self.distances = {}\n",
    "\n",
    "    def calculate_distances(self):\n",
    "        distances = {}\n",
    "\n",
    "        for index, row in self.routes_df.iterrows():\n",
    "            source_airport_id = row['Source airport ID']\n",
    "            dest_airport_id = row['Destination airport ID']\n",
    "\n",
    "            source_coords = self.get_coordinates(source_airport_id)\n",
    "            dest_coords = self.get_coordinates(dest_airport_id)\n",
    "\n",
    "            if source_coords is not None and dest_coords is not None:\n",
    "                distance = self.haversine_distance(*source_coords, *dest_coords)\n",
    "                distances[(source_airport_id, dest_airport_id)] = distance\n",
    "\n",
    "        return distances\n",
    "\n",
    "\n",
    "    def haversine_distance(self, lat1, lon1, lat2, lon2):\n",
    "        if None in [lat1, lon1, lat2, lon2]:\n",
    "            return 0  # Return a default distance in case of None values\n",
    "\n",
    "        R = 6371\n",
    "        lat1, lon1, lat2, lon2 = map(radians, [lat1, lon1, lat2, lon2])\n",
    "        dlat = lat2 - lat1\n",
    "        dlon = lon2 - lon1\n",
    "        a = sin(dlat / 2) ** 2 + cos(lat1) * cos(lat2) * sin(dlon / 2) ** 2  # Fix here\n",
    "        c = 2 * atan2(sqrt(max(0, a)), sqrt(max(0, 1 - a)))  # Ensure values >= 0\n",
    "        distance = R * c\n",
    "        return distance\n",
    "    \n",
    "    def get_coordinates(self, airport_id):\n",
    "        row = self.airports_df[self.airports_df['Airport ID'] == airport_id]\n",
    "        if not row.empty:\n",
    "            latitude = row['Latitude'].values[0]\n",
    "            longitude = row['Longitude'].values[0]\n",
    "            return latitude, longitude\n",
    "        else:\n",
    "            return None, None\n",
    "        \n",
    "class TestFIIUAirports(unittest.TestCase):\n",
    "\n",
    "    def setUp(self):\n",
    "        self.fiiu_instance = FIIU()\n",
    "\n",
    "    def test_distance_between_same_airport(self):\n",
    "        distance = self.fiiu_instance.haversine_distance(1, 1, 1, 1)\n",
    "        self.assertEqual(distance, 0)\n",
    "\n",
    "    def test_distance_between_different_airports(self):\n",
    "        airport_data = pd.DataFrame({\n",
    "            'Airport ID': [1, 2, 3],\n",
    "            'Latitude': [-6.081690, -5.207080, -5.826790],\n",
    "            'Longitude': [145.391998, 145.789001, 144.296005]\n",
    "        })\n",
    "        self.fiiu_instance.airports_df = airport_data\n",
    "        lat1, lon1 = airport_data.loc[airport_data['Airport ID'] == 1, ['Latitude', 'Longitude']].values[0]\n",
    "        lat2, lon2 = airport_data.loc[airport_data['Airport ID'] == 2, ['Latitude', 'Longitude']].values[0]\n",
    "        distance = self.fiiu_instance.haversine_distance(lat1, lon1, lat2, lon2)\n",
    "        expected_distance = 106.71389671030464\n",
    "        self.assertAlmostEqual(distance, expected_distance, places=2)\n",
    "\n",
    "    def test_distance_between_airports_in_different_continents(self):\n",
    "        airport_data = pd.DataFrame({\n",
    "            'Airport ID': [1, 2, 3],\n",
    "            'Latitude': [-6.081690, -5.207080, -5.826790],\n",
    "            'Longitude': [145.391998, 145.789001, 144.296005]\n",
    "        })\n",
    "        self.fiiu_instance.airports_df = airport_data\n",
    "        lat1, lon1 = airport_data.loc[airport_data['Airport ID'] == 1, ['Latitude', 'Longitude']].values[0]\n",
    "        lat3, lon3 = airport_data.loc[airport_data['Airport ID'] == 3, ['Latitude', 'Longitude']].values[0]\n",
    "        distance = self.fiiu_instance.haversine_distance(lat1, lon1, lat3, lon3)\n",
    "        expected_distance = 124.48103955643961\n",
    "        self.assertAlmostEqual(distance, expected_distance, places=2)\n",
    "\n",
    "if __name__ == '__main__':\n",
    "    unittest.main(argv=[''], defaultTest='TestFIIUAirports', verbosity=2, exit=False)\n"
   ]
  },
  {
   "cell_type": "code",
   "execution_count": null,
   "id": "b4c6f630-c8d9-4eeb-8f66-4b896e785944",
   "metadata": {},
   "outputs": [],
   "source": []
  }
 ],
 "metadata": {
  "kernelspec": {
   "display_name": "adpro",
   "language": "python",
   "name": "adpro"
  },
  "language_info": {
   "codemirror_mode": {
    "name": "ipython",
    "version": 3
   },
   "file_extension": ".py",
   "mimetype": "text/x-python",
   "name": "python",
   "nbconvert_exporter": "python",
   "pygments_lexer": "ipython3",
   "version": "3.11.7"
  }
 },
 "nbformat": 4,
 "nbformat_minor": 5
}
