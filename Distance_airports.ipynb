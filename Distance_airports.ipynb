{
 "cells": [
  {
   "cell_type": "markdown",
   "id": "bb8ea4de-fab8-498c-93ab-ddb8e3990a36",
   "metadata": {
    "tags": []
   },
   "source": [
    "pip install pydantic"
   ]
  },
  {
   "cell_type": "code",
   "execution_count": 16,
   "id": "eda5b774-a25c-44ee-8755-8655db5eb1b8",
   "metadata": {
    "tags": []
   },
   "outputs": [
    {
     "name": "stdout",
     "output_type": "stream",
     "text": [
      "Requirement already satisfied: pytest in c:\\users\\katerina ttikkou\\anaconda3\\envs\\adpro\\lib\\site-packages (7.4.0)\n",
      "Requirement already satisfied: iniconfig in c:\\users\\katerina ttikkou\\anaconda3\\envs\\adpro\\lib\\site-packages (from pytest) (1.1.1)\n",
      "Requirement already satisfied: packaging in c:\\users\\katerina ttikkou\\anaconda3\\envs\\adpro\\lib\\site-packages (from pytest) (23.1)\n",
      "Requirement already satisfied: pluggy<2.0,>=0.12 in c:\\users\\katerina ttikkou\\anaconda3\\envs\\adpro\\lib\\site-packages (from pytest) (1.0.0)\n",
      "Requirement already satisfied: colorama in c:\\users\\katerina ttikkou\\anaconda3\\envs\\adpro\\lib\\site-packages (from pytest) (0.4.6)\n",
      "Note: you may need to restart the kernel to use updated packages.\n"
     ]
    }
   ],
   "source": [
    "pip install pytest"
   ]
  },
  {
   "cell_type": "code",
   "execution_count": 4,
   "id": "ddac1f17-ef43-4e34-8cf3-9b0bba9e4c52",
   "metadata": {
    "tags": []
   },
   "outputs": [
    {
     "name": "stdout",
     "output_type": "stream",
     "text": [
      "Collecting geopyNote: you may need to restart the kernel to use updated packages.\n",
      "\n",
      "  Downloading geopy-2.4.1-py3-none-any.whl.metadata (6.8 kB)\n",
      "Collecting geographiclib<3,>=1.52 (from geopy)\n",
      "  Downloading geographiclib-2.0-py3-none-any.whl.metadata (1.4 kB)\n",
      "Downloading geopy-2.4.1-py3-none-any.whl (125 kB)\n",
      "   ---------------------------------------- 0.0/125.4 kB ? eta -:--:--\n",
      "   --- ------------------------------------ 10.2/125.4 kB ? eta -:--:--\n",
      "   ---------------------------------------  122.9/125.4 kB 2.4 MB/s eta 0:00:01\n",
      "   ---------------------------------------- 125.4/125.4 kB 1.8 MB/s eta 0:00:00\n",
      "Downloading geographiclib-2.0-py3-none-any.whl (40 kB)\n",
      "   ---------------------------------------- 0.0/40.3 kB ? eta -:--:--\n",
      "   ---------------------------------------- 40.3/40.3 kB 2.0 MB/s eta 0:00:00\n",
      "Installing collected packages: geographiclib, geopy\n",
      "Successfully installed geographiclib-2.0 geopy-2.4.1\n"
     ]
    }
   ],
   "source": [
    "pip install geopy"
   ]
  },
  {
   "cell_type": "code",
   "execution_count": 26,
   "id": "8f4107b2-6cb5-43f2-8452-63338966c9b2",
   "metadata": {
    "tags": []
   },
   "outputs": [],
   "source": [
    "import pandas as pd\n",
    "import numpy as np\n",
    "from math import radians, sin, cos, sqrt, atan2\n",
    "import unittest\n",
    "from pydantic import BaseModel\n",
    "from geopy.distance import geodesic\n",
    "import pytest"
   ]
  },
  {
   "cell_type": "code",
   "execution_count": 25,
   "id": "a85b843e-09a7-452f-8356-af26dcb05d23",
   "metadata": {
    "tags": []
   },
   "outputs": [
    {
     "name": "stdout",
     "output_type": "stream",
     "text": [
      "      index  Airport ID                                         Name  \\\n",
      "0         0           1                               Goroka Airport   \n",
      "1         1           2                               Madang Airport   \n",
      "2         2           3                 Mount Hagen Kagamuga Airport   \n",
      "3         3           4                               Nadzab Airport   \n",
      "4         4           5  Port Moresby Jacksons International Airport   \n",
      "...     ...         ...                                          ...   \n",
      "7693   7693       14106                          Rogachyovo Air Base   \n",
      "7694   7694       14107                        Ulan-Ude East Airport   \n",
      "7695   7695       14108                         Krechevitsy Air Base   \n",
      "7696   7696       14109                  Desierto de Atacama Airport   \n",
      "7697   7697       14110                           Melitopol Air Base   \n",
      "\n",
      "              City           Country IATA  ICAO   Latitude   Longitude  \\\n",
      "0           Goroka  Papua New Guinea  GKA  AYGA  -6.081690  145.391998   \n",
      "1           Madang  Papua New Guinea  MAG  AYMD  -5.207080  145.789001   \n",
      "2      Mount Hagen  Papua New Guinea  HGU  AYMH  -5.826790  144.296005   \n",
      "3           Nadzab  Papua New Guinea  LAE  AYNZ  -6.569803  146.725977   \n",
      "4     Port Moresby  Papua New Guinea  POM  AYPY  -9.443380  147.220001   \n",
      "...            ...               ...  ...   ...        ...         ...   \n",
      "7693        Belaya            Russia   \\N  ULDA  71.616699   52.478298   \n",
      "7694      Ulan Ude            Russia   \\N  XIUW  51.849998  107.737999   \n",
      "7695      Novgorod            Russia   \\N  ULLK  58.625000   31.385000   \n",
      "7696       Copiapo             Chile  CPO  SCAT -27.261200  -70.779198   \n",
      "7697     Melitopol           Ukraine   \\N  UKDM  46.880001   35.305000   \n",
      "\n",
      "      Altitude Timezone DST Tz database time zone     Type       Source  \n",
      "0         5282       10   U  Pacific/Port_Moresby  airport  OurAirports  \n",
      "1           20       10   U  Pacific/Port_Moresby  airport  OurAirports  \n",
      "2         5388       10   U  Pacific/Port_Moresby  airport  OurAirports  \n",
      "3          239       10   U  Pacific/Port_Moresby  airport  OurAirports  \n",
      "4          146       10   U  Pacific/Port_Moresby  airport  OurAirports  \n",
      "...        ...      ...  ..                   ...      ...          ...  \n",
      "7693       272       \\N  \\N                    \\N  airport  OurAirports  \n",
      "7694      1670       \\N  \\N                    \\N  airport  OurAirports  \n",
      "7695        85       \\N  \\N                    \\N  airport  OurAirports  \n",
      "7696       670       \\N  \\N                    \\N  airport  OurAirports  \n",
      "7697         0       \\N  \\N                    \\N  airport  OurAirports  \n",
      "\n",
      "[7698 rows x 15 columns]\n"
     ]
    }
   ],
   "source": [
    "route_data=pd.read_csv('flight_data/routes.csv')\n",
    "airline_data=pd.read_csv('flight_data/airlines.csv')\n",
    "airport_data=pd.read_csv('flight_data/airports.csv')\n",
    "airplane_data=pd.read_csv('flight_data/airplanes.csv')\n",
    "\n",
    "print(airports)"
   ]
  },
  {
   "cell_type": "code",
   "execution_count": 35,
   "id": "c1e435af-fafa-491d-9985-6d56c25e3367",
   "metadata": {
    "tags": []
   },
   "outputs": [],
   "source": [
    "from geopy.distance import geodesic\n",
    "\n",
    "class AirportDistanceCalculator:\n",
    "    def __init__(self, airport_data):\n",
    "        self.airport_data = airport_data\n",
    "        self.distances = {}\n",
    "\n",
    "    def calculate_distance(self, airport_id1, airport_id2):\n",
    "        # Check if the distance is already calculated and stored\n",
    "        if (airport_id1, airport_id2) in self.distances:\n",
    "            return self.distances[(airport_id1, airport_id2)]\n",
    "        elif (airport_id2, airport_id1) in self.distances:\n",
    "            return self.distances[(airport_id2, airport_id1)]\n",
    "\n",
    "        # If not, calculate and store the distance\n",
    "        coords1 = self.get_coordinates(airport_id1)\n",
    "        coords2 = self.get_coordinates(airport_id2)\n",
    "        distance = geodesic(coords1, coords2).kilometers\n",
    "\n",
    "        self.distances[(airport_id1, airport_id2)] = distance\n",
    "        return distance\n",
    "\n",
    "    def get_coordinates(self, airport_id):\n",
    "        # Implement a method to retrieve coordinates from the dataset\n",
    "        # This method should use airport_id to find latitude and longitude\n",
    "        # Example:\n",
    "        latitude = self.airport_data.loc[self.airport_data['Airport ID'] == airport_id, 'Latitude'].values[0]\n",
    "        longitude = self.airport_data.loc[self.airport_data['Airport ID'] == airport_id, 'Longitude'].values[0]\n",
    "        return latitude, longitude\n",
    "\n",
    "    def haversine_distance(self, lat1, lon1, lat2, lon2):\n",
    "        # Implement the haversine formula if needed\n",
    "        pass\n",
    "    "
   ]
  },
  {
   "cell_type": "code",
   "execution_count": 40,
   "id": "a9cd425c-8f6a-4b82-9d30-fc899bf052b6",
   "metadata": {
    "tags": []
   },
   "outputs": [
    {
     "name": "stdout",
     "output_type": "stream",
     "text": [
      "Expected distances:\n",
      "Same airport: 0.00 km\n",
      "Different airports: 106.71 km\n",
      "Different continents: 124.48 km\n"
     ]
    }
   ],
   "source": [
    "from math import radians, sin, cos, sqrt, atan2\n",
    "\n",
    "def haversine(lat1, lon1, lat2, lon2):\n",
    "    R = 6371  # Radius of the Earth in kilometers\n",
    "\n",
    "    # Convert latitude and longitude from degrees to radians\n",
    "    lat1, lon1, lat2, lon2 = map(radians, [lat1, lon1, lat2, lon2])\n",
    "\n",
    "    # Haversine formula\n",
    "    dlat = lat2 - lat1\n",
    "    dlon = lon2 - lon1\n",
    "    a = sin(dlat / 2) ** 2 + cos(lat1) * cos(lat2) * sin(dlon / 2) ** 2\n",
    "    c = 2 * atan2(sqrt(a), sqrt(1 - a))\n",
    "\n",
    "    # Distance in kilometers\n",
    "    distance = R * c\n",
    "\n",
    "    return distance\n",
    "\n",
    "# Coordinates of airports\n",
    "lat1, lon1 = -6.081690, 145.391998\n",
    "lat2, lon2 = -5.207080, 145.789001\n",
    "lat3, lon3 = -5.826790, 144.296005\n",
    "\n",
    "# Calculate distances using the Haversine formula\n",
    "distance_same_airport = haversine(lat1, lon1, lat1, lon1)\n",
    "distance_diff_airports = haversine(lat1, lon1, lat2, lon2)\n",
    "distance_diff_continents = haversine(lat1, lon1, lat3, lon3)\n",
    "\n",
    "print(\"Expected distances:\")\n",
    "print(f\"Same airport: {distance_same_airport:.2f} km\")\n",
    "print(f\"Different airports: {distance_diff_airports:.2f} km\")\n",
    "print(f\"Different continents: {distance_diff_continents:.2f} km\")"
   ]
  },
  {
   "cell_type": "code",
   "execution_count": 39,
   "id": "92adbb53-b2d4-41e3-8031-22019a029275",
   "metadata": {
    "tags": []
   },
   "outputs": [
    {
     "name": "stderr",
     "output_type": "stream",
     "text": [
      "...\n",
      "----------------------------------------------------------------------\n",
      "Ran 3 tests in 0.010s\n",
      "\n",
      "OK\n"
     ]
    }
   ],
   "source": [
    "from geopy.distance import geodesic\n",
    "import unittest\n",
    "import pandas as pd\n",
    "from distance_calculator import AirportDistanceCalculator\n",
    "\n",
    "class TestAirportDistanceCalculator(unittest.TestCase):\n",
    "    def setUp(self):\n",
    "        # Sample airport data (using the provided dataset)\n",
    "        self.airport_data = pd.DataFrame({\n",
    "            'Airport ID': [1, 2, 3],\n",
    "            'Latitude': [-6.081690, -5.207080, -5.826790],\n",
    "            'Longitude': [145.391998, 145.789001, 144.296005]\n",
    "        })\n",
    "        self.calculator = AirportDistanceCalculator(self.airport_data)\n",
    "\n",
    "    def test_distance_between_same_airport(self):\n",
    "        distance = self.calculator.calculate_distance(1, 1)\n",
    "        self.assertEqual(distance, 0)\n",
    "\n",
    "    def test_distance_between_different_airports(self):\n",
    "        # Replace the coordinates and expected_distance with actual values\n",
    "        lat1, lon1 = self.airport_data.loc[self.airport_data['Airport ID'] == 1, ['Latitude', 'Longitude']].values[0]\n",
    "        lat2, lon2 = self.airport_data.loc[self.airport_data['Airport ID'] == 2, ['Latitude', 'Longitude']].values[0]\n",
    "        distance = geodesic((lat1, lon1), (lat2, lon2)).kilometers\n",
    "        expected_distance = 106.24895585297145 # Replace with the actual distance\n",
    "        self.assertAlmostEqual(distance, expected_distance, places=2)\n",
    "\n",
    "    def test_distance_between_airports_in_different_continents(self):\n",
    "        # Replace the coordinates and expected_distance with actual values\n",
    "        lat1, lon1 = self.airport_data.loc[self.airport_data['Airport ID'] == 1, ['Latitude', 'Longitude']].values[0]\n",
    "        lat3, lon3 = self.airport_data.loc[self.airport_data['Airport ID'] == 3, ['Latitude', 'Longitude']].values[0]\n",
    "        distance = geodesic((lat1, lon1), (lat3, lon3)).kilometers\n",
    "        expected_distance = 124.5823203460621 # Replace with the actual distance\n",
    "        self.assertAlmostEqual(distance, expected_distance, places=2)\n",
    "\n",
    "if __name__ == '__main__':\n",
    "    unittest.main(argv=['first-arg-is-ignored'], exit=False)"
   ]
  }
 ],
 "metadata": {
  "kernelspec": {
   "display_name": "adpro",
   "language": "python",
   "name": "adpro"
  },
  "language_info": {
   "codemirror_mode": {
    "name": "ipython",
    "version": 3
   },
   "file_extension": ".py",
   "mimetype": "text/x-python",
   "name": "python",
   "nbconvert_exporter": "python",
   "pygments_lexer": "ipython3",
   "version": "3.11.7"
  }
 },
 "nbformat": 4,
 "nbformat_minor": 5
}
