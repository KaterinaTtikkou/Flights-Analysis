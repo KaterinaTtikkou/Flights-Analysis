{
 "cells": [
  {
   "cell_type": "code",
   "execution_count": 4,
   "id": "16a40c3a-69a6-40df-b0f6-5c78ef73a200",
   "metadata": {
    "tags": []
   },
   "outputs": [
    {
     "name": "stdout",
     "output_type": "stream",
     "text": [
      "Requirement already satisfied: geopandas in /Users/anna-lenaschwarz/anaconda3/lib/python3.11/site-packages (0.14.3)\n",
      "Requirement already satisfied: fiona>=1.8.21 in /Users/anna-lenaschwarz/anaconda3/lib/python3.11/site-packages (from geopandas) (1.9.5)\n",
      "Requirement already satisfied: packaging in /Users/anna-lenaschwarz/anaconda3/lib/python3.11/site-packages (from geopandas) (23.0)\n",
      "Requirement already satisfied: pandas>=1.4.0 in /Users/anna-lenaschwarz/anaconda3/lib/python3.11/site-packages (from geopandas) (1.5.3)\n",
      "Requirement already satisfied: pyproj>=3.3.0 in /Users/anna-lenaschwarz/anaconda3/lib/python3.11/site-packages (from geopandas) (3.6.1)\n",
      "Requirement already satisfied: shapely>=1.8.0 in /Users/anna-lenaschwarz/anaconda3/lib/python3.11/site-packages (from geopandas) (2.0.3)\n",
      "Requirement already satisfied: attrs>=19.2.0 in /Users/anna-lenaschwarz/anaconda3/lib/python3.11/site-packages (from fiona>=1.8.21->geopandas) (22.1.0)\n",
      "Requirement already satisfied: certifi in /Users/anna-lenaschwarz/anaconda3/lib/python3.11/site-packages (from fiona>=1.8.21->geopandas) (2024.2.2)\n",
      "Requirement already satisfied: click~=8.0 in /Users/anna-lenaschwarz/anaconda3/lib/python3.11/site-packages (from fiona>=1.8.21->geopandas) (8.0.4)\n",
      "Requirement already satisfied: click-plugins>=1.0 in /Users/anna-lenaschwarz/anaconda3/lib/python3.11/site-packages (from fiona>=1.8.21->geopandas) (1.1.1)\n",
      "Requirement already satisfied: cligj>=0.5 in /Users/anna-lenaschwarz/anaconda3/lib/python3.11/site-packages (from fiona>=1.8.21->geopandas) (0.7.2)\n",
      "Requirement already satisfied: six in /Users/anna-lenaschwarz/anaconda3/lib/python3.11/site-packages (from fiona>=1.8.21->geopandas) (1.16.0)\n",
      "Requirement already satisfied: setuptools in /Users/anna-lenaschwarz/anaconda3/lib/python3.11/site-packages (from fiona>=1.8.21->geopandas) (67.8.0)\n",
      "Requirement already satisfied: python-dateutil>=2.8.1 in /Users/anna-lenaschwarz/anaconda3/lib/python3.11/site-packages (from pandas>=1.4.0->geopandas) (2.8.2)\n",
      "Requirement already satisfied: pytz>=2020.1 in /Users/anna-lenaschwarz/anaconda3/lib/python3.11/site-packages (from pandas>=1.4.0->geopandas) (2022.7)\n",
      "Requirement already satisfied: numpy>=1.21.0 in /Users/anna-lenaschwarz/anaconda3/lib/python3.11/site-packages (from pandas>=1.4.0->geopandas) (1.24.3)\n",
      "Note: you may need to restart the kernel to use updated packages.\n"
     ]
    }
   ],
   "source": [
    "pip install geopandas"
   ]
  },
  {
   "cell_type": "code",
   "execution_count": 3,
   "id": "e528ea94-1f8f-4ad6-b723-c7df2bd9c2da",
   "metadata": {
    "tags": []
   },
   "outputs": [
    {
     "name": "stdout",
     "output_type": "stream",
     "text": [
      "Requirement already satisfied: plotly in /Users/anna-lenaschwarz/anaconda3/lib/python3.11/site-packages (5.9.0)\n",
      "Requirement already satisfied: tenacity>=6.2.0 in /Users/anna-lenaschwarz/anaconda3/lib/python3.11/site-packages (from plotly) (8.2.2)\n",
      "Note: you may need to restart the kernel to use updated packages.\n"
     ]
    }
   ],
   "source": [
    "pip install plotly"
   ]
  },
  {
   "cell_type": "code",
   "execution_count": 5,
   "id": "694e25c0-afdb-4133-ac99-6c8ae32a0817",
   "metadata": {
    "tags": []
   },
   "outputs": [
    {
     "name": "stdout",
     "output_type": "stream",
     "text": [
      "Requirement already satisfied: scikit-learn in /Users/anna-lenaschwarz/anaconda3/lib/python3.11/site-packages (1.2.2)\n",
      "Requirement already satisfied: numpy>=1.17.3 in /Users/anna-lenaschwarz/anaconda3/lib/python3.11/site-packages (from scikit-learn) (1.24.3)\n",
      "Requirement already satisfied: scipy>=1.3.2 in /Users/anna-lenaschwarz/anaconda3/lib/python3.11/site-packages (from scikit-learn) (1.10.1)\n",
      "Requirement already satisfied: joblib>=1.1.1 in /Users/anna-lenaschwarz/anaconda3/lib/python3.11/site-packages (from scikit-learn) (1.2.0)\n",
      "Requirement already satisfied: threadpoolctl>=2.0.0 in /Users/anna-lenaschwarz/anaconda3/lib/python3.11/site-packages (from scikit-learn) (2.2.0)\n",
      "Note: you may need to restart the kernel to use updated packages.\n"
     ]
    }
   ],
   "source": [
    "pip install scikit-learn"
   ]
  },
  {
   "cell_type": "code",
   "execution_count": 6,
   "id": "507fda6b-dd79-4b87-98e9-b88dbdbc6fb8",
   "metadata": {
    "tags": []
   },
   "outputs": [
    {
     "name": "stdout",
     "output_type": "stream",
     "text": [
      "Requirement already satisfied: pytest in /Users/anna-lenaschwarz/anaconda3/lib/python3.11/site-packages (7.3.1)\n",
      "Requirement already satisfied: iniconfig in /Users/anna-lenaschwarz/anaconda3/lib/python3.11/site-packages (from pytest) (1.1.1)\n",
      "Requirement already satisfied: packaging in /Users/anna-lenaschwarz/anaconda3/lib/python3.11/site-packages (from pytest) (23.0)\n",
      "Requirement already satisfied: pluggy<2.0,>=0.12 in /Users/anna-lenaschwarz/anaconda3/lib/python3.11/site-packages (from pytest) (1.0.0)\n",
      "Note: you may need to restart the kernel to use updated packages.\n"
     ]
    }
   ],
   "source": [
    "pip install pytest"
   ]
  },
  {
   "cell_type": "code",
   "execution_count": 7,
   "id": "c01f08cb-1ab3-4ba1-8676-5a1b7c3d9118",
   "metadata": {
    "tags": []
   },
   "outputs": [
    {
     "name": "stdout",
     "output_type": "stream",
     "text": [
      "Requirement already satisfied: geopy in /Users/anna-lenaschwarz/anaconda3/lib/python3.11/site-packages (2.4.1)\n",
      "Requirement already satisfied: geographiclib<3,>=1.52 in /Users/anna-lenaschwarz/anaconda3/lib/python3.11/site-packages (from geopy) (2.0)\n",
      "Note: you may need to restart the kernel to use updated packages.\n"
     ]
    }
   ],
   "source": [
    "pip install geopy"
   ]
  },
  {
   "cell_type": "code",
   "execution_count": 8,
   "id": "e957ee0f-eaf3-49e9-87c4-6259d2374c02",
   "metadata": {
    "tags": []
   },
   "outputs": [],
   "source": [
    "import os\n",
    "import pandas as pd\n",
    "from zipfile import ZipFile\n",
    "import requests\n",
    "from io import BytesIO\n",
    "import matplotlib.pyplot as plt\n",
    "import pandas as pd\n",
    "import plotly.offline as pyo\n",
    "import plotly.graph_objs as go\n",
    "from sklearn.linear_model import LinearRegression\n",
    "import matplotlib.pyplot as plt\n",
    "import geopandas as gpd\n",
    "from shapely.geometry import Point, LineString\n",
    "import warnings\n",
    "import numpy as np\n",
    "from math import radians, sin, cos, sqrt, atan2\n",
    "import unittest\n",
    "from pydantic import BaseModel\n",
    "from geopy.distance import geodesic\n",
    "import pytest\n",
    "#from distance_calculator import AirportDistanceCalculator"
   ]
  },
  {
   "cell_type": "code",
   "execution_count": null,
   "id": "684e5fb1-ad0c-499c-b30a-226c0e7d659c",
   "metadata": {},
   "outputs": [],
   "source": []
  },
  {
   "cell_type": "code",
   "execution_count": 14,
   "id": "4132086b-a199-4cba-aaa1-afb0c30406c5",
   "metadata": {
    "tags": []
   },
   "outputs": [
    {
     "ename": "SyntaxError",
     "evalue": "invalid syntax (9401334.py, line 144)",
     "output_type": "error",
     "traceback": [
      "\u001b[0;36m  Cell \u001b[0;32mIn[14], line 144\u001b[0;36m\u001b[0m\n\u001b[0;31m    if_name_ == '_main_':\u001b[0m\n\u001b[0m                        ^\u001b[0m\n\u001b[0;31mSyntaxError\u001b[0m\u001b[0;31m:\u001b[0m invalid syntax\n"
     ]
    }
   ],
   "source": [
    "class FlightDataProcessor:\n",
    "    def __init__(self, zip_url):\n",
    "        \"\"\"\n",
    "        Downloads, extracts, and processes flight data from the given zip URL.\n",
    "\n",
    "        Parameters:\n",
    "        - zip_url (str): The URL of the flight data zip file.\n",
    "        \"\"\"\n",
    "        # Set the destination folder for the extracted data in the main directory\n",
    "        destination_folder = 'group_03/downloads'\n",
    "\n",
    "        # Ensure the destination folder exists\n",
    "        os.makedirs(destination_folder, exist_ok=True)\n",
    "\n",
    "        # Define the path to the downloaded zip file\n",
    "        zip_file_path = os.path.join(destination_folder, 'flight_data.zip')\n",
    "\n",
    "        # Check if the zip file already exists\n",
    "        if not os.path.exists(zip_file_path):\n",
    "            # Download the zip file from the given URL\n",
    "            response = requests.get(zip_url)\n",
    "\n",
    "            # Save the zip file in the destination folder\n",
    "            with open(zip_file_path, 'wb') as zip_file:\n",
    "                zip_file.write(response.content)\n",
    "\n",
    "            print(\"File downloaded successfully.\")\n",
    "        else:\n",
    "            print(\"File already exists.\")\n",
    "\n",
    "        # Process the downloaded zip file\n",
    "        zip_file = ZipFile(zip_file_path)\n",
    "        zip_file.extractall(destination_folder)\n",
    "\n",
    "        # Read the datasets into pandas dataframes\n",
    "        self.airlines_df = pd.read_csv(os.path.join(destination_folder, 'airlines.csv'))\n",
    "        self.airplanes_df = pd.read_csv(os.path.join(destination_folder, 'airplanes.csv'))\n",
    "        self.airports_df = pd.read_csv(os.path.join(destination_folder, 'airports.csv'))\n",
    "        self.routes_df = pd.read_csv(os.path.join(destination_folder, 'routes.csv'))\n",
    "        \n"
   ]
  },
  {
   "cell_type": "code",
   "execution_count": 38,
   "id": "e2bc9459-45c5-44b8-933a-7bc496b5981d",
   "metadata": {
    "tags": []
   },
   "outputs": [
    {
     "name": "stderr",
     "output_type": "stream",
     "text": [
      "No artists with labels found to put in legend.  Note that artists whose label start with an underscore are ignored when legend() is called with no argument.\n"
     ]
    },
    {
     "data": {
      "image/png": "[encoded data removed]",
      "text/plain": [
       "<Figure size 640x480 with 1 Axes>"
      ]
     },
     "metadata": {},
     "output_type": "display_data"
    },
    {
     "ename": "TypeError",
     "evalue": "must be real number, not NoneType",
     "output_type": "error",
     "traceback": [
      "\u001b[0;31m---------------------------------------------------------------------------\u001b[0m",
      "\u001b[0;31mTypeError\u001b[0m                                 Traceback (most recent call last)",
      "Cell \u001b[0;32mIn[38], line 111\u001b[0m\n\u001b[1;32m    107\u001b[0m     plt\u001b[38;5;241m.\u001b[39mshow()\n\u001b[1;32m    110\u001b[0m \u001b[38;5;66;03m# Initialize the FlightDataProcessor instance\u001b[39;00m\n\u001b[0;32m--> 111\u001b[0m flight_processor \u001b[38;5;241m=\u001b[39m FlightDataProcessor()\n\u001b[1;32m    113\u001b[0m \u001b[38;5;66;03m# You should call add_distance_column to calculate and add the distance column\u001b[39;00m\n\u001b[1;32m    114\u001b[0m flight_processor\u001b[38;5;241m.\u001b[39madd_distance_column()\n",
      "Cell \u001b[0;32mIn[38], line 34\u001b[0m, in \u001b[0;36mFlightDataProcessor.__init__\u001b[0;34m(self, gitlab_url)\u001b[0m\n\u001b[1;32m     31\u001b[0m \u001b[38;5;66;03m# Convert \"Airline ID\" to numeric\u001b[39;00m\n\u001b[1;32m     32\u001b[0m \u001b[38;5;28mself\u001b[39m\u001b[38;5;241m.\u001b[39mairlines_df[\u001b[38;5;124m'\u001b[39m\u001b[38;5;124mAirline ID\u001b[39m\u001b[38;5;124m'\u001b[39m] \u001b[38;5;241m=\u001b[39m pd\u001b[38;5;241m.\u001b[39mto_numeric(\u001b[38;5;28mself\u001b[39m\u001b[38;5;241m.\u001b[39mairlines_df[\u001b[38;5;124m'\u001b[39m\u001b[38;5;124mAirline ID\u001b[39m\u001b[38;5;124m'\u001b[39m])\n\u001b[0;32m---> 34\u001b[0m \u001b[38;5;28mself\u001b[39m\u001b[38;5;241m.\u001b[39mdistances \u001b[38;5;241m=\u001b[39m \u001b[38;5;28mself\u001b[39m\u001b[38;5;241m.\u001b[39m_calculate_distances()\n",
      "Cell \u001b[0;32mIn[38], line 47\u001b[0m, in \u001b[0;36mFlightDataProcessor._calculate_distances\u001b[0;34m(self)\u001b[0m\n\u001b[1;32m     44\u001b[0m     dest_coords \u001b[38;5;241m=\u001b[39m \u001b[38;5;28mself\u001b[39m\u001b[38;5;241m.\u001b[39mget_coordinates(dest_airport_id)\n\u001b[1;32m     46\u001b[0m     \u001b[38;5;28;01mif\u001b[39;00m source_coords \u001b[38;5;129;01mis\u001b[39;00m \u001b[38;5;129;01mnot\u001b[39;00m \u001b[38;5;28;01mNone\u001b[39;00m \u001b[38;5;129;01mand\u001b[39;00m dest_coords \u001b[38;5;129;01mis\u001b[39;00m \u001b[38;5;129;01mnot\u001b[39;00m \u001b[38;5;28;01mNone\u001b[39;00m:\n\u001b[0;32m---> 47\u001b[0m         distance \u001b[38;5;241m=\u001b[39m \u001b[38;5;28mself\u001b[39m\u001b[38;5;241m.\u001b[39mhaversine_distance(\u001b[38;5;241m*\u001b[39msource_coords, \u001b[38;5;241m*\u001b[39mdest_coords)\n\u001b[1;32m     48\u001b[0m         distances[(source_airport_id, dest_airport_id)] \u001b[38;5;241m=\u001b[39m distance\n\u001b[1;32m     50\u001b[0m \u001b[38;5;28;01mreturn\u001b[39;00m distances\n",
      "Cell \u001b[0;32mIn[38], line 54\u001b[0m, in \u001b[0;36mFlightDataProcessor.haversine_distance\u001b[0;34m(self, lat1, lon1, lat2, lon2)\u001b[0m\n\u001b[1;32m     52\u001b[0m \u001b[38;5;28;01mdef\u001b[39;00m \u001b[38;5;21mhaversine_distance\u001b[39m(\u001b[38;5;28mself\u001b[39m, lat1, lon1, lat2, lon2):\n\u001b[1;32m     53\u001b[0m     R \u001b[38;5;241m=\u001b[39m \u001b[38;5;241m6371\u001b[39m\n\u001b[0;32m---> 54\u001b[0m     lat1, lon1, lat2, lon2 \u001b[38;5;241m=\u001b[39m \u001b[38;5;28mmap\u001b[39m(radians, [lat1, lon1, lat2, lon2])\n\u001b[1;32m     55\u001b[0m     dlat \u001b[38;5;241m=\u001b[39m lat2 \u001b[38;5;241m-\u001b[39m lat1\n\u001b[1;32m     56\u001b[0m     dlon \u001b[38;5;241m=\u001b[39m lon2 \u001b[38;5;241m-\u001b[39m lon1\n",
      "\u001b[0;31mTypeError\u001b[0m: must be real number, not NoneType"
     ]
    }
   ],
   "source": [
    "import os\n",
    "import pandas as pd\n",
    "import requests\n",
    "from zipfile import ZipFile\n",
    "from io import BytesIO\n",
    "from math import sin, cos, sqrt, atan2, radians\n",
    "import unittest\n",
    "\n",
    "class FlightDataProcessor:\n",
    "    gitlab_url = 'https://gitlab.com/adpro9641208/group_03/-/raw/main/flight_data.zip'\n",
    "\n",
    "    def __init__(self, gitlab_url=None):\n",
    "        self.gitlab_url = gitlab_url or self.gitlab_url\n",
    "\n",
    "        response = requests.get(self.gitlab_url)\n",
    "        zip_file = ZipFile(BytesIO(response.content))\n",
    "\n",
    "        destination_folder = os.path.join('group_03', 'downloads1')\n",
    "        os.makedirs(destination_folder, exist_ok=True)\n",
    "\n",
    "        zip_file.extractall(destination_folder)\n",
    "\n",
    "        self.airlines_df = pd.read_csv(os.path.join(destination_folder, 'airlines.csv'))\n",
    "        self.airplanes_df = pd.read_csv(os.path.join(destination_folder, 'airplanes.csv'))\n",
    "        self.airports_df = pd.read_csv(os.path.join(destination_folder, 'airports.csv'))\n",
    "        self.routes_df = pd.read_csv(os.path.join(destination_folder, 'routes.csv'))\n",
    "\n",
    "        # Drop rows with '\\N' in the \"Airline ID\" column\n",
    "        self.airlines_df = self.airlines_df[self.airlines_df['Airline ID'] != '\\\\N']\n",
    "\n",
    "        # Convert \"Airline ID\" to numeric\n",
    "        self.airlines_df['Airline ID'] = pd.to_numeric(self.airlines_df['Airline ID'])\n",
    "\n",
    "        self.distances = self._calculate_distances()\n",
    "\n",
    "    def _calculate_distances(self):\n",
    "        distances = {}\n",
    "\n",
    "        for index, row in self.routes_df.iterrows():\n",
    "            source_airport_id = row['Source airport ID']\n",
    "            dest_airport_id = row['Destination airport ID']\n",
    "\n",
    "            source_coords = self.get_coordinates(source_airport_id)\n",
    "            dest_coords = self.get_coordinates(dest_airport_id)\n",
    "\n",
    "            if source_coords is not None and dest_coords is not None:\n",
    "                distance = self.haversine_distance(*source_coords, *dest_coords)\n",
    "                distances[(source_airport_id, dest_airport_id)] = distance\n",
    "\n",
    "        return distances\n",
    "\n",
    "    def haversine_distance(self, lat1, lon1, lat2, lon2):\n",
    "        R = 6371\n",
    "        lat1, lon1, lat2, lon2 = map(radians, [lat1, lon1, lat2, lon2])\n",
    "        dlat = lat2 - lat1\n",
    "        dlon = lon2 - lon1\n",
    "        a = sin(dlat / 2) * 2 + cos(lat1) * cos(lat2) * sin(dlon / 2) * 2\n",
    "        c = 2 * atan2(sqrt(a), sqrt(1 - a))\n",
    "        distance = R * c\n",
    "        return distance\n",
    "\n",
    "    def get_coordinates(self, airport_id):\n",
    "        row = self.airports_df[self.airports_df['Airport ID'] == airport_id]\n",
    "        if not row.empty:\n",
    "            latitude = row['Latitude'].values[0]\n",
    "            longitude = row['Longitude'].values[0]\n",
    "            return latitude, longitude\n",
    "        else:\n",
    "            return None, None\n",
    "\n",
    "    \n",
    "    def add_distance_column(self):\n",
    "        # Pre-calculate all distances and store them in a dictionary\n",
    "        self._calculate_distances()\n",
    "\n",
    "        # Initialize an empty list to store distances for each route\n",
    "        distances_list = []\n",
    "\n",
    "        # Iterate over each row in routes_df to find the corresponding distance\n",
    "        for _, row in self.routes_df.iterrows():\n",
    "            source_airport_id = row['Source airport ID']\n",
    "            dest_airport_id = row['Destination airport ID']\n",
    "            # Use the get method to avoid KeyError if the tuple is not found in the dictionary\n",
    "            distance = self.distances.get((source_airport_id, dest_airport_id))\n",
    "            # Append the distance to the list, or None if not found\n",
    "            distances_list.append(distance)\n",
    "\n",
    "        # Assign the list of distances as a new column in routes_df\n",
    "        self.routes_df['distance'] = distances_list\n",
    "\n",
    "    def distance_analysis(flghts_df, bins=30, show_mean=True, show_median=True):\n",
    "   \n",
    "        plt.figure(figsize=(10, 6))\n",
    "    \n",
    "        # Plotting the histogram\n",
    "        plt.hist(routes_df['distance'], bins=bins, color='skyblue', edgecolor='black', alpha=0.7)\n",
    "    \n",
    "    \n",
    "    \n",
    "    # Adding labels and title\n",
    "    plt.xlabel('Flight Distance')\n",
    "    plt.ylabel('Frequency')\n",
    "    plt.title('Distribution of Flight Distances')\n",
    "    plt.legend()\n",
    "    \n",
    "    # Show plot\n",
    "    plt.show()\n",
    "    \n",
    "    \n",
    "# Initialize the FlightDataProcessor instance\n",
    "flight_processor = FlightDataProcessor()\n",
    "\n",
    "# You should call add_distance_column to calculate and add the distance column\n",
    "flight_processor.add_distance_column()\n",
    "\n",
    "# Now, call the distance_analysis method on this instance\n",
    "flight_processor.distance_analysis(bins=10)  # Adjust bins as needed"
   ]
  },
  {
   "cell_type": "code",
   "execution_count": 48,
   "id": "31c23155-3e34-46f4-ae2c-7df32c3fcd9a",
   "metadata": {
    "tags": []
   },
   "outputs": [
    {
     "ename": "IndexError",
     "evalue": "index 0 is out of bounds for axis 0 with size 0",
     "output_type": "error",
     "traceback": [
      "\u001b[0;31m---------------------------------------------------------------------------\u001b[0m",
      "\u001b[0;31mIndexError\u001b[0m                                Traceback (most recent call last)",
      "Cell \u001b[0;32mIn[48], line 72\u001b[0m\n\u001b[1;32m     69\u001b[0m flight_processor \u001b[38;5;241m=\u001b[39m FlightDataProcessor()\n\u001b[1;32m     71\u001b[0m \u001b[38;5;66;03m# You should call add_distance_column to calculate and add the distance column\u001b[39;00m\n\u001b[0;32m---> 72\u001b[0m flight_processor\u001b[38;5;241m.\u001b[39madd_distance_column()\n\u001b[1;32m     74\u001b[0m \u001b[38;5;66;03m# Now, call the distance_analysis method on this instance\u001b[39;00m\n\u001b[1;32m     75\u001b[0m flight_processor\u001b[38;5;241m.\u001b[39mdistance_analysis(bins\u001b[38;5;241m=\u001b[39m\u001b[38;5;241m10\u001b[39m)\n",
      "Cell \u001b[0;32mIn[48], line 46\u001b[0m, in \u001b[0;36mFlightDataProcessor.add_distance_column\u001b[0;34m(self)\u001b[0m\n\u001b[1;32m     44\u001b[0m     source_airport_id \u001b[38;5;241m=\u001b[39m row[\u001b[38;5;124m'\u001b[39m\u001b[38;5;124mSource airport ID\u001b[39m\u001b[38;5;124m'\u001b[39m]\n\u001b[1;32m     45\u001b[0m     dest_airport_id \u001b[38;5;241m=\u001b[39m row[\u001b[38;5;124m'\u001b[39m\u001b[38;5;124mDestination airport ID\u001b[39m\u001b[38;5;124m'\u001b[39m]\n\u001b[0;32m---> 46\u001b[0m     distance \u001b[38;5;241m=\u001b[39m \u001b[38;5;28mself\u001b[39m\u001b[38;5;241m.\u001b[39mcalculate_distance(source_airport_id, dest_airport_id)\n\u001b[1;32m     47\u001b[0m     distance_column\u001b[38;5;241m.\u001b[39mappend(distance)\n\u001b[1;32m     48\u001b[0m \u001b[38;5;28mself\u001b[39m\u001b[38;5;241m.\u001b[39mroutes_df[\u001b[38;5;124m'\u001b[39m\u001b[38;5;124mdistance\u001b[39m\u001b[38;5;124m'\u001b[39m] \u001b[38;5;241m=\u001b[39m distance_column\n",
      "Cell \u001b[0;32mIn[48], line 31\u001b[0m, in \u001b[0;36mFlightDataProcessor.calculate_distance\u001b[0;34m(self, airport_id1, airport_id2)\u001b[0m\n\u001b[1;32m     30\u001b[0m \u001b[38;5;28;01mdef\u001b[39;00m \u001b[38;5;21mcalculate_distance\u001b[39m(\u001b[38;5;28mself\u001b[39m, airport_id1, airport_id2):\n\u001b[0;32m---> 31\u001b[0m     coords1 \u001b[38;5;241m=\u001b[39m \u001b[38;5;28mself\u001b[39m\u001b[38;5;241m.\u001b[39mget_coordinates(airport_id1)\n\u001b[1;32m     32\u001b[0m     coords2 \u001b[38;5;241m=\u001b[39m \u001b[38;5;28mself\u001b[39m\u001b[38;5;241m.\u001b[39mget_coordinates(airport_id2)\n\u001b[1;32m     33\u001b[0m     distance \u001b[38;5;241m=\u001b[39m geodesic(coords1, coords2)\u001b[38;5;241m.\u001b[39mkilometers\n",
      "Cell \u001b[0;32mIn[48], line 37\u001b[0m, in \u001b[0;36mFlightDataProcessor.get_coordinates\u001b[0;34m(self, airport_id)\u001b[0m\n\u001b[1;32m     36\u001b[0m \u001b[38;5;28;01mdef\u001b[39;00m \u001b[38;5;21mget_coordinates\u001b[39m(\u001b[38;5;28mself\u001b[39m, airport_id):\n\u001b[0;32m---> 37\u001b[0m     latitude \u001b[38;5;241m=\u001b[39m \u001b[38;5;28mself\u001b[39m\u001b[38;5;241m.\u001b[39mairports_df\u001b[38;5;241m.\u001b[39mloc[\u001b[38;5;28mself\u001b[39m\u001b[38;5;241m.\u001b[39mairports_df[\u001b[38;5;124m'\u001b[39m\u001b[38;5;124mAirport ID\u001b[39m\u001b[38;5;124m'\u001b[39m] \u001b[38;5;241m==\u001b[39m airport_id, \u001b[38;5;124m'\u001b[39m\u001b[38;5;124mLatitude\u001b[39m\u001b[38;5;124m'\u001b[39m]\u001b[38;5;241m.\u001b[39mvalues[\u001b[38;5;241m0\u001b[39m]\n\u001b[1;32m     38\u001b[0m     longitude \u001b[38;5;241m=\u001b[39m \u001b[38;5;28mself\u001b[39m\u001b[38;5;241m.\u001b[39mairports_df\u001b[38;5;241m.\u001b[39mloc[\u001b[38;5;28mself\u001b[39m\u001b[38;5;241m.\u001b[39mairports_df[\u001b[38;5;124m'\u001b[39m\u001b[38;5;124mAirport ID\u001b[39m\u001b[38;5;124m'\u001b[39m] \u001b[38;5;241m==\u001b[39m airport_id, \u001b[38;5;124m'\u001b[39m\u001b[38;5;124mLongitude\u001b[39m\u001b[38;5;124m'\u001b[39m]\u001b[38;5;241m.\u001b[39mvalues[\u001b[38;5;241m0\u001b[39m]\n\u001b[1;32m     39\u001b[0m     \u001b[38;5;28;01mreturn\u001b[39;00m latitude, longitude\n",
      "\u001b[0;31mIndexError\u001b[0m: index 0 is out of bounds for axis 0 with size 0"
     ]
    }
   ],
   "source": [
    "import os\n",
    "import pandas as pd\n",
    "import requests\n",
    "from zipfile import ZipFile\n",
    "from io import BytesIO\n",
    "from math import sin, cos, sqrt, atan2, radians\n",
    "import unittest\n",
    "\n",
    "class FlightDataProcessor:\n",
    "    gitlab_url = 'https://gitlab.com/adpro9641208/group_03/-/raw/main/flight_data.zip'\n",
    "\n",
    "    def __init__(self, gitlab_url=None):\n",
    "        self.gitlab_url = gitlab_url or self.gitlab_url\n",
    "\n",
    "        response = requests.get(self.gitlab_url)\n",
    "        zip_file = ZipFile(BytesIO(response.content))\n",
    "\n",
    "        destination_folder = os.path.join('group_03', 'downloads1')\n",
    "        os.makedirs(destination_folder, exist_ok=True)\n",
    "\n",
    "        zip_file.extractall(destination_folder)\n",
    "\n",
    "        self.airlines_df = pd.read_csv(os.path.join(destination_folder, 'airlines.csv'))\n",
    "        self.airplanes_df = pd.read_csv(os.path.join(destination_folder, 'airplanes.csv'))\n",
    "        self.airports_df = pd.read_csv(os.path.join(destination_folder, 'airports.csv'))\n",
    "        self.routes_df = pd.read_csv(os.path.join(destination_folder, 'routes.csv'))\n",
    "\n",
    "\n",
    "\n",
    "    "
   ]
  },
  {
   "cell_type": "code",
   "execution_count": 43,
   "id": "52888a2c-29d6-4e7e-8a9c-16ae7bd9af7b",
   "metadata": {
    "tags": []
   },
   "outputs": [
    {
     "name": "stdout",
     "output_type": "stream",
     "text": [
      "0    None\n",
      "1    None\n",
      "2    None\n",
      "3    None\n",
      "4    None\n",
      "Name: distance, dtype: object\n"
     ]
    }
   ],
   "source": [
    "# After adding the distance column\n",
    "print(flight_processor.routes_df['distance'].head())\n"
   ]
  },
  {
   "cell_type": "code",
   "execution_count": null,
   "id": "e6c79da0-9aa6-43ef-b984-6f8afa9b3a58",
   "metadata": {},
   "outputs": [],
   "source": []
  }
 ],
 "metadata": {
  "kernelspec": {
   "display_name": "Python 3 (ipykernel)",
   "language": "python",
   "name": "python3"
  },
  "language_info": {
   "codemirror_mode": {
    "name": "ipython",
    "version": 3
   },
   "file_extension": ".py",
   "mimetype": "text/x-python",
   "name": "python",
   "nbconvert_exporter": "python",
   "pygments_lexer": "ipython3",
   "version": "3.11.7"
  }
 },
 "nbformat": 4,
 "nbformat_minor": 5
}
