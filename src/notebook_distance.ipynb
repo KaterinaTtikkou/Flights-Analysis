{
 "cells": [
  {
   "cell_type": "code",
   "execution_count": null,
   "id": "84e6e2bd",
   "metadata": {},
   "outputs": [],
   "source": [
    "import geopy.distance\n",
    "\n",
    "def dist(coords1=(52.2296756, 21.0122287), coords2=(52.406374, 16.9251681)):\n",
    "    \"\"\"\n",
    "    Distances between two coordinates set\n",
    "    \"\"\"\n",
    "\n",
    "    return geopy.distance.geodesic(coords1, coords2).km"
   ]
  }
 ],
 "metadata": {
  "kernelspec": {
   "display_name": "Python 3 (ipykernel)",
   "language": "python",
   "name": "python3"
  },
  "language_info": {
   "codemirror_mode": {
    "name": "ipython",
    "version": 3
   },
   "file_extension": ".py",
   "mimetype": "text/x-python",
   "name": "python",
   "nbconvert_exporter": "python",
   "pygments_lexer": "ipython3",
   "version": "3.11.4"
  }
 },
 "nbformat": 4,
 "nbformat_minor": 5
}
